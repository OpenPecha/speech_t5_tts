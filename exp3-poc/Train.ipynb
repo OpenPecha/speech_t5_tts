{
 "cells": [
  {
   "cell_type": "code",
   "execution_count": 35,
   "metadata": {},
   "outputs": [],
   "source": [
    "import multiprocessing\n",
    "from pathlib import Path\n",
    "\n",
    "from transformers import SpeechT5Processor, SpeechT5ForTextToSpeech\n",
    "from datasets import DatasetDict\n",
    "from IPython.display import Audio as display_audio"
   ]
  },
  {
   "cell_type": "code",
   "execution_count": 2,
   "metadata": {},
   "outputs": [],
   "source": [
    "sanity_check = False\n",
    "\n",
    "n_cpu = multiprocessing.cpu_count() - 5; n_cpu\n",
    "data_path = Path(\"/data/volume\")\n",
    "audio_path = data_path / \"audio\"\n",
    "audio_path.mkdir(parents=True, exist_ok=True)"
   ]
  },
  {
   "cell_type": "markdown",
   "metadata": {
    "id": "UzjxPwP3tmsl"
   },
   "source": [
    "## Load model"
   ]
  },
  {
   "cell_type": "code",
   "execution_count": 3,
   "metadata": {
    "id": "FjKjCViFtc5M",
    "scrolled": true
   },
   "outputs": [
    {
     "data": {
      "application/vnd.jupyter.widget-view+json": {
       "model_id": "961f51e94a3745b5a0c130d00f19c1b5",
       "version_major": 2,
       "version_minor": 0
      },
      "text/plain": [
       "config.json:   0%|          | 0.00/2.06k [00:00<?, ?B/s]"
      ]
     },
     "metadata": {},
     "output_type": "display_data"
    },
    {
     "data": {
      "application/vnd.jupyter.widget-view+json": {
       "model_id": "939f1a0d5370402c88f7262b6c6d17fe",
       "version_major": 2,
       "version_minor": 0
      },
      "text/plain": [
       "pytorch_model.bin:   0%|          | 0.00/585M [00:00<?, ?B/s]"
      ]
     },
     "metadata": {},
     "output_type": "display_data"
    }
   ],
   "source": [
    "processor = SpeechT5Processor.from_pretrained(\"microsoft/speecht5_tts\")\n",
    "model = SpeechT5ForTextToSpeech.from_pretrained(\"microsoft/speecht5_tts\")"
   ]
  },
  {
   "cell_type": "markdown",
   "metadata": {},
   "source": [
    "## Load Dataset"
   ]
  },
  {
   "cell_type": "code",
   "execution_count": 9,
   "metadata": {},
   "outputs": [
    {
     "data": {
      "text/plain": [
       "DatasetDict({\n",
       "    train: Dataset({\n",
       "        features: ['uni', 'sentence', 'label', 'speaker_id', 'duration', 'tokens_len', 'path'],\n",
       "        num_rows: 16000\n",
       "    })\n",
       "    test: Dataset({\n",
       "        features: ['uni', 'sentence', 'label', 'speaker_id', 'duration', 'tokens_len', 'path'],\n",
       "        num_rows: 4000\n",
       "    })\n",
       "})"
      ]
     },
     "execution_count": 9,
     "metadata": {},
     "output_type": "execute_result"
    }
   ],
   "source": [
    "dataset_path = data_path / \"tts-training-20k-processed-phono-\"\n",
    "dataset = DatasetDict.load_from_disk(dataset_path)\n",
    "dataset"
   ]
  },
  {
   "cell_type": "code",
   "execution_count": 10,
   "metadata": {},
   "outputs": [],
   "source": [
    "if sanity_check:\n",
    "    dataset[\"train\"] = dataset[\"train\"].select(range(1000))\n",
    "    dataset[\"test\"] = dataset[\"test\"].select(range(200))"
   ]
  },
  {
   "cell_type": "code",
   "execution_count": 11,
   "metadata": {},
   "outputs": [
    {
     "data": {
      "text/plain": [
       "DatasetDict({\n",
       "    train: Dataset({\n",
       "        features: ['uni', 'sentence', 'label', 'speaker_id', 'duration', 'tokens_len', 'path'],\n",
       "        num_rows: 16000\n",
       "    })\n",
       "    test: Dataset({\n",
       "        features: ['uni', 'sentence', 'label', 'speaker_id', 'duration', 'tokens_len', 'path'],\n",
       "        num_rows: 4000\n",
       "    })\n",
       "})"
      ]
     },
     "execution_count": 11,
     "metadata": {},
     "output_type": "execute_result"
    }
   ],
   "source": [
    "dataset"
   ]
  },
  {
   "cell_type": "code",
   "execution_count": 12,
   "metadata": {},
   "outputs": [
    {
     "data": {
      "text/plain": [
       "{'uni': 'དེའི་ཚེ་འཇིག་རྟེན་སྐྱེ་བ་ན་གང་ཟག་ཉག་གཅིག་སྐྱེའོ་ཞེས་བྱ་བའི་ལུང་ལས་ནི། ཕ་རོལ་པོས་བདག་མང་པོར་འདོད་པ་ཡང་མིན་ནོ།',\n",
       " 'sentence': 'téɪ  tsé  jik  tèn  kyé  pa  na  kang  sak  nyak  chik  kyéo  shè  cha  paɪ  lung  lè  ni  pa  röl  pö  dak  mang  por  dö  pa  yang  min  no',\n",
       " 'label': 'STT_AB',\n",
       " 'speaker_id': '43eb8725-a871-476c-a0c3-6ff211c79aad',\n",
       " 'duration': 8.276,\n",
       " 'tokens_len': 130,\n",
       " 'path': {'path': 'STT_AB00636_0179_1285247_to_1293523.wav',\n",
       "  'array': array([-0.00021362, -0.00032043, -0.00027466, ...,  0.01182556,\n",
       "          0.01246643,  0.01217651]),\n",
       "  'sampling_rate': 16000}}"
      ]
     },
     "execution_count": 12,
     "metadata": {},
     "output_type": "execute_result"
    }
   ],
   "source": [
    "dataset[\"train\"][0]"
   ]
  },
  {
   "cell_type": "code",
   "execution_count": 13,
   "metadata": {},
   "outputs": [],
   "source": [
    "def resolve_audio_path(item):\n",
    "    item[\"path\"] = str(audio_path / item[\"path\"][\"path\"])\n",
    "    return item"
   ]
  },
  {
   "cell_type": "code",
   "execution_count": 14,
   "metadata": {},
   "outputs": [
    {
     "data": {
      "application/vnd.jupyter.widget-view+json": {
       "model_id": "4f614dddde3d40478279a9d381ebd8a7",
       "version_major": 2,
       "version_minor": 0
      },
      "text/plain": [
       "Map (num_proc=59):   0%|          | 0/16000 [00:00<?, ? examples/s]"
      ]
     },
     "metadata": {},
     "output_type": "display_data"
    },
    {
     "data": {
      "application/vnd.jupyter.widget-view+json": {
       "model_id": "332adcf19fca426f8c3adcdd9e3e4a54",
       "version_major": 2,
       "version_minor": 0
      },
      "text/plain": [
       "Map (num_proc=59):   0%|          | 0/4000 [00:00<?, ? examples/s]"
      ]
     },
     "metadata": {},
     "output_type": "display_data"
    }
   ],
   "source": [
    "dataset = dataset.map(resolve_audio_path, num_proc=n_cpu)"
   ]
  },
  {
   "cell_type": "code",
   "execution_count": 15,
   "metadata": {},
   "outputs": [
    {
     "data": {
      "text/plain": [
       "{'uni': 'དེའི་ཚེ་འཇིག་རྟེན་སྐྱེ་བ་ན་གང་ཟག་ཉག་གཅིག་སྐྱེའོ་ཞེས་བྱ་བའི་ལུང་ལས་ནི། ཕ་རོལ་པོས་བདག་མང་པོར་འདོད་པ་ཡང་མིན་ནོ།',\n",
       " 'sentence': 'téɪ  tsé  jik  tèn  kyé  pa  na  kang  sak  nyak  chik  kyéo  shè  cha  paɪ  lung  lè  ni  pa  röl  pö  dak  mang  por  dö  pa  yang  min  no',\n",
       " 'label': 'STT_AB',\n",
       " 'speaker_id': '43eb8725-a871-476c-a0c3-6ff211c79aad',\n",
       " 'duration': 8.276,\n",
       " 'tokens_len': 130,\n",
       " 'path': {'path': '/data/volume/audio/STT_AB00636_0179_1285247_to_1293523.wav',\n",
       "  'array': array([-0.00021362, -0.00032043, -0.00027466, ...,  0.01182556,\n",
       "          0.01246643,  0.01217651]),\n",
       "  'sampling_rate': 16000}}"
      ]
     },
     "execution_count": 15,
     "metadata": {},
     "output_type": "execute_result"
    }
   ],
   "source": [
    "dataset[\"train\"][0]"
   ]
  },
  {
   "cell_type": "markdown",
   "metadata": {
    "id": "-5qFwV2ouqkU"
   },
   "source": [
    "## Clean up the text\n",
    "\n",
    "The dataset may contain characters that are not in the SpeechT5 tokenizer vocabulary. Those will be converted to `<unk>` tokens. However, in Dutch a character such as `à` is used to stress syllables and so we can simply replace it with `a` without changing its meaning. The tokenizer supports some characters with diacritical marks, such as `é`, but not all of them.\n",
    "\n",
    "Note that the VoxPopuli examples have both `raw_text` and `normalized_text`, which is all lowercase. The SpeechT5 tokenizer can handle uppercase just fine, however, it doesn't have any tokens for numbers. The `normalized_text` has the numbers written out as text, so we'll use that.\n"
   ]
  },
  {
   "cell_type": "markdown",
   "metadata": {
    "id": "B6BtRe6qXTYp"
   },
   "source": [
    "\n",
    "First we'll need to find out what the unsupported tokens are. The `SpeechT5Tokenizer` works with characters as tokens, so let's extract all distinct characters of the dataset. We write a mapping function `extract_all_chars` that concatenates the transcriptions from all examples into one long transcription and then transforms the string into a set of characters. It is important to pass the arguments `batched=True` and `batch_size=-1` to `dataset.map(...)` so that the mapping function has access to all transcriptions at once."
   ]
  },
  {
   "cell_type": "code",
   "execution_count": 16,
   "metadata": {
    "colab": {
     "base_uri": "https://localhost:8080/"
    },
    "id": "0KmO3JnXBs6Z",
    "outputId": "280aeae4-905d-467e-908a-646175320f35"
   },
   "outputs": [],
   "source": [
    "tokenizer = processor.tokenizer\n",
    "a = tokenizer.get_vocab().items()"
   ]
  },
  {
   "cell_type": "code",
   "execution_count": 17,
   "metadata": {
    "colab": {
     "base_uri": "https://localhost:8080/",
     "height": 77,
     "referenced_widgets": [
      "e4dd13632d1e4a30bea5fde685f2c7a5",
      "e18c6eab62b2421b9370b319cd9af9bc",
      "142707e828804c4f983750cf82d11b6a",
      "67a0c9cb83834a6786d35c9778563891",
      "64f6173917794707a6f954b7028593d0",
      "547ef7f99cc74ac983ce49aed6aca673",
      "629831e879a448909ab1d34e61481531",
      "817c2c6921fa4638b47ec2405579e101",
      "6bb9195833af4f2da71171c52df82a35",
      "c3cb617021ed4fe7954c7a76c7ea2d4d",
      "8521fd34f64341b0a2cf8fca161c26ad"
     ]
    },
    "id": "uwnvx2AFuh_e",
    "outputId": "4fb62224-4edb-4728-b8b1-ae46052e8ba0"
   },
   "outputs": [
    {
     "data": {
      "application/vnd.jupyter.widget-view+json": {
       "model_id": "ced81add1fd24dc890e92038c68e46c6",
       "version_major": 2,
       "version_minor": 0
      },
      "text/plain": [
       "Map:   0%|          | 0/16000 [00:00<?, ? examples/s]"
      ]
     },
     "metadata": {},
     "output_type": "display_data"
    },
    {
     "data": {
      "application/vnd.jupyter.widget-view+json": {
       "model_id": "4d0a4cf356c54a8f911f1fc16b4cfa01",
       "version_major": 2,
       "version_minor": 0
      },
      "text/plain": [
       "Map:   0%|          | 0/4000 [00:00<?, ? examples/s]"
      ]
     },
     "metadata": {},
     "output_type": "display_data"
    }
   ],
   "source": [
    "def extract_all_chars(batch):\n",
    "    all_text = \" \".join(batch[\"sentence\"])\n",
    "    vocab = list(set(all_text))\n",
    "    return {\"vocab\": [vocab], \"all_text\": [all_text]}\n",
    "\n",
    "vocabs = dataset['train'].map(\n",
    "    extract_all_chars,\n",
    "    batched=True,\n",
    "    batch_size=-1,\n",
    "    keep_in_memory=True,\n",
    "    remove_columns=dataset['train'].column_names,\n",
    ")\n",
    "vocabs = dataset['test'].map(\n",
    "    extract_all_chars,\n",
    "    batched=True,\n",
    "    batch_size=-1,\n",
    "    keep_in_memory=True,\n",
    "    remove_columns=dataset['test'].column_names,\n",
    ")\n",
    "\n",
    "dataset_vocab = set(vocabs[\"vocab\"][0])\n",
    "tokenizer_vocab = {k for k,_ in tokenizer.get_vocab().items()}"
   ]
  },
  {
   "cell_type": "markdown",
   "metadata": {
    "id": "C2u-lIk1Tvl8"
   },
   "source": [
    "Now we have two sets of characters, one with the vocabulary from the dataset and one with the vocabulary from the tokenizer. By taking the difference between these sets, we find the characters that are in the dataset but not in the tokenizer."
   ]
  },
  {
   "cell_type": "code",
   "execution_count": 18,
   "metadata": {},
   "outputs": [
    {
     "data": {
      "text/plain": [
       "(31, 81)"
      ]
     },
     "execution_count": 18,
     "metadata": {},
     "output_type": "execute_result"
    }
   ],
   "source": [
    "len(dataset_vocab), len(tokenizer_vocab)"
   ]
  },
  {
   "cell_type": "markdown",
   "metadata": {},
   "source": []
  },
  {
   "cell_type": "code",
   "execution_count": 19,
   "metadata": {
    "colab": {
     "base_uri": "https://localhost:8080/"
    },
    "id": "lNV2BPKOvVuQ",
    "outputId": "3cb2c246-a502-4e5a-dafd-31596236b347"
   },
   "outputs": [
    {
     "data": {
      "text/plain": [
       "{' ', 'è', 'ö', 'ü', 'ɪ', 'ʂ', 'ḍ', 'ṅ', 'ṭ'}"
      ]
     },
     "execution_count": 19,
     "metadata": {},
     "output_type": "execute_result"
    }
   ],
   "source": [
    "dataset_vocab-tokenizer_vocab\n"
   ]
  },
  {
   "cell_type": "markdown",
   "metadata": {
    "id": "okCE9DjNvXM1"
   },
   "source": [
    "Next, we will define a function to map these characters to valid tokens and then run it on the dataset. No need to handle space, that's already replaced by `▁` in the tokenizer."
   ]
  },
  {
   "cell_type": "code",
   "execution_count": 16,
   "metadata": {
    "colab": {
     "base_uri": "https://localhost:8080/",
     "height": 77,
     "referenced_widgets": [
      "584b82b74f3e478fae033692e403c0be",
      "3c38b35c28d646c6b71fb8f48d549abd",
      "7dc214351a4243a2934af2ead533cc0e",
      "6f97301cb71a4b22801ae2da3bb1a459",
      "7625e09f50484f5998c7171513962eaf",
      "74f14d8ae33e499eaa4c1e1430cb0a66",
      "de9fe45872e647b483a4480d9e247a41",
      "94ec52b748074966a1fd8e7e71a9fb4a",
      "4c85d484e3df4ab6894b56cb244d8898",
      "5da72b86d0c44f4c8254acac12e770ab",
      "76057dbeac7b491384749430dee0389d"
     ]
    },
    "id": "ybqsbUGZvtCa",
    "outputId": "bbb7da9f-0c1f-431e-d006-e787fd42ea75"
   },
   "outputs": [],
   "source": [
    "replacements = [\n",
    "    ('è', 'e'),  # Similar to \"e\" in \"bed\"\n",
    "    ('ö', 'oe'), # Similar to \"o\" in \"bird\" or \"u\" in \"burn\" (British accent)\n",
    "    ('ü', 'u'),  # Similar to \"u\" in \"lune\" or \"y\" in \"myth\" with rounded lips\n",
    "    ('ɪ', 'i'),  # Similar to \"i\" in \"bit\"\n",
    "    ('ʂ', 'sh'), # Similar to \"sh\" in \"sheep\" with retroflexion\n",
    "    ('ḍ', 'd'),  # Retroflex \"d\" similar to hard \"d\"\n",
    "    ('ṅ', 'ng'), # Similar to \"ng\" in \"sing\"\n",
    "    ('ṭ', 't'),  # Retroflex \"t\" similar to hard \"t\"\n",
    "]\n",
    "def cleanup_text(inputs):\n",
    "    for src, dst in replacements:\n",
    "        inputs[\"sentence\"] = inputs[\"sentence\"].replace(src, dst)\n",
    "    return inputs\n",
    "\n",
    "dataset = dataset.map(cleanup_text, num_proc=n_cpu)"
   ]
  },
  {
   "cell_type": "markdown",
   "metadata": {
    "id": "-OL3s6YUv9ND"
   },
   "source": [
    "## Speaker embeddings"
   ]
  },
  {
   "cell_type": "markdown",
   "metadata": {
    "id": "QsmonrEW1IlH"
   },
   "source": [
    "To allow the TTS model to distinguish between multiple speakers, we'll need to create a speaker embedding for each example. The speaker embedding is simply an additional input into the model that captures a particular speaker's voice characteristics.\n",
    "\n",
    "To create the speaker embeddings, we use the [spkrec-xvect-voxceleb](https://huggingface.co/speechbrain/spkrec-xvect-voxceleb) model from SpeechBrain. The following defines a function `create_speaker_embedding()` that takes an input audio waveform and outputs a 512-element vector containing the corresponding speaker embedding."
   ]
  },
  {
   "cell_type": "code",
   "execution_count": 20,
   "metadata": {
    "colab": {
     "base_uri": "https://localhost:8080/",
     "height": 317,
     "referenced_widgets": [
      "49ed3dfdc837403b8741061d0659102c",
      "488330af09c84e7ab7a3f0d7fb133c5d",
      "45a532352b6243d989e10d9f920813ee",
      "6df9ec75e27f4efba503bbfdccabe6a6",
      "273addc7de164aef804ddd5c948cec16",
      "b2952eb34cc24218b3e6cd01b1c3f88a",
      "fff57be8afee4ea2a0482612b5f75ca1",
      "3d0e5e0e07044f25a4fe8f2a00062a26",
      "2fe1e02ded124a9c95038a7843fb14b1",
      "bbd339d05b6c4def867887305f61bc45",
      "6066f619259343058e6c3ce6587ad17d",
      "6f456608999d40fcbf34d3240b1b2a68",
      "36a4dee1c8f24a2dab5c0d70324fd687",
      "f4194511e24c41d9b5023501f519372b",
      "54c5972e82154abbbb6b0cbda3c2227b",
      "8444e8676b9e409ea8bb7cf3ab117264",
      "564e8f5a3ee64332a984c0cb3f921405",
      "4ec498ff8c22458b88fc923325b43832",
      "5b241fc6078542888490a9e842880838",
      "0f2574affca0495997fb4607526091b8",
      "1fd65f2cd29d4e2289f854b22ceaacf1",
      "65a42048862c4c9985d5117eb3a98bec",
      "2e1b35961de5420e896b4d1dfbc5bd04",
      "46f8093e3bfa457582d88dc672a58dba",
      "13d82440a198461e92a08937262eb83c",
      "139ee219cd7d4cba9e266f0e33373dc9",
      "747201aebf8542749a8137dc8feac726",
      "a09e44abddc74ed7845ffe1ff559b933",
      "d588c7dd53c145ac96d772a6af055101",
      "c3244a99df964d4bba0ddc5add4fb3cd",
      "ff8617315baa4acdae80dee2c5c797fe",
      "ccf863790fe146d6a8f34d9800864d23",
      "e4492949874449f395eadeb83b4798b3",
      "90b3db89b0124154a7d9b7afdc81ea10",
      "fa9224be44ad49b49be0ad7f6842f1e3",
      "873816aeb1104fcda8945635179849b7",
      "c7820300f5894c8cbaf9646f610dbdbc",
      "14e00267d11d4a83960403c34dd89e8e",
      "29a3ea8fa74444ca806d895c186a9a7a",
      "0fbc521d7acd4def8fc39178b84103d0",
      "6c47ec2bdbec41098c3692003b999510",
      "06042be7a12e43db8022ae981df62a41",
      "1ff85e5d7f394b34b1ae505720d95f0f",
      "10dea0f6209748d98732c7aafacd348f",
      "28adc8d59c3a4e6da6d56a24c6dc8857",
      "2e04a642eb0144f59cb6c4bf40d1b2ce",
      "89d46d64ef684b918e032471568ed5f6",
      "123f117cf39c405dbd6c0050f6267e3a",
      "41c9b7daf5e647279bf0e766a4cc0702",
      "861f92d116124738aca813cf775e052a",
      "5faab306bd0743039ce3a65ec1f5175d",
      "856f1749da6643cd9e8fa38f087d64d3",
      "976024579d4a4a82b66b77e8fd69b006",
      "c02fb768c1d541a2aa5269a97dec07ac",
      "70b9c74f2b464790b2dde20549af8c2d"
     ]
    },
    "id": "smJs3_VB1Da2",
    "outputId": "44c2f3e4-7cc4-4dce-a72e-9eecf529b488"
   },
   "outputs": [
    {
     "name": "stderr",
     "output_type": "stream",
     "text": [
      "/tmp/ipykernel_42435/2420507585.py:3: UserWarning: Module 'speechbrain.pretrained' was deprecated, redirecting to 'speechbrain.inference'. Please update your script. This is a change from SpeechBrain 1.0. See: https://github.com/speechbrain/speechbrain/releases/tag/v1.0.0\n",
      "  from speechbrain.pretrained import EncoderClassifier\n"
     ]
    },
    {
     "data": {
      "application/vnd.jupyter.widget-view+json": {
       "model_id": "c043d883a5934b0f8a39e6b666ca1b20",
       "version_major": 2,
       "version_minor": 0
      },
      "text/plain": [
       "hyperparams.yaml:   0%|          | 0.00/2.04k [00:00<?, ?B/s]"
      ]
     },
     "metadata": {},
     "output_type": "display_data"
    },
    {
     "name": "stderr",
     "output_type": "stream",
     "text": [
      "/opt/conda/lib/python3.11/site-packages/speechbrain/utils/autocast.py:68: FutureWarning: `torch.cuda.amp.custom_fwd(args...)` is deprecated. Please use `torch.amp.custom_fwd(args..., device_type='cuda')` instead.\n",
      "  wrapped_fwd = torch.cuda.amp.custom_fwd(fwd, cast_inputs=cast_inputs)\n"
     ]
    },
    {
     "data": {
      "application/vnd.jupyter.widget-view+json": {
       "model_id": "d472479058b64f14baa4b3bf50cc9cd5",
       "version_major": 2,
       "version_minor": 0
      },
      "text/plain": [
       "embedding_model.ckpt:   0%|          | 0.00/16.9M [00:00<?, ?B/s]"
      ]
     },
     "metadata": {},
     "output_type": "display_data"
    },
    {
     "data": {
      "application/vnd.jupyter.widget-view+json": {
       "model_id": "6e742df624b4420a88bbcd832b7c3445",
       "version_major": 2,
       "version_minor": 0
      },
      "text/plain": [
       "mean_var_norm_emb.ckpt:   0%|          | 0.00/3.20k [00:00<?, ?B/s]"
      ]
     },
     "metadata": {},
     "output_type": "display_data"
    },
    {
     "data": {
      "application/vnd.jupyter.widget-view+json": {
       "model_id": "32ce6c23bbed49b3901d56c3142e7a99",
       "version_major": 2,
       "version_minor": 0
      },
      "text/plain": [
       "classifier.ckpt:   0%|          | 0.00/15.9M [00:00<?, ?B/s]"
      ]
     },
     "metadata": {},
     "output_type": "display_data"
    },
    {
     "data": {
      "application/vnd.jupyter.widget-view+json": {
       "model_id": "f7717a19ed124fe3ac029ffdc7ebbfa8",
       "version_major": 2,
       "version_minor": 0
      },
      "text/plain": [
       "label_encoder.txt:   0%|          | 0.00/129k [00:00<?, ?B/s]"
      ]
     },
     "metadata": {},
     "output_type": "display_data"
    },
    {
     "name": "stderr",
     "output_type": "stream",
     "text": [
      "/opt/conda/lib/python3.11/site-packages/speechbrain/utils/checkpoints.py:194: FutureWarning: You are using `torch.load` with `weights_only=False` (the current default value), which uses the default pickle module implicitly. It is possible to construct malicious pickle data which will execute arbitrary code during unpickling (See https://github.com/pytorch/pytorch/blob/main/SECURITY.md#untrusted-models for more details). In a future release, the default value for `weights_only` will be flipped to `True`. This limits the functions that could be executed during unpickling. Arbitrary objects will no longer be allowed to be loaded via this mode unless they are explicitly allowlisted by the user via `torch.serialization.add_safe_globals`. We recommend you start setting `weights_only=True` for any use case where you don't have full control of the loaded file. Please open an issue on GitHub for any issues related to this experimental feature.\n",
      "  state_dict = torch.load(path, map_location=device)\n",
      "/opt/conda/lib/python3.11/site-packages/speechbrain/processing/features.py:1311: FutureWarning: You are using `torch.load` with `weights_only=False` (the current default value), which uses the default pickle module implicitly. It is possible to construct malicious pickle data which will execute arbitrary code during unpickling (See https://github.com/pytorch/pytorch/blob/main/SECURITY.md#untrusted-models for more details). In a future release, the default value for `weights_only` will be flipped to `True`. This limits the functions that could be executed during unpickling. Arbitrary objects will no longer be allowed to be loaded via this mode unless they are explicitly allowlisted by the user via `torch.serialization.add_safe_globals`. We recommend you start setting `weights_only=True` for any use case where you don't have full control of the loaded file. Please open an issue on GitHub for any issues related to this experimental feature.\n",
      "  stats = torch.load(path, map_location=device)\n"
     ]
    }
   ],
   "source": [
    "import os\n",
    "import torch\n",
    "from speechbrain.pretrained import EncoderClassifier\n",
    "\n",
    "spk_model_name = \"speechbrain/spkrec-xvect-voxceleb\"\n",
    "\n",
    "device =\"cpu\"\n",
    "speaker_model = EncoderClassifier.from_hparams(\n",
    "    source=spk_model_name,\n",
    "    run_opts={\"device\": device},\n",
    "    savedir=os.path.join(\"/tmp\", spk_model_name)\n",
    ")\n",
    "\n",
    "def create_speaker_embedding(waveform):\n",
    "    with torch.no_grad():\n",
    "        speaker_embeddings = speaker_model.encode_batch(torch.tensor(waveform))\n",
    "        speaker_embeddings = torch.nn.functional.normalize(speaker_embeddings, dim=2)\n",
    "        speaker_embeddings = speaker_embeddings.squeeze().cpu().numpy()\n",
    "    return speaker_embeddings"
   ]
  },
  {
   "cell_type": "markdown",
   "metadata": {
    "id": "UczHmLsuFkC6"
   },
   "source": [
    "Note: the `speechbrain/spkrec-xvect-voxceleb` model was trained on English speech from the VoxCeleb dataset, while our training examples are in Dutch. We're assuming here that this model will still make reasonable speaker embeddings, but this may not be true. First training an X-vector model on the target speech, such as Dutch, might work better."
   ]
  },
  {
   "cell_type": "markdown",
   "metadata": {
    "id": "_a8ouSY-Fnxy"
   },
   "source": [
    "## Preparing the dataset"
   ]
  },
  {
   "cell_type": "markdown",
   "metadata": {
    "id": "dTI_2WkH-3_Z"
   },
   "source": [
    "The `prepare_dataset` function takes in a single example and uses the `SpeechT5Processor` object to tokenize the input text and load the target audio into a log-mel spectrogram. It also adds the speaker embeddings as an additional input."
   ]
  },
  {
   "cell_type": "code",
   "execution_count": 21,
   "metadata": {
    "id": "Mmu8f555v_Ea"
   },
   "outputs": [],
   "source": [
    "def prepare_dataset(batch):\n",
    "    # load the audio data; if necessary, this resamples the audio to 16kHz\n",
    "    audio_batch = batch[\"path\"]\n",
    "    sentence_batch = batch[\"sentence\"]\n",
    "    audio_array_batch = [audio[\"array\"] for audio in audio_batch]\n",
    "    sampling_rate = audio_batch[0][\"sampling_rate\"]\n",
    "\n",
    "    example = processor(\n",
    "        text=sentence_batch,\n",
    "        audio_target=audio_array_batch,\n",
    "        sampling_rate=sampling_rate,\n",
    "        return_attention_mask=False,\n",
    "    )\n",
    "\n",
    "    example[\"sentence\"] = sentence_batch\n",
    "    example[\"labels\"] = [label for label in example[\"labels\"]]\n",
    "    example[\"path\"] = audio_batch\n",
    "    example[\"speaker\"] = batch['speaker_id']\n",
    "    example[\"uni\"] = batch[\"uni\"]\n",
    "    example[\"speaker_embeddings\"] = [create_speaker_embedding(array) for array in audio_array_batch]\n",
    "\n",
    "    return example"
   ]
  },
  {
   "cell_type": "markdown",
   "metadata": {
    "id": "XYYxiCoC15WG"
   },
   "source": [
    "Let's verify the processing is correct by looking at a single example:"
   ]
  },
  {
   "cell_type": "code",
   "execution_count": 22,
   "metadata": {
    "id": "GYiXtnFczVIP"
   },
   "outputs": [
    {
     "data": {
      "text/plain": [
       "(512,)"
      ]
     },
     "execution_count": 22,
     "metadata": {},
     "output_type": "execute_result"
    }
   ],
   "source": [
    "processed_example = prepare_dataset(dataset['train'].select(range(5)))\n",
    "processed_example[\"speaker_embeddings\"][0].shape"
   ]
  },
  {
   "cell_type": "code",
   "execution_count": 23,
   "metadata": {},
   "outputs": [
    {
     "data": {
      "text/plain": [
       "(518, 80)"
      ]
     },
     "execution_count": 23,
     "metadata": {},
     "output_type": "execute_result"
    }
   ],
   "source": [
    "processed_example[\"labels\"][0].shape"
   ]
  },
  {
   "cell_type": "code",
   "execution_count": 24,
   "metadata": {},
   "outputs": [
    {
     "data": {
      "text/plain": [
       "['དེའི་ཚེ་འཇིག་རྟེན་སྐྱེ་བ་ན་གང་ཟག་ཉག་གཅིག་སྐྱེའོ་ཞེས་བྱ་བའི་ལུང་ལས་ནི། ཕ་རོལ་པོས་བདག་མང་པོར་འདོད་པ་ཡང་མིན་ནོ།',\n",
       " 'རྒྱུ་མཚན་བསམ་པའི་སྟོབས་ལ་བརྟེན་ནས་ཉོན་མོངས་དེ་ལས་གྲོལ་དགོས་པ་རེད།',\n",
       " 'སྲོག་རྩོལ་ངག་དབེན་དུ་འདུ།',\n",
       " 'ཐེར་འདོན་བྱེད། ཁོང་ཚོ་ངོ་གནོངས་ནས་གཞུང་གིས་ཀུན་སློང་ངན་པ་བཅངས་པ་མ་རེད་ཅེས་ཨུ་ཚུགས་ཀྱིས་བརྗོད།',\n",
       " 'ངག་དབེན་གྱི་སྐབས་སུ་ངག་གི་རྩ་བ་རླུང་ལ་དབང་ཐོབ་པ་གཉིས་ཆོས་མཚུངས་པའི་ཕྱིར།']"
      ]
     },
     "execution_count": 24,
     "metadata": {},
     "output_type": "execute_result"
    }
   ],
   "source": [
    "processed_example[\"uni\"]"
   ]
  },
  {
   "cell_type": "markdown",
   "metadata": {
    "id": "dr_zXRhiGu-G"
   },
   "source": [
    "This should give us:\n",
    "\n",
    "- the tokens for the input text in `input_ids`\n",
    "- the speaker embedding in `speaker_embeddings`\n",
    "- the target spectrogram in `labels`"
   ]
  },
  {
   "cell_type": "code",
   "execution_count": 25,
   "metadata": {
    "colab": {
     "base_uri": "https://localhost:8080/"
    },
    "id": "Wkboc3EUzXtp",
    "outputId": "92144a55-e337-4277-c3e0-39bd94658fa9"
   },
   "outputs": [
    {
     "data": {
      "text/plain": [
       "['input_ids',\n",
       " 'labels',\n",
       " 'sentence',\n",
       " 'path',\n",
       " 'speaker',\n",
       " 'uni',\n",
       " 'speaker_embeddings']"
      ]
     },
     "execution_count": 25,
     "metadata": {},
     "output_type": "execute_result"
    }
   ],
   "source": [
    "list(processed_example.keys())"
   ]
  },
  {
   "cell_type": "markdown",
   "metadata": {
    "id": "nvNI_JrE2oA8"
   },
   "source": [
    "The tokens should decode into the original text, with `</s>` to mark the end of the sentence."
   ]
  },
  {
   "cell_type": "code",
   "execution_count": 26,
   "metadata": {
    "colab": {
     "base_uri": "https://localhost:8080/",
     "height": 53
    },
    "id": "uu8PgZqH07lW",
    "outputId": "000cd187-61e4-4558-9395-7f64e08bdfcb"
   },
   "outputs": [
    {
     "data": {
      "text/plain": [
       "['té<unk> tsé jik t<unk> n kyé pa na kang sak nyak chik kyéo sh<unk> cha pa<unk> lung l<unk> ni pa r<unk> l p<unk> dak mang por d<unk> pa yang min no</s>',\n",
       " 'gyu ts<unk> n sam pa<unk> top la t<unk> n n<unk> ny<unk> n mong té l<unk> <unk> l g<unk> pa r<unk></s>',\n",
       " 'sok ts<unk> l <unk> ak <unk> n tu du</s>',\n",
       " 't<unk> r d<unk> n ch<unk> kong tso <unk> o nong n<unk> shung ki k<unk> n long <unk> n pa chang pa ma r<unk> ch<unk> u tsuk kyi j<unk></s>',\n",
       " '<unk> ak <unk> n kyi kap su <unk> ak ki tsa pa lung la wang top pa nyi ch<unk> tsung pa<unk> chir</s>']"
      ]
     },
     "execution_count": 26,
     "metadata": {},
     "output_type": "execute_result"
    }
   ],
   "source": [
    "[tokenizer.decode(input_ids) for input_ids in processed_example[\"input_ids\"]]"
   ]
  },
  {
   "cell_type": "markdown",
   "metadata": {
    "id": "wOdMw-xa2u_8"
   },
   "source": [
    "Speaker embeddings should be a 512-element vector:"
   ]
  },
  {
   "cell_type": "code",
   "execution_count": 27,
   "metadata": {
    "colab": {
     "base_uri": "https://localhost:8080/"
    },
    "id": "uuybSBq32AuH",
    "outputId": "89ca3629-67d7-4e94-c6a3-24cf18d9e8e9"
   },
   "outputs": [
    {
     "data": {
      "text/plain": [
       "(512,)"
      ]
     },
     "execution_count": 27,
     "metadata": {},
     "output_type": "execute_result"
    }
   ],
   "source": [
    "processed_example[\"speaker_embeddings\"][0].shape"
   ]
  },
  {
   "cell_type": "markdown",
   "metadata": {
    "id": "YzyoPE2y2zHk"
   },
   "source": [
    "The labels should be a log-mel spectrogram with 80 mel bins."
   ]
  },
  {
   "cell_type": "code",
   "execution_count": 28,
   "metadata": {
    "colab": {
     "base_uri": "https://localhost:8080/",
     "height": 180
    },
    "id": "dKu2km552GL-",
    "outputId": "2e9c9939-b722-4a1e-cff9-382ed1c1bb15"
   },
   "outputs": [
    {
     "data": {
      "image/png": "[encoded data removed]",
      "text/plain": [
       "<Figure size 640x480 with 1 Axes>"
      ]
     },
     "metadata": {},
     "output_type": "display_data"
    }
   ],
   "source": [
    "import matplotlib.pyplot as plt\n",
    "plt.figure()\n",
    "plt.imshow(processed_example[\"labels\"][0].T)\n",
    "plt.show()"
   ]
  },
  {
   "cell_type": "markdown",
   "metadata": {
    "id": "bWMT9X6w237M"
   },
   "source": [
    "If we run a vocoder on the log-mel spectrogram, it should produce the original audio again. We'll load the HiFi-GAN vocoder from the original [SpeechT5 checkpoint](https://hf.co/microsoft/speecht5_hifigan)."
   ]
  },
  {
   "cell_type": "code",
   "execution_count": 29,
   "metadata": {
    "colab": {
     "base_uri": "https://localhost:8080/",
     "height": 137,
     "referenced_widgets": [
      "a5346308f86540f4b05ba542a1230b47",
      "47943abd7e914f829e11d3820cc8ca3e",
      "f6ead4230da64b918db9341095563a0e",
      "c3d3a3ef790e4cfaa5b59fda49a62689",
      "40eccaace52b4f0ca8a9b846060dcf15",
      "f2f958cdcf5a41e392e0cd92b8da52f1",
      "73d695248c6143c19f976569d587b1d6",
      "eb77ba5b2828444cb4a9a2beaa7ce08c",
      "26853f9e670244518ea1e2760bd1f53a",
      "d049dfd5931248159029e748acfa611c",
      "6255ea93e05140f09ca82b85ecb54fca",
      "08287a06765c462a9569b524d1999fd5",
      "82eb95ae3df24613bb133b6fdd2bbfd0",
      "4759130b70b340a6abd804bd5d5d731c",
      "96cafb1e7fd6415e9cedfe8cb9c07c30",
      "661b9da3c9cd4699b0fb5587c26fe15f",
      "0515268ed51240c19421e6d6c7703609",
      "2081028ed0cc4c51af6b15f538c43be4",
      "a8a6f45d78504d4ab75d3dbf47955ba8",
      "be9c32a86ea442298fad57c5e2589339",
      "aa935f4d46814226a663fd686f981bbf",
      "bb49135849574eeda10e2955631e5776"
     ]
    },
    "id": "2Yu-rqwa1zns",
    "outputId": "e2061b9c-6796-4310-b4d1-4265427cf614"
   },
   "outputs": [
    {
     "data": {
      "application/vnd.jupyter.widget-view+json": {
       "model_id": "ccbb1409a40e47929271e4bcc3812b2f",
       "version_major": 2,
       "version_minor": 0
      },
      "text/plain": [
       "config.json:   0%|          | 0.00/636 [00:00<?, ?B/s]"
      ]
     },
     "metadata": {},
     "output_type": "display_data"
    },
    {
     "data": {
      "application/vnd.jupyter.widget-view+json": {
       "model_id": "77f1f351c5d44ece971db2ee0d2b05a5",
       "version_major": 2,
       "version_minor": 0
      },
      "text/plain": [
       "pytorch_model.bin:   0%|          | 0.00/50.7M [00:00<?, ?B/s]"
      ]
     },
     "metadata": {},
     "output_type": "display_data"
    }
   ],
   "source": [
    "from transformers import SpeechT5HifiGan\n",
    "vocoder = SpeechT5HifiGan.from_pretrained(\"microsoft/speecht5_hifigan\")"
   ]
  },
  {
   "cell_type": "code",
   "execution_count": 30,
   "metadata": {
    "id": "byzHH-Jl2XeL"
   },
   "outputs": [
    {
     "name": "stdout",
     "output_type": "stream",
     "text": [
      "ཐེར་འདོན་བྱེད། ཁོང་ཚོ་ངོ་གནོངས་ནས་གཞུང་གིས་ཀུན་སློང་ངན་པ་བཅངས་པ་མ་རེད་ཅེས་ཨུ་ཚུགས་ཀྱིས་བརྗོད།\n",
      "tèr  dön  chè  kong  tso  ṅo  nong  nè  shung  ki  kün  long  ṅèn  pa  chang  pa  ma  rè  chè  u  tsuk  kyi  jö\n"
     ]
    },
    {
     "data": {
      "text/html": [
       "\n",
       "                <audio  controls=\"controls\" >\n",
       "                    <source src=\"data:audio/wav;base64,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\" type=\"audio/wav\" />\n",
       "                    Your browser does not support the audio element.\n",
       "                </audio>\n",
       "              "
      ],
      "text/plain": [
       "<IPython.lib.display.Audio object>"
      ]
     },
     "execution_count": 30,
     "metadata": {},
     "output_type": "execute_result"
    },
    {
     "data": {
      "application/vnd.jupyter.widget-view+json": {
       "model_id": "7ebe9c99d3c7465e8f81881c913f1bf1",
       "version_major": 2,
       "version_minor": 0
      },
      "text/plain": [
       "model.safetensors:   0%|          | 0.00/50.6M [00:00<?, ?B/s]"
      ]
     },
     "metadata": {},
     "output_type": "display_data"
    }
   ],
   "source": [
    "i = 3\n",
    "print(processed_example[\"uni\"][i])\n",
    "print(processed_example[\"sentence\"][i])\n",
    "spectrogram = torch.tensor(processed_example[\"labels\"][i])\n",
    "with torch.no_grad():\n",
    "    speech = vocoder(spectrogram)\n",
    "display_audio(speech.cpu().numpy(), rate=16000)"
   ]
  },
  {
   "cell_type": "code",
   "execution_count": 31,
   "metadata": {},
   "outputs": [
    {
     "data": {
      "text/plain": [
       "'དེའི་ཚེ་འཇིག་རྟེན་སྐྱེ་བ་ན་གང་ཟག་ཉག་གཅིག་སྐྱེའོ་ཞེས་བྱ་བའི་ལུང་ལས་ནི། ཕ་རོལ་པོས་བདག་མང་པོར་འདོད་པ་ཡང་མིན་ནོ།'"
      ]
     },
     "execution_count": 31,
     "metadata": {},
     "output_type": "execute_result"
    }
   ],
   "source": [
    "dataset[\"train\"][0][\"uni\"]"
   ]
  },
  {
   "cell_type": "markdown",
   "metadata": {
    "id": "RPLVad8w3CvV"
   },
   "source": [
    "That all looks and sounds good! We can now process the entire dataset. This will take between 5 and 10 minutes."
   ]
  },
  {
   "cell_type": "code",
   "execution_count": 32,
   "metadata": {},
   "outputs": [
    {
     "data": {
      "text/plain": [
       "['uni', 'sentence', 'label', 'speaker_id', 'duration', 'tokens_len', 'path']"
      ]
     },
     "execution_count": 32,
     "metadata": {},
     "output_type": "execute_result"
    }
   ],
   "source": [
    "dataset['train'].column_names"
   ]
  },
  {
   "cell_type": "code",
   "execution_count": 34,
   "metadata": {
    "colab": {
     "base_uri": "https://localhost:8080/",
     "height": 115,
     "referenced_widgets": [
      "ddc2eeeaf96043deae9f8d5bb15fed3a",
      "e2d8329b40db47c2a15ecde79b04ad2a",
      "58a9bc95f3c24a4db8eae6c38ed4dba5",
      "cb6ab4db660f49ddb682740fcedcdc9b",
      "a37842ab181f403ca7e8175a987e6904",
      "84dea280cde54e90bdf16e938c169451",
      "d153f300f66d4f10a7eac735bb17e7f2",
      "3ee31d4a090f4428a28c63b940e9f4b2",
      "003952b6386749c794bcdc0194ab261d",
      "d289340c639e44e4b05d6d00a67e6e05",
      "fdcc1dc63c6f4116983af0089ebe4283"
     ]
    },
    "id": "ekis02SC2hBN",
    "outputId": "4134d631-a9a7-419c-cfd6-f19d25a97178"
   },
   "outputs": [
    {
     "data": {
      "application/vnd.jupyter.widget-view+json": {
       "model_id": "cd1e4fd5e1ab4bbe8cee289f57f57a8b",
       "version_major": 2,
       "version_minor": 0
      },
      "text/plain": [
       "Map:   0%|          | 0/16000 [00:00<?, ? examples/s]"
      ]
     },
     "metadata": {},
     "output_type": "display_data"
    },
    {
     "ename": "KeyboardInterrupt",
     "evalue": "",
     "output_type": "error",
     "traceback": [
      "\u001b[0;31m---------------------------------------------------------------------------\u001b[0m",
      "\u001b[0;31mKeyboardInterrupt\u001b[0m                         Traceback (most recent call last)",
      "Cell \u001b[0;32mIn[34], line 1\u001b[0m\n\u001b[0;32m----> 1\u001b[0m dataset \u001b[38;5;241m=\u001b[39m dataset\u001b[38;5;241m.\u001b[39mmap(\n\u001b[1;32m      2\u001b[0m     prepare_dataset,\n\u001b[1;32m      3\u001b[0m     remove_columns\u001b[38;5;241m=\u001b[39mdataset[\u001b[38;5;124m'\u001b[39m\u001b[38;5;124mtrain\u001b[39m\u001b[38;5;124m'\u001b[39m]\u001b[38;5;241m.\u001b[39mcolumn_names,\n\u001b[1;32m      4\u001b[0m     batched\u001b[38;5;241m=\u001b[39m\u001b[38;5;28;01mTrue\u001b[39;00m,\n\u001b[1;32m      5\u001b[0m     batch_size\u001b[38;5;241m=\u001b[39m\u001b[38;5;241m128\u001b[39m\n\u001b[1;32m      6\u001b[0m )\n",
      "File \u001b[0;32m/opt/conda/lib/python3.11/site-packages/datasets/dataset_dict.py:886\u001b[0m, in \u001b[0;36mDatasetDict.map\u001b[0;34m(self, function, with_indices, with_rank, input_columns, batched, batch_size, drop_last_batch, remove_columns, keep_in_memory, load_from_cache_file, cache_file_names, writer_batch_size, features, disable_nullable, fn_kwargs, num_proc, desc)\u001b[0m\n\u001b[1;32m    883\u001b[0m \u001b[38;5;28;01mif\u001b[39;00m cache_file_names \u001b[38;5;129;01mis\u001b[39;00m \u001b[38;5;28;01mNone\u001b[39;00m:\n\u001b[1;32m    884\u001b[0m     cache_file_names \u001b[38;5;241m=\u001b[39m {k: \u001b[38;5;28;01mNone\u001b[39;00m \u001b[38;5;28;01mfor\u001b[39;00m k \u001b[38;5;129;01min\u001b[39;00m \u001b[38;5;28mself\u001b[39m}\n\u001b[1;32m    885\u001b[0m \u001b[38;5;28;01mreturn\u001b[39;00m DatasetDict(\n\u001b[0;32m--> 886\u001b[0m     {\n\u001b[1;32m    887\u001b[0m         k: dataset\u001b[38;5;241m.\u001b[39mmap(\n\u001b[1;32m    888\u001b[0m             function\u001b[38;5;241m=\u001b[39mfunction,\n\u001b[1;32m    889\u001b[0m             with_indices\u001b[38;5;241m=\u001b[39mwith_indices,\n\u001b[1;32m    890\u001b[0m             with_rank\u001b[38;5;241m=\u001b[39mwith_rank,\n\u001b[1;32m    891\u001b[0m             input_columns\u001b[38;5;241m=\u001b[39minput_columns,\n\u001b[1;32m    892\u001b[0m             batched\u001b[38;5;241m=\u001b[39mbatched,\n\u001b[1;32m    893\u001b[0m             batch_size\u001b[38;5;241m=\u001b[39mbatch_size,\n\u001b[1;32m    894\u001b[0m             drop_last_batch\u001b[38;5;241m=\u001b[39mdrop_last_batch,\n\u001b[1;32m    895\u001b[0m             remove_columns\u001b[38;5;241m=\u001b[39mremove_columns,\n\u001b[1;32m    896\u001b[0m             keep_in_memory\u001b[38;5;241m=\u001b[39mkeep_in_memory,\n\u001b[1;32m    897\u001b[0m             load_from_cache_file\u001b[38;5;241m=\u001b[39mload_from_cache_file,\n\u001b[1;32m    898\u001b[0m             cache_file_name\u001b[38;5;241m=\u001b[39mcache_file_names[k],\n\u001b[1;32m    899\u001b[0m             writer_batch_size\u001b[38;5;241m=\u001b[39mwriter_batch_size,\n\u001b[1;32m    900\u001b[0m             features\u001b[38;5;241m=\u001b[39mfeatures,\n\u001b[1;32m    901\u001b[0m             disable_nullable\u001b[38;5;241m=\u001b[39mdisable_nullable,\n\u001b[1;32m    902\u001b[0m             fn_kwargs\u001b[38;5;241m=\u001b[39mfn_kwargs,\n\u001b[1;32m    903\u001b[0m             num_proc\u001b[38;5;241m=\u001b[39mnum_proc,\n\u001b[1;32m    904\u001b[0m             desc\u001b[38;5;241m=\u001b[39mdesc,\n\u001b[1;32m    905\u001b[0m         )\n\u001b[1;32m    906\u001b[0m         \u001b[38;5;28;01mfor\u001b[39;00m k, dataset \u001b[38;5;129;01min\u001b[39;00m \u001b[38;5;28mself\u001b[39m\u001b[38;5;241m.\u001b[39mitems()\n\u001b[1;32m    907\u001b[0m     }\n\u001b[1;32m    908\u001b[0m )\n",
      "File \u001b[0;32m/opt/conda/lib/python3.11/site-packages/datasets/dataset_dict.py:887\u001b[0m, in \u001b[0;36m<dictcomp>\u001b[0;34m(.0)\u001b[0m\n\u001b[1;32m    883\u001b[0m \u001b[38;5;28;01mif\u001b[39;00m cache_file_names \u001b[38;5;129;01mis\u001b[39;00m \u001b[38;5;28;01mNone\u001b[39;00m:\n\u001b[1;32m    884\u001b[0m     cache_file_names \u001b[38;5;241m=\u001b[39m {k: \u001b[38;5;28;01mNone\u001b[39;00m \u001b[38;5;28;01mfor\u001b[39;00m k \u001b[38;5;129;01min\u001b[39;00m \u001b[38;5;28mself\u001b[39m}\n\u001b[1;32m    885\u001b[0m \u001b[38;5;28;01mreturn\u001b[39;00m DatasetDict(\n\u001b[1;32m    886\u001b[0m     {\n\u001b[0;32m--> 887\u001b[0m         k: dataset\u001b[38;5;241m.\u001b[39mmap(\n\u001b[1;32m    888\u001b[0m             function\u001b[38;5;241m=\u001b[39mfunction,\n\u001b[1;32m    889\u001b[0m             with_indices\u001b[38;5;241m=\u001b[39mwith_indices,\n\u001b[1;32m    890\u001b[0m             with_rank\u001b[38;5;241m=\u001b[39mwith_rank,\n\u001b[1;32m    891\u001b[0m             input_columns\u001b[38;5;241m=\u001b[39minput_columns,\n\u001b[1;32m    892\u001b[0m             batched\u001b[38;5;241m=\u001b[39mbatched,\n\u001b[1;32m    893\u001b[0m             batch_size\u001b[38;5;241m=\u001b[39mbatch_size,\n\u001b[1;32m    894\u001b[0m             drop_last_batch\u001b[38;5;241m=\u001b[39mdrop_last_batch,\n\u001b[1;32m    895\u001b[0m             remove_columns\u001b[38;5;241m=\u001b[39mremove_columns,\n\u001b[1;32m    896\u001b[0m             keep_in_memory\u001b[38;5;241m=\u001b[39mkeep_in_memory,\n\u001b[1;32m    897\u001b[0m             load_from_cache_file\u001b[38;5;241m=\u001b[39mload_from_cache_file,\n\u001b[1;32m    898\u001b[0m             cache_file_name\u001b[38;5;241m=\u001b[39mcache_file_names[k],\n\u001b[1;32m    899\u001b[0m             writer_batch_size\u001b[38;5;241m=\u001b[39mwriter_batch_size,\n\u001b[1;32m    900\u001b[0m             features\u001b[38;5;241m=\u001b[39mfeatures,\n\u001b[1;32m    901\u001b[0m             disable_nullable\u001b[38;5;241m=\u001b[39mdisable_nullable,\n\u001b[1;32m    902\u001b[0m             fn_kwargs\u001b[38;5;241m=\u001b[39mfn_kwargs,\n\u001b[1;32m    903\u001b[0m             num_proc\u001b[38;5;241m=\u001b[39mnum_proc,\n\u001b[1;32m    904\u001b[0m             desc\u001b[38;5;241m=\u001b[39mdesc,\n\u001b[1;32m    905\u001b[0m         )\n\u001b[1;32m    906\u001b[0m         \u001b[38;5;28;01mfor\u001b[39;00m k, dataset \u001b[38;5;129;01min\u001b[39;00m \u001b[38;5;28mself\u001b[39m\u001b[38;5;241m.\u001b[39mitems()\n\u001b[1;32m    907\u001b[0m     }\n\u001b[1;32m    908\u001b[0m )\n",
      "File \u001b[0;32m/opt/conda/lib/python3.11/site-packages/datasets/arrow_dataset.py:560\u001b[0m, in \u001b[0;36mtransmit_format.<locals>.wrapper\u001b[0;34m(*args, **kwargs)\u001b[0m\n\u001b[1;32m    553\u001b[0m self_format \u001b[38;5;241m=\u001b[39m {\n\u001b[1;32m    554\u001b[0m     \u001b[38;5;124m\"\u001b[39m\u001b[38;5;124mtype\u001b[39m\u001b[38;5;124m\"\u001b[39m: \u001b[38;5;28mself\u001b[39m\u001b[38;5;241m.\u001b[39m_format_type,\n\u001b[1;32m    555\u001b[0m     \u001b[38;5;124m\"\u001b[39m\u001b[38;5;124mformat_kwargs\u001b[39m\u001b[38;5;124m\"\u001b[39m: \u001b[38;5;28mself\u001b[39m\u001b[38;5;241m.\u001b[39m_format_kwargs,\n\u001b[1;32m    556\u001b[0m     \u001b[38;5;124m\"\u001b[39m\u001b[38;5;124mcolumns\u001b[39m\u001b[38;5;124m\"\u001b[39m: \u001b[38;5;28mself\u001b[39m\u001b[38;5;241m.\u001b[39m_format_columns,\n\u001b[1;32m    557\u001b[0m     \u001b[38;5;124m\"\u001b[39m\u001b[38;5;124moutput_all_columns\u001b[39m\u001b[38;5;124m\"\u001b[39m: \u001b[38;5;28mself\u001b[39m\u001b[38;5;241m.\u001b[39m_output_all_columns,\n\u001b[1;32m    558\u001b[0m }\n\u001b[1;32m    559\u001b[0m \u001b[38;5;66;03m# apply actual function\u001b[39;00m\n\u001b[0;32m--> 560\u001b[0m out: Union[\u001b[38;5;124m\"\u001b[39m\u001b[38;5;124mDataset\u001b[39m\u001b[38;5;124m\"\u001b[39m, \u001b[38;5;124m\"\u001b[39m\u001b[38;5;124mDatasetDict\u001b[39m\u001b[38;5;124m\"\u001b[39m] \u001b[38;5;241m=\u001b[39m func(\u001b[38;5;28mself\u001b[39m, \u001b[38;5;241m*\u001b[39margs, \u001b[38;5;241m*\u001b[39m\u001b[38;5;241m*\u001b[39mkwargs)\n\u001b[1;32m    561\u001b[0m datasets: List[\u001b[38;5;124m\"\u001b[39m\u001b[38;5;124mDataset\u001b[39m\u001b[38;5;124m\"\u001b[39m] \u001b[38;5;241m=\u001b[39m \u001b[38;5;28mlist\u001b[39m(out\u001b[38;5;241m.\u001b[39mvalues()) \u001b[38;5;28;01mif\u001b[39;00m \u001b[38;5;28misinstance\u001b[39m(out, \u001b[38;5;28mdict\u001b[39m) \u001b[38;5;28;01melse\u001b[39;00m [out]\n\u001b[1;32m    562\u001b[0m \u001b[38;5;66;03m# re-apply format to the output\u001b[39;00m\n",
      "File \u001b[0;32m/opt/conda/lib/python3.11/site-packages/datasets/arrow_dataset.py:3055\u001b[0m, in \u001b[0;36mDataset.map\u001b[0;34m(self, function, with_indices, with_rank, input_columns, batched, batch_size, drop_last_batch, remove_columns, keep_in_memory, load_from_cache_file, cache_file_name, writer_batch_size, features, disable_nullable, fn_kwargs, num_proc, suffix_template, new_fingerprint, desc)\u001b[0m\n\u001b[1;32m   3049\u001b[0m \u001b[38;5;28;01mif\u001b[39;00m transformed_dataset \u001b[38;5;129;01mis\u001b[39;00m \u001b[38;5;28;01mNone\u001b[39;00m:\n\u001b[1;32m   3050\u001b[0m     \u001b[38;5;28;01mwith\u001b[39;00m hf_tqdm(\n\u001b[1;32m   3051\u001b[0m         unit\u001b[38;5;241m=\u001b[39m\u001b[38;5;124m\"\u001b[39m\u001b[38;5;124m examples\u001b[39m\u001b[38;5;124m\"\u001b[39m,\n\u001b[1;32m   3052\u001b[0m         total\u001b[38;5;241m=\u001b[39mpbar_total,\n\u001b[1;32m   3053\u001b[0m         desc\u001b[38;5;241m=\u001b[39mdesc \u001b[38;5;129;01mor\u001b[39;00m \u001b[38;5;124m\"\u001b[39m\u001b[38;5;124mMap\u001b[39m\u001b[38;5;124m\"\u001b[39m,\n\u001b[1;32m   3054\u001b[0m     ) \u001b[38;5;28;01mas\u001b[39;00m pbar:\n\u001b[0;32m-> 3055\u001b[0m         \u001b[38;5;28;01mfor\u001b[39;00m rank, done, content \u001b[38;5;129;01min\u001b[39;00m Dataset\u001b[38;5;241m.\u001b[39m_map_single(\u001b[38;5;241m*\u001b[39m\u001b[38;5;241m*\u001b[39mdataset_kwargs):\n\u001b[1;32m   3056\u001b[0m             \u001b[38;5;28;01mif\u001b[39;00m done:\n\u001b[1;32m   3057\u001b[0m                 shards_done \u001b[38;5;241m+\u001b[39m\u001b[38;5;241m=\u001b[39m \u001b[38;5;241m1\u001b[39m\n",
      "File \u001b[0;32m/opt/conda/lib/python3.11/site-packages/datasets/arrow_dataset.py:3481\u001b[0m, in \u001b[0;36mDataset._map_single\u001b[0;34m(shard, function, with_indices, with_rank, input_columns, batched, batch_size, drop_last_batch, remove_columns, keep_in_memory, cache_file_name, writer_batch_size, features, disable_nullable, fn_kwargs, new_fingerprint, rank, offset)\u001b[0m\n\u001b[1;32m   3479\u001b[0m         writer\u001b[38;5;241m.\u001b[39mwrite_table(batch\u001b[38;5;241m.\u001b[39mto_arrow())\n\u001b[1;32m   3480\u001b[0m     \u001b[38;5;28;01melse\u001b[39;00m:\n\u001b[0;32m-> 3481\u001b[0m         writer\u001b[38;5;241m.\u001b[39mwrite_batch(batch)\n\u001b[1;32m   3482\u001b[0m num_examples_progress_update \u001b[38;5;241m+\u001b[39m\u001b[38;5;241m=\u001b[39m num_examples_in_batch\n\u001b[1;32m   3483\u001b[0m \u001b[38;5;28;01mif\u001b[39;00m time\u001b[38;5;241m.\u001b[39mtime() \u001b[38;5;241m>\u001b[39m _time \u001b[38;5;241m+\u001b[39m config\u001b[38;5;241m.\u001b[39mPBAR_REFRESH_TIME_INTERVAL:\n",
      "File \u001b[0;32m/opt/conda/lib/python3.11/site-packages/datasets/arrow_writer.py:563\u001b[0m, in \u001b[0;36mArrowWriter.write_batch\u001b[0;34m(self, batch_examples, writer_batch_size)\u001b[0m\n\u001b[1;32m    561\u001b[0m         col_try_type \u001b[38;5;241m=\u001b[39m try_features[col] \u001b[38;5;28;01mif\u001b[39;00m try_features \u001b[38;5;129;01mis\u001b[39;00m \u001b[38;5;129;01mnot\u001b[39;00m \u001b[38;5;28;01mNone\u001b[39;00m \u001b[38;5;129;01mand\u001b[39;00m col \u001b[38;5;129;01min\u001b[39;00m try_features \u001b[38;5;28;01melse\u001b[39;00m \u001b[38;5;28;01mNone\u001b[39;00m\n\u001b[1;32m    562\u001b[0m         typed_sequence \u001b[38;5;241m=\u001b[39m OptimizedTypedSequence(col_values, \u001b[38;5;28mtype\u001b[39m\u001b[38;5;241m=\u001b[39mcol_type, try_type\u001b[38;5;241m=\u001b[39mcol_try_type, col\u001b[38;5;241m=\u001b[39mcol)\n\u001b[0;32m--> 563\u001b[0m         arrays\u001b[38;5;241m.\u001b[39mappend(pa\u001b[38;5;241m.\u001b[39marray(typed_sequence))\n\u001b[1;32m    564\u001b[0m         inferred_features[col] \u001b[38;5;241m=\u001b[39m typed_sequence\u001b[38;5;241m.\u001b[39mget_inferred_type()\n\u001b[1;32m    565\u001b[0m schema \u001b[38;5;241m=\u001b[39m inferred_features\u001b[38;5;241m.\u001b[39marrow_schema \u001b[38;5;28;01mif\u001b[39;00m \u001b[38;5;28mself\u001b[39m\u001b[38;5;241m.\u001b[39mpa_writer \u001b[38;5;129;01mis\u001b[39;00m \u001b[38;5;28;01mNone\u001b[39;00m \u001b[38;5;28;01melse\u001b[39;00m \u001b[38;5;28mself\u001b[39m\u001b[38;5;241m.\u001b[39mschema\n",
      "File \u001b[0;32m/opt/conda/lib/python3.11/site-packages/pyarrow/array.pxi:250\u001b[0m, in \u001b[0;36mpyarrow.lib.array\u001b[0;34m()\u001b[0m\n",
      "File \u001b[0;32m/opt/conda/lib/python3.11/site-packages/pyarrow/array.pxi:114\u001b[0m, in \u001b[0;36mpyarrow.lib._handle_arrow_array_protocol\u001b[0;34m()\u001b[0m\n",
      "File \u001b[0;32m/opt/conda/lib/python3.11/site-packages/datasets/arrow_writer.py:203\u001b[0m, in \u001b[0;36mTypedSequence.__arrow_array__\u001b[0;34m(self, type)\u001b[0m\n\u001b[1;32m    198\u001b[0m     \u001b[38;5;66;03m# otherwise we can finally use the user's type\u001b[39;00m\n\u001b[1;32m    199\u001b[0m     \u001b[38;5;28;01melif\u001b[39;00m \u001b[38;5;28mtype\u001b[39m \u001b[38;5;129;01mis\u001b[39;00m \u001b[38;5;129;01mnot\u001b[39;00m \u001b[38;5;28;01mNone\u001b[39;00m:\n\u001b[1;32m    200\u001b[0m         \u001b[38;5;66;03m# We use cast_array_to_feature to support casting to custom types like Audio and Image\u001b[39;00m\n\u001b[1;32m    201\u001b[0m         \u001b[38;5;66;03m# Also, when trying type \"string\", we don't want to convert integers or floats to \"string\".\u001b[39;00m\n\u001b[1;32m    202\u001b[0m         \u001b[38;5;66;03m# We only do it if trying_type is False - since this is what the user asks for.\u001b[39;00m\n\u001b[0;32m--> 203\u001b[0m         out \u001b[38;5;241m=\u001b[39m cast_array_to_feature(\n\u001b[1;32m    204\u001b[0m             out, \u001b[38;5;28mtype\u001b[39m, allow_primitive_to_str\u001b[38;5;241m=\u001b[39m\u001b[38;5;129;01mnot\u001b[39;00m \u001b[38;5;28mself\u001b[39m\u001b[38;5;241m.\u001b[39mtrying_type, allow_decimal_to_str\u001b[38;5;241m=\u001b[39m\u001b[38;5;129;01mnot\u001b[39;00m \u001b[38;5;28mself\u001b[39m\u001b[38;5;241m.\u001b[39mtrying_type\n\u001b[1;32m    205\u001b[0m         )\n\u001b[1;32m    206\u001b[0m     \u001b[38;5;28;01mreturn\u001b[39;00m out\n\u001b[1;32m    207\u001b[0m \u001b[38;5;28;01mexcept\u001b[39;00m (\n\u001b[1;32m    208\u001b[0m     \u001b[38;5;167;01mTypeError\u001b[39;00m,\n\u001b[1;32m    209\u001b[0m     pa\u001b[38;5;241m.\u001b[39mlib\u001b[38;5;241m.\u001b[39mArrowInvalid,\n\u001b[1;32m    210\u001b[0m     pa\u001b[38;5;241m.\u001b[39mlib\u001b[38;5;241m.\u001b[39mArrowNotImplementedError,\n\u001b[1;32m    211\u001b[0m ) \u001b[38;5;28;01mas\u001b[39;00m e:  \u001b[38;5;66;03m# handle type errors and overflows\u001b[39;00m\n\u001b[1;32m    212\u001b[0m     \u001b[38;5;66;03m# Ignore ArrowNotImplementedError caused by trying type, otherwise re-raise\u001b[39;00m\n",
      "File \u001b[0;32m/opt/conda/lib/python3.11/site-packages/datasets/table.py:1797\u001b[0m, in \u001b[0;36m_wrap_for_chunked_arrays.<locals>.wrapper\u001b[0;34m(array, *args, **kwargs)\u001b[0m\n\u001b[1;32m   1795\u001b[0m     \u001b[38;5;28;01mreturn\u001b[39;00m pa\u001b[38;5;241m.\u001b[39mchunked_array([func(chunk, \u001b[38;5;241m*\u001b[39margs, \u001b[38;5;241m*\u001b[39m\u001b[38;5;241m*\u001b[39mkwargs) \u001b[38;5;28;01mfor\u001b[39;00m chunk \u001b[38;5;129;01min\u001b[39;00m array\u001b[38;5;241m.\u001b[39mchunks])\n\u001b[1;32m   1796\u001b[0m \u001b[38;5;28;01melse\u001b[39;00m:\n\u001b[0;32m-> 1797\u001b[0m     \u001b[38;5;28;01mreturn\u001b[39;00m func(array, \u001b[38;5;241m*\u001b[39margs, \u001b[38;5;241m*\u001b[39m\u001b[38;5;241m*\u001b[39mkwargs)\n",
      "File \u001b[0;32m/opt/conda/lib/python3.11/site-packages/datasets/table.py:1995\u001b[0m, in \u001b[0;36mcast_array_to_feature\u001b[0;34m(array, feature, allow_primitive_to_str, allow_decimal_to_str)\u001b[0m\n\u001b[1;32m   1993\u001b[0m     array \u001b[38;5;241m=\u001b[39m array\u001b[38;5;241m.\u001b[39mstorage\n\u001b[1;32m   1994\u001b[0m \u001b[38;5;28;01mif\u001b[39;00m \u001b[38;5;28mhasattr\u001b[39m(feature, \u001b[38;5;124m\"\u001b[39m\u001b[38;5;124mcast_storage\u001b[39m\u001b[38;5;124m\"\u001b[39m):\n\u001b[0;32m-> 1995\u001b[0m     \u001b[38;5;28;01mreturn\u001b[39;00m feature\u001b[38;5;241m.\u001b[39mcast_storage(array)\n\u001b[1;32m   1997\u001b[0m \u001b[38;5;28;01melif\u001b[39;00m pa\u001b[38;5;241m.\u001b[39mtypes\u001b[38;5;241m.\u001b[39mis_struct(array\u001b[38;5;241m.\u001b[39mtype):\n\u001b[1;32m   1998\u001b[0m     \u001b[38;5;66;03m# feature must be a dict or Sequence(subfeatures_dict)\u001b[39;00m\n\u001b[1;32m   1999\u001b[0m     \u001b[38;5;28;01mif\u001b[39;00m \u001b[38;5;28misinstance\u001b[39m(feature, Sequence) \u001b[38;5;129;01mand\u001b[39;00m \u001b[38;5;28misinstance\u001b[39m(feature\u001b[38;5;241m.\u001b[39mfeature, \u001b[38;5;28mdict\u001b[39m):\n",
      "File \u001b[0;32m/opt/conda/lib/python3.11/site-packages/datasets/features/audio.py:234\u001b[0m, in \u001b[0;36mAudio.cast_storage\u001b[0;34m(self, storage)\u001b[0m\n\u001b[1;32m    232\u001b[0m     storage \u001b[38;5;241m=\u001b[39m pa\u001b[38;5;241m.\u001b[39mStructArray\u001b[38;5;241m.\u001b[39mfrom_arrays([storage, path_array], [\u001b[38;5;124m\"\u001b[39m\u001b[38;5;124mbytes\u001b[39m\u001b[38;5;124m\"\u001b[39m, \u001b[38;5;124m\"\u001b[39m\u001b[38;5;124mpath\u001b[39m\u001b[38;5;124m\"\u001b[39m], mask\u001b[38;5;241m=\u001b[39mstorage\u001b[38;5;241m.\u001b[39mis_null())\n\u001b[1;32m    233\u001b[0m \u001b[38;5;28;01melif\u001b[39;00m pa\u001b[38;5;241m.\u001b[39mtypes\u001b[38;5;241m.\u001b[39mis_struct(storage\u001b[38;5;241m.\u001b[39mtype) \u001b[38;5;129;01mand\u001b[39;00m storage\u001b[38;5;241m.\u001b[39mtype\u001b[38;5;241m.\u001b[39mget_all_field_indices(\u001b[38;5;124m\"\u001b[39m\u001b[38;5;124marray\u001b[39m\u001b[38;5;124m\"\u001b[39m):\n\u001b[0;32m--> 234\u001b[0m     storage \u001b[38;5;241m=\u001b[39m pa\u001b[38;5;241m.\u001b[39marray([Audio()\u001b[38;5;241m.\u001b[39mencode_example(x) \u001b[38;5;28;01mif\u001b[39;00m x \u001b[38;5;129;01mis\u001b[39;00m \u001b[38;5;129;01mnot\u001b[39;00m \u001b[38;5;28;01mNone\u001b[39;00m \u001b[38;5;28;01melse\u001b[39;00m \u001b[38;5;28;01mNone\u001b[39;00m \u001b[38;5;28;01mfor\u001b[39;00m x \u001b[38;5;129;01min\u001b[39;00m storage\u001b[38;5;241m.\u001b[39mto_pylist()])\n\u001b[1;32m    235\u001b[0m \u001b[38;5;28;01melif\u001b[39;00m pa\u001b[38;5;241m.\u001b[39mtypes\u001b[38;5;241m.\u001b[39mis_struct(storage\u001b[38;5;241m.\u001b[39mtype):\n\u001b[1;32m    236\u001b[0m     \u001b[38;5;28;01mif\u001b[39;00m storage\u001b[38;5;241m.\u001b[39mtype\u001b[38;5;241m.\u001b[39mget_field_index(\u001b[38;5;124m\"\u001b[39m\u001b[38;5;124mbytes\u001b[39m\u001b[38;5;124m\"\u001b[39m) \u001b[38;5;241m>\u001b[39m\u001b[38;5;241m=\u001b[39m \u001b[38;5;241m0\u001b[39m:\n",
      "File \u001b[0;32m/opt/conda/lib/python3.11/site-packages/pyarrow/array.pxi:1656\u001b[0m, in \u001b[0;36mpyarrow.lib.Array.to_pylist\u001b[0;34m()\u001b[0m\n",
      "File \u001b[0;32m/opt/conda/lib/python3.11/site-packages/pyarrow/scalar.pxi:794\u001b[0m, in \u001b[0;36mpyarrow.lib.StructScalar.as_py\u001b[0;34m()\u001b[0m\n",
      "File \u001b[0;32m<frozen _collections_abc>:786\u001b[0m, in \u001b[0;36mkeys\u001b[0;34m(self)\u001b[0m\n",
      "\u001b[0;31mKeyboardInterrupt\u001b[0m: "
     ]
    }
   ],
   "source": [
    "dataset = dataset.map(\n",
    "    prepare_dataset,\n",
    "    remove_columns=dataset['train'].column_names,\n",
    "    batched=True,\n",
    "    batch_size=128\n",
    ")"
   ]
  },
  {
   "cell_type": "code",
   "execution_count": null,
   "metadata": {},
   "outputs": [],
   "source": [
    "dataset['train'].column_names"
   ]
  },
  {
   "cell_type": "code",
   "execution_count": null,
   "metadata": {},
   "outputs": [],
   "source": [
    "import random\n",
    "i = random.choice(range(len(dataset[\"train\"])))\n",
    "print(dataset[\"train\"][i][\"uni\"])\n",
    "print(dataset[\"train\"][i][\"sentence\"])\n",
    "spectrogram = torch.tensor(dataset[\"train\"][i][\"labels\"])\n",
    "with torch.no_grad():\n",
    "    speech = vocoder(spectrogram)\n",
    "display_audio(speech.cpu().numpy(), rate=16000)"
   ]
  },
  {
   "cell_type": "markdown",
   "metadata": {
    "id": "zLvJ4HRb3aCp"
   },
   "source": [
    "## Collator to make batches\n",
    "\n",
    "We need to define a custom collator to combine multiple examples into a batch. This will pad shorter sequences with padding tokens. For the spectrogram labels, the padded portions are replaced with the special value -100. This special value tells the model to ignore that part of the spectrogram when calculating the spectrogram loss.\n"
   ]
  },
  {
   "cell_type": "code",
   "execution_count": null,
   "metadata": {
    "id": "rZOX8bTe3Kq5"
   },
   "outputs": [],
   "source": [
    "from dataclasses import dataclass\n",
    "from typing import Any, Dict, List, Union\n",
    "\n",
    "@dataclass\n",
    "class TTSDataCollatorWithPadding:\n",
    "    processor: Any\n",
    "\n",
    "    def __call__(self, features: List[Dict[str, Union[List[int], torch.Tensor]]]) -> Dict[str, torch.Tensor]:\n",
    "\n",
    "        input_ids = [{\"input_ids\": feature[\"input_ids\"]} for feature in features]\n",
    "        label_features = [{\"input_values\": feature[\"labels\"]} for feature in features]\n",
    "        speaker_features = [feature[\"speaker_embeddings\"] for feature in features]\n",
    "\n",
    "        # collate the inputs and targets into a batch\n",
    "        batch = processor.pad(\n",
    "            input_ids=input_ids,\n",
    "            labels=label_features,\n",
    "            return_tensors=\"pt\",\n",
    "        )\n",
    "\n",
    "        # replace padding with -100 to ignore loss correctly\n",
    "        batch[\"labels\"] = batch[\"labels\"].masked_fill(\n",
    "            batch.decoder_attention_mask.unsqueeze(-1).ne(1), -100\n",
    "        )\n",
    "\n",
    "        # not used during fine-tuning\n",
    "        del batch[\"decoder_attention_mask\"]\n",
    "\n",
    "        # round down target lengths to multiple of reduction factor\n",
    "        if model.config.reduction_factor > 1:\n",
    "            target_lengths = torch.tensor([\n",
    "                len(feature[\"input_values\"]) for feature in label_features\n",
    "            ])\n",
    "            target_lengths = target_lengths.new([\n",
    "                length - length % model.config.reduction_factor for length in target_lengths\n",
    "            ])\n",
    "            max_length = max(target_lengths)\n",
    "            batch[\"labels\"] = batch[\"labels\"][:, :max_length]\n",
    "\n",
    "        # also add in the speaker embeddings\n",
    "        batch[\"speaker_embeddings\"] = torch.tensor(speaker_features)\n",
    "\n",
    "        return batch"
   ]
  },
  {
   "cell_type": "markdown",
   "metadata": {
    "id": "ffNanldmrlbD"
   },
   "source": [
    "In SpeechT5, the input to the decoder part of the model is reduced by a factor 2. In other words, it throws away every other timestep from the target sequence. The decoder then predicts a sequence that is twice as long. Since the original target sequence length may be odd, the data collator makes sure to round the maximum length of the batch down to be a multiple of 2."
   ]
  },
  {
   "cell_type": "code",
   "execution_count": null,
   "metadata": {},
   "outputs": [],
   "source": [
    "data_collator = TTSDataCollatorWithPadding(processor=processor)"
   ]
  },
  {
   "cell_type": "markdown",
   "metadata": {
    "id": "McZfpBzL4mRK"
   },
   "source": [
    "Let's test the data collator."
   ]
  },
  {
   "cell_type": "code",
   "execution_count": null,
   "metadata": {
    "id": "78-XVnD04ouJ"
   },
   "outputs": [],
   "source": [
    "features = [\n",
    "    dataset[\"train\"][0],\n",
    "    dataset[\"train\"][1],\n",
    "    dataset[\"train\"][20],\n",
    "]\n",
    "\n",
    "batch = data_collator(features)"
   ]
  },
  {
   "cell_type": "code",
   "execution_count": null,
   "metadata": {
    "colab": {
     "base_uri": "https://localhost:8080/"
    },
    "id": "vuWoBSpW4pY9",
    "outputId": "e62bc87a-ee6d-448a-8440-10c106df3457"
   },
   "outputs": [],
   "source": [
    "{k:v.shape for k,v in batch.items()}"
   ]
  },
  {
   "cell_type": "markdown",
   "metadata": {
    "id": "sVMpz-tpP-vw"
   },
   "source": [
    "Looks good!"
   ]
  },
  {
   "cell_type": "markdown",
   "metadata": {
    "id": "_iOqGsqq4uJv"
   },
   "source": [
    "## Training"
   ]
  },
  {
   "cell_type": "markdown",
   "metadata": {
    "id": "uQiZlXN9ICmc"
   },
   "source": [
    "It's always a good idea to upload model checkpoints directly to the [Hugging Face Hub](https://huggingface.co/) while training. To allow this, first log in to the Hub by entering your Hub authentication token:"
   ]
  },
  {
   "cell_type": "markdown",
   "metadata": {
    "id": "Et5pSY56QEFA"
   },
   "source": [
    "The `use_cache=True` option is incompatible with gradient checkpointing. Disable it for training, otherwise it keeps complaining about it."
   ]
  },
  {
   "cell_type": "code",
   "execution_count": 40,
   "metadata": {
    "id": "DmjX8QsH4vUW"
   },
   "outputs": [],
   "source": [
    "model.config.use_cache = False"
   ]
  },
  {
   "cell_type": "markdown",
   "metadata": {
    "id": "QRWLpbljIagm"
   },
   "source": [
    "Define the training arguments.\n",
    "\n",
    "We won't be computing any evaluation metrics during the training process. Instead, we'll only look at the loss. The lower the loss, the better the model.\n",
    "\n",
    "Note: If you do not want to upload the model checkpoints to the Hub, set `push_to_hub=False`."
   ]
  },
  {
   "cell_type": "code",
   "execution_count": 58,
   "metadata": {},
   "outputs": [],
   "source": [
    "models_path = data_path / \"models\" / \"exp3-poc\"\n",
    "models_path.mkdir(exist_ok=True, parents=True)\n",
    "\n",
    "model_name = \"TTS_st5_phono_20k\"\n",
    "model_path = models_path / model_name"
   ]
  },
  {
   "cell_type": "code",
   "execution_count": 59,
   "metadata": {
    "id": "2fXg9cfJ7JQT"
   },
   "outputs": [
    {
     "name": "stderr",
     "output_type": "stream",
     "text": [
      "/home/jovyan/.conda/envs/jupyter-base/lib/python3.11/site-packages/transformers/training_args.py:1559: FutureWarning: `evaluation_strategy` is deprecated and will be removed in version 4.46 of 🤗 Transformers. Use `eval_strategy` instead\n",
      "  warnings.warn(\n"
     ]
    }
   ],
   "source": [
    "from transformers import Seq2SeqTrainingArguments\n",
    "\n",
    "training_args = Seq2SeqTrainingArguments(\n",
    "    output_dir=str(model_path),\n",
    "    per_device_train_batch_size=64,\n",
    "    gradient_accumulation_steps=1,\n",
    "    num_train_epochs=30,\n",
    "    learning_rate=1e-5,\n",
    "    warmup_steps=500,\n",
    "    gradient_checkpointing=True,\n",
    "    fp16=True,\n",
    "    evaluation_strategy=\"steps\",\n",
    "    per_device_eval_batch_size=16,\n",
    "    save_steps=2000,\n",
    "    eval_steps=2000,\n",
    "    logging_steps=100,\n",
    "    save_total_limit=5,\n",
    "    report_to=[\"wandb\"],\n",
    "    label_names=[\"labels\"],\n",
    ")"
   ]
  },
  {
   "cell_type": "markdown",
   "metadata": {
    "id": "ksyDvPosI1Vg"
   },
   "source": [
    "Create the trainer object using the model, dataset, and data collator."
   ]
  },
  {
   "cell_type": "code",
   "execution_count": 60,
   "metadata": {
    "id": "ekIPeQuD7RwA"
   },
   "outputs": [
    {
     "name": "stderr",
     "output_type": "stream",
     "text": [
      "/tmp/ipykernel_56069/54815936.py:3: FutureWarning: `tokenizer` is deprecated and will be removed in version 5.0.0 for `Seq2SeqTrainer.__init__`. Use `processing_class` instead.\n",
      "  trainer = Seq2SeqTrainer(\n"
     ]
    }
   ],
   "source": [
    "from transformers import Seq2SeqTrainer\n",
    "\n",
    "trainer = Seq2SeqTrainer(\n",
    "    args=training_args,\n",
    "    model=model,\n",
    "    train_dataset=dataset[\"train\"],\n",
    "    eval_dataset=dataset[\"test\"],\n",
    "    data_collator=data_collator,\n",
    "    tokenizer=processor.tokenizer,\n",
    ")\n",
    "torch.cuda.empty_cache()"
   ]
  },
  {
   "cell_type": "markdown",
   "metadata": {
    "id": "l9OkZG-ZJAh5"
   },
   "source": [
    "And with that, we're ready to start training!\n",
    "\n",
    "Training will take several hours depending on your GPU or the one allocated to the Google Colab. Depending on your GPU, it is possible that you will encounter a CUDA \"out-of-memory\" error when you start training. In this case, you can reduce the `per_device_train_batch_size` incrementally by factors of 2 and increase `gradient_accumulation_steps` by 2x to compensate."
   ]
  },
  {
   "cell_type": "code",
   "execution_count": 61,
   "metadata": {
    "colab": {
     "base_uri": "https://localhost:8080/",
     "height": 131
    },
    "id": "87U167Vf7V5Q",
    "outputId": "2ca7f744-64ca-46be-e5f3-d956ac34a0cc"
   },
   "outputs": [
    {
     "data": {
      "text/html": [
       "\n",
       "    <div>\n",
       "      \n",
       "      <progress value='1' max='1' style='width:300px; height:20px; vertical-align: middle;'></progress>\n",
       "      [1/1 00:01, Epoch 1/1]\n",
       "    </div>\n",
       "    <table border=\"1\" class=\"dataframe\">\n",
       "  <thead>\n",
       " <tr style=\"text-align: left;\">\n",
       "      <th>Step</th>\n",
       "      <th>Training Loss</th>\n",
       "      <th>Validation Loss</th>\n",
       "    </tr>\n",
       "  </thead>\n",
       "  <tbody>\n",
       "  </tbody>\n",
       "</table><p>"
      ],
      "text/plain": [
       "<IPython.core.display.HTML object>"
      ]
     },
     "metadata": {},
     "output_type": "display_data"
    },
    {
     "data": {
      "text/plain": [
       "TrainOutput(global_step=1, training_loss=12.11713981628418, metrics={'train_runtime': 33.4971, 'train_samples_per_second': 29.853, 'train_steps_per_second': 0.03, 'total_flos': 139219410078144.0, 'train_loss': 12.11713981628418, 'epoch': 1.0})"
      ]
     },
     "execution_count": 61,
     "metadata": {},
     "output_type": "execute_result"
    }
   ],
   "source": [
    "trainer.train()"
   ]
  },
  {
   "cell_type": "markdown",
   "metadata": {
    "id": "4z3CzVGSs000"
   },
   "source": [
    "If we do one more `push_to_hub()` after training we can get a nice model card built for us. We simply have to set the appropriate keyword arguments (kwargs). You can change these values to match your dataset, language and model name accordingly:"
   ]
  },
  {
   "cell_type": "code",
   "execution_count": null,
   "metadata": {
    "id": "NpXOJAZIs2-n"
   },
   "outputs": [],
   "source": [
    "kwargs = {\n",
    "    \"dataset_tags\": \"facebook/voxpopuli\",\n",
    "    \"dataset\": \"VoxPopuli\",  # a 'pretty' name for the training dataset\n",
    "    \"dataset_args\": \"config: nl, split: train\",\n",
    "    \"language\": \"nl\",\n",
    "    \"model_name\": \"SpeechT5 TTS Dutch\",  # a 'pretty' name for your model\n",
    "    \"finetuned_from\": \"microsoft/speecht5_tts\",\n",
    "    \"tasks\": \"text-to-speech\",\n",
    "    \"tags\": \"\",\n",
    "}"
   ]
  },
  {
   "cell_type": "markdown",
   "metadata": {
    "id": "ooEluBcXs5hJ"
   },
   "source": [
    "The training results can now be uploaded to the Hub. To do so, execute the `push_to_hub` command:"
   ]
  },
  {
   "cell_type": "markdown",
   "metadata": {
    "id": "ojrUgMeEs_LP"
   },
   "source": [
    "You can now share this model with anyone using the link on the Hub."
   ]
  },
  {
   "cell_type": "code",
   "execution_count": 49,
   "metadata": {},
   "outputs": [
    {
     "data": {
      "application/vnd.jupyter.widget-view+json": {
       "model_id": "086f90ccc4b048189a4ab9a5d7b9540d",
       "version_major": 2,
       "version_minor": 0
      },
      "text/plain": [
       "pytorch_model.bin:   0%|          | 0.00/578M [00:00<?, ?B/s]"
      ]
     },
     "metadata": {},
     "output_type": "display_data"
    },
    {
     "data": {
      "text/plain": [
       "CommitInfo(commit_url='https://huggingface.co/spsitherMonlamAI/TTS_AB-all_run2/commit/ef311f60f14f98ce4fde289d924184107c21fc91', commit_message='Upload SpeechT5ForTextToSpeech', commit_description='', oid='ef311f60f14f98ce4fde289d924184107c21fc91', pr_url=None, pr_revision=None, pr_num=None)"
      ]
     },
     "execution_count": 49,
     "metadata": {},
     "output_type": "execute_result"
    }
   ],
   "source": [
    "model.push_to_hub(model_name)"
   ]
  },
  {
   "cell_type": "code",
   "execution_count": null,
   "metadata": {
    "id": "L-1ph4naugf6"
   },
   "outputs": [],
   "source": []
  }
 ],
 "metadata": {
  "accelerator": "GPU",
  "colab": {
   "provenance": []
  },
  "gpuClass": "standard",
  "kernelspec": {
   "display_name": "Python 3 (ipykernel)",
   "language": "python",
   "name": "python3"
  },
  "language_info": {
   "codemirror_mode": {
    "name": "ipython",
    "version": 3
   },
   "file_extension": ".py",
   "mimetype": "text/x-python",
   "name": "python",
   "nbconvert_exporter": "python",
   "pygments_lexer": "ipython3",
   "version": "3.11.9"
  },
  "widgets": {
   "application/vnd.jupyter.widget-state+json": {
    "003952b6386749c794bcdc0194ab261d": {
     "model_module": "@jupyter-widgets/controls",
     "model_module_version": "1.5.0",
     "model_name": "ProgressStyleModel",
     "state": {
      "_model_module": "@jupyter-widgets/controls",
      "_model_module_version": "1.5.0",
      "_model_name": "ProgressStyleModel",
      "_view_count": null,
      "_view_module": "@jupyter-widgets/base",
      "_view_module_version": "1.2.0",
      "_view_name": "StyleView",
      "bar_color": null,
      "description_width": ""
     }
    },
    "00c77e7eee56468daef0889d3d622b8e": {
     "model_module": "@jupyter-widgets/controls",
     "model_module_version": "1.5.0",
     "model_name": "DescriptionStyleModel",
     "state": {
      "_model_module": "@jupyter-widgets/controls",
      "_model_module_version": "1.5.0",
      "_model_name": "DescriptionStyleModel",
      "_view_count": null,
      "_view_module": "@jupyter-widgets/base",
      "_view_module_version": "1.2.0",
      "_view_name": "StyleView",
      "description_width": ""
     }
    },
    "0515268ed51240c19421e6d6c7703609": {
     "model_module": "@jupyter-widgets/base",
     "model_module_version": "1.2.0",
     "model_name": "LayoutModel",
     "state": {
      "_model_module": "@jupyter-widgets/base",
      "_model_module_version": "1.2.0",
      "_model_name": "LayoutModel",
      "_view_count": null,
      "_view_module": "@jupyter-widgets/base",
      "_view_module_version": "1.2.0",
      "_view_name": "LayoutView",
      "align_content": null,
      "align_items": null,
      "align_self": null,
      "border": null,
      "bottom": null,
      "display": null,
      "flex": null,
      "flex_flow": null,
      "grid_area": null,
      "grid_auto_columns": null,
      "grid_auto_flow": null,
      "grid_auto_rows": null,
      "grid_column": null,
      "grid_gap": null,
      "grid_row": null,
      "grid_template_areas": null,
      "grid_template_columns": null,
      "grid_template_rows": null,
      "height": null,
      "justify_content": null,
      "justify_items": null,
      "left": null,
      "margin": null,
      "max_height": null,
      "max_width": null,
      "min_height": null,
      "min_width": null,
      "object_fit": null,
      "object_position": null,
      "order": null,
      "overflow": null,
      "overflow_x": null,
      "overflow_y": null,
      "padding": null,
      "right": null,
      "top": null,
      "visibility": null,
      "width": null
     }
    },
    "06042be7a12e43db8022ae981df62a41": {
     "model_module": "@jupyter-widgets/controls",
     "model_module_version": "1.5.0",
     "model_name": "ProgressStyleModel",
     "state": {
      "_model_module": "@jupyter-widgets/controls",
      "_model_module_version": "1.5.0",
      "_model_name": "ProgressStyleModel",
      "_view_count": null,
      "_view_module": "@jupyter-widgets/base",
      "_view_module_version": "1.2.0",
      "_view_name": "StyleView",
      "bar_color": null,
      "description_width": ""
     }
    },
    "0637806dd4e4445faec16f65c639f586": {
     "model_module": "@jupyter-widgets/base",
     "model_module_version": "1.2.0",
     "model_name": "LayoutModel",
     "state": {
      "_model_module": "@jupyter-widgets/base",
      "_model_module_version": "1.2.0",
      "_model_name": "LayoutModel",
      "_view_count": null,
      "_view_module": "@jupyter-widgets/base",
      "_view_module_version": "1.2.0",
      "_view_name": "LayoutView",
      "align_content": null,
      "align_items": null,
      "align_self": null,
      "border": null,
      "bottom": null,
      "display": null,
      "flex": null,
      "flex_flow": null,
      "grid_area": null,
      "grid_auto_columns": null,
      "grid_auto_flow": null,
      "grid_auto_rows": null,
      "grid_column": null,
      "grid_gap": null,
      "grid_row": null,
      "grid_template_areas": null,
      "grid_template_columns": null,
      "grid_template_rows": null,
      "height": null,
      "justify_content": null,
      "justify_items": null,
      "left": null,
      "margin": null,
      "max_height": null,
      "max_width": null,
      "min_height": null,
      "min_width": null,
      "object_fit": null,
      "object_position": null,
      "order": null,
      "overflow": null,
      "overflow_x": null,
      "overflow_y": null,
      "padding": null,
      "right": null,
      "top": null,
      "visibility": null,
      "width": null
     }
    },
    "08287a06765c462a9569b524d1999fd5": {
     "model_module": "@jupyter-widgets/controls",
     "model_module_version": "1.5.0",
     "model_name": "HBoxModel",
     "state": {
      "_dom_classes": [],
      "_model_module": "@jupyter-widgets/controls",
      "_model_module_version": "1.5.0",
      "_model_name": "HBoxModel",
      "_view_count": null,
      "_view_module": "@jupyter-widgets/controls",
      "_view_module_version": "1.5.0",
      "_view_name": "HBoxView",
      "box_style": "",
      "children": [
       "IPY_MODEL_82eb95ae3df24613bb133b6fdd2bbfd0",
       "IPY_MODEL_4759130b70b340a6abd804bd5d5d731c",
       "IPY_MODEL_96cafb1e7fd6415e9cedfe8cb9c07c30"
      ],
      "layout": "IPY_MODEL_661b9da3c9cd4699b0fb5587c26fe15f"
     }
    },
    "0caece5412734537bbebdb24f5f0a178": {
     "model_module": "@jupyter-widgets/controls",
     "model_module_version": "1.5.0",
     "model_name": "DescriptionStyleModel",
     "state": {
      "_model_module": "@jupyter-widgets/controls",
      "_model_module_version": "1.5.0",
      "_model_name": "DescriptionStyleModel",
      "_view_count": null,
      "_view_module": "@jupyter-widgets/base",
      "_view_module_version": "1.2.0",
      "_view_name": "StyleView",
      "description_width": ""
     }
    },
    "0f2574affca0495997fb4607526091b8": {
     "model_module": "@jupyter-widgets/controls",
     "model_module_version": "1.5.0",
     "model_name": "ProgressStyleModel",
     "state": {
      "_model_module": "@jupyter-widgets/controls",
      "_model_module_version": "1.5.0",
      "_model_name": "ProgressStyleModel",
      "_view_count": null,
      "_view_module": "@jupyter-widgets/base",
      "_view_module_version": "1.2.0",
      "_view_name": "StyleView",
      "bar_color": null,
      "description_width": ""
     }
    },
    "0fbc521d7acd4def8fc39178b84103d0": {
     "model_module": "@jupyter-widgets/controls",
     "model_module_version": "1.5.0",
     "model_name": "DescriptionStyleModel",
     "state": {
      "_model_module": "@jupyter-widgets/controls",
      "_model_module_version": "1.5.0",
      "_model_name": "DescriptionStyleModel",
      "_view_count": null,
      "_view_module": "@jupyter-widgets/base",
      "_view_module_version": "1.2.0",
      "_view_name": "StyleView",
      "description_width": ""
     }
    },
    "10dea0f6209748d98732c7aafacd348f": {
     "model_module": "@jupyter-widgets/controls",
     "model_module_version": "1.5.0",
     "model_name": "DescriptionStyleModel",
     "state": {
      "_model_module": "@jupyter-widgets/controls",
      "_model_module_version": "1.5.0",
      "_model_name": "DescriptionStyleModel",
      "_view_count": null,
      "_view_module": "@jupyter-widgets/base",
      "_view_module_version": "1.2.0",
      "_view_name": "StyleView",
      "description_width": ""
     }
    },
    "123f117cf39c405dbd6c0050f6267e3a": {
     "model_module": "@jupyter-widgets/controls",
     "model_module_version": "1.5.0",
     "model_name": "HTMLModel",
     "state": {
      "_dom_classes": [],
      "_model_module": "@jupyter-widgets/controls",
      "_model_module_version": "1.5.0",
      "_model_name": "HTMLModel",
      "_view_count": null,
      "_view_module": "@jupyter-widgets/controls",
      "_view_module_version": "1.5.0",
      "_view_name": "HTMLView",
      "description": "",
      "description_tooltip": null,
      "layout": "IPY_MODEL_c02fb768c1d541a2aa5269a97dec07ac",
      "placeholder": "​",
      "style": "IPY_MODEL_70b9c74f2b464790b2dde20549af8c2d",
      "value": " 129k/129k [00:00&lt;00:00, 2.41MB/s]"
     }
    },
    "12dee1b077694478900d22bb6652d7b6": {
     "model_module": "@jupyter-widgets/base",
     "model_module_version": "1.2.0",
     "model_name": "LayoutModel",
     "state": {
      "_model_module": "@jupyter-widgets/base",
      "_model_module_version": "1.2.0",
      "_model_name": "LayoutModel",
      "_view_count": null,
      "_view_module": "@jupyter-widgets/base",
      "_view_module_version": "1.2.0",
      "_view_name": "LayoutView",
      "align_content": null,
      "align_items": null,
      "align_self": null,
      "border": null,
      "bottom": null,
      "display": null,
      "flex": null,
      "flex_flow": null,
      "grid_area": null,
      "grid_auto_columns": null,
      "grid_auto_flow": null,
      "grid_auto_rows": null,
      "grid_column": null,
      "grid_gap": null,
      "grid_row": null,
      "grid_template_areas": null,
      "grid_template_columns": null,
      "grid_template_rows": null,
      "height": null,
      "justify_content": null,
      "justify_items": null,
      "left": null,
      "margin": null,
      "max_height": null,
      "max_width": null,
      "min_height": null,
      "min_width": null,
      "object_fit": null,
      "object_position": null,
      "order": null,
      "overflow": null,
      "overflow_x": null,
      "overflow_y": null,
      "padding": null,
      "right": null,
      "top": null,
      "visibility": null,
      "width": null
     }
    },
    "139ee219cd7d4cba9e266f0e33373dc9": {
     "model_module": "@jupyter-widgets/controls",
     "model_module_version": "1.5.0",
     "model_name": "HTMLModel",
     "state": {
      "_dom_classes": [],
      "_model_module": "@jupyter-widgets/controls",
      "_model_module_version": "1.5.0",
      "_model_name": "HTMLModel",
      "_view_count": null,
      "_view_module": "@jupyter-widgets/controls",
      "_view_module_version": "1.5.0",
      "_view_name": "HTMLView",
      "description": "",
      "description_tooltip": null,
      "layout": "IPY_MODEL_ccf863790fe146d6a8f34d9800864d23",
      "placeholder": "​",
      "style": "IPY_MODEL_e4492949874449f395eadeb83b4798b3",
      "value": " 3.20k/3.20k [00:00&lt;00:00, 42.4kB/s]"
     }
    },
    "13d82440a198461e92a08937262eb83c": {
     "model_module": "@jupyter-widgets/controls",
     "model_module_version": "1.5.0",
     "model_name": "FloatProgressModel",
     "state": {
      "_dom_classes": [],
      "_model_module": "@jupyter-widgets/controls",
      "_model_module_version": "1.5.0",
      "_model_name": "FloatProgressModel",
      "_view_count": null,
      "_view_module": "@jupyter-widgets/controls",
      "_view_module_version": "1.5.0",
      "_view_name": "ProgressView",
      "bar_style": "success",
      "description": "",
      "description_tooltip": null,
      "layout": "IPY_MODEL_c3244a99df964d4bba0ddc5add4fb3cd",
      "max": 3201,
      "min": 0,
      "orientation": "horizontal",
      "style": "IPY_MODEL_ff8617315baa4acdae80dee2c5c797fe",
      "value": 3201
     }
    },
    "142707e828804c4f983750cf82d11b6a": {
     "model_module": "@jupyter-widgets/controls",
     "model_module_version": "1.5.0",
     "model_name": "FloatProgressModel",
     "state": {
      "_dom_classes": [],
      "_model_module": "@jupyter-widgets/controls",
      "_model_module_version": "1.5.0",
      "_model_name": "FloatProgressModel",
      "_view_count": null,
      "_view_module": "@jupyter-widgets/controls",
      "_view_module_version": "1.5.0",
      "_view_name": "ProgressView",
      "bar_style": "success",
      "description": "",
      "description_tooltip": null,
      "layout": "IPY_MODEL_817c2c6921fa4638b47ec2405579e101",
      "max": 170625,
      "min": 0,
      "orientation": "horizontal",
      "style": "IPY_MODEL_6bb9195833af4f2da71171c52df82a35",
      "value": 170625
     }
    },
    "14e00267d11d4a83960403c34dd89e8e": {
     "model_module": "@jupyter-widgets/base",
     "model_module_version": "1.2.0",
     "model_name": "LayoutModel",
     "state": {
      "_model_module": "@jupyter-widgets/base",
      "_model_module_version": "1.2.0",
      "_model_name": "LayoutModel",
      "_view_count": null,
      "_view_module": "@jupyter-widgets/base",
      "_view_module_version": "1.2.0",
      "_view_name": "LayoutView",
      "align_content": null,
      "align_items": null,
      "align_self": null,
      "border": null,
      "bottom": null,
      "display": null,
      "flex": null,
      "flex_flow": null,
      "grid_area": null,
      "grid_auto_columns": null,
      "grid_auto_flow": null,
      "grid_auto_rows": null,
      "grid_column": null,
      "grid_gap": null,
      "grid_row": null,
      "grid_template_areas": null,
      "grid_template_columns": null,
      "grid_template_rows": null,
      "height": null,
      "justify_content": null,
      "justify_items": null,
      "left": null,
      "margin": null,
      "max_height": null,
      "max_width": null,
      "min_height": null,
      "min_width": null,
      "object_fit": null,
      "object_position": null,
      "order": null,
      "overflow": null,
      "overflow_x": null,
      "overflow_y": null,
      "padding": null,
      "right": null,
      "top": null,
      "visibility": null,
      "width": null
     }
    },
    "1f77c18af66c4b7c8655c5224efbbdde": {
     "model_module": "@jupyter-widgets/controls",
     "model_module_version": "1.5.0",
     "model_name": "DescriptionStyleModel",
     "state": {
      "_model_module": "@jupyter-widgets/controls",
      "_model_module_version": "1.5.0",
      "_model_name": "DescriptionStyleModel",
      "_view_count": null,
      "_view_module": "@jupyter-widgets/base",
      "_view_module_version": "1.2.0",
      "_view_name": "StyleView",
      "description_width": ""
     }
    },
    "1fd65f2cd29d4e2289f854b22ceaacf1": {
     "model_module": "@jupyter-widgets/base",
     "model_module_version": "1.2.0",
     "model_name": "LayoutModel",
     "state": {
      "_model_module": "@jupyter-widgets/base",
      "_model_module_version": "1.2.0",
      "_model_name": "LayoutModel",
      "_view_count": null,
      "_view_module": "@jupyter-widgets/base",
      "_view_module_version": "1.2.0",
      "_view_name": "LayoutView",
      "align_content": null,
      "align_items": null,
      "align_self": null,
      "border": null,
      "bottom": null,
      "display": null,
      "flex": null,
      "flex_flow": null,
      "grid_area": null,
      "grid_auto_columns": null,
      "grid_auto_flow": null,
      "grid_auto_rows": null,
      "grid_column": null,
      "grid_gap": null,
      "grid_row": null,
      "grid_template_areas": null,
      "grid_template_columns": null,
      "grid_template_rows": null,
      "height": null,
      "justify_content": null,
      "justify_items": null,
      "left": null,
      "margin": null,
      "max_height": null,
      "max_width": null,
      "min_height": null,
      "min_width": null,
      "object_fit": null,
      "object_position": null,
      "order": null,
      "overflow": null,
      "overflow_x": null,
      "overflow_y": null,
      "padding": null,
      "right": null,
      "top": null,
      "visibility": null,
      "width": null
     }
    },
    "1ff85e5d7f394b34b1ae505720d95f0f": {
     "model_module": "@jupyter-widgets/base",
     "model_module_version": "1.2.0",
     "model_name": "LayoutModel",
     "state": {
      "_model_module": "@jupyter-widgets/base",
      "_model_module_version": "1.2.0",
      "_model_name": "LayoutModel",
      "_view_count": null,
      "_view_module": "@jupyter-widgets/base",
      "_view_module_version": "1.2.0",
      "_view_name": "LayoutView",
      "align_content": null,
      "align_items": null,
      "align_self": null,
      "border": null,
      "bottom": null,
      "display": null,
      "flex": null,
      "flex_flow": null,
      "grid_area": null,
      "grid_auto_columns": null,
      "grid_auto_flow": null,
      "grid_auto_rows": null,
      "grid_column": null,
      "grid_gap": null,
      "grid_row": null,
      "grid_template_areas": null,
      "grid_template_columns": null,
      "grid_template_rows": null,
      "height": null,
      "justify_content": null,
      "justify_items": null,
      "left": null,
      "margin": null,
      "max_height": null,
      "max_width": null,
      "min_height": null,
      "min_width": null,
      "object_fit": null,
      "object_position": null,
      "order": null,
      "overflow": null,
      "overflow_x": null,
      "overflow_y": null,
      "padding": null,
      "right": null,
      "top": null,
      "visibility": null,
      "width": null
     }
    },
    "2081028ed0cc4c51af6b15f538c43be4": {
     "model_module": "@jupyter-widgets/controls",
     "model_module_version": "1.5.0",
     "model_name": "DescriptionStyleModel",
     "state": {
      "_model_module": "@jupyter-widgets/controls",
      "_model_module_version": "1.5.0",
      "_model_name": "DescriptionStyleModel",
      "_view_count": null,
      "_view_module": "@jupyter-widgets/base",
      "_view_module_version": "1.2.0",
      "_view_name": "StyleView",
      "description_width": ""
     }
    },
    "21a9eda81a084decbc0258536dddc4d1": {
     "model_module": "@jupyter-widgets/base",
     "model_module_version": "1.2.0",
     "model_name": "LayoutModel",
     "state": {
      "_model_module": "@jupyter-widgets/base",
      "_model_module_version": "1.2.0",
      "_model_name": "LayoutModel",
      "_view_count": null,
      "_view_module": "@jupyter-widgets/base",
      "_view_module_version": "1.2.0",
      "_view_name": "LayoutView",
      "align_content": null,
      "align_items": null,
      "align_self": null,
      "border": null,
      "bottom": null,
      "display": null,
      "flex": null,
      "flex_flow": null,
      "grid_area": null,
      "grid_auto_columns": null,
      "grid_auto_flow": null,
      "grid_auto_rows": null,
      "grid_column": null,
      "grid_gap": null,
      "grid_row": null,
      "grid_template_areas": null,
      "grid_template_columns": null,
      "grid_template_rows": null,
      "height": null,
      "justify_content": null,
      "justify_items": null,
      "left": null,
      "margin": null,
      "max_height": null,
      "max_width": null,
      "min_height": null,
      "min_width": null,
      "object_fit": null,
      "object_position": null,
      "order": null,
      "overflow": null,
      "overflow_x": null,
      "overflow_y": null,
      "padding": null,
      "right": null,
      "top": null,
      "visibility": null,
      "width": null
     }
    },
    "26853f9e670244518ea1e2760bd1f53a": {
     "model_module": "@jupyter-widgets/controls",
     "model_module_version": "1.5.0",
     "model_name": "ProgressStyleModel",
     "state": {
      "_model_module": "@jupyter-widgets/controls",
      "_model_module_version": "1.5.0",
      "_model_name": "ProgressStyleModel",
      "_view_count": null,
      "_view_module": "@jupyter-widgets/base",
      "_view_module_version": "1.2.0",
      "_view_name": "StyleView",
      "bar_color": null,
      "description_width": ""
     }
    },
    "273addc7de164aef804ddd5c948cec16": {
     "model_module": "@jupyter-widgets/base",
     "model_module_version": "1.2.0",
     "model_name": "LayoutModel",
     "state": {
      "_model_module": "@jupyter-widgets/base",
      "_model_module_version": "1.2.0",
      "_model_name": "LayoutModel",
      "_view_count": null,
      "_view_module": "@jupyter-widgets/base",
      "_view_module_version": "1.2.0",
      "_view_name": "LayoutView",
      "align_content": null,
      "align_items": null,
      "align_self": null,
      "border": null,
      "bottom": null,
      "display": null,
      "flex": null,
      "flex_flow": null,
      "grid_area": null,
      "grid_auto_columns": null,
      "grid_auto_flow": null,
      "grid_auto_rows": null,
      "grid_column": null,
      "grid_gap": null,
      "grid_row": null,
      "grid_template_areas": null,
      "grid_template_columns": null,
      "grid_template_rows": null,
      "height": null,
      "justify_content": null,
      "justify_items": null,
      "left": null,
      "margin": null,
      "max_height": null,
      "max_width": null,
      "min_height": null,
      "min_width": null,
      "object_fit": null,
      "object_position": null,
      "order": null,
      "overflow": null,
      "overflow_x": null,
      "overflow_y": null,
      "padding": null,
      "right": null,
      "top": null,
      "visibility": null,
      "width": null
     }
    },
    "2898522060ea4302a17a214740bf406c": {
     "model_module": "@jupyter-widgets/controls",
     "model_module_version": "1.5.0",
     "model_name": "VBoxModel",
     "state": {
      "_dom_classes": [],
      "_model_module": "@jupyter-widgets/controls",
      "_model_module_version": "1.5.0",
      "_model_name": "VBoxModel",
      "_view_count": null,
      "_view_module": "@jupyter-widgets/controls",
      "_view_module_version": "1.5.0",
      "_view_name": "VBoxView",
      "box_style": "",
      "children": [
       "IPY_MODEL_98211a51ddf94b25a44e3177e3cdc3e7",
       "IPY_MODEL_f2525510dc984f5886bfdf3bf77432a1",
       "IPY_MODEL_6709d2a2129a49c58fd163b68c965eed",
       "IPY_MODEL_92c5dd23e34645ab8bce0c5e7b94b346",
       "IPY_MODEL_83c29aa38d644e0987853e8746f8209d"
      ],
      "layout": "IPY_MODEL_da7579dd7d8b4ad2a3ac54669e2f2e41"
     }
    },
    "28adc8d59c3a4e6da6d56a24c6dc8857": {
     "model_module": "@jupyter-widgets/controls",
     "model_module_version": "1.5.0",
     "model_name": "HBoxModel",
     "state": {
      "_dom_classes": [],
      "_model_module": "@jupyter-widgets/controls",
      "_model_module_version": "1.5.0",
      "_model_name": "HBoxModel",
      "_view_count": null,
      "_view_module": "@jupyter-widgets/controls",
      "_view_module_version": "1.5.0",
      "_view_name": "HBoxView",
      "box_style": "",
      "children": [
       "IPY_MODEL_2e04a642eb0144f59cb6c4bf40d1b2ce",
       "IPY_MODEL_89d46d64ef684b918e032471568ed5f6",
       "IPY_MODEL_123f117cf39c405dbd6c0050f6267e3a"
      ],
      "layout": "IPY_MODEL_41c9b7daf5e647279bf0e766a4cc0702"
     }
    },
    "29a3ea8fa74444ca806d895c186a9a7a": {
     "model_module": "@jupyter-widgets/base",
     "model_module_version": "1.2.0",
     "model_name": "LayoutModel",
     "state": {
      "_model_module": "@jupyter-widgets/base",
      "_model_module_version": "1.2.0",
      "_model_name": "LayoutModel",
      "_view_count": null,
      "_view_module": "@jupyter-widgets/base",
      "_view_module_version": "1.2.0",
      "_view_name": "LayoutView",
      "align_content": null,
      "align_items": null,
      "align_self": null,
      "border": null,
      "bottom": null,
      "display": null,
      "flex": null,
      "flex_flow": null,
      "grid_area": null,
      "grid_auto_columns": null,
      "grid_auto_flow": null,
      "grid_auto_rows": null,
      "grid_column": null,
      "grid_gap": null,
      "grid_row": null,
      "grid_template_areas": null,
      "grid_template_columns": null,
      "grid_template_rows": null,
      "height": null,
      "justify_content": null,
      "justify_items": null,
      "left": null,
      "margin": null,
      "max_height": null,
      "max_width": null,
      "min_height": null,
      "min_width": null,
      "object_fit": null,
      "object_position": null,
      "order": null,
      "overflow": null,
      "overflow_x": null,
      "overflow_y": null,
      "padding": null,
      "right": null,
      "top": null,
      "visibility": null,
      "width": null
     }
    },
    "2a712ddf2ce145b5ab32df662c02a026": {
     "model_module": "@jupyter-widgets/controls",
     "model_module_version": "1.5.0",
     "model_name": "HTMLModel",
     "state": {
      "_dom_classes": [],
      "_model_module": "@jupyter-widgets/controls",
      "_model_module_version": "1.5.0",
      "_model_name": "HTMLModel",
      "_view_count": null,
      "_view_module": "@jupyter-widgets/controls",
      "_view_module_version": "1.5.0",
      "_view_name": "HTMLView",
      "description": "",
      "description_tooltip": null,
      "layout": "IPY_MODEL_7980c42c458e4c2aaf3482188987a174",
      "placeholder": "​",
      "style": "IPY_MODEL_a807fbf9098d423495b19f8ab268e8e7",
      "value": "Filter: 100%"
     }
    },
    "2e04a642eb0144f59cb6c4bf40d1b2ce": {
     "model_module": "@jupyter-widgets/controls",
     "model_module_version": "1.5.0",
     "model_name": "HTMLModel",
     "state": {
      "_dom_classes": [],
      "_model_module": "@jupyter-widgets/controls",
      "_model_module_version": "1.5.0",
      "_model_name": "HTMLModel",
      "_view_count": null,
      "_view_module": "@jupyter-widgets/controls",
      "_view_module_version": "1.5.0",
      "_view_name": "HTMLView",
      "description": "",
      "description_tooltip": null,
      "layout": "IPY_MODEL_861f92d116124738aca813cf775e052a",
      "placeholder": "​",
      "style": "IPY_MODEL_5faab306bd0743039ce3a65ec1f5175d",
      "value": "Downloading (…)in/label_encoder.txt: 100%"
     }
    },
    "2e1b35961de5420e896b4d1dfbc5bd04": {
     "model_module": "@jupyter-widgets/controls",
     "model_module_version": "1.5.0",
     "model_name": "HBoxModel",
     "state": {
      "_dom_classes": [],
      "_model_module": "@jupyter-widgets/controls",
      "_model_module_version": "1.5.0",
      "_model_name": "HBoxModel",
      "_view_count": null,
      "_view_module": "@jupyter-widgets/controls",
      "_view_module_version": "1.5.0",
      "_view_name": "HBoxView",
      "box_style": "",
      "children": [
       "IPY_MODEL_46f8093e3bfa457582d88dc672a58dba",
       "IPY_MODEL_13d82440a198461e92a08937262eb83c",
       "IPY_MODEL_139ee219cd7d4cba9e266f0e33373dc9"
      ],
      "layout": "IPY_MODEL_747201aebf8542749a8137dc8feac726"
     }
    },
    "2fe1e02ded124a9c95038a7843fb14b1": {
     "model_module": "@jupyter-widgets/controls",
     "model_module_version": "1.5.0",
     "model_name": "ProgressStyleModel",
     "state": {
      "_model_module": "@jupyter-widgets/controls",
      "_model_module_version": "1.5.0",
      "_model_name": "ProgressStyleModel",
      "_view_count": null,
      "_view_module": "@jupyter-widgets/base",
      "_view_module_version": "1.2.0",
      "_view_name": "StyleView",
      "bar_color": null,
      "description_width": ""
     }
    },
    "315a9f82155946d09cfc0c58e290cb95": {
     "model_module": "@jupyter-widgets/controls",
     "model_module_version": "1.5.0",
     "model_name": "DescriptionStyleModel",
     "state": {
      "_model_module": "@jupyter-widgets/controls",
      "_model_module_version": "1.5.0",
      "_model_name": "DescriptionStyleModel",
      "_view_count": null,
      "_view_module": "@jupyter-widgets/base",
      "_view_module_version": "1.2.0",
      "_view_name": "StyleView",
      "description_width": ""
     }
    },
    "31f843802662472a94d3c682a2bd74a8": {
     "model_module": "@jupyter-widgets/base",
     "model_module_version": "1.2.0",
     "model_name": "LayoutModel",
     "state": {
      "_model_module": "@jupyter-widgets/base",
      "_model_module_version": "1.2.0",
      "_model_name": "LayoutModel",
      "_view_count": null,
      "_view_module": "@jupyter-widgets/base",
      "_view_module_version": "1.2.0",
      "_view_name": "LayoutView",
      "align_content": null,
      "align_items": null,
      "align_self": null,
      "border": null,
      "bottom": null,
      "display": null,
      "flex": null,
      "flex_flow": null,
      "grid_area": null,
      "grid_auto_columns": null,
      "grid_auto_flow": null,
      "grid_auto_rows": null,
      "grid_column": null,
      "grid_gap": null,
      "grid_row": null,
      "grid_template_areas": null,
      "grid_template_columns": null,
      "grid_template_rows": null,
      "height": null,
      "justify_content": null,
      "justify_items": null,
      "left": null,
      "margin": null,
      "max_height": null,
      "max_width": null,
      "min_height": null,
      "min_width": null,
      "object_fit": null,
      "object_position": null,
      "order": null,
      "overflow": null,
      "overflow_x": null,
      "overflow_y": null,
      "padding": null,
      "right": null,
      "top": null,
      "visibility": null,
      "width": null
     }
    },
    "32bdf88db54741a6b0b237b8f1451197": {
     "model_module": "@jupyter-widgets/controls",
     "model_module_version": "1.5.0",
     "model_name": "HBoxModel",
     "state": {
      "_dom_classes": [],
      "_model_module": "@jupyter-widgets/controls",
      "_model_module_version": "1.5.0",
      "_model_name": "HBoxModel",
      "_view_count": null,
      "_view_module": "@jupyter-widgets/controls",
      "_view_module_version": "1.5.0",
      "_view_name": "HBoxView",
      "box_style": "",
      "children": [
       "IPY_MODEL_de8c5d1729b94579b4b79acfdb071a97",
       "IPY_MODEL_efbc205388f34c6f87750948e1380436",
       "IPY_MODEL_b98dc41fbd1f4a40bec527dfacbc737a"
      ],
      "layout": "IPY_MODEL_a705250a4195470c988f19f6514849bd"
     }
    },
    "36a4dee1c8f24a2dab5c0d70324fd687": {
     "model_module": "@jupyter-widgets/controls",
     "model_module_version": "1.5.0",
     "model_name": "HTMLModel",
     "state": {
      "_dom_classes": [],
      "_model_module": "@jupyter-widgets/controls",
      "_model_module_version": "1.5.0",
      "_model_name": "HTMLModel",
      "_view_count": null,
      "_view_module": "@jupyter-widgets/controls",
      "_view_module_version": "1.5.0",
      "_view_name": "HTMLView",
      "description": "",
      "description_tooltip": null,
      "layout": "IPY_MODEL_564e8f5a3ee64332a984c0cb3f921405",
      "placeholder": "​",
      "style": "IPY_MODEL_4ec498ff8c22458b88fc923325b43832",
      "value": "Downloading embedding_model.ckpt: 100%"
     }
    },
    "37e1802f96f1438e98130dd5878e1078": {
     "model_module": "@jupyter-widgets/controls",
     "model_module_version": "1.5.0",
     "model_name": "ProgressStyleModel",
     "state": {
      "_model_module": "@jupyter-widgets/controls",
      "_model_module_version": "1.5.0",
      "_model_name": "ProgressStyleModel",
      "_view_count": null,
      "_view_module": "@jupyter-widgets/base",
      "_view_module_version": "1.2.0",
      "_view_name": "StyleView",
      "bar_color": null,
      "description_width": ""
     }
    },
    "3ab229dc47e64c98952fd72022219b05": {
     "model_module": "@jupyter-widgets/base",
     "model_module_version": "1.2.0",
     "model_name": "LayoutModel",
     "state": {
      "_model_module": "@jupyter-widgets/base",
      "_model_module_version": "1.2.0",
      "_model_name": "LayoutModel",
      "_view_count": null,
      "_view_module": "@jupyter-widgets/base",
      "_view_module_version": "1.2.0",
      "_view_name": "LayoutView",
      "align_content": null,
      "align_items": null,
      "align_self": null,
      "border": null,
      "bottom": null,
      "display": null,
      "flex": null,
      "flex_flow": null,
      "grid_area": null,
      "grid_auto_columns": null,
      "grid_auto_flow": null,
      "grid_auto_rows": null,
      "grid_column": null,
      "grid_gap": null,
      "grid_row": null,
      "grid_template_areas": null,
      "grid_template_columns": null,
      "grid_template_rows": null,
      "height": null,
      "justify_content": null,
      "justify_items": null,
      "left": null,
      "margin": null,
      "max_height": null,
      "max_width": null,
      "min_height": null,
      "min_width": null,
      "object_fit": null,
      "object_position": null,
      "order": null,
      "overflow": null,
      "overflow_x": null,
      "overflow_y": null,
      "padding": null,
      "right": null,
      "top": null,
      "visibility": null,
      "width": null
     }
    },
    "3c38b35c28d646c6b71fb8f48d549abd": {
     "model_module": "@jupyter-widgets/controls",
     "model_module_version": "1.5.0",
     "model_name": "HTMLModel",
     "state": {
      "_dom_classes": [],
      "_model_module": "@jupyter-widgets/controls",
      "_model_module_version": "1.5.0",
      "_model_name": "HTMLModel",
      "_view_count": null,
      "_view_module": "@jupyter-widgets/controls",
      "_view_module_version": "1.5.0",
      "_view_name": "HTMLView",
      "description": "",
      "description_tooltip": null,
      "layout": "IPY_MODEL_74f14d8ae33e499eaa4c1e1430cb0a66",
      "placeholder": "​",
      "style": "IPY_MODEL_de9fe45872e647b483a4480d9e247a41",
      "value": "Map: 100%"
     }
    },
    "3d0e5e0e07044f25a4fe8f2a00062a26": {
     "model_module": "@jupyter-widgets/base",
     "model_module_version": "1.2.0",
     "model_name": "LayoutModel",
     "state": {
      "_model_module": "@jupyter-widgets/base",
      "_model_module_version": "1.2.0",
      "_model_name": "LayoutModel",
      "_view_count": null,
      "_view_module": "@jupyter-widgets/base",
      "_view_module_version": "1.2.0",
      "_view_name": "LayoutView",
      "align_content": null,
      "align_items": null,
      "align_self": null,
      "border": null,
      "bottom": null,
      "display": null,
      "flex": null,
      "flex_flow": null,
      "grid_area": null,
      "grid_auto_columns": null,
      "grid_auto_flow": null,
      "grid_auto_rows": null,
      "grid_column": null,
      "grid_gap": null,
      "grid_row": null,
      "grid_template_areas": null,
      "grid_template_columns": null,
      "grid_template_rows": null,
      "height": null,
      "justify_content": null,
      "justify_items": null,
      "left": null,
      "margin": null,
      "max_height": null,
      "max_width": null,
      "min_height": null,
      "min_width": null,
      "object_fit": null,
      "object_position": null,
      "order": null,
      "overflow": null,
      "overflow_x": null,
      "overflow_y": null,
      "padding": null,
      "right": null,
      "top": null,
      "visibility": null,
      "width": null
     }
    },
    "3ee31d4a090f4428a28c63b940e9f4b2": {
     "model_module": "@jupyter-widgets/base",
     "model_module_version": "1.2.0",
     "model_name": "LayoutModel",
     "state": {
      "_model_module": "@jupyter-widgets/base",
      "_model_module_version": "1.2.0",
      "_model_name": "LayoutModel",
      "_view_count": null,
      "_view_module": "@jupyter-widgets/base",
      "_view_module_version": "1.2.0",
      "_view_name": "LayoutView",
      "align_content": null,
      "align_items": null,
      "align_self": null,
      "border": null,
      "bottom": null,
      "display": null,
      "flex": null,
      "flex_flow": null,
      "grid_area": null,
      "grid_auto_columns": null,
      "grid_auto_flow": null,
      "grid_auto_rows": null,
      "grid_column": null,
      "grid_gap": null,
      "grid_row": null,
      "grid_template_areas": null,
      "grid_template_columns": null,
      "grid_template_rows": null,
      "height": null,
      "justify_content": null,
      "justify_items": null,
      "left": null,
      "margin": null,
      "max_height": null,
      "max_width": null,
      "min_height": null,
      "min_width": null,
      "object_fit": null,
      "object_position": null,
      "order": null,
      "overflow": null,
      "overflow_x": null,
      "overflow_y": null,
      "padding": null,
      "right": null,
      "top": null,
      "visibility": null,
      "width": null
     }
    },
    "3fa69385ce1f40a58f6c4059474887b5": {
     "model_module": "@jupyter-widgets/base",
     "model_module_version": "1.2.0",
     "model_name": "LayoutModel",
     "state": {
      "_model_module": "@jupyter-widgets/base",
      "_model_module_version": "1.2.0",
      "_model_name": "LayoutModel",
      "_view_count": null,
      "_view_module": "@jupyter-widgets/base",
      "_view_module_version": "1.2.0",
      "_view_name": "LayoutView",
      "align_content": null,
      "align_items": null,
      "align_self": null,
      "border": null,
      "bottom": null,
      "display": null,
      "flex": null,
      "flex_flow": null,
      "grid_area": null,
      "grid_auto_columns": null,
      "grid_auto_flow": null,
      "grid_auto_rows": null,
      "grid_column": null,
      "grid_gap": null,
      "grid_row": null,
      "grid_template_areas": null,
      "grid_template_columns": null,
      "grid_template_rows": null,
      "height": null,
      "justify_content": null,
      "justify_items": null,
      "left": null,
      "margin": null,
      "max_height": null,
      "max_width": null,
      "min_height": null,
      "min_width": null,
      "object_fit": null,
      "object_position": null,
      "order": null,
      "overflow": null,
      "overflow_x": null,
      "overflow_y": null,
      "padding": null,
      "right": null,
      "top": null,
      "visibility": null,
      "width": null
     }
    },
    "3fe0a7bc778641d9a3168e47b3a06092": {
     "model_module": "@jupyter-widgets/controls",
     "model_module_version": "1.5.0",
     "model_name": "DescriptionStyleModel",
     "state": {
      "_model_module": "@jupyter-widgets/controls",
      "_model_module_version": "1.5.0",
      "_model_name": "DescriptionStyleModel",
      "_view_count": null,
      "_view_module": "@jupyter-widgets/base",
      "_view_module_version": "1.2.0",
      "_view_name": "StyleView",
      "description_width": ""
     }
    },
    "4082fff487314aad86385798615e2a4e": {
     "model_module": "@jupyter-widgets/base",
     "model_module_version": "1.2.0",
     "model_name": "LayoutModel",
     "state": {
      "_model_module": "@jupyter-widgets/base",
      "_model_module_version": "1.2.0",
      "_model_name": "LayoutModel",
      "_view_count": null,
      "_view_module": "@jupyter-widgets/base",
      "_view_module_version": "1.2.0",
      "_view_name": "LayoutView",
      "align_content": null,
      "align_items": null,
      "align_self": null,
      "border": null,
      "bottom": null,
      "display": null,
      "flex": null,
      "flex_flow": null,
      "grid_area": null,
      "grid_auto_columns": null,
      "grid_auto_flow": null,
      "grid_auto_rows": null,
      "grid_column": null,
      "grid_gap": null,
      "grid_row": null,
      "grid_template_areas": null,
      "grid_template_columns": null,
      "grid_template_rows": null,
      "height": null,
      "justify_content": null,
      "justify_items": null,
      "left": null,
      "margin": null,
      "max_height": null,
      "max_width": null,
      "min_height": null,
      "min_width": null,
      "object_fit": null,
      "object_position": null,
      "order": null,
      "overflow": null,
      "overflow_x": null,
      "overflow_y": null,
      "padding": null,
      "right": null,
      "top": null,
      "visibility": null,
      "width": null
     }
    },
    "40eccaace52b4f0ca8a9b846060dcf15": {
     "model_module": "@jupyter-widgets/base",
     "model_module_version": "1.2.0",
     "model_name": "LayoutModel",
     "state": {
      "_model_module": "@jupyter-widgets/base",
      "_model_module_version": "1.2.0",
      "_model_name": "LayoutModel",
      "_view_count": null,
      "_view_module": "@jupyter-widgets/base",
      "_view_module_version": "1.2.0",
      "_view_name": "LayoutView",
      "align_content": null,
      "align_items": null,
      "align_self": null,
      "border": null,
      "bottom": null,
      "display": null,
      "flex": null,
      "flex_flow": null,
      "grid_area": null,
      "grid_auto_columns": null,
      "grid_auto_flow": null,
      "grid_auto_rows": null,
      "grid_column": null,
      "grid_gap": null,
      "grid_row": null,
      "grid_template_areas": null,
      "grid_template_columns": null,
      "grid_template_rows": null,
      "height": null,
      "justify_content": null,
      "justify_items": null,
      "left": null,
      "margin": null,
      "max_height": null,
      "max_width": null,
      "min_height": null,
      "min_width": null,
      "object_fit": null,
      "object_position": null,
      "order": null,
      "overflow": null,
      "overflow_x": null,
      "overflow_y": null,
      "padding": null,
      "right": null,
      "top": null,
      "visibility": null,
      "width": null
     }
    },
    "41c9b7daf5e647279bf0e766a4cc0702": {
     "model_module": "@jupyter-widgets/base",
     "model_module_version": "1.2.0",
     "model_name": "LayoutModel",
     "state": {
      "_model_module": "@jupyter-widgets/base",
      "_model_module_version": "1.2.0",
      "_model_name": "LayoutModel",
      "_view_count": null,
      "_view_module": "@jupyter-widgets/base",
      "_view_module_version": "1.2.0",
      "_view_name": "LayoutView",
      "align_content": null,
      "align_items": null,
      "align_self": null,
      "border": null,
      "bottom": null,
      "display": null,
      "flex": null,
      "flex_flow": null,
      "grid_area": null,
      "grid_auto_columns": null,
      "grid_auto_flow": null,
      "grid_auto_rows": null,
      "grid_column": null,
      "grid_gap": null,
      "grid_row": null,
      "grid_template_areas": null,
      "grid_template_columns": null,
      "grid_template_rows": null,
      "height": null,
      "justify_content": null,
      "justify_items": null,
      "left": null,
      "margin": null,
      "max_height": null,
      "max_width": null,
      "min_height": null,
      "min_width": null,
      "object_fit": null,
      "object_position": null,
      "order": null,
      "overflow": null,
      "overflow_x": null,
      "overflow_y": null,
      "padding": null,
      "right": null,
      "top": null,
      "visibility": null,
      "width": null
     }
    },
    "426640aec3574c95a652f945e16c45a4": {
     "model_module": "@jupyter-widgets/controls",
     "model_module_version": "1.5.0",
     "model_name": "HTMLModel",
     "state": {
      "_dom_classes": [],
      "_model_module": "@jupyter-widgets/controls",
      "_model_module_version": "1.5.0",
      "_model_name": "HTMLModel",
      "_view_count": null,
      "_view_module": "@jupyter-widgets/controls",
      "_view_module_version": "1.5.0",
      "_view_name": "HTMLView",
      "description": "",
      "description_tooltip": null,
      "layout": "IPY_MODEL_8ebc38668f9c469bac7317b92c2407e6",
      "placeholder": "​",
      "style": "IPY_MODEL_e98503c6db424b96bb996e4fbb7b8a2a",
      "value": " 2.11k/2.11k [00:00&lt;00:00, 36.8kB/s]"
     }
    },
    "45a532352b6243d989e10d9f920813ee": {
     "model_module": "@jupyter-widgets/controls",
     "model_module_version": "1.5.0",
     "model_name": "FloatProgressModel",
     "state": {
      "_dom_classes": [],
      "_model_module": "@jupyter-widgets/controls",
      "_model_module_version": "1.5.0",
      "_model_name": "FloatProgressModel",
      "_view_count": null,
      "_view_module": "@jupyter-widgets/controls",
      "_view_module_version": "1.5.0",
      "_view_name": "ProgressView",
      "bar_style": "success",
      "description": "",
      "description_tooltip": null,
      "layout": "IPY_MODEL_3d0e5e0e07044f25a4fe8f2a00062a26",
      "max": 2041,
      "min": 0,
      "orientation": "horizontal",
      "style": "IPY_MODEL_2fe1e02ded124a9c95038a7843fb14b1",
      "value": 2041
     }
    },
    "46f8093e3bfa457582d88dc672a58dba": {
     "model_module": "@jupyter-widgets/controls",
     "model_module_version": "1.5.0",
     "model_name": "HTMLModel",
     "state": {
      "_dom_classes": [],
      "_model_module": "@jupyter-widgets/controls",
      "_model_module_version": "1.5.0",
      "_model_name": "HTMLModel",
      "_view_count": null,
      "_view_module": "@jupyter-widgets/controls",
      "_view_module_version": "1.5.0",
      "_view_name": "HTMLView",
      "description": "",
      "description_tooltip": null,
      "layout": "IPY_MODEL_a09e44abddc74ed7845ffe1ff559b933",
      "placeholder": "​",
      "style": "IPY_MODEL_d588c7dd53c145ac96d772a6af055101",
      "value": "Downloading mean_var_norm_emb.ckpt: 100%"
     }
    },
    "4759130b70b340a6abd804bd5d5d731c": {
     "model_module": "@jupyter-widgets/controls",
     "model_module_version": "1.5.0",
     "model_name": "FloatProgressModel",
     "state": {
      "_dom_classes": [],
      "_model_module": "@jupyter-widgets/controls",
      "_model_module_version": "1.5.0",
      "_model_name": "FloatProgressModel",
      "_view_count": null,
      "_view_module": "@jupyter-widgets/controls",
      "_view_module_version": "1.5.0",
      "_view_name": "ProgressView",
      "bar_style": "success",
      "description": "",
      "description_tooltip": null,
      "layout": "IPY_MODEL_a8a6f45d78504d4ab75d3dbf47955ba8",
      "max": 50672453,
      "min": 0,
      "orientation": "horizontal",
      "style": "IPY_MODEL_be9c32a86ea442298fad57c5e2589339",
      "value": 50672453
     }
    },
    "47943abd7e914f829e11d3820cc8ca3e": {
     "model_module": "@jupyter-widgets/controls",
     "model_module_version": "1.5.0",
     "model_name": "HTMLModel",
     "state": {
      "_dom_classes": [],
      "_model_module": "@jupyter-widgets/controls",
      "_model_module_version": "1.5.0",
      "_model_name": "HTMLModel",
      "_view_count": null,
      "_view_module": "@jupyter-widgets/controls",
      "_view_module_version": "1.5.0",
      "_view_name": "HTMLView",
      "description": "",
      "description_tooltip": null,
      "layout": "IPY_MODEL_f2f958cdcf5a41e392e0cd92b8da52f1",
      "placeholder": "​",
      "style": "IPY_MODEL_73d695248c6143c19f976569d587b1d6",
      "value": "Downloading (…)lve/main/config.json: 100%"
     }
    },
    "488330af09c84e7ab7a3f0d7fb133c5d": {
     "model_module": "@jupyter-widgets/controls",
     "model_module_version": "1.5.0",
     "model_name": "HTMLModel",
     "state": {
      "_dom_classes": [],
      "_model_module": "@jupyter-widgets/controls",
      "_model_module_version": "1.5.0",
      "_model_name": "HTMLModel",
      "_view_count": null,
      "_view_module": "@jupyter-widgets/controls",
      "_view_module_version": "1.5.0",
      "_view_name": "HTMLView",
      "description": "",
      "description_tooltip": null,
      "layout": "IPY_MODEL_b2952eb34cc24218b3e6cd01b1c3f88a",
      "placeholder": "​",
      "style": "IPY_MODEL_fff57be8afee4ea2a0482612b5f75ca1",
      "value": "Downloading (…)ain/hyperparams.yaml: 100%"
     }
    },
    "49ed3dfdc837403b8741061d0659102c": {
     "model_module": "@jupyter-widgets/controls",
     "model_module_version": "1.5.0",
     "model_name": "HBoxModel",
     "state": {
      "_dom_classes": [],
      "_model_module": "@jupyter-widgets/controls",
      "_model_module_version": "1.5.0",
      "_model_name": "HBoxModel",
      "_view_count": null,
      "_view_module": "@jupyter-widgets/controls",
      "_view_module_version": "1.5.0",
      "_view_name": "HBoxView",
      "box_style": "",
      "children": [
       "IPY_MODEL_488330af09c84e7ab7a3f0d7fb133c5d",
       "IPY_MODEL_45a532352b6243d989e10d9f920813ee",
       "IPY_MODEL_6df9ec75e27f4efba503bbfdccabe6a6"
      ],
      "layout": "IPY_MODEL_273addc7de164aef804ddd5c948cec16"
     }
    },
    "4c85d484e3df4ab6894b56cb244d8898": {
     "model_module": "@jupyter-widgets/controls",
     "model_module_version": "1.5.0",
     "model_name": "ProgressStyleModel",
     "state": {
      "_model_module": "@jupyter-widgets/controls",
      "_model_module_version": "1.5.0",
      "_model_name": "ProgressStyleModel",
      "_view_count": null,
      "_view_module": "@jupyter-widgets/base",
      "_view_module_version": "1.2.0",
      "_view_name": "StyleView",
      "bar_color": null,
      "description_width": ""
     }
    },
    "4df6e08ddc9a481da160fa9fa56ceac4": {
     "model_module": "@jupyter-widgets/controls",
     "model_module_version": "1.5.0",
     "model_name": "ProgressStyleModel",
     "state": {
      "_model_module": "@jupyter-widgets/controls",
      "_model_module_version": "1.5.0",
      "_model_name": "ProgressStyleModel",
      "_view_count": null,
      "_view_module": "@jupyter-widgets/base",
      "_view_module_version": "1.2.0",
      "_view_name": "StyleView",
      "bar_color": null,
      "description_width": ""
     }
    },
    "4ec498ff8c22458b88fc923325b43832": {
     "model_module": "@jupyter-widgets/controls",
     "model_module_version": "1.5.0",
     "model_name": "DescriptionStyleModel",
     "state": {
      "_model_module": "@jupyter-widgets/controls",
      "_model_module_version": "1.5.0",
      "_model_name": "DescriptionStyleModel",
      "_view_count": null,
      "_view_module": "@jupyter-widgets/base",
      "_view_module_version": "1.2.0",
      "_view_name": "StyleView",
      "description_width": ""
     }
    },
    "515dc8f010da4162accf8cc3890358cf": {
     "model_module": "@jupyter-widgets/base",
     "model_module_version": "1.2.0",
     "model_name": "LayoutModel",
     "state": {
      "_model_module": "@jupyter-widgets/base",
      "_model_module_version": "1.2.0",
      "_model_name": "LayoutModel",
      "_view_count": null,
      "_view_module": "@jupyter-widgets/base",
      "_view_module_version": "1.2.0",
      "_view_name": "LayoutView",
      "align_content": null,
      "align_items": null,
      "align_self": null,
      "border": null,
      "bottom": null,
      "display": null,
      "flex": null,
      "flex_flow": null,
      "grid_area": null,
      "grid_auto_columns": null,
      "grid_auto_flow": null,
      "grid_auto_rows": null,
      "grid_column": null,
      "grid_gap": null,
      "grid_row": null,
      "grid_template_areas": null,
      "grid_template_columns": null,
      "grid_template_rows": null,
      "height": null,
      "justify_content": null,
      "justify_items": null,
      "left": null,
      "margin": null,
      "max_height": null,
      "max_width": null,
      "min_height": null,
      "min_width": null,
      "object_fit": null,
      "object_position": null,
      "order": null,
      "overflow": null,
      "overflow_x": null,
      "overflow_y": null,
      "padding": null,
      "right": null,
      "top": null,
      "visibility": null,
      "width": null
     }
    },
    "53c078a47fae41418cc21a80793c0fef": {
     "model_module": "@jupyter-widgets/controls",
     "model_module_version": "1.5.0",
     "model_name": "ProgressStyleModel",
     "state": {
      "_model_module": "@jupyter-widgets/controls",
      "_model_module_version": "1.5.0",
      "_model_name": "ProgressStyleModel",
      "_view_count": null,
      "_view_module": "@jupyter-widgets/base",
      "_view_module_version": "1.2.0",
      "_view_name": "StyleView",
      "bar_color": null,
      "description_width": ""
     }
    },
    "547ef7f99cc74ac983ce49aed6aca673": {
     "model_module": "@jupyter-widgets/base",
     "model_module_version": "1.2.0",
     "model_name": "LayoutModel",
     "state": {
      "_model_module": "@jupyter-widgets/base",
      "_model_module_version": "1.2.0",
      "_model_name": "LayoutModel",
      "_view_count": null,
      "_view_module": "@jupyter-widgets/base",
      "_view_module_version": "1.2.0",
      "_view_name": "LayoutView",
      "align_content": null,
      "align_items": null,
      "align_self": null,
      "border": null,
      "bottom": null,
      "display": null,
      "flex": null,
      "flex_flow": null,
      "grid_area": null,
      "grid_auto_columns": null,
      "grid_auto_flow": null,
      "grid_auto_rows": null,
      "grid_column": null,
      "grid_gap": null,
      "grid_row": null,
      "grid_template_areas": null,
      "grid_template_columns": null,
      "grid_template_rows": null,
      "height": null,
      "justify_content": null,
      "justify_items": null,
      "left": null,
      "margin": null,
      "max_height": null,
      "max_width": null,
      "min_height": null,
      "min_width": null,
      "object_fit": null,
      "object_position": null,
      "order": null,
      "overflow": null,
      "overflow_x": null,
      "overflow_y": null,
      "padding": null,
      "right": null,
      "top": null,
      "visibility": null,
      "width": null
     }
    },
    "54b66c1a49174d5382e0272483866176": {
     "model_module": "@jupyter-widgets/base",
     "model_module_version": "1.2.0",
     "model_name": "LayoutModel",
     "state": {
      "_model_module": "@jupyter-widgets/base",
      "_model_module_version": "1.2.0",
      "_model_name": "LayoutModel",
      "_view_count": null,
      "_view_module": "@jupyter-widgets/base",
      "_view_module_version": "1.2.0",
      "_view_name": "LayoutView",
      "align_content": null,
      "align_items": null,
      "align_self": null,
      "border": null,
      "bottom": null,
      "display": null,
      "flex": null,
      "flex_flow": null,
      "grid_area": null,
      "grid_auto_columns": null,
      "grid_auto_flow": null,
      "grid_auto_rows": null,
      "grid_column": null,
      "grid_gap": null,
      "grid_row": null,
      "grid_template_areas": null,
      "grid_template_columns": null,
      "grid_template_rows": null,
      "height": null,
      "justify_content": null,
      "justify_items": null,
      "left": null,
      "margin": null,
      "max_height": null,
      "max_width": null,
      "min_height": null,
      "min_width": null,
      "object_fit": null,
      "object_position": null,
      "order": null,
      "overflow": null,
      "overflow_x": null,
      "overflow_y": null,
      "padding": null,
      "right": null,
      "top": null,
      "visibility": null,
      "width": null
     }
    },
    "54c5972e82154abbbb6b0cbda3c2227b": {
     "model_module": "@jupyter-widgets/controls",
     "model_module_version": "1.5.0",
     "model_name": "HTMLModel",
     "state": {
      "_dom_classes": [],
      "_model_module": "@jupyter-widgets/controls",
      "_model_module_version": "1.5.0",
      "_model_name": "HTMLModel",
      "_view_count": null,
      "_view_module": "@jupyter-widgets/controls",
      "_view_module_version": "1.5.0",
      "_view_name": "HTMLView",
      "description": "",
      "description_tooltip": null,
      "layout": "IPY_MODEL_1fd65f2cd29d4e2289f854b22ceaacf1",
      "placeholder": "​",
      "style": "IPY_MODEL_65a42048862c4c9985d5117eb3a98bec",
      "value": " 16.9M/16.9M [00:00&lt;00:00, 69.1MB/s]"
     }
    },
    "564e8f5a3ee64332a984c0cb3f921405": {
     "model_module": "@jupyter-widgets/base",
     "model_module_version": "1.2.0",
     "model_name": "LayoutModel",
     "state": {
      "_model_module": "@jupyter-widgets/base",
      "_model_module_version": "1.2.0",
      "_model_name": "LayoutModel",
      "_view_count": null,
      "_view_module": "@jupyter-widgets/base",
      "_view_module_version": "1.2.0",
      "_view_name": "LayoutView",
      "align_content": null,
      "align_items": null,
      "align_self": null,
      "border": null,
      "bottom": null,
      "display": null,
      "flex": null,
      "flex_flow": null,
      "grid_area": null,
      "grid_auto_columns": null,
      "grid_auto_flow": null,
      "grid_auto_rows": null,
      "grid_column": null,
      "grid_gap": null,
      "grid_row": null,
      "grid_template_areas": null,
      "grid_template_columns": null,
      "grid_template_rows": null,
      "height": null,
      "justify_content": null,
      "justify_items": null,
      "left": null,
      "margin": null,
      "max_height": null,
      "max_width": null,
      "min_height": null,
      "min_width": null,
      "object_fit": null,
      "object_position": null,
      "order": null,
      "overflow": null,
      "overflow_x": null,
      "overflow_y": null,
      "padding": null,
      "right": null,
      "top": null,
      "visibility": null,
      "width": null
     }
    },
    "584b82b74f3e478fae033692e403c0be": {
     "model_module": "@jupyter-widgets/controls",
     "model_module_version": "1.5.0",
     "model_name": "HBoxModel",
     "state": {
      "_dom_classes": [],
      "_model_module": "@jupyter-widgets/controls",
      "_model_module_version": "1.5.0",
      "_model_name": "HBoxModel",
      "_view_count": null,
      "_view_module": "@jupyter-widgets/controls",
      "_view_module_version": "1.5.0",
      "_view_name": "HBoxView",
      "box_style": "",
      "children": [
       "IPY_MODEL_3c38b35c28d646c6b71fb8f48d549abd",
       "IPY_MODEL_7dc214351a4243a2934af2ead533cc0e",
       "IPY_MODEL_6f97301cb71a4b22801ae2da3bb1a459"
      ],
      "layout": "IPY_MODEL_7625e09f50484f5998c7171513962eaf"
     }
    },
    "5854ee4e1a224964b90364231547ecf8": {
     "model_module": "@jupyter-widgets/base",
     "model_module_version": "1.2.0",
     "model_name": "LayoutModel",
     "state": {
      "_model_module": "@jupyter-widgets/base",
      "_model_module_version": "1.2.0",
      "_model_name": "LayoutModel",
      "_view_count": null,
      "_view_module": "@jupyter-widgets/base",
      "_view_module_version": "1.2.0",
      "_view_name": "LayoutView",
      "align_content": null,
      "align_items": null,
      "align_self": null,
      "border": null,
      "bottom": null,
      "display": null,
      "flex": null,
      "flex_flow": null,
      "grid_area": null,
      "grid_auto_columns": null,
      "grid_auto_flow": null,
      "grid_auto_rows": null,
      "grid_column": null,
      "grid_gap": null,
      "grid_row": null,
      "grid_template_areas": null,
      "grid_template_columns": null,
      "grid_template_rows": null,
      "height": null,
      "justify_content": null,
      "justify_items": null,
      "left": null,
      "margin": null,
      "max_height": null,
      "max_width": null,
      "min_height": null,
      "min_width": null,
      "object_fit": null,
      "object_position": null,
      "order": null,
      "overflow": null,
      "overflow_x": null,
      "overflow_y": null,
      "padding": null,
      "right": null,
      "top": null,
      "visibility": null,
      "width": null
     }
    },
    "58a9bc95f3c24a4db8eae6c38ed4dba5": {
     "model_module": "@jupyter-widgets/controls",
     "model_module_version": "1.5.0",
     "model_name": "FloatProgressModel",
     "state": {
      "_dom_classes": [],
      "_model_module": "@jupyter-widgets/controls",
      "_model_module_version": "1.5.0",
      "_model_name": "FloatProgressModel",
      "_view_count": null,
      "_view_module": "@jupyter-widgets/controls",
      "_view_module_version": "1.5.0",
      "_view_name": "ProgressView",
      "bar_style": "success",
      "description": "",
      "description_tooltip": null,
      "layout": "IPY_MODEL_3ee31d4a090f4428a28c63b940e9f4b2",
      "max": 9973,
      "min": 0,
      "orientation": "horizontal",
      "style": "IPY_MODEL_003952b6386749c794bcdc0194ab261d",
      "value": 9973
     }
    },
    "5aa4d37cc1b14006bee506ff3e959ba4": {
     "model_module": "@jupyter-widgets/controls",
     "model_module_version": "1.5.0",
     "model_name": "DescriptionStyleModel",
     "state": {
      "_model_module": "@jupyter-widgets/controls",
      "_model_module_version": "1.5.0",
      "_model_name": "DescriptionStyleModel",
      "_view_count": null,
      "_view_module": "@jupyter-widgets/base",
      "_view_module_version": "1.2.0",
      "_view_name": "StyleView",
      "description_width": ""
     }
    },
    "5b241fc6078542888490a9e842880838": {
     "model_module": "@jupyter-widgets/base",
     "model_module_version": "1.2.0",
     "model_name": "LayoutModel",
     "state": {
      "_model_module": "@jupyter-widgets/base",
      "_model_module_version": "1.2.0",
      "_model_name": "LayoutModel",
      "_view_count": null,
      "_view_module": "@jupyter-widgets/base",
      "_view_module_version": "1.2.0",
      "_view_name": "LayoutView",
      "align_content": null,
      "align_items": null,
      "align_self": null,
      "border": null,
      "bottom": null,
      "display": null,
      "flex": null,
      "flex_flow": null,
      "grid_area": null,
      "grid_auto_columns": null,
      "grid_auto_flow": null,
      "grid_auto_rows": null,
      "grid_column": null,
      "grid_gap": null,
      "grid_row": null,
      "grid_template_areas": null,
      "grid_template_columns": null,
      "grid_template_rows": null,
      "height": null,
      "justify_content": null,
      "justify_items": null,
      "left": null,
      "margin": null,
      "max_height": null,
      "max_width": null,
      "min_height": null,
      "min_width": null,
      "object_fit": null,
      "object_position": null,
      "order": null,
      "overflow": null,
      "overflow_x": null,
      "overflow_y": null,
      "padding": null,
      "right": null,
      "top": null,
      "visibility": null,
      "width": null
     }
    },
    "5da72b86d0c44f4c8254acac12e770ab": {
     "model_module": "@jupyter-widgets/base",
     "model_module_version": "1.2.0",
     "model_name": "LayoutModel",
     "state": {
      "_model_module": "@jupyter-widgets/base",
      "_model_module_version": "1.2.0",
      "_model_name": "LayoutModel",
      "_view_count": null,
      "_view_module": "@jupyter-widgets/base",
      "_view_module_version": "1.2.0",
      "_view_name": "LayoutView",
      "align_content": null,
      "align_items": null,
      "align_self": null,
      "border": null,
      "bottom": null,
      "display": null,
      "flex": null,
      "flex_flow": null,
      "grid_area": null,
      "grid_auto_columns": null,
      "grid_auto_flow": null,
      "grid_auto_rows": null,
      "grid_column": null,
      "grid_gap": null,
      "grid_row": null,
      "grid_template_areas": null,
      "grid_template_columns": null,
      "grid_template_rows": null,
      "height": null,
      "justify_content": null,
      "justify_items": null,
      "left": null,
      "margin": null,
      "max_height": null,
      "max_width": null,
      "min_height": null,
      "min_width": null,
      "object_fit": null,
      "object_position": null,
      "order": null,
      "overflow": null,
      "overflow_x": null,
      "overflow_y": null,
      "padding": null,
      "right": null,
      "top": null,
      "visibility": null,
      "width": null
     }
    },
    "5fa7227a37644ad298bcccc000da3317": {
     "model_module": "@jupyter-widgets/controls",
     "model_module_version": "1.5.0",
     "model_name": "DescriptionStyleModel",
     "state": {
      "_model_module": "@jupyter-widgets/controls",
      "_model_module_version": "1.5.0",
      "_model_name": "DescriptionStyleModel",
      "_view_count": null,
      "_view_module": "@jupyter-widgets/base",
      "_view_module_version": "1.2.0",
      "_view_name": "StyleView",
      "description_width": ""
     }
    },
    "5faab306bd0743039ce3a65ec1f5175d": {
     "model_module": "@jupyter-widgets/controls",
     "model_module_version": "1.5.0",
     "model_name": "DescriptionStyleModel",
     "state": {
      "_model_module": "@jupyter-widgets/controls",
      "_model_module_version": "1.5.0",
      "_model_name": "DescriptionStyleModel",
      "_view_count": null,
      "_view_module": "@jupyter-widgets/base",
      "_view_module_version": "1.2.0",
      "_view_name": "StyleView",
      "description_width": ""
     }
    },
    "6066f619259343058e6c3ce6587ad17d": {
     "model_module": "@jupyter-widgets/controls",
     "model_module_version": "1.5.0",
     "model_name": "DescriptionStyleModel",
     "state": {
      "_model_module": "@jupyter-widgets/controls",
      "_model_module_version": "1.5.0",
      "_model_name": "DescriptionStyleModel",
      "_view_count": null,
      "_view_module": "@jupyter-widgets/base",
      "_view_module_version": "1.2.0",
      "_view_name": "StyleView",
      "description_width": ""
     }
    },
    "6255ea93e05140f09ca82b85ecb54fca": {
     "model_module": "@jupyter-widgets/controls",
     "model_module_version": "1.5.0",
     "model_name": "DescriptionStyleModel",
     "state": {
      "_model_module": "@jupyter-widgets/controls",
      "_model_module_version": "1.5.0",
      "_model_name": "DescriptionStyleModel",
      "_view_count": null,
      "_view_module": "@jupyter-widgets/base",
      "_view_module_version": "1.2.0",
      "_view_name": "StyleView",
      "description_width": ""
     }
    },
    "629831e879a448909ab1d34e61481531": {
     "model_module": "@jupyter-widgets/controls",
     "model_module_version": "1.5.0",
     "model_name": "DescriptionStyleModel",
     "state": {
      "_model_module": "@jupyter-widgets/controls",
      "_model_module_version": "1.5.0",
      "_model_name": "DescriptionStyleModel",
      "_view_count": null,
      "_view_module": "@jupyter-widgets/base",
      "_view_module_version": "1.2.0",
      "_view_name": "StyleView",
      "description_width": ""
     }
    },
    "63603aadc07649ba91e1abd21a655c29": {
     "model_module": "@jupyter-widgets/base",
     "model_module_version": "1.2.0",
     "model_name": "LayoutModel",
     "state": {
      "_model_module": "@jupyter-widgets/base",
      "_model_module_version": "1.2.0",
      "_model_name": "LayoutModel",
      "_view_count": null,
      "_view_module": "@jupyter-widgets/base",
      "_view_module_version": "1.2.0",
      "_view_name": "LayoutView",
      "align_content": null,
      "align_items": null,
      "align_self": null,
      "border": null,
      "bottom": null,
      "display": null,
      "flex": null,
      "flex_flow": null,
      "grid_area": null,
      "grid_auto_columns": null,
      "grid_auto_flow": null,
      "grid_auto_rows": null,
      "grid_column": null,
      "grid_gap": null,
      "grid_row": null,
      "grid_template_areas": null,
      "grid_template_columns": null,
      "grid_template_rows": null,
      "height": null,
      "justify_content": null,
      "justify_items": null,
      "left": null,
      "margin": null,
      "max_height": null,
      "max_width": null,
      "min_height": null,
      "min_width": null,
      "object_fit": null,
      "object_position": null,
      "order": null,
      "overflow": null,
      "overflow_x": null,
      "overflow_y": null,
      "padding": null,
      "right": null,
      "top": null,
      "visibility": null,
      "width": null
     }
    },
    "64f6173917794707a6f954b7028593d0": {
     "model_module": "@jupyter-widgets/base",
     "model_module_version": "1.2.0",
     "model_name": "LayoutModel",
     "state": {
      "_model_module": "@jupyter-widgets/base",
      "_model_module_version": "1.2.0",
      "_model_name": "LayoutModel",
      "_view_count": null,
      "_view_module": "@jupyter-widgets/base",
      "_view_module_version": "1.2.0",
      "_view_name": "LayoutView",
      "align_content": null,
      "align_items": null,
      "align_self": null,
      "border": null,
      "bottom": null,
      "display": null,
      "flex": null,
      "flex_flow": null,
      "grid_area": null,
      "grid_auto_columns": null,
      "grid_auto_flow": null,
      "grid_auto_rows": null,
      "grid_column": null,
      "grid_gap": null,
      "grid_row": null,
      "grid_template_areas": null,
      "grid_template_columns": null,
      "grid_template_rows": null,
      "height": null,
      "justify_content": null,
      "justify_items": null,
      "left": null,
      "margin": null,
      "max_height": null,
      "max_width": null,
      "min_height": null,
      "min_width": null,
      "object_fit": null,
      "object_position": null,
      "order": null,
      "overflow": null,
      "overflow_x": null,
      "overflow_y": null,
      "padding": null,
      "right": null,
      "top": null,
      "visibility": null,
      "width": null
     }
    },
    "65a42048862c4c9985d5117eb3a98bec": {
     "model_module": "@jupyter-widgets/controls",
     "model_module_version": "1.5.0",
     "model_name": "DescriptionStyleModel",
     "state": {
      "_model_module": "@jupyter-widgets/controls",
      "_model_module_version": "1.5.0",
      "_model_name": "DescriptionStyleModel",
      "_view_count": null,
      "_view_module": "@jupyter-widgets/base",
      "_view_module_version": "1.2.0",
      "_view_name": "StyleView",
      "description_width": ""
     }
    },
    "661b9da3c9cd4699b0fb5587c26fe15f": {
     "model_module": "@jupyter-widgets/base",
     "model_module_version": "1.2.0",
     "model_name": "LayoutModel",
     "state": {
      "_model_module": "@jupyter-widgets/base",
      "_model_module_version": "1.2.0",
      "_model_name": "LayoutModel",
      "_view_count": null,
      "_view_module": "@jupyter-widgets/base",
      "_view_module_version": "1.2.0",
      "_view_name": "LayoutView",
      "align_content": null,
      "align_items": null,
      "align_self": null,
      "border": null,
      "bottom": null,
      "display": null,
      "flex": null,
      "flex_flow": null,
      "grid_area": null,
      "grid_auto_columns": null,
      "grid_auto_flow": null,
      "grid_auto_rows": null,
      "grid_column": null,
      "grid_gap": null,
      "grid_row": null,
      "grid_template_areas": null,
      "grid_template_columns": null,
      "grid_template_rows": null,
      "height": null,
      "justify_content": null,
      "justify_items": null,
      "left": null,
      "margin": null,
      "max_height": null,
      "max_width": null,
      "min_height": null,
      "min_width": null,
      "object_fit": null,
      "object_position": null,
      "order": null,
      "overflow": null,
      "overflow_x": null,
      "overflow_y": null,
      "padding": null,
      "right": null,
      "top": null,
      "visibility": null,
      "width": null
     }
    },
    "6709d2a2129a49c58fd163b68c965eed": {
     "model_module": "@jupyter-widgets/controls",
     "model_module_version": "1.5.0",
     "model_name": "CheckboxModel",
     "state": {
      "_dom_classes": [],
      "_model_module": "@jupyter-widgets/controls",
      "_model_module_version": "1.5.0",
      "_model_name": "CheckboxModel",
      "_view_count": null,
      "_view_module": "@jupyter-widgets/controls",
      "_view_module_version": "1.5.0",
      "_view_name": "CheckboxView",
      "description": "Add token as git credential?",
      "description_tooltip": null,
      "disabled": false,
      "indent": true,
      "layout": "IPY_MODEL_0637806dd4e4445faec16f65c639f586",
      "style": "IPY_MODEL_1f77c18af66c4b7c8655c5224efbbdde",
      "value": true
     }
    },
    "67a0c9cb83834a6786d35c9778563891": {
     "model_module": "@jupyter-widgets/controls",
     "model_module_version": "1.5.0",
     "model_name": "HTMLModel",
     "state": {
      "_dom_classes": [],
      "_model_module": "@jupyter-widgets/controls",
      "_model_module_version": "1.5.0",
      "_model_name": "HTMLModel",
      "_view_count": null,
      "_view_module": "@jupyter-widgets/controls",
      "_view_module_version": "1.5.0",
      "_view_name": "HTMLView",
      "description": "",
      "description_tooltip": null,
      "layout": "IPY_MODEL_c3cb617021ed4fe7954c7a76c7ea2d4d",
      "placeholder": "​",
      "style": "IPY_MODEL_8521fd34f64341b0a2cf8fca161c26ad",
      "value": " 170625/170625 [00:00&lt;00:00, 509953.27 examples/s]"
     }
    },
    "6bb9195833af4f2da71171c52df82a35": {
     "model_module": "@jupyter-widgets/controls",
     "model_module_version": "1.5.0",
     "model_name": "ProgressStyleModel",
     "state": {
      "_model_module": "@jupyter-widgets/controls",
      "_model_module_version": "1.5.0",
      "_model_name": "ProgressStyleModel",
      "_view_count": null,
      "_view_module": "@jupyter-widgets/base",
      "_view_module_version": "1.2.0",
      "_view_name": "StyleView",
      "bar_color": null,
      "description_width": ""
     }
    },
    "6c47ec2bdbec41098c3692003b999510": {
     "model_module": "@jupyter-widgets/base",
     "model_module_version": "1.2.0",
     "model_name": "LayoutModel",
     "state": {
      "_model_module": "@jupyter-widgets/base",
      "_model_module_version": "1.2.0",
      "_model_name": "LayoutModel",
      "_view_count": null,
      "_view_module": "@jupyter-widgets/base",
      "_view_module_version": "1.2.0",
      "_view_name": "LayoutView",
      "align_content": null,
      "align_items": null,
      "align_self": null,
      "border": null,
      "bottom": null,
      "display": null,
      "flex": null,
      "flex_flow": null,
      "grid_area": null,
      "grid_auto_columns": null,
      "grid_auto_flow": null,
      "grid_auto_rows": null,
      "grid_column": null,
      "grid_gap": null,
      "grid_row": null,
      "grid_template_areas": null,
      "grid_template_columns": null,
      "grid_template_rows": null,
      "height": null,
      "justify_content": null,
      "justify_items": null,
      "left": null,
      "margin": null,
      "max_height": null,
      "max_width": null,
      "min_height": null,
      "min_width": null,
      "object_fit": null,
      "object_position": null,
      "order": null,
      "overflow": null,
      "overflow_x": null,
      "overflow_y": null,
      "padding": null,
      "right": null,
      "top": null,
      "visibility": null,
      "width": null
     }
    },
    "6df9ec75e27f4efba503bbfdccabe6a6": {
     "model_module": "@jupyter-widgets/controls",
     "model_module_version": "1.5.0",
     "model_name": "HTMLModel",
     "state": {
      "_dom_classes": [],
      "_model_module": "@jupyter-widgets/controls",
      "_model_module_version": "1.5.0",
      "_model_name": "HTMLModel",
      "_view_count": null,
      "_view_module": "@jupyter-widgets/controls",
      "_view_module_version": "1.5.0",
      "_view_name": "HTMLView",
      "description": "",
      "description_tooltip": null,
      "layout": "IPY_MODEL_bbd339d05b6c4def867887305f61bc45",
      "placeholder": "​",
      "style": "IPY_MODEL_6066f619259343058e6c3ce6587ad17d",
      "value": " 2.04k/2.04k [00:00&lt;00:00, 50.2kB/s]"
     }
    },
    "6f456608999d40fcbf34d3240b1b2a68": {
     "model_module": "@jupyter-widgets/controls",
     "model_module_version": "1.5.0",
     "model_name": "HBoxModel",
     "state": {
      "_dom_classes": [],
      "_model_module": "@jupyter-widgets/controls",
      "_model_module_version": "1.5.0",
      "_model_name": "HBoxModel",
      "_view_count": null,
      "_view_module": "@jupyter-widgets/controls",
      "_view_module_version": "1.5.0",
      "_view_name": "HBoxView",
      "box_style": "",
      "children": [
       "IPY_MODEL_36a4dee1c8f24a2dab5c0d70324fd687",
       "IPY_MODEL_f4194511e24c41d9b5023501f519372b",
       "IPY_MODEL_54c5972e82154abbbb6b0cbda3c2227b"
      ],
      "layout": "IPY_MODEL_8444e8676b9e409ea8bb7cf3ab117264"
     }
    },
    "6f97301cb71a4b22801ae2da3bb1a459": {
     "model_module": "@jupyter-widgets/controls",
     "model_module_version": "1.5.0",
     "model_name": "HTMLModel",
     "state": {
      "_dom_classes": [],
      "_model_module": "@jupyter-widgets/controls",
      "_model_module_version": "1.5.0",
      "_model_name": "HTMLModel",
      "_view_count": null,
      "_view_module": "@jupyter-widgets/controls",
      "_view_module_version": "1.5.0",
      "_view_name": "HTMLView",
      "description": "",
      "description_tooltip": null,
      "layout": "IPY_MODEL_5da72b86d0c44f4c8254acac12e770ab",
      "placeholder": "​",
      "style": "IPY_MODEL_76057dbeac7b491384749430dee0389d",
      "value": " 20968/20968 [00:02&lt;00:00, 8375.34 examples/s]"
     }
    },
    "70b9c74f2b464790b2dde20549af8c2d": {
     "model_module": "@jupyter-widgets/controls",
     "model_module_version": "1.5.0",
     "model_name": "DescriptionStyleModel",
     "state": {
      "_model_module": "@jupyter-widgets/controls",
      "_model_module_version": "1.5.0",
      "_model_name": "DescriptionStyleModel",
      "_view_count": null,
      "_view_module": "@jupyter-widgets/base",
      "_view_module_version": "1.2.0",
      "_view_name": "StyleView",
      "description_width": ""
     }
    },
    "7394fe15f9b549a191ac1923b72069ea": {
     "model_module": "@jupyter-widgets/controls",
     "model_module_version": "1.5.0",
     "model_name": "DescriptionStyleModel",
     "state": {
      "_model_module": "@jupyter-widgets/controls",
      "_model_module_version": "1.5.0",
      "_model_name": "DescriptionStyleModel",
      "_view_count": null,
      "_view_module": "@jupyter-widgets/base",
      "_view_module_version": "1.2.0",
      "_view_name": "StyleView",
      "description_width": ""
     }
    },
    "73d695248c6143c19f976569d587b1d6": {
     "model_module": "@jupyter-widgets/controls",
     "model_module_version": "1.5.0",
     "model_name": "DescriptionStyleModel",
     "state": {
      "_model_module": "@jupyter-widgets/controls",
      "_model_module_version": "1.5.0",
      "_model_name": "DescriptionStyleModel",
      "_view_count": null,
      "_view_module": "@jupyter-widgets/base",
      "_view_module_version": "1.2.0",
      "_view_name": "StyleView",
      "description_width": ""
     }
    },
    "747201aebf8542749a8137dc8feac726": {
     "model_module": "@jupyter-widgets/base",
     "model_module_version": "1.2.0",
     "model_name": "LayoutModel",
     "state": {
      "_model_module": "@jupyter-widgets/base",
      "_model_module_version": "1.2.0",
      "_model_name": "LayoutModel",
      "_view_count": null,
      "_view_module": "@jupyter-widgets/base",
      "_view_module_version": "1.2.0",
      "_view_name": "LayoutView",
      "align_content": null,
      "align_items": null,
      "align_self": null,
      "border": null,
      "bottom": null,
      "display": null,
      "flex": null,
      "flex_flow": null,
      "grid_area": null,
      "grid_auto_columns": null,
      "grid_auto_flow": null,
      "grid_auto_rows": null,
      "grid_column": null,
      "grid_gap": null,
      "grid_row": null,
      "grid_template_areas": null,
      "grid_template_columns": null,
      "grid_template_rows": null,
      "height": null,
      "justify_content": null,
      "justify_items": null,
      "left": null,
      "margin": null,
      "max_height": null,
      "max_width": null,
      "min_height": null,
      "min_width": null,
      "object_fit": null,
      "object_position": null,
      "order": null,
      "overflow": null,
      "overflow_x": null,
      "overflow_y": null,
      "padding": null,
      "right": null,
      "top": null,
      "visibility": null,
      "width": null
     }
    },
    "74f14d8ae33e499eaa4c1e1430cb0a66": {
     "model_module": "@jupyter-widgets/base",
     "model_module_version": "1.2.0",
     "model_name": "LayoutModel",
     "state": {
      "_model_module": "@jupyter-widgets/base",
      "_model_module_version": "1.2.0",
      "_model_name": "LayoutModel",
      "_view_count": null,
      "_view_module": "@jupyter-widgets/base",
      "_view_module_version": "1.2.0",
      "_view_name": "LayoutView",
      "align_content": null,
      "align_items": null,
      "align_self": null,
      "border": null,
      "bottom": null,
      "display": null,
      "flex": null,
      "flex_flow": null,
      "grid_area": null,
      "grid_auto_columns": null,
      "grid_auto_flow": null,
      "grid_auto_rows": null,
      "grid_column": null,
      "grid_gap": null,
      "grid_row": null,
      "grid_template_areas": null,
      "grid_template_columns": null,
      "grid_template_rows": null,
      "height": null,
      "justify_content": null,
      "justify_items": null,
      "left": null,
      "margin": null,
      "max_height": null,
      "max_width": null,
      "min_height": null,
      "min_width": null,
      "object_fit": null,
      "object_position": null,
      "order": null,
      "overflow": null,
      "overflow_x": null,
      "overflow_y": null,
      "padding": null,
      "right": null,
      "top": null,
      "visibility": null,
      "width": null
     }
    },
    "76057dbeac7b491384749430dee0389d": {
     "model_module": "@jupyter-widgets/controls",
     "model_module_version": "1.5.0",
     "model_name": "DescriptionStyleModel",
     "state": {
      "_model_module": "@jupyter-widgets/controls",
      "_model_module_version": "1.5.0",
      "_model_name": "DescriptionStyleModel",
      "_view_count": null,
      "_view_module": "@jupyter-widgets/base",
      "_view_module_version": "1.2.0",
      "_view_name": "StyleView",
      "description_width": ""
     }
    },
    "7625e09f50484f5998c7171513962eaf": {
     "model_module": "@jupyter-widgets/base",
     "model_module_version": "1.2.0",
     "model_name": "LayoutModel",
     "state": {
      "_model_module": "@jupyter-widgets/base",
      "_model_module_version": "1.2.0",
      "_model_name": "LayoutModel",
      "_view_count": null,
      "_view_module": "@jupyter-widgets/base",
      "_view_module_version": "1.2.0",
      "_view_name": "LayoutView",
      "align_content": null,
      "align_items": null,
      "align_self": null,
      "border": null,
      "bottom": null,
      "display": null,
      "flex": null,
      "flex_flow": null,
      "grid_area": null,
      "grid_auto_columns": null,
      "grid_auto_flow": null,
      "grid_auto_rows": null,
      "grid_column": null,
      "grid_gap": null,
      "grid_row": null,
      "grid_template_areas": null,
      "grid_template_columns": null,
      "grid_template_rows": null,
      "height": null,
      "justify_content": null,
      "justify_items": null,
      "left": null,
      "margin": null,
      "max_height": null,
      "max_width": null,
      "min_height": null,
      "min_width": null,
      "object_fit": null,
      "object_position": null,
      "order": null,
      "overflow": null,
      "overflow_x": null,
      "overflow_y": null,
      "padding": null,
      "right": null,
      "top": null,
      "visibility": null,
      "width": null
     }
    },
    "7980c42c458e4c2aaf3482188987a174": {
     "model_module": "@jupyter-widgets/base",
     "model_module_version": "1.2.0",
     "model_name": "LayoutModel",
     "state": {
      "_model_module": "@jupyter-widgets/base",
      "_model_module_version": "1.2.0",
      "_model_name": "LayoutModel",
      "_view_count": null,
      "_view_module": "@jupyter-widgets/base",
      "_view_module_version": "1.2.0",
      "_view_name": "LayoutView",
      "align_content": null,
      "align_items": null,
      "align_self": null,
      "border": null,
      "bottom": null,
      "display": null,
      "flex": null,
      "flex_flow": null,
      "grid_area": null,
      "grid_auto_columns": null,
      "grid_auto_flow": null,
      "grid_auto_rows": null,
      "grid_column": null,
      "grid_gap": null,
      "grid_row": null,
      "grid_template_areas": null,
      "grid_template_columns": null,
      "grid_template_rows": null,
      "height": null,
      "justify_content": null,
      "justify_items": null,
      "left": null,
      "margin": null,
      "max_height": null,
      "max_width": null,
      "min_height": null,
      "min_width": null,
      "object_fit": null,
      "object_position": null,
      "order": null,
      "overflow": null,
      "overflow_x": null,
      "overflow_y": null,
      "padding": null,
      "right": null,
      "top": null,
      "visibility": null,
      "width": null
     }
    },
    "7a2afb9beeae4f0cb8df3c9cd2508245": {
     "model_module": "@jupyter-widgets/controls",
     "model_module_version": "1.5.0",
     "model_name": "HTMLModel",
     "state": {
      "_dom_classes": [],
      "_model_module": "@jupyter-widgets/controls",
      "_model_module_version": "1.5.0",
      "_model_name": "HTMLModel",
      "_view_count": null,
      "_view_module": "@jupyter-widgets/controls",
      "_view_module_version": "1.5.0",
      "_view_name": "HTMLView",
      "description": "",
      "description_tooltip": null,
      "layout": "IPY_MODEL_54b66c1a49174d5382e0272483866176",
      "placeholder": "​",
      "style": "IPY_MODEL_00c77e7eee56468daef0889d3d622b8e",
      "value": "Downloading pytorch_model.bin: 100%"
     }
    },
    "7dc214351a4243a2934af2ead533cc0e": {
     "model_module": "@jupyter-widgets/controls",
     "model_module_version": "1.5.0",
     "model_name": "FloatProgressModel",
     "state": {
      "_dom_classes": [],
      "_model_module": "@jupyter-widgets/controls",
      "_model_module_version": "1.5.0",
      "_model_name": "FloatProgressModel",
      "_view_count": null,
      "_view_module": "@jupyter-widgets/controls",
      "_view_module_version": "1.5.0",
      "_view_name": "ProgressView",
      "bar_style": "success",
      "description": "",
      "description_tooltip": null,
      "layout": "IPY_MODEL_94ec52b748074966a1fd8e7e71a9fb4a",
      "max": 20968,
      "min": 0,
      "orientation": "horizontal",
      "style": "IPY_MODEL_4c85d484e3df4ab6894b56cb244d8898",
      "value": 20968
     }
    },
    "817c2c6921fa4638b47ec2405579e101": {
     "model_module": "@jupyter-widgets/base",
     "model_module_version": "1.2.0",
     "model_name": "LayoutModel",
     "state": {
      "_model_module": "@jupyter-widgets/base",
      "_model_module_version": "1.2.0",
      "_model_name": "LayoutModel",
      "_view_count": null,
      "_view_module": "@jupyter-widgets/base",
      "_view_module_version": "1.2.0",
      "_view_name": "LayoutView",
      "align_content": null,
      "align_items": null,
      "align_self": null,
      "border": null,
      "bottom": null,
      "display": null,
      "flex": null,
      "flex_flow": null,
      "grid_area": null,
      "grid_auto_columns": null,
      "grid_auto_flow": null,
      "grid_auto_rows": null,
      "grid_column": null,
      "grid_gap": null,
      "grid_row": null,
      "grid_template_areas": null,
      "grid_template_columns": null,
      "grid_template_rows": null,
      "height": null,
      "justify_content": null,
      "justify_items": null,
      "left": null,
      "margin": null,
      "max_height": null,
      "max_width": null,
      "min_height": null,
      "min_width": null,
      "object_fit": null,
      "object_position": null,
      "order": null,
      "overflow": null,
      "overflow_x": null,
      "overflow_y": null,
      "padding": null,
      "right": null,
      "top": null,
      "visibility": null,
      "width": null
     }
    },
    "81fa22bbeaca4a24b76c628160fd9a8e": {
     "model_module": "@jupyter-widgets/controls",
     "model_module_version": "1.5.0",
     "model_name": "HBoxModel",
     "state": {
      "_dom_classes": [],
      "_model_module": "@jupyter-widgets/controls",
      "_model_module_version": "1.5.0",
      "_model_name": "HBoxModel",
      "_view_count": null,
      "_view_module": "@jupyter-widgets/controls",
      "_view_module_version": "1.5.0",
      "_view_name": "HBoxView",
      "box_style": "",
      "children": [
       "IPY_MODEL_9d69ce1ea1f045528519d1303ff8af77",
       "IPY_MODEL_c5d1b33e111e42ed877b47b91c9831cc",
       "IPY_MODEL_426640aec3574c95a652f945e16c45a4"
      ],
      "layout": "IPY_MODEL_a160ef70490b46dc8fb653a938bee09e"
     }
    },
    "82eb95ae3df24613bb133b6fdd2bbfd0": {
     "model_module": "@jupyter-widgets/controls",
     "model_module_version": "1.5.0",
     "model_name": "HTMLModel",
     "state": {
      "_dom_classes": [],
      "_model_module": "@jupyter-widgets/controls",
      "_model_module_version": "1.5.0",
      "_model_name": "HTMLModel",
      "_view_count": null,
      "_view_module": "@jupyter-widgets/controls",
      "_view_module_version": "1.5.0",
      "_view_name": "HTMLView",
      "description": "",
      "description_tooltip": null,
      "layout": "IPY_MODEL_0515268ed51240c19421e6d6c7703609",
      "placeholder": "​",
      "style": "IPY_MODEL_2081028ed0cc4c51af6b15f538c43be4",
      "value": "Downloading pytorch_model.bin: 100%"
     }
    },
    "83c29aa38d644e0987853e8746f8209d": {
     "model_module": "@jupyter-widgets/controls",
     "model_module_version": "1.5.0",
     "model_name": "HTMLModel",
     "state": {
      "_dom_classes": [],
      "_model_module": "@jupyter-widgets/controls",
      "_model_module_version": "1.5.0",
      "_model_name": "HTMLModel",
      "_view_count": null,
      "_view_module": "@jupyter-widgets/controls",
      "_view_module_version": "1.5.0",
      "_view_name": "HTMLView",
      "description": "",
      "description_tooltip": null,
      "layout": "IPY_MODEL_a3aaf2d687e843c2933d4ebcdc0ce740",
      "placeholder": "​",
      "style": "IPY_MODEL_7394fe15f9b549a191ac1923b72069ea",
      "value": "\n<b>Pro Tip:</b> If you don't already have one, you can create a dedicated\n'notebooks' token with 'write' access, that you can then easily reuse for all\nnotebooks. </center>"
     }
    },
    "8444e8676b9e409ea8bb7cf3ab117264": {
     "model_module": "@jupyter-widgets/base",
     "model_module_version": "1.2.0",
     "model_name": "LayoutModel",
     "state": {
      "_model_module": "@jupyter-widgets/base",
      "_model_module_version": "1.2.0",
      "_model_name": "LayoutModel",
      "_view_count": null,
      "_view_module": "@jupyter-widgets/base",
      "_view_module_version": "1.2.0",
      "_view_name": "LayoutView",
      "align_content": null,
      "align_items": null,
      "align_self": null,
      "border": null,
      "bottom": null,
      "display": null,
      "flex": null,
      "flex_flow": null,
      "grid_area": null,
      "grid_auto_columns": null,
      "grid_auto_flow": null,
      "grid_auto_rows": null,
      "grid_column": null,
      "grid_gap": null,
      "grid_row": null,
      "grid_template_areas": null,
      "grid_template_columns": null,
      "grid_template_rows": null,
      "height": null,
      "justify_content": null,
      "justify_items": null,
      "left": null,
      "margin": null,
      "max_height": null,
      "max_width": null,
      "min_height": null,
      "min_width": null,
      "object_fit": null,
      "object_position": null,
      "order": null,
      "overflow": null,
      "overflow_x": null,
      "overflow_y": null,
      "padding": null,
      "right": null,
      "top": null,
      "visibility": null,
      "width": null
     }
    },
    "84dea280cde54e90bdf16e938c169451": {
     "model_module": "@jupyter-widgets/base",
     "model_module_version": "1.2.0",
     "model_name": "LayoutModel",
     "state": {
      "_model_module": "@jupyter-widgets/base",
      "_model_module_version": "1.2.0",
      "_model_name": "LayoutModel",
      "_view_count": null,
      "_view_module": "@jupyter-widgets/base",
      "_view_module_version": "1.2.0",
      "_view_name": "LayoutView",
      "align_content": null,
      "align_items": null,
      "align_self": null,
      "border": null,
      "bottom": null,
      "display": null,
      "flex": null,
      "flex_flow": null,
      "grid_area": null,
      "grid_auto_columns": null,
      "grid_auto_flow": null,
      "grid_auto_rows": null,
      "grid_column": null,
      "grid_gap": null,
      "grid_row": null,
      "grid_template_areas": null,
      "grid_template_columns": null,
      "grid_template_rows": null,
      "height": null,
      "justify_content": null,
      "justify_items": null,
      "left": null,
      "margin": null,
      "max_height": null,
      "max_width": null,
      "min_height": null,
      "min_width": null,
      "object_fit": null,
      "object_position": null,
      "order": null,
      "overflow": null,
      "overflow_x": null,
      "overflow_y": null,
      "padding": null,
      "right": null,
      "top": null,
      "visibility": null,
      "width": null
     }
    },
    "8521fd34f64341b0a2cf8fca161c26ad": {
     "model_module": "@jupyter-widgets/controls",
     "model_module_version": "1.5.0",
     "model_name": "DescriptionStyleModel",
     "state": {
      "_model_module": "@jupyter-widgets/controls",
      "_model_module_version": "1.5.0",
      "_model_name": "DescriptionStyleModel",
      "_view_count": null,
      "_view_module": "@jupyter-widgets/base",
      "_view_module_version": "1.2.0",
      "_view_name": "StyleView",
      "description_width": ""
     }
    },
    "856f1749da6643cd9e8fa38f087d64d3": {
     "model_module": "@jupyter-widgets/base",
     "model_module_version": "1.2.0",
     "model_name": "LayoutModel",
     "state": {
      "_model_module": "@jupyter-widgets/base",
      "_model_module_version": "1.2.0",
      "_model_name": "LayoutModel",
      "_view_count": null,
      "_view_module": "@jupyter-widgets/base",
      "_view_module_version": "1.2.0",
      "_view_name": "LayoutView",
      "align_content": null,
      "align_items": null,
      "align_self": null,
      "border": null,
      "bottom": null,
      "display": null,
      "flex": null,
      "flex_flow": null,
      "grid_area": null,
      "grid_auto_columns": null,
      "grid_auto_flow": null,
      "grid_auto_rows": null,
      "grid_column": null,
      "grid_gap": null,
      "grid_row": null,
      "grid_template_areas": null,
      "grid_template_columns": null,
      "grid_template_rows": null,
      "height": null,
      "justify_content": null,
      "justify_items": null,
      "left": null,
      "margin": null,
      "max_height": null,
      "max_width": null,
      "min_height": null,
      "min_width": null,
      "object_fit": null,
      "object_position": null,
      "order": null,
      "overflow": null,
      "overflow_x": null,
      "overflow_y": null,
      "padding": null,
      "right": null,
      "top": null,
      "visibility": null,
      "width": null
     }
    },
    "861f92d116124738aca813cf775e052a": {
     "model_module": "@jupyter-widgets/base",
     "model_module_version": "1.2.0",
     "model_name": "LayoutModel",
     "state": {
      "_model_module": "@jupyter-widgets/base",
      "_model_module_version": "1.2.0",
      "_model_name": "LayoutModel",
      "_view_count": null,
      "_view_module": "@jupyter-widgets/base",
      "_view_module_version": "1.2.0",
      "_view_name": "LayoutView",
      "align_content": null,
      "align_items": null,
      "align_self": null,
      "border": null,
      "bottom": null,
      "display": null,
      "flex": null,
      "flex_flow": null,
      "grid_area": null,
      "grid_auto_columns": null,
      "grid_auto_flow": null,
      "grid_auto_rows": null,
      "grid_column": null,
      "grid_gap": null,
      "grid_row": null,
      "grid_template_areas": null,
      "grid_template_columns": null,
      "grid_template_rows": null,
      "height": null,
      "justify_content": null,
      "justify_items": null,
      "left": null,
      "margin": null,
      "max_height": null,
      "max_width": null,
      "min_height": null,
      "min_width": null,
      "object_fit": null,
      "object_position": null,
      "order": null,
      "overflow": null,
      "overflow_x": null,
      "overflow_y": null,
      "padding": null,
      "right": null,
      "top": null,
      "visibility": null,
      "width": null
     }
    },
    "873816aeb1104fcda8945635179849b7": {
     "model_module": "@jupyter-widgets/controls",
     "model_module_version": "1.5.0",
     "model_name": "FloatProgressModel",
     "state": {
      "_dom_classes": [],
      "_model_module": "@jupyter-widgets/controls",
      "_model_module_version": "1.5.0",
      "_model_name": "FloatProgressModel",
      "_view_count": null,
      "_view_module": "@jupyter-widgets/controls",
      "_view_module_version": "1.5.0",
      "_view_name": "ProgressView",
      "bar_style": "success",
      "description": "",
      "description_tooltip": null,
      "layout": "IPY_MODEL_6c47ec2bdbec41098c3692003b999510",
      "max": 15856877,
      "min": 0,
      "orientation": "horizontal",
      "style": "IPY_MODEL_06042be7a12e43db8022ae981df62a41",
      "value": 15856877
     }
    },
    "89d46d64ef684b918e032471568ed5f6": {
     "model_module": "@jupyter-widgets/controls",
     "model_module_version": "1.5.0",
     "model_name": "FloatProgressModel",
     "state": {
      "_dom_classes": [],
      "_model_module": "@jupyter-widgets/controls",
      "_model_module_version": "1.5.0",
      "_model_name": "FloatProgressModel",
      "_view_count": null,
      "_view_module": "@jupyter-widgets/controls",
      "_view_module_version": "1.5.0",
      "_view_name": "ProgressView",
      "bar_style": "success",
      "description": "",
      "description_tooltip": null,
      "layout": "IPY_MODEL_856f1749da6643cd9e8fa38f087d64d3",
      "max": 128619,
      "min": 0,
      "orientation": "horizontal",
      "style": "IPY_MODEL_976024579d4a4a82b66b77e8fd69b006",
      "value": 128619
     }
    },
    "8ebc38668f9c469bac7317b92c2407e6": {
     "model_module": "@jupyter-widgets/base",
     "model_module_version": "1.2.0",
     "model_name": "LayoutModel",
     "state": {
      "_model_module": "@jupyter-widgets/base",
      "_model_module_version": "1.2.0",
      "_model_name": "LayoutModel",
      "_view_count": null,
      "_view_module": "@jupyter-widgets/base",
      "_view_module_version": "1.2.0",
      "_view_name": "LayoutView",
      "align_content": null,
      "align_items": null,
      "align_self": null,
      "border": null,
      "bottom": null,
      "display": null,
      "flex": null,
      "flex_flow": null,
      "grid_area": null,
      "grid_auto_columns": null,
      "grid_auto_flow": null,
      "grid_auto_rows": null,
      "grid_column": null,
      "grid_gap": null,
      "grid_row": null,
      "grid_template_areas": null,
      "grid_template_columns": null,
      "grid_template_rows": null,
      "height": null,
      "justify_content": null,
      "justify_items": null,
      "left": null,
      "margin": null,
      "max_height": null,
      "max_width": null,
      "min_height": null,
      "min_width": null,
      "object_fit": null,
      "object_position": null,
      "order": null,
      "overflow": null,
      "overflow_x": null,
      "overflow_y": null,
      "padding": null,
      "right": null,
      "top": null,
      "visibility": null,
      "width": null
     }
    },
    "9070707765054e919bd94d8662f67bea": {
     "model_module": "@jupyter-widgets/controls",
     "model_module_version": "1.5.0",
     "model_name": "HBoxModel",
     "state": {
      "_dom_classes": [],
      "_model_module": "@jupyter-widgets/controls",
      "_model_module_version": "1.5.0",
      "_model_name": "HBoxModel",
      "_view_count": null,
      "_view_module": "@jupyter-widgets/controls",
      "_view_module_version": "1.5.0",
      "_view_name": "HBoxView",
      "box_style": "",
      "children": [
       "IPY_MODEL_2a712ddf2ce145b5ab32df662c02a026",
       "IPY_MODEL_967adcaac02b459294f17421a702f86f",
       "IPY_MODEL_b5b570cabdc3487eb92e24b8a177bac5"
      ],
      "layout": "IPY_MODEL_4082fff487314aad86385798615e2a4e"
     }
    },
    "90b3db89b0124154a7d9b7afdc81ea10": {
     "model_module": "@jupyter-widgets/controls",
     "model_module_version": "1.5.0",
     "model_name": "HBoxModel",
     "state": {
      "_dom_classes": [],
      "_model_module": "@jupyter-widgets/controls",
      "_model_module_version": "1.5.0",
      "_model_name": "HBoxModel",
      "_view_count": null,
      "_view_module": "@jupyter-widgets/controls",
      "_view_module_version": "1.5.0",
      "_view_name": "HBoxView",
      "box_style": "",
      "children": [
       "IPY_MODEL_fa9224be44ad49b49be0ad7f6842f1e3",
       "IPY_MODEL_873816aeb1104fcda8945635179849b7",
       "IPY_MODEL_c7820300f5894c8cbaf9646f610dbdbc"
      ],
      "layout": "IPY_MODEL_14e00267d11d4a83960403c34dd89e8e"
     }
    },
    "92ba197de02e4ac5ac039dc2807cdd6a": {
     "model_module": "@jupyter-widgets/base",
     "model_module_version": "1.2.0",
     "model_name": "LayoutModel",
     "state": {
      "_model_module": "@jupyter-widgets/base",
      "_model_module_version": "1.2.0",
      "_model_name": "LayoutModel",
      "_view_count": null,
      "_view_module": "@jupyter-widgets/base",
      "_view_module_version": "1.2.0",
      "_view_name": "LayoutView",
      "align_content": null,
      "align_items": null,
      "align_self": null,
      "border": null,
      "bottom": null,
      "display": null,
      "flex": null,
      "flex_flow": null,
      "grid_area": null,
      "grid_auto_columns": null,
      "grid_auto_flow": null,
      "grid_auto_rows": null,
      "grid_column": null,
      "grid_gap": null,
      "grid_row": null,
      "grid_template_areas": null,
      "grid_template_columns": null,
      "grid_template_rows": null,
      "height": null,
      "justify_content": null,
      "justify_items": null,
      "left": null,
      "margin": null,
      "max_height": null,
      "max_width": null,
      "min_height": null,
      "min_width": null,
      "object_fit": null,
      "object_position": null,
      "order": null,
      "overflow": null,
      "overflow_x": null,
      "overflow_y": null,
      "padding": null,
      "right": null,
      "top": null,
      "visibility": null,
      "width": null
     }
    },
    "92c5dd23e34645ab8bce0c5e7b94b346": {
     "model_module": "@jupyter-widgets/controls",
     "model_module_version": "1.5.0",
     "model_name": "ButtonModel",
     "state": {
      "_dom_classes": [],
      "_model_module": "@jupyter-widgets/controls",
      "_model_module_version": "1.5.0",
      "_model_name": "ButtonModel",
      "_view_count": null,
      "_view_module": "@jupyter-widgets/controls",
      "_view_module_version": "1.5.0",
      "_view_name": "ButtonView",
      "button_style": "",
      "description": "Login",
      "disabled": false,
      "icon": "",
      "layout": "IPY_MODEL_f72c4aebb8db40a0ade6ab43c8e464a8",
      "style": "IPY_MODEL_b44f03cb9d2742939ee74388bb4a2c61",
      "tooltip": ""
     }
    },
    "94ec52b748074966a1fd8e7e71a9fb4a": {
     "model_module": "@jupyter-widgets/base",
     "model_module_version": "1.2.0",
     "model_name": "LayoutModel",
     "state": {
      "_model_module": "@jupyter-widgets/base",
      "_model_module_version": "1.2.0",
      "_model_name": "LayoutModel",
      "_view_count": null,
      "_view_module": "@jupyter-widgets/base",
      "_view_module_version": "1.2.0",
      "_view_name": "LayoutView",
      "align_content": null,
      "align_items": null,
      "align_self": null,
      "border": null,
      "bottom": null,
      "display": null,
      "flex": null,
      "flex_flow": null,
      "grid_area": null,
      "grid_auto_columns": null,
      "grid_auto_flow": null,
      "grid_auto_rows": null,
      "grid_column": null,
      "grid_gap": null,
      "grid_row": null,
      "grid_template_areas": null,
      "grid_template_columns": null,
      "grid_template_rows": null,
      "height": null,
      "justify_content": null,
      "justify_items": null,
      "left": null,
      "margin": null,
      "max_height": null,
      "max_width": null,
      "min_height": null,
      "min_width": null,
      "object_fit": null,
      "object_position": null,
      "order": null,
      "overflow": null,
      "overflow_x": null,
      "overflow_y": null,
      "padding": null,
      "right": null,
      "top": null,
      "visibility": null,
      "width": null
     }
    },
    "967adcaac02b459294f17421a702f86f": {
     "model_module": "@jupyter-widgets/controls",
     "model_module_version": "1.5.0",
     "model_name": "FloatProgressModel",
     "state": {
      "_dom_classes": [],
      "_model_module": "@jupyter-widgets/controls",
      "_model_module_version": "1.5.0",
      "_model_name": "FloatProgressModel",
      "_view_count": null,
      "_view_module": "@jupyter-widgets/controls",
      "_view_module_version": "1.5.0",
      "_view_name": "ProgressView",
      "bar_style": "success",
      "description": "",
      "description_tooltip": null,
      "layout": "IPY_MODEL_3ab229dc47e64c98952fd72022219b05",
      "max": 9973,
      "min": 0,
      "orientation": "horizontal",
      "style": "IPY_MODEL_4df6e08ddc9a481da160fa9fa56ceac4",
      "value": 9973
     }
    },
    "969b776096564cceb400b2c90a3adb55": {
     "model_module": "@jupyter-widgets/controls",
     "model_module_version": "1.5.0",
     "model_name": "DescriptionStyleModel",
     "state": {
      "_model_module": "@jupyter-widgets/controls",
      "_model_module_version": "1.5.0",
      "_model_name": "DescriptionStyleModel",
      "_view_count": null,
      "_view_module": "@jupyter-widgets/base",
      "_view_module_version": "1.2.0",
      "_view_name": "StyleView",
      "description_width": ""
     }
    },
    "96cafb1e7fd6415e9cedfe8cb9c07c30": {
     "model_module": "@jupyter-widgets/controls",
     "model_module_version": "1.5.0",
     "model_name": "HTMLModel",
     "state": {
      "_dom_classes": [],
      "_model_module": "@jupyter-widgets/controls",
      "_model_module_version": "1.5.0",
      "_model_name": "HTMLModel",
      "_view_count": null,
      "_view_module": "@jupyter-widgets/controls",
      "_view_module_version": "1.5.0",
      "_view_name": "HTMLView",
      "description": "",
      "description_tooltip": null,
      "layout": "IPY_MODEL_aa935f4d46814226a663fd686f981bbf",
      "placeholder": "​",
      "style": "IPY_MODEL_bb49135849574eeda10e2955631e5776",
      "value": " 50.7M/50.7M [00:00&lt;00:00, 254MB/s]"
     }
    },
    "976024579d4a4a82b66b77e8fd69b006": {
     "model_module": "@jupyter-widgets/controls",
     "model_module_version": "1.5.0",
     "model_name": "ProgressStyleModel",
     "state": {
      "_model_module": "@jupyter-widgets/controls",
      "_model_module_version": "1.5.0",
      "_model_name": "ProgressStyleModel",
      "_view_count": null,
      "_view_module": "@jupyter-widgets/base",
      "_view_module_version": "1.2.0",
      "_view_name": "StyleView",
      "bar_color": null,
      "description_width": ""
     }
    },
    "97835cec29144f639a5f61cd3a2b18c2": {
     "model_module": "@jupyter-widgets/base",
     "model_module_version": "1.2.0",
     "model_name": "LayoutModel",
     "state": {
      "_model_module": "@jupyter-widgets/base",
      "_model_module_version": "1.2.0",
      "_model_name": "LayoutModel",
      "_view_count": null,
      "_view_module": "@jupyter-widgets/base",
      "_view_module_version": "1.2.0",
      "_view_name": "LayoutView",
      "align_content": null,
      "align_items": null,
      "align_self": null,
      "border": null,
      "bottom": null,
      "display": null,
      "flex": null,
      "flex_flow": null,
      "grid_area": null,
      "grid_auto_columns": null,
      "grid_auto_flow": null,
      "grid_auto_rows": null,
      "grid_column": null,
      "grid_gap": null,
      "grid_row": null,
      "grid_template_areas": null,
      "grid_template_columns": null,
      "grid_template_rows": null,
      "height": null,
      "justify_content": null,
      "justify_items": null,
      "left": null,
      "margin": null,
      "max_height": null,
      "max_width": null,
      "min_height": null,
      "min_width": null,
      "object_fit": null,
      "object_position": null,
      "order": null,
      "overflow": null,
      "overflow_x": null,
      "overflow_y": null,
      "padding": null,
      "right": null,
      "top": null,
      "visibility": null,
      "width": null
     }
    },
    "98211a51ddf94b25a44e3177e3cdc3e7": {
     "model_module": "@jupyter-widgets/controls",
     "model_module_version": "1.5.0",
     "model_name": "HTMLModel",
     "state": {
      "_dom_classes": [],
      "_model_module": "@jupyter-widgets/controls",
      "_model_module_version": "1.5.0",
      "_model_name": "HTMLModel",
      "_view_count": null,
      "_view_module": "@jupyter-widgets/controls",
      "_view_module_version": "1.5.0",
      "_view_name": "HTMLView",
      "description": "",
      "description_tooltip": null,
      "layout": "IPY_MODEL_515dc8f010da4162accf8cc3890358cf",
      "placeholder": "​",
      "style": "IPY_MODEL_5fa7227a37644ad298bcccc000da3317",
      "value": "<center> <img\nsrc=https://huggingface.co/front/assets/huggingface_logo-noborder.svg\nalt='Hugging Face'> <br> Copy a token from <a\nhref=\"https://huggingface.co/settings/tokens\" target=\"_blank\">your Hugging Face\ntokens page</a> and paste it below. <br> Immediately click login after copying\nyour token or it might be stored in plain text in this notebook file. </center>"
     }
    },
    "9d69ce1ea1f045528519d1303ff8af77": {
     "model_module": "@jupyter-widgets/controls",
     "model_module_version": "1.5.0",
     "model_name": "HTMLModel",
     "state": {
      "_dom_classes": [],
      "_model_module": "@jupyter-widgets/controls",
      "_model_module_version": "1.5.0",
      "_model_name": "HTMLModel",
      "_view_count": null,
      "_view_module": "@jupyter-widgets/controls",
      "_view_module_version": "1.5.0",
      "_view_name": "HTMLView",
      "description": "",
      "description_tooltip": null,
      "layout": "IPY_MODEL_31f843802662472a94d3c682a2bd74a8",
      "placeholder": "​",
      "style": "IPY_MODEL_969b776096564cceb400b2c90a3adb55",
      "value": "Downloading (…)lve/main/config.json: 100%"
     }
    },
    "9fab9106ee00497ba1ef4a67de4751cc": {
     "model_module": "@jupyter-widgets/controls",
     "model_module_version": "1.5.0",
     "model_name": "FloatProgressModel",
     "state": {
      "_dom_classes": [],
      "_model_module": "@jupyter-widgets/controls",
      "_model_module_version": "1.5.0",
      "_model_name": "FloatProgressModel",
      "_view_count": null,
      "_view_module": "@jupyter-widgets/controls",
      "_view_module_version": "1.5.0",
      "_view_name": "ProgressView",
      "bar_style": "success",
      "description": "",
      "description_tooltip": null,
      "layout": "IPY_MODEL_3fa69385ce1f40a58f6c4059474887b5",
      "max": 585485317,
      "min": 0,
      "orientation": "horizontal",
      "style": "IPY_MODEL_e016e5b2b5bf4b7e8e6c7461f6757828",
      "value": 585485317
     }
    },
    "a09e44abddc74ed7845ffe1ff559b933": {
     "model_module": "@jupyter-widgets/base",
     "model_module_version": "1.2.0",
     "model_name": "LayoutModel",
     "state": {
      "_model_module": "@jupyter-widgets/base",
      "_model_module_version": "1.2.0",
      "_model_name": "LayoutModel",
      "_view_count": null,
      "_view_module": "@jupyter-widgets/base",
      "_view_module_version": "1.2.0",
      "_view_name": "LayoutView",
      "align_content": null,
      "align_items": null,
      "align_self": null,
      "border": null,
      "bottom": null,
      "display": null,
      "flex": null,
      "flex_flow": null,
      "grid_area": null,
      "grid_auto_columns": null,
      "grid_auto_flow": null,
      "grid_auto_rows": null,
      "grid_column": null,
      "grid_gap": null,
      "grid_row": null,
      "grid_template_areas": null,
      "grid_template_columns": null,
      "grid_template_rows": null,
      "height": null,
      "justify_content": null,
      "justify_items": null,
      "left": null,
      "margin": null,
      "max_height": null,
      "max_width": null,
      "min_height": null,
      "min_width": null,
      "object_fit": null,
      "object_position": null,
      "order": null,
      "overflow": null,
      "overflow_x": null,
      "overflow_y": null,
      "padding": null,
      "right": null,
      "top": null,
      "visibility": null,
      "width": null
     }
    },
    "a160ef70490b46dc8fb653a938bee09e": {
     "model_module": "@jupyter-widgets/base",
     "model_module_version": "1.2.0",
     "model_name": "LayoutModel",
     "state": {
      "_model_module": "@jupyter-widgets/base",
      "_model_module_version": "1.2.0",
      "_model_name": "LayoutModel",
      "_view_count": null,
      "_view_module": "@jupyter-widgets/base",
      "_view_module_version": "1.2.0",
      "_view_name": "LayoutView",
      "align_content": null,
      "align_items": null,
      "align_self": null,
      "border": null,
      "bottom": null,
      "display": null,
      "flex": null,
      "flex_flow": null,
      "grid_area": null,
      "grid_auto_columns": null,
      "grid_auto_flow": null,
      "grid_auto_rows": null,
      "grid_column": null,
      "grid_gap": null,
      "grid_row": null,
      "grid_template_areas": null,
      "grid_template_columns": null,
      "grid_template_rows": null,
      "height": null,
      "justify_content": null,
      "justify_items": null,
      "left": null,
      "margin": null,
      "max_height": null,
      "max_width": null,
      "min_height": null,
      "min_width": null,
      "object_fit": null,
      "object_position": null,
      "order": null,
      "overflow": null,
      "overflow_x": null,
      "overflow_y": null,
      "padding": null,
      "right": null,
      "top": null,
      "visibility": null,
      "width": null
     }
    },
    "a37842ab181f403ca7e8175a987e6904": {
     "model_module": "@jupyter-widgets/base",
     "model_module_version": "1.2.0",
     "model_name": "LayoutModel",
     "state": {
      "_model_module": "@jupyter-widgets/base",
      "_model_module_version": "1.2.0",
      "_model_name": "LayoutModel",
      "_view_count": null,
      "_view_module": "@jupyter-widgets/base",
      "_view_module_version": "1.2.0",
      "_view_name": "LayoutView",
      "align_content": null,
      "align_items": null,
      "align_self": null,
      "border": null,
      "bottom": null,
      "display": null,
      "flex": null,
      "flex_flow": null,
      "grid_area": null,
      "grid_auto_columns": null,
      "grid_auto_flow": null,
      "grid_auto_rows": null,
      "grid_column": null,
      "grid_gap": null,
      "grid_row": null,
      "grid_template_areas": null,
      "grid_template_columns": null,
      "grid_template_rows": null,
      "height": null,
      "justify_content": null,
      "justify_items": null,
      "left": null,
      "margin": null,
      "max_height": null,
      "max_width": null,
      "min_height": null,
      "min_width": null,
      "object_fit": null,
      "object_position": null,
      "order": null,
      "overflow": null,
      "overflow_x": null,
      "overflow_y": null,
      "padding": null,
      "right": null,
      "top": null,
      "visibility": null,
      "width": null
     }
    },
    "a3aaf2d687e843c2933d4ebcdc0ce740": {
     "model_module": "@jupyter-widgets/base",
     "model_module_version": "1.2.0",
     "model_name": "LayoutModel",
     "state": {
      "_model_module": "@jupyter-widgets/base",
      "_model_module_version": "1.2.0",
      "_model_name": "LayoutModel",
      "_view_count": null,
      "_view_module": "@jupyter-widgets/base",
      "_view_module_version": "1.2.0",
      "_view_name": "LayoutView",
      "align_content": null,
      "align_items": null,
      "align_self": null,
      "border": null,
      "bottom": null,
      "display": null,
      "flex": null,
      "flex_flow": null,
      "grid_area": null,
      "grid_auto_columns": null,
      "grid_auto_flow": null,
      "grid_auto_rows": null,
      "grid_column": null,
      "grid_gap": null,
      "grid_row": null,
      "grid_template_areas": null,
      "grid_template_columns": null,
      "grid_template_rows": null,
      "height": null,
      "justify_content": null,
      "justify_items": null,
      "left": null,
      "margin": null,
      "max_height": null,
      "max_width": null,
      "min_height": null,
      "min_width": null,
      "object_fit": null,
      "object_position": null,
      "order": null,
      "overflow": null,
      "overflow_x": null,
      "overflow_y": null,
      "padding": null,
      "right": null,
      "top": null,
      "visibility": null,
      "width": null
     }
    },
    "a5346308f86540f4b05ba542a1230b47": {
     "model_module": "@jupyter-widgets/controls",
     "model_module_version": "1.5.0",
     "model_name": "HBoxModel",
     "state": {
      "_dom_classes": [],
      "_model_module": "@jupyter-widgets/controls",
      "_model_module_version": "1.5.0",
      "_model_name": "HBoxModel",
      "_view_count": null,
      "_view_module": "@jupyter-widgets/controls",
      "_view_module_version": "1.5.0",
      "_view_name": "HBoxView",
      "box_style": "",
      "children": [
       "IPY_MODEL_47943abd7e914f829e11d3820cc8ca3e",
       "IPY_MODEL_f6ead4230da64b918db9341095563a0e",
       "IPY_MODEL_c3d3a3ef790e4cfaa5b59fda49a62689"
      ],
      "layout": "IPY_MODEL_40eccaace52b4f0ca8a9b846060dcf15"
     }
    },
    "a705250a4195470c988f19f6514849bd": {
     "model_module": "@jupyter-widgets/base",
     "model_module_version": "1.2.0",
     "model_name": "LayoutModel",
     "state": {
      "_model_module": "@jupyter-widgets/base",
      "_model_module_version": "1.2.0",
      "_model_name": "LayoutModel",
      "_view_count": null,
      "_view_module": "@jupyter-widgets/base",
      "_view_module_version": "1.2.0",
      "_view_name": "LayoutView",
      "align_content": null,
      "align_items": null,
      "align_self": null,
      "border": null,
      "bottom": null,
      "display": null,
      "flex": null,
      "flex_flow": null,
      "grid_area": null,
      "grid_auto_columns": null,
      "grid_auto_flow": null,
      "grid_auto_rows": null,
      "grid_column": null,
      "grid_gap": null,
      "grid_row": null,
      "grid_template_areas": null,
      "grid_template_columns": null,
      "grid_template_rows": null,
      "height": null,
      "justify_content": null,
      "justify_items": null,
      "left": null,
      "margin": null,
      "max_height": null,
      "max_width": null,
      "min_height": null,
      "min_width": null,
      "object_fit": null,
      "object_position": null,
      "order": null,
      "overflow": null,
      "overflow_x": null,
      "overflow_y": null,
      "padding": null,
      "right": null,
      "top": null,
      "visibility": null,
      "width": null
     }
    },
    "a807fbf9098d423495b19f8ab268e8e7": {
     "model_module": "@jupyter-widgets/controls",
     "model_module_version": "1.5.0",
     "model_name": "DescriptionStyleModel",
     "state": {
      "_model_module": "@jupyter-widgets/controls",
      "_model_module_version": "1.5.0",
      "_model_name": "DescriptionStyleModel",
      "_view_count": null,
      "_view_module": "@jupyter-widgets/base",
      "_view_module_version": "1.2.0",
      "_view_name": "StyleView",
      "description_width": ""
     }
    },
    "a8a6f45d78504d4ab75d3dbf47955ba8": {
     "model_module": "@jupyter-widgets/base",
     "model_module_version": "1.2.0",
     "model_name": "LayoutModel",
     "state": {
      "_model_module": "@jupyter-widgets/base",
      "_model_module_version": "1.2.0",
      "_model_name": "LayoutModel",
      "_view_count": null,
      "_view_module": "@jupyter-widgets/base",
      "_view_module_version": "1.2.0",
      "_view_name": "LayoutView",
      "align_content": null,
      "align_items": null,
      "align_self": null,
      "border": null,
      "bottom": null,
      "display": null,
      "flex": null,
      "flex_flow": null,
      "grid_area": null,
      "grid_auto_columns": null,
      "grid_auto_flow": null,
      "grid_auto_rows": null,
      "grid_column": null,
      "grid_gap": null,
      "grid_row": null,
      "grid_template_areas": null,
      "grid_template_columns": null,
      "grid_template_rows": null,
      "height": null,
      "justify_content": null,
      "justify_items": null,
      "left": null,
      "margin": null,
      "max_height": null,
      "max_width": null,
      "min_height": null,
      "min_width": null,
      "object_fit": null,
      "object_position": null,
      "order": null,
      "overflow": null,
      "overflow_x": null,
      "overflow_y": null,
      "padding": null,
      "right": null,
      "top": null,
      "visibility": null,
      "width": null
     }
    },
    "aa935f4d46814226a663fd686f981bbf": {
     "model_module": "@jupyter-widgets/base",
     "model_module_version": "1.2.0",
     "model_name": "LayoutModel",
     "state": {
      "_model_module": "@jupyter-widgets/base",
      "_model_module_version": "1.2.0",
      "_model_name": "LayoutModel",
      "_view_count": null,
      "_view_module": "@jupyter-widgets/base",
      "_view_module_version": "1.2.0",
      "_view_name": "LayoutView",
      "align_content": null,
      "align_items": null,
      "align_self": null,
      "border": null,
      "bottom": null,
      "display": null,
      "flex": null,
      "flex_flow": null,
      "grid_area": null,
      "grid_auto_columns": null,
      "grid_auto_flow": null,
      "grid_auto_rows": null,
      "grid_column": null,
      "grid_gap": null,
      "grid_row": null,
      "grid_template_areas": null,
      "grid_template_columns": null,
      "grid_template_rows": null,
      "height": null,
      "justify_content": null,
      "justify_items": null,
      "left": null,
      "margin": null,
      "max_height": null,
      "max_width": null,
      "min_height": null,
      "min_width": null,
      "object_fit": null,
      "object_position": null,
      "order": null,
      "overflow": null,
      "overflow_x": null,
      "overflow_y": null,
      "padding": null,
      "right": null,
      "top": null,
      "visibility": null,
      "width": null
     }
    },
    "ad2c7c362e9b45529a2108e4252e5204": {
     "model_module": "@jupyter-widgets/base",
     "model_module_version": "1.2.0",
     "model_name": "LayoutModel",
     "state": {
      "_model_module": "@jupyter-widgets/base",
      "_model_module_version": "1.2.0",
      "_model_name": "LayoutModel",
      "_view_count": null,
      "_view_module": "@jupyter-widgets/base",
      "_view_module_version": "1.2.0",
      "_view_name": "LayoutView",
      "align_content": null,
      "align_items": null,
      "align_self": null,
      "border": null,
      "bottom": null,
      "display": null,
      "flex": null,
      "flex_flow": null,
      "grid_area": null,
      "grid_auto_columns": null,
      "grid_auto_flow": null,
      "grid_auto_rows": null,
      "grid_column": null,
      "grid_gap": null,
      "grid_row": null,
      "grid_template_areas": null,
      "grid_template_columns": null,
      "grid_template_rows": null,
      "height": null,
      "justify_content": null,
      "justify_items": null,
      "left": null,
      "margin": null,
      "max_height": null,
      "max_width": null,
      "min_height": null,
      "min_width": null,
      "object_fit": null,
      "object_position": null,
      "order": null,
      "overflow": null,
      "overflow_x": null,
      "overflow_y": null,
      "padding": null,
      "right": null,
      "top": null,
      "visibility": null,
      "width": null
     }
    },
    "b2952eb34cc24218b3e6cd01b1c3f88a": {
     "model_module": "@jupyter-widgets/base",
     "model_module_version": "1.2.0",
     "model_name": "LayoutModel",
     "state": {
      "_model_module": "@jupyter-widgets/base",
      "_model_module_version": "1.2.0",
      "_model_name": "LayoutModel",
      "_view_count": null,
      "_view_module": "@jupyter-widgets/base",
      "_view_module_version": "1.2.0",
      "_view_name": "LayoutView",
      "align_content": null,
      "align_items": null,
      "align_self": null,
      "border": null,
      "bottom": null,
      "display": null,
      "flex": null,
      "flex_flow": null,
      "grid_area": null,
      "grid_auto_columns": null,
      "grid_auto_flow": null,
      "grid_auto_rows": null,
      "grid_column": null,
      "grid_gap": null,
      "grid_row": null,
      "grid_template_areas": null,
      "grid_template_columns": null,
      "grid_template_rows": null,
      "height": null,
      "justify_content": null,
      "justify_items": null,
      "left": null,
      "margin": null,
      "max_height": null,
      "max_width": null,
      "min_height": null,
      "min_width": null,
      "object_fit": null,
      "object_position": null,
      "order": null,
      "overflow": null,
      "overflow_x": null,
      "overflow_y": null,
      "padding": null,
      "right": null,
      "top": null,
      "visibility": null,
      "width": null
     }
    },
    "b44f03cb9d2742939ee74388bb4a2c61": {
     "model_module": "@jupyter-widgets/controls",
     "model_module_version": "1.5.0",
     "model_name": "ButtonStyleModel",
     "state": {
      "_model_module": "@jupyter-widgets/controls",
      "_model_module_version": "1.5.0",
      "_model_name": "ButtonStyleModel",
      "_view_count": null,
      "_view_module": "@jupyter-widgets/base",
      "_view_module_version": "1.2.0",
      "_view_name": "StyleView",
      "button_color": null,
      "font_weight": ""
     }
    },
    "b5b570cabdc3487eb92e24b8a177bac5": {
     "model_module": "@jupyter-widgets/controls",
     "model_module_version": "1.5.0",
     "model_name": "HTMLModel",
     "state": {
      "_dom_classes": [],
      "_model_module": "@jupyter-widgets/controls",
      "_model_module_version": "1.5.0",
      "_model_name": "HTMLModel",
      "_view_count": null,
      "_view_module": "@jupyter-widgets/controls",
      "_view_module_version": "1.5.0",
      "_view_name": "HTMLView",
      "description": "",
      "description_tooltip": null,
      "layout": "IPY_MODEL_92ba197de02e4ac5ac039dc2807cdd6a",
      "placeholder": "​",
      "style": "IPY_MODEL_5aa4d37cc1b14006bee506ff3e959ba4",
      "value": " 9973/9973 [00:00&lt;00:00, 16819.77 examples/s]"
     }
    },
    "b98dc41fbd1f4a40bec527dfacbc737a": {
     "model_module": "@jupyter-widgets/controls",
     "model_module_version": "1.5.0",
     "model_name": "HTMLModel",
     "state": {
      "_dom_classes": [],
      "_model_module": "@jupyter-widgets/controls",
      "_model_module_version": "1.5.0",
      "_model_name": "HTMLModel",
      "_view_count": null,
      "_view_module": "@jupyter-widgets/controls",
      "_view_module_version": "1.5.0",
      "_view_name": "HTMLView",
      "description": "",
      "description_tooltip": null,
      "layout": "IPY_MODEL_cdd4816516784d44bb56b2a47c051ba8",
      "placeholder": "​",
      "style": "IPY_MODEL_be580e387f8247cd89fa4a157a105d58",
      "value": " 20968/20968 [00:00&lt;00:00, 243569.61 examples/s]"
     }
    },
    "bb49135849574eeda10e2955631e5776": {
     "model_module": "@jupyter-widgets/controls",
     "model_module_version": "1.5.0",
     "model_name": "DescriptionStyleModel",
     "state": {
      "_model_module": "@jupyter-widgets/controls",
      "_model_module_version": "1.5.0",
      "_model_name": "DescriptionStyleModel",
      "_view_count": null,
      "_view_module": "@jupyter-widgets/base",
      "_view_module_version": "1.2.0",
      "_view_name": "StyleView",
      "description_width": ""
     }
    },
    "bbd339d05b6c4def867887305f61bc45": {
     "model_module": "@jupyter-widgets/base",
     "model_module_version": "1.2.0",
     "model_name": "LayoutModel",
     "state": {
      "_model_module": "@jupyter-widgets/base",
      "_model_module_version": "1.2.0",
      "_model_name": "LayoutModel",
      "_view_count": null,
      "_view_module": "@jupyter-widgets/base",
      "_view_module_version": "1.2.0",
      "_view_name": "LayoutView",
      "align_content": null,
      "align_items": null,
      "align_self": null,
      "border": null,
      "bottom": null,
      "display": null,
      "flex": null,
      "flex_flow": null,
      "grid_area": null,
      "grid_auto_columns": null,
      "grid_auto_flow": null,
      "grid_auto_rows": null,
      "grid_column": null,
      "grid_gap": null,
      "grid_row": null,
      "grid_template_areas": null,
      "grid_template_columns": null,
      "grid_template_rows": null,
      "height": null,
      "justify_content": null,
      "justify_items": null,
      "left": null,
      "margin": null,
      "max_height": null,
      "max_width": null,
      "min_height": null,
      "min_width": null,
      "object_fit": null,
      "object_position": null,
      "order": null,
      "overflow": null,
      "overflow_x": null,
      "overflow_y": null,
      "padding": null,
      "right": null,
      "top": null,
      "visibility": null,
      "width": null
     }
    },
    "be580e387f8247cd89fa4a157a105d58": {
     "model_module": "@jupyter-widgets/controls",
     "model_module_version": "1.5.0",
     "model_name": "DescriptionStyleModel",
     "state": {
      "_model_module": "@jupyter-widgets/controls",
      "_model_module_version": "1.5.0",
      "_model_name": "DescriptionStyleModel",
      "_view_count": null,
      "_view_module": "@jupyter-widgets/base",
      "_view_module_version": "1.2.0",
      "_view_name": "StyleView",
      "description_width": ""
     }
    },
    "be9c32a86ea442298fad57c5e2589339": {
     "model_module": "@jupyter-widgets/controls",
     "model_module_version": "1.5.0",
     "model_name": "ProgressStyleModel",
     "state": {
      "_model_module": "@jupyter-widgets/controls",
      "_model_module_version": "1.5.0",
      "_model_name": "ProgressStyleModel",
      "_view_count": null,
      "_view_module": "@jupyter-widgets/base",
      "_view_module_version": "1.2.0",
      "_view_name": "StyleView",
      "bar_color": null,
      "description_width": ""
     }
    },
    "c02fb768c1d541a2aa5269a97dec07ac": {
     "model_module": "@jupyter-widgets/base",
     "model_module_version": "1.2.0",
     "model_name": "LayoutModel",
     "state": {
      "_model_module": "@jupyter-widgets/base",
      "_model_module_version": "1.2.0",
      "_model_name": "LayoutModel",
      "_view_count": null,
      "_view_module": "@jupyter-widgets/base",
      "_view_module_version": "1.2.0",
      "_view_name": "LayoutView",
      "align_content": null,
      "align_items": null,
      "align_self": null,
      "border": null,
      "bottom": null,
      "display": null,
      "flex": null,
      "flex_flow": null,
      "grid_area": null,
      "grid_auto_columns": null,
      "grid_auto_flow": null,
      "grid_auto_rows": null,
      "grid_column": null,
      "grid_gap": null,
      "grid_row": null,
      "grid_template_areas": null,
      "grid_template_columns": null,
      "grid_template_rows": null,
      "height": null,
      "justify_content": null,
      "justify_items": null,
      "left": null,
      "margin": null,
      "max_height": null,
      "max_width": null,
      "min_height": null,
      "min_width": null,
      "object_fit": null,
      "object_position": null,
      "order": null,
      "overflow": null,
      "overflow_x": null,
      "overflow_y": null,
      "padding": null,
      "right": null,
      "top": null,
      "visibility": null,
      "width": null
     }
    },
    "c03e907d330d4ef3a67dc5a9c74efb8a": {
     "model_module": "@jupyter-widgets/controls",
     "model_module_version": "1.5.0",
     "model_name": "HBoxModel",
     "state": {
      "_dom_classes": [],
      "_model_module": "@jupyter-widgets/controls",
      "_model_module_version": "1.5.0",
      "_model_name": "HBoxModel",
      "_view_count": null,
      "_view_module": "@jupyter-widgets/controls",
      "_view_module_version": "1.5.0",
      "_view_name": "HBoxView",
      "box_style": "",
      "children": [
       "IPY_MODEL_7a2afb9beeae4f0cb8df3c9cd2508245",
       "IPY_MODEL_9fab9106ee00497ba1ef4a67de4751cc",
       "IPY_MODEL_f72ced9bcad74bcaaa7af943b31e87f6"
      ],
      "layout": "IPY_MODEL_12dee1b077694478900d22bb6652d7b6"
     }
    },
    "c3244a99df964d4bba0ddc5add4fb3cd": {
     "model_module": "@jupyter-widgets/base",
     "model_module_version": "1.2.0",
     "model_name": "LayoutModel",
     "state": {
      "_model_module": "@jupyter-widgets/base",
      "_model_module_version": "1.2.0",
      "_model_name": "LayoutModel",
      "_view_count": null,
      "_view_module": "@jupyter-widgets/base",
      "_view_module_version": "1.2.0",
      "_view_name": "LayoutView",
      "align_content": null,
      "align_items": null,
      "align_self": null,
      "border": null,
      "bottom": null,
      "display": null,
      "flex": null,
      "flex_flow": null,
      "grid_area": null,
      "grid_auto_columns": null,
      "grid_auto_flow": null,
      "grid_auto_rows": null,
      "grid_column": null,
      "grid_gap": null,
      "grid_row": null,
      "grid_template_areas": null,
      "grid_template_columns": null,
      "grid_template_rows": null,
      "height": null,
      "justify_content": null,
      "justify_items": null,
      "left": null,
      "margin": null,
      "max_height": null,
      "max_width": null,
      "min_height": null,
      "min_width": null,
      "object_fit": null,
      "object_position": null,
      "order": null,
      "overflow": null,
      "overflow_x": null,
      "overflow_y": null,
      "padding": null,
      "right": null,
      "top": null,
      "visibility": null,
      "width": null
     }
    },
    "c3cb617021ed4fe7954c7a76c7ea2d4d": {
     "model_module": "@jupyter-widgets/base",
     "model_module_version": "1.2.0",
     "model_name": "LayoutModel",
     "state": {
      "_model_module": "@jupyter-widgets/base",
      "_model_module_version": "1.2.0",
      "_model_name": "LayoutModel",
      "_view_count": null,
      "_view_module": "@jupyter-widgets/base",
      "_view_module_version": "1.2.0",
      "_view_name": "LayoutView",
      "align_content": null,
      "align_items": null,
      "align_self": null,
      "border": null,
      "bottom": null,
      "display": null,
      "flex": null,
      "flex_flow": null,
      "grid_area": null,
      "grid_auto_columns": null,
      "grid_auto_flow": null,
      "grid_auto_rows": null,
      "grid_column": null,
      "grid_gap": null,
      "grid_row": null,
      "grid_template_areas": null,
      "grid_template_columns": null,
      "grid_template_rows": null,
      "height": null,
      "justify_content": null,
      "justify_items": null,
      "left": null,
      "margin": null,
      "max_height": null,
      "max_width": null,
      "min_height": null,
      "min_width": null,
      "object_fit": null,
      "object_position": null,
      "order": null,
      "overflow": null,
      "overflow_x": null,
      "overflow_y": null,
      "padding": null,
      "right": null,
      "top": null,
      "visibility": null,
      "width": null
     }
    },
    "c3d3a3ef790e4cfaa5b59fda49a62689": {
     "model_module": "@jupyter-widgets/controls",
     "model_module_version": "1.5.0",
     "model_name": "HTMLModel",
     "state": {
      "_dom_classes": [],
      "_model_module": "@jupyter-widgets/controls",
      "_model_module_version": "1.5.0",
      "_model_name": "HTMLModel",
      "_view_count": null,
      "_view_module": "@jupyter-widgets/controls",
      "_view_module_version": "1.5.0",
      "_view_name": "HTMLView",
      "description": "",
      "description_tooltip": null,
      "layout": "IPY_MODEL_d049dfd5931248159029e748acfa611c",
      "placeholder": "​",
      "style": "IPY_MODEL_6255ea93e05140f09ca82b85ecb54fca",
      "value": " 636/636 [00:00&lt;00:00, 38.2kB/s]"
     }
    },
    "c5d1b33e111e42ed877b47b91c9831cc": {
     "model_module": "@jupyter-widgets/controls",
     "model_module_version": "1.5.0",
     "model_name": "FloatProgressModel",
     "state": {
      "_dom_classes": [],
      "_model_module": "@jupyter-widgets/controls",
      "_model_module_version": "1.5.0",
      "_model_name": "FloatProgressModel",
      "_view_count": null,
      "_view_module": "@jupyter-widgets/controls",
      "_view_module_version": "1.5.0",
      "_view_name": "ProgressView",
      "bar_style": "success",
      "description": "",
      "description_tooltip": null,
      "layout": "IPY_MODEL_5854ee4e1a224964b90364231547ecf8",
      "max": 2108,
      "min": 0,
      "orientation": "horizontal",
      "style": "IPY_MODEL_37e1802f96f1438e98130dd5878e1078",
      "value": 2108
     }
    },
    "c7820300f5894c8cbaf9646f610dbdbc": {
     "model_module": "@jupyter-widgets/controls",
     "model_module_version": "1.5.0",
     "model_name": "HTMLModel",
     "state": {
      "_dom_classes": [],
      "_model_module": "@jupyter-widgets/controls",
      "_model_module_version": "1.5.0",
      "_model_name": "HTMLModel",
      "_view_count": null,
      "_view_module": "@jupyter-widgets/controls",
      "_view_module_version": "1.5.0",
      "_view_name": "HTMLView",
      "description": "",
      "description_tooltip": null,
      "layout": "IPY_MODEL_1ff85e5d7f394b34b1ae505720d95f0f",
      "placeholder": "​",
      "style": "IPY_MODEL_10dea0f6209748d98732c7aafacd348f",
      "value": " 15.9M/15.9M [00:00&lt;00:00, 87.4MB/s]"
     }
    },
    "cb6ab4db660f49ddb682740fcedcdc9b": {
     "model_module": "@jupyter-widgets/controls",
     "model_module_version": "1.5.0",
     "model_name": "HTMLModel",
     "state": {
      "_dom_classes": [],
      "_model_module": "@jupyter-widgets/controls",
      "_model_module_version": "1.5.0",
      "_model_name": "HTMLModel",
      "_view_count": null,
      "_view_module": "@jupyter-widgets/controls",
      "_view_module_version": "1.5.0",
      "_view_name": "HTMLView",
      "description": "",
      "description_tooltip": null,
      "layout": "IPY_MODEL_d289340c639e44e4b05d6d00a67e6e05",
      "placeholder": "​",
      "style": "IPY_MODEL_fdcc1dc63c6f4116983af0089ebe4283",
      "value": " 9973/9973 [07:40&lt;00:00, 27.63 examples/s]"
     }
    },
    "ccf863790fe146d6a8f34d9800864d23": {
     "model_module": "@jupyter-widgets/base",
     "model_module_version": "1.2.0",
     "model_name": "LayoutModel",
     "state": {
      "_model_module": "@jupyter-widgets/base",
      "_model_module_version": "1.2.0",
      "_model_name": "LayoutModel",
      "_view_count": null,
      "_view_module": "@jupyter-widgets/base",
      "_view_module_version": "1.2.0",
      "_view_name": "LayoutView",
      "align_content": null,
      "align_items": null,
      "align_self": null,
      "border": null,
      "bottom": null,
      "display": null,
      "flex": null,
      "flex_flow": null,
      "grid_area": null,
      "grid_auto_columns": null,
      "grid_auto_flow": null,
      "grid_auto_rows": null,
      "grid_column": null,
      "grid_gap": null,
      "grid_row": null,
      "grid_template_areas": null,
      "grid_template_columns": null,
      "grid_template_rows": null,
      "height": null,
      "justify_content": null,
      "justify_items": null,
      "left": null,
      "margin": null,
      "max_height": null,
      "max_width": null,
      "min_height": null,
      "min_width": null,
      "object_fit": null,
      "object_position": null,
      "order": null,
      "overflow": null,
      "overflow_x": null,
      "overflow_y": null,
      "padding": null,
      "right": null,
      "top": null,
      "visibility": null,
      "width": null
     }
    },
    "cdd4816516784d44bb56b2a47c051ba8": {
     "model_module": "@jupyter-widgets/base",
     "model_module_version": "1.2.0",
     "model_name": "LayoutModel",
     "state": {
      "_model_module": "@jupyter-widgets/base",
      "_model_module_version": "1.2.0",
      "_model_name": "LayoutModel",
      "_view_count": null,
      "_view_module": "@jupyter-widgets/base",
      "_view_module_version": "1.2.0",
      "_view_name": "LayoutView",
      "align_content": null,
      "align_items": null,
      "align_self": null,
      "border": null,
      "bottom": null,
      "display": null,
      "flex": null,
      "flex_flow": null,
      "grid_area": null,
      "grid_auto_columns": null,
      "grid_auto_flow": null,
      "grid_auto_rows": null,
      "grid_column": null,
      "grid_gap": null,
      "grid_row": null,
      "grid_template_areas": null,
      "grid_template_columns": null,
      "grid_template_rows": null,
      "height": null,
      "justify_content": null,
      "justify_items": null,
      "left": null,
      "margin": null,
      "max_height": null,
      "max_width": null,
      "min_height": null,
      "min_width": null,
      "object_fit": null,
      "object_position": null,
      "order": null,
      "overflow": null,
      "overflow_x": null,
      "overflow_y": null,
      "padding": null,
      "right": null,
      "top": null,
      "visibility": null,
      "width": null
     }
    },
    "d049dfd5931248159029e748acfa611c": {
     "model_module": "@jupyter-widgets/base",
     "model_module_version": "1.2.0",
     "model_name": "LayoutModel",
     "state": {
      "_model_module": "@jupyter-widgets/base",
      "_model_module_version": "1.2.0",
      "_model_name": "LayoutModel",
      "_view_count": null,
      "_view_module": "@jupyter-widgets/base",
      "_view_module_version": "1.2.0",
      "_view_name": "LayoutView",
      "align_content": null,
      "align_items": null,
      "align_self": null,
      "border": null,
      "bottom": null,
      "display": null,
      "flex": null,
      "flex_flow": null,
      "grid_area": null,
      "grid_auto_columns": null,
      "grid_auto_flow": null,
      "grid_auto_rows": null,
      "grid_column": null,
      "grid_gap": null,
      "grid_row": null,
      "grid_template_areas": null,
      "grid_template_columns": null,
      "grid_template_rows": null,
      "height": null,
      "justify_content": null,
      "justify_items": null,
      "left": null,
      "margin": null,
      "max_height": null,
      "max_width": null,
      "min_height": null,
      "min_width": null,
      "object_fit": null,
      "object_position": null,
      "order": null,
      "overflow": null,
      "overflow_x": null,
      "overflow_y": null,
      "padding": null,
      "right": null,
      "top": null,
      "visibility": null,
      "width": null
     }
    },
    "d153f300f66d4f10a7eac735bb17e7f2": {
     "model_module": "@jupyter-widgets/controls",
     "model_module_version": "1.5.0",
     "model_name": "DescriptionStyleModel",
     "state": {
      "_model_module": "@jupyter-widgets/controls",
      "_model_module_version": "1.5.0",
      "_model_name": "DescriptionStyleModel",
      "_view_count": null,
      "_view_module": "@jupyter-widgets/base",
      "_view_module_version": "1.2.0",
      "_view_name": "StyleView",
      "description_width": ""
     }
    },
    "d289340c639e44e4b05d6d00a67e6e05": {
     "model_module": "@jupyter-widgets/base",
     "model_module_version": "1.2.0",
     "model_name": "LayoutModel",
     "state": {
      "_model_module": "@jupyter-widgets/base",
      "_model_module_version": "1.2.0",
      "_model_name": "LayoutModel",
      "_view_count": null,
      "_view_module": "@jupyter-widgets/base",
      "_view_module_version": "1.2.0",
      "_view_name": "LayoutView",
      "align_content": null,
      "align_items": null,
      "align_self": null,
      "border": null,
      "bottom": null,
      "display": null,
      "flex": null,
      "flex_flow": null,
      "grid_area": null,
      "grid_auto_columns": null,
      "grid_auto_flow": null,
      "grid_auto_rows": null,
      "grid_column": null,
      "grid_gap": null,
      "grid_row": null,
      "grid_template_areas": null,
      "grid_template_columns": null,
      "grid_template_rows": null,
      "height": null,
      "justify_content": null,
      "justify_items": null,
      "left": null,
      "margin": null,
      "max_height": null,
      "max_width": null,
      "min_height": null,
      "min_width": null,
      "object_fit": null,
      "object_position": null,
      "order": null,
      "overflow": null,
      "overflow_x": null,
      "overflow_y": null,
      "padding": null,
      "right": null,
      "top": null,
      "visibility": null,
      "width": null
     }
    },
    "d588c7dd53c145ac96d772a6af055101": {
     "model_module": "@jupyter-widgets/controls",
     "model_module_version": "1.5.0",
     "model_name": "DescriptionStyleModel",
     "state": {
      "_model_module": "@jupyter-widgets/controls",
      "_model_module_version": "1.5.0",
      "_model_name": "DescriptionStyleModel",
      "_view_count": null,
      "_view_module": "@jupyter-widgets/base",
      "_view_module_version": "1.2.0",
      "_view_name": "StyleView",
      "description_width": ""
     }
    },
    "da7579dd7d8b4ad2a3ac54669e2f2e41": {
     "model_module": "@jupyter-widgets/base",
     "model_module_version": "1.2.0",
     "model_name": "LayoutModel",
     "state": {
      "_model_module": "@jupyter-widgets/base",
      "_model_module_version": "1.2.0",
      "_model_name": "LayoutModel",
      "_view_count": null,
      "_view_module": "@jupyter-widgets/base",
      "_view_module_version": "1.2.0",
      "_view_name": "LayoutView",
      "align_content": null,
      "align_items": "center",
      "align_self": null,
      "border": null,
      "bottom": null,
      "display": "flex",
      "flex": null,
      "flex_flow": "column",
      "grid_area": null,
      "grid_auto_columns": null,
      "grid_auto_flow": null,
      "grid_auto_rows": null,
      "grid_column": null,
      "grid_gap": null,
      "grid_row": null,
      "grid_template_areas": null,
      "grid_template_columns": null,
      "grid_template_rows": null,
      "height": null,
      "justify_content": null,
      "justify_items": null,
      "left": null,
      "margin": null,
      "max_height": null,
      "max_width": null,
      "min_height": null,
      "min_width": null,
      "object_fit": null,
      "object_position": null,
      "order": null,
      "overflow": null,
      "overflow_x": null,
      "overflow_y": null,
      "padding": null,
      "right": null,
      "top": null,
      "visibility": null,
      "width": "50%"
     }
    },
    "ddc2eeeaf96043deae9f8d5bb15fed3a": {
     "model_module": "@jupyter-widgets/controls",
     "model_module_version": "1.5.0",
     "model_name": "HBoxModel",
     "state": {
      "_dom_classes": [],
      "_model_module": "@jupyter-widgets/controls",
      "_model_module_version": "1.5.0",
      "_model_name": "HBoxModel",
      "_view_count": null,
      "_view_module": "@jupyter-widgets/controls",
      "_view_module_version": "1.5.0",
      "_view_name": "HBoxView",
      "box_style": "",
      "children": [
       "IPY_MODEL_e2d8329b40db47c2a15ecde79b04ad2a",
       "IPY_MODEL_58a9bc95f3c24a4db8eae6c38ed4dba5",
       "IPY_MODEL_cb6ab4db660f49ddb682740fcedcdc9b"
      ],
      "layout": "IPY_MODEL_a37842ab181f403ca7e8175a987e6904"
     }
    },
    "de8c5d1729b94579b4b79acfdb071a97": {
     "model_module": "@jupyter-widgets/controls",
     "model_module_version": "1.5.0",
     "model_name": "HTMLModel",
     "state": {
      "_dom_classes": [],
      "_model_module": "@jupyter-widgets/controls",
      "_model_module_version": "1.5.0",
      "_model_name": "HTMLModel",
      "_view_count": null,
      "_view_module": "@jupyter-widgets/controls",
      "_view_module_version": "1.5.0",
      "_view_name": "HTMLView",
      "description": "",
      "description_tooltip": null,
      "layout": "IPY_MODEL_97835cec29144f639a5f61cd3a2b18c2",
      "placeholder": "​",
      "style": "IPY_MODEL_0caece5412734537bbebdb24f5f0a178",
      "value": "Filter: 100%"
     }
    },
    "de9fe45872e647b483a4480d9e247a41": {
     "model_module": "@jupyter-widgets/controls",
     "model_module_version": "1.5.0",
     "model_name": "DescriptionStyleModel",
     "state": {
      "_model_module": "@jupyter-widgets/controls",
      "_model_module_version": "1.5.0",
      "_model_name": "DescriptionStyleModel",
      "_view_count": null,
      "_view_module": "@jupyter-widgets/base",
      "_view_module_version": "1.2.0",
      "_view_name": "StyleView",
      "description_width": ""
     }
    },
    "e016e5b2b5bf4b7e8e6c7461f6757828": {
     "model_module": "@jupyter-widgets/controls",
     "model_module_version": "1.5.0",
     "model_name": "ProgressStyleModel",
     "state": {
      "_model_module": "@jupyter-widgets/controls",
      "_model_module_version": "1.5.0",
      "_model_name": "ProgressStyleModel",
      "_view_count": null,
      "_view_module": "@jupyter-widgets/base",
      "_view_module_version": "1.2.0",
      "_view_name": "StyleView",
      "bar_color": null,
      "description_width": ""
     }
    },
    "e18c6eab62b2421b9370b319cd9af9bc": {
     "model_module": "@jupyter-widgets/controls",
     "model_module_version": "1.5.0",
     "model_name": "HTMLModel",
     "state": {
      "_dom_classes": [],
      "_model_module": "@jupyter-widgets/controls",
      "_model_module_version": "1.5.0",
      "_model_name": "HTMLModel",
      "_view_count": null,
      "_view_module": "@jupyter-widgets/controls",
      "_view_module_version": "1.5.0",
      "_view_name": "HTMLView",
      "description": "",
      "description_tooltip": null,
      "layout": "IPY_MODEL_547ef7f99cc74ac983ce49aed6aca673",
      "placeholder": "​",
      "style": "IPY_MODEL_629831e879a448909ab1d34e61481531",
      "value": "Map: 100%"
     }
    },
    "e2d8329b40db47c2a15ecde79b04ad2a": {
     "model_module": "@jupyter-widgets/controls",
     "model_module_version": "1.5.0",
     "model_name": "HTMLModel",
     "state": {
      "_dom_classes": [],
      "_model_module": "@jupyter-widgets/controls",
      "_model_module_version": "1.5.0",
      "_model_name": "HTMLModel",
      "_view_count": null,
      "_view_module": "@jupyter-widgets/controls",
      "_view_module_version": "1.5.0",
      "_view_name": "HTMLView",
      "description": "",
      "description_tooltip": null,
      "layout": "IPY_MODEL_84dea280cde54e90bdf16e938c169451",
      "placeholder": "​",
      "style": "IPY_MODEL_d153f300f66d4f10a7eac735bb17e7f2",
      "value": "Map: 100%"
     }
    },
    "e4492949874449f395eadeb83b4798b3": {
     "model_module": "@jupyter-widgets/controls",
     "model_module_version": "1.5.0",
     "model_name": "DescriptionStyleModel",
     "state": {
      "_model_module": "@jupyter-widgets/controls",
      "_model_module_version": "1.5.0",
      "_model_name": "DescriptionStyleModel",
      "_view_count": null,
      "_view_module": "@jupyter-widgets/base",
      "_view_module_version": "1.2.0",
      "_view_name": "StyleView",
      "description_width": ""
     }
    },
    "e4dd13632d1e4a30bea5fde685f2c7a5": {
     "model_module": "@jupyter-widgets/controls",
     "model_module_version": "1.5.0",
     "model_name": "HBoxModel",
     "state": {
      "_dom_classes": [],
      "_model_module": "@jupyter-widgets/controls",
      "_model_module_version": "1.5.0",
      "_model_name": "HBoxModel",
      "_view_count": null,
      "_view_module": "@jupyter-widgets/controls",
      "_view_module_version": "1.5.0",
      "_view_name": "HBoxView",
      "box_style": "",
      "children": [
       "IPY_MODEL_e18c6eab62b2421b9370b319cd9af9bc",
       "IPY_MODEL_142707e828804c4f983750cf82d11b6a",
       "IPY_MODEL_67a0c9cb83834a6786d35c9778563891"
      ],
      "layout": "IPY_MODEL_64f6173917794707a6f954b7028593d0"
     }
    },
    "e98503c6db424b96bb996e4fbb7b8a2a": {
     "model_module": "@jupyter-widgets/controls",
     "model_module_version": "1.5.0",
     "model_name": "DescriptionStyleModel",
     "state": {
      "_model_module": "@jupyter-widgets/controls",
      "_model_module_version": "1.5.0",
      "_model_name": "DescriptionStyleModel",
      "_view_count": null,
      "_view_module": "@jupyter-widgets/base",
      "_view_module_version": "1.2.0",
      "_view_name": "StyleView",
      "description_width": ""
     }
    },
    "eb77ba5b2828444cb4a9a2beaa7ce08c": {
     "model_module": "@jupyter-widgets/base",
     "model_module_version": "1.2.0",
     "model_name": "LayoutModel",
     "state": {
      "_model_module": "@jupyter-widgets/base",
      "_model_module_version": "1.2.0",
      "_model_name": "LayoutModel",
      "_view_count": null,
      "_view_module": "@jupyter-widgets/base",
      "_view_module_version": "1.2.0",
      "_view_name": "LayoutView",
      "align_content": null,
      "align_items": null,
      "align_self": null,
      "border": null,
      "bottom": null,
      "display": null,
      "flex": null,
      "flex_flow": null,
      "grid_area": null,
      "grid_auto_columns": null,
      "grid_auto_flow": null,
      "grid_auto_rows": null,
      "grid_column": null,
      "grid_gap": null,
      "grid_row": null,
      "grid_template_areas": null,
      "grid_template_columns": null,
      "grid_template_rows": null,
      "height": null,
      "justify_content": null,
      "justify_items": null,
      "left": null,
      "margin": null,
      "max_height": null,
      "max_width": null,
      "min_height": null,
      "min_width": null,
      "object_fit": null,
      "object_position": null,
      "order": null,
      "overflow": null,
      "overflow_x": null,
      "overflow_y": null,
      "padding": null,
      "right": null,
      "top": null,
      "visibility": null,
      "width": null
     }
    },
    "efbc205388f34c6f87750948e1380436": {
     "model_module": "@jupyter-widgets/controls",
     "model_module_version": "1.5.0",
     "model_name": "FloatProgressModel",
     "state": {
      "_dom_classes": [],
      "_model_module": "@jupyter-widgets/controls",
      "_model_module_version": "1.5.0",
      "_model_name": "FloatProgressModel",
      "_view_count": null,
      "_view_module": "@jupyter-widgets/controls",
      "_view_module_version": "1.5.0",
      "_view_name": "ProgressView",
      "bar_style": "success",
      "description": "",
      "description_tooltip": null,
      "layout": "IPY_MODEL_ad2c7c362e9b45529a2108e4252e5204",
      "max": 20968,
      "min": 0,
      "orientation": "horizontal",
      "style": "IPY_MODEL_53c078a47fae41418cc21a80793c0fef",
      "value": 20968
     }
    },
    "f2525510dc984f5886bfdf3bf77432a1": {
     "model_module": "@jupyter-widgets/controls",
     "model_module_version": "1.5.0",
     "model_name": "PasswordModel",
     "state": {
      "_dom_classes": [],
      "_model_module": "@jupyter-widgets/controls",
      "_model_module_version": "1.5.0",
      "_model_name": "PasswordModel",
      "_view_count": null,
      "_view_module": "@jupyter-widgets/controls",
      "_view_module_version": "1.5.0",
      "_view_name": "PasswordView",
      "continuous_update": true,
      "description": "Token:",
      "description_tooltip": null,
      "disabled": false,
      "layout": "IPY_MODEL_21a9eda81a084decbc0258536dddc4d1",
      "placeholder": "​",
      "style": "IPY_MODEL_315a9f82155946d09cfc0c58e290cb95",
      "value": ""
     }
    },
    "f2f958cdcf5a41e392e0cd92b8da52f1": {
     "model_module": "@jupyter-widgets/base",
     "model_module_version": "1.2.0",
     "model_name": "LayoutModel",
     "state": {
      "_model_module": "@jupyter-widgets/base",
      "_model_module_version": "1.2.0",
      "_model_name": "LayoutModel",
      "_view_count": null,
      "_view_module": "@jupyter-widgets/base",
      "_view_module_version": "1.2.0",
      "_view_name": "LayoutView",
      "align_content": null,
      "align_items": null,
      "align_self": null,
      "border": null,
      "bottom": null,
      "display": null,
      "flex": null,
      "flex_flow": null,
      "grid_area": null,
      "grid_auto_columns": null,
      "grid_auto_flow": null,
      "grid_auto_rows": null,
      "grid_column": null,
      "grid_gap": null,
      "grid_row": null,
      "grid_template_areas": null,
      "grid_template_columns": null,
      "grid_template_rows": null,
      "height": null,
      "justify_content": null,
      "justify_items": null,
      "left": null,
      "margin": null,
      "max_height": null,
      "max_width": null,
      "min_height": null,
      "min_width": null,
      "object_fit": null,
      "object_position": null,
      "order": null,
      "overflow": null,
      "overflow_x": null,
      "overflow_y": null,
      "padding": null,
      "right": null,
      "top": null,
      "visibility": null,
      "width": null
     }
    },
    "f4194511e24c41d9b5023501f519372b": {
     "model_module": "@jupyter-widgets/controls",
     "model_module_version": "1.5.0",
     "model_name": "FloatProgressModel",
     "state": {
      "_dom_classes": [],
      "_model_module": "@jupyter-widgets/controls",
      "_model_module_version": "1.5.0",
      "_model_name": "FloatProgressModel",
      "_view_count": null,
      "_view_module": "@jupyter-widgets/controls",
      "_view_module_version": "1.5.0",
      "_view_name": "ProgressView",
      "bar_style": "success",
      "description": "",
      "description_tooltip": null,
      "layout": "IPY_MODEL_5b241fc6078542888490a9e842880838",
      "max": 16887676,
      "min": 0,
      "orientation": "horizontal",
      "style": "IPY_MODEL_0f2574affca0495997fb4607526091b8",
      "value": 16887676
     }
    },
    "f6ead4230da64b918db9341095563a0e": {
     "model_module": "@jupyter-widgets/controls",
     "model_module_version": "1.5.0",
     "model_name": "FloatProgressModel",
     "state": {
      "_dom_classes": [],
      "_model_module": "@jupyter-widgets/controls",
      "_model_module_version": "1.5.0",
      "_model_name": "FloatProgressModel",
      "_view_count": null,
      "_view_module": "@jupyter-widgets/controls",
      "_view_module_version": "1.5.0",
      "_view_name": "ProgressView",
      "bar_style": "success",
      "description": "",
      "description_tooltip": null,
      "layout": "IPY_MODEL_eb77ba5b2828444cb4a9a2beaa7ce08c",
      "max": 636,
      "min": 0,
      "orientation": "horizontal",
      "style": "IPY_MODEL_26853f9e670244518ea1e2760bd1f53a",
      "value": 636
     }
    },
    "f72c4aebb8db40a0ade6ab43c8e464a8": {
     "model_module": "@jupyter-widgets/base",
     "model_module_version": "1.2.0",
     "model_name": "LayoutModel",
     "state": {
      "_model_module": "@jupyter-widgets/base",
      "_model_module_version": "1.2.0",
      "_model_name": "LayoutModel",
      "_view_count": null,
      "_view_module": "@jupyter-widgets/base",
      "_view_module_version": "1.2.0",
      "_view_name": "LayoutView",
      "align_content": null,
      "align_items": null,
      "align_self": null,
      "border": null,
      "bottom": null,
      "display": null,
      "flex": null,
      "flex_flow": null,
      "grid_area": null,
      "grid_auto_columns": null,
      "grid_auto_flow": null,
      "grid_auto_rows": null,
      "grid_column": null,
      "grid_gap": null,
      "grid_row": null,
      "grid_template_areas": null,
      "grid_template_columns": null,
      "grid_template_rows": null,
      "height": null,
      "justify_content": null,
      "justify_items": null,
      "left": null,
      "margin": null,
      "max_height": null,
      "max_width": null,
      "min_height": null,
      "min_width": null,
      "object_fit": null,
      "object_position": null,
      "order": null,
      "overflow": null,
      "overflow_x": null,
      "overflow_y": null,
      "padding": null,
      "right": null,
      "top": null,
      "visibility": null,
      "width": null
     }
    },
    "f72ced9bcad74bcaaa7af943b31e87f6": {
     "model_module": "@jupyter-widgets/controls",
     "model_module_version": "1.5.0",
     "model_name": "HTMLModel",
     "state": {
      "_dom_classes": [],
      "_model_module": "@jupyter-widgets/controls",
      "_model_module_version": "1.5.0",
      "_model_name": "HTMLModel",
      "_view_count": null,
      "_view_module": "@jupyter-widgets/controls",
      "_view_module_version": "1.5.0",
      "_view_name": "HTMLView",
      "description": "",
      "description_tooltip": null,
      "layout": "IPY_MODEL_63603aadc07649ba91e1abd21a655c29",
      "placeholder": "​",
      "style": "IPY_MODEL_3fe0a7bc778641d9a3168e47b3a06092",
      "value": " 585M/585M [00:09&lt;00:00, 67.3MB/s]"
     }
    },
    "fa9224be44ad49b49be0ad7f6842f1e3": {
     "model_module": "@jupyter-widgets/controls",
     "model_module_version": "1.5.0",
     "model_name": "HTMLModel",
     "state": {
      "_dom_classes": [],
      "_model_module": "@jupyter-widgets/controls",
      "_model_module_version": "1.5.0",
      "_model_name": "HTMLModel",
      "_view_count": null,
      "_view_module": "@jupyter-widgets/controls",
      "_view_module_version": "1.5.0",
      "_view_name": "HTMLView",
      "description": "",
      "description_tooltip": null,
      "layout": "IPY_MODEL_29a3ea8fa74444ca806d895c186a9a7a",
      "placeholder": "​",
      "style": "IPY_MODEL_0fbc521d7acd4def8fc39178b84103d0",
      "value": "Downloading classifier.ckpt: 100%"
     }
    },
    "fdcc1dc63c6f4116983af0089ebe4283": {
     "model_module": "@jupyter-widgets/controls",
     "model_module_version": "1.5.0",
     "model_name": "DescriptionStyleModel",
     "state": {
      "_model_module": "@jupyter-widgets/controls",
      "_model_module_version": "1.5.0",
      "_model_name": "DescriptionStyleModel",
      "_view_count": null,
      "_view_module": "@jupyter-widgets/base",
      "_view_module_version": "1.2.0",
      "_view_name": "StyleView",
      "description_width": ""
     }
    },
    "ff8617315baa4acdae80dee2c5c797fe": {
     "model_module": "@jupyter-widgets/controls",
     "model_module_version": "1.5.0",
     "model_name": "ProgressStyleModel",
     "state": {
      "_model_module": "@jupyter-widgets/controls",
      "_model_module_version": "1.5.0",
      "_model_name": "ProgressStyleModel",
      "_view_count": null,
      "_view_module": "@jupyter-widgets/base",
      "_view_module_version": "1.2.0",
      "_view_name": "StyleView",
      "bar_color": null,
      "description_width": ""
     }
    },
    "fff57be8afee4ea2a0482612b5f75ca1": {
     "model_module": "@jupyter-widgets/controls",
     "model_module_version": "1.5.0",
     "model_name": "DescriptionStyleModel",
     "state": {
      "_model_module": "@jupyter-widgets/controls",
      "_model_module_version": "1.5.0",
      "_model_name": "DescriptionStyleModel",
      "_view_count": null,
      "_view_module": "@jupyter-widgets/base",
      "_view_module_version": "1.2.0",
      "_view_name": "StyleView",
      "description_width": ""
     }
    }
   }
  }
 },
 "nbformat": 4,
 "nbformat_minor": 4
}
