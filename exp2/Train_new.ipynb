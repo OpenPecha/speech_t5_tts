{
 "cells": [
  {
   "cell_type": "markdown",
   "metadata": {
    "id": "2RosoNrCxVng"
   },
   "source": [
    "# Fine-tuning SpeechT5 for multilingual TTS"
   ]
  },
  {
   "cell_type": "markdown",
   "metadata": {
    "id": "uELTb9CcOaCp"
   },
   "source": [
    "This notebook demonstrates how to fine-tune the SpeechT5 model from 🤗 Transformers on the **text-to-speech** task.\n",
    "\n",
    "The unique thing about SpeechT5 is that the model is first pre-trained on a combination of speech-to-text and text-to-speech data, so that it learns a unified space of hidden representations shared by both text and speech. This allows us to fine-tune the same pretrained model on different tasks. Read more about SpeechT5 [in our blog post](https://huggingface.co/blog/speecht5).\n",
    "\n",
    "In this notebook we will start from an existing fine-tuned TTS model that was originally trained on English speech from LibriTTS, and fine-tune it for the Dutch language using the VoxPopuli dataset.\n",
    "\n",
    "This TTS model will support multiple speakers through x-vector speaker embeddings."
   ]
  },
  {
   "cell_type": "markdown",
   "metadata": {
    "id": "5xB8fh-ht4kK"
   },
   "source": [
    "## Install required packages\n",
    "\n",
    "We install Transformers from GitHub since not all the SpeechT5 features we need have been merged into an official release yet.\n"
   ]
  },
  {
   "cell_type": "code",
   "execution_count": 68,
   "metadata": {
    "id": "xJe8TF3atyqL"
   },
   "outputs": [
    {
     "name": "stdout",
     "output_type": "stream",
     "text": [
      "\u001b[33mWARNING: Running pip as the 'root' user can result in broken permissions and conflicting behaviour with the system package manager. It is recommended to use a virtual environment instead: https://pip.pypa.io/warnings/venv\u001b[0m\u001b[33m\n",
      "\u001b[0m"
     ]
    }
   ],
   "source": [
    "!pip install -q datasets soundfile speechbrain"
   ]
  },
  {
   "cell_type": "code",
   "execution_count": 3,
   "metadata": {
    "colab": {
     "base_uri": "https://localhost:8080/"
    },
    "id": "HQCuMz3fwuHa",
    "outputId": "ac1e17b9-e16a-4cfc-ee0e-5a95c8133b35"
   },
   "outputs": [
    {
     "name": "stdout",
     "output_type": "stream",
     "text": [
      "\u001b[33mWARNING: Running pip as the 'root' user can result in broken permissions and conflicting behaviour with the system package manager. It is recommended to use a virtual environment instead: https://pip.pypa.io/warnings/venv\u001b[0m\u001b[33m\n",
      "\u001b[0m"
     ]
    }
   ],
   "source": [
    "!pip install -q transformers"
   ]
  },
  {
   "cell_type": "code",
   "execution_count": 6,
   "metadata": {
    "colab": {
     "base_uri": "https://localhost:8080/"
    },
    "id": "NfX4YNbs_HKP",
    "outputId": "04239423-15ff-4948-947b-b176303b5f2f"
   },
   "outputs": [
    {
     "name": "stdout",
     "output_type": "stream",
     "text": [
      "\u001b[33mWARNING: Running pip as the 'root' user can result in broken permissions and conflicting behaviour with the system package manager. It is recommended to use a virtual environment instead: https://pip.pypa.io/warnings/venv\u001b[0m\u001b[33m\n",
      "\u001b[0m"
     ]
    }
   ],
   "source": [
    "!pip install -q --upgrade accelerate"
   ]
  },
  {
   "cell_type": "code",
   "execution_count": 12,
   "metadata": {
    "scrolled": true
   },
   "outputs": [
    {
     "name": "stdout",
     "output_type": "stream",
     "text": [
      "\u001b[33mWARNING: Running pip as the 'root' user can result in broken permissions and conflicting behaviour with the system package manager. It is recommended to use a virtual environment instead: https://pip.pypa.io/warnings/venv\u001b[0m\u001b[33m\n",
      "\u001b[0m"
     ]
    }
   ],
   "source": [
    "!pip install -q pyewts"
   ]
  },
  {
   "cell_type": "code",
   "execution_count": 21,
   "metadata": {},
   "outputs": [],
   "source": [
    "import multiprocessing\n",
    "from pathlib import Path\n",
    "from collections import Counter\n",
    "\n",
    "import pyewts\n",
    "from transformers import SpeechT5Processor, SpeechT5ForTextToSpeech\n",
    "from datasets import DatasetDict, Audio, concatenate_datasets\n",
    "import matplotlib.pyplot as plt\n",
    "import numpy as np\n",
    "from IPython.display import Audio as display_audio"
   ]
  },
  {
   "cell_type": "code",
   "execution_count": 22,
   "metadata": {},
   "outputs": [],
   "source": [
    "sanity_check = False\n",
    "\n",
    "n_cpu = multiprocessing.cpu_count() - 10; n_cpu\n",
    "data_path = Path.cwd() / \"data\"\n",
    "audio_path = data_path / \"audio\"\n",
    "audio_path.mkdir(parents=True, exist_ok=True)"
   ]
  },
  {
   "cell_type": "markdown",
   "metadata": {
    "id": "UzjxPwP3tmsl"
   },
   "source": [
    "## Load model"
   ]
  },
  {
   "cell_type": "code",
   "execution_count": 23,
   "metadata": {
    "id": "FjKjCViFtc5M",
    "scrolled": true
   },
   "outputs": [],
   "source": [
    "processor = SpeechT5Processor.from_pretrained(\"microsoft/speecht5_tts\")\n",
    "model = SpeechT5ForTextToSpeech.from_pretrained(\"microsoft/speecht5_tts\")"
   ]
  },
  {
   "cell_type": "markdown",
   "metadata": {},
   "source": [
    "## Load Dataset"
   ]
  },
  {
   "cell_type": "code",
   "execution_count": 24,
   "metadata": {},
   "outputs": [
    {
     "name": "stdout",
     "output_type": "stream",
     "text": [
      "ཏོ།ཞེསཔའོ༎ ╚དཀྱུས╗\n"
     ]
    }
   ],
   "source": [
    "converter = pyewts.pyewts()\n",
    "print(converter.toUnicode('''to/zhesapa'o//[ ╚]dkyus[╗'''))"
   ]
  },
  {
   "cell_type": "code",
   "execution_count": 25,
   "metadata": {},
   "outputs": [
    {
     "data": {
      "text/plain": [
       "DatasetDict({\n",
       "    train: Dataset({\n",
       "        features: ['uni', 'sentence', 'label', 'speaker_id', 'duration', 'tokens_len', 'path'],\n",
       "        num_rows: 120000\n",
       "    })\n",
       "    test: Dataset({\n",
       "        features: ['uni', 'sentence', 'label', 'speaker_id', 'duration', 'tokens_len', 'path'],\n",
       "        num_rows: 30000\n",
       "    })\n",
       "})"
      ]
     },
     "execution_count": 25,
     "metadata": {},
     "output_type": "execute_result"
    }
   ],
   "source": [
    "dataset_path = data_path / \"tts-training-processed\"\n",
    "dataset = DatasetDict.load_from_disk(dataset_path)\n",
    "dataset"
   ]
  },
  {
   "cell_type": "code",
   "execution_count": 26,
   "metadata": {},
   "outputs": [],
   "source": [
    "if sanity_check:\n",
    "    dataset[\"train\"] = dataset[\"train\"].select(range(100))\n",
    "    dataset[\"test\"] = dataset[\"test\"].select(range(20))"
   ]
  },
  {
   "cell_type": "code",
   "execution_count": 52,
   "metadata": {},
   "outputs": [
    {
     "data": {
      "application/vnd.jupyter.widget-view+json": {
       "model_id": "010de2894f0b493caceadef013113042",
       "version_major": 2,
       "version_minor": 0
      },
      "text/plain": [
       "Filter (num_proc=54):   0%|          | 0/120000 [00:00<?, ? examples/s]"
      ]
     },
     "metadata": {},
     "output_type": "display_data"
    },
    {
     "data": {
      "application/vnd.jupyter.widget-view+json": {
       "model_id": "17ee786ce9fb429fb5bea381f0113380",
       "version_major": 2,
       "version_minor": 0
      },
      "text/plain": [
       "Filter (num_proc=54):   0%|          | 0/30000 [00:00<?, ? examples/s]"
      ]
     },
     "metadata": {},
     "output_type": "display_data"
    }
   ],
   "source": [
    "dataset = dataset.filter(lambda x: x[\"path\"] and x[\"path\"] != \"None\", num_proc=n_cpu)"
   ]
  },
  {
   "cell_type": "markdown",
   "metadata": {
    "id": "0omK1unnU2z0"
   },
   "source": [
    "It's important to set the sampling rate of the audio data to 16 kHz, which is what SpeechT5 expects."
   ]
  },
  {
   "cell_type": "code",
   "execution_count": 53,
   "metadata": {
    "id": "sibMqU6qU-h8"
   },
   "outputs": [],
   "source": [
    "dataset['train'] = dataset['train'].cast_column(\"path\", Audio(sampling_rate=16000))\n",
    "dataset['test'] = dataset['test'].cast_column(\"path\", Audio(sampling_rate=16000))"
   ]
  },
  {
   "cell_type": "markdown",
   "metadata": {
    "id": "ZZYhgObQVAzj"
   },
   "source": [
    "Let's quickly check how many examples are in this dataset."
   ]
  },
  {
   "cell_type": "code",
   "execution_count": 54,
   "metadata": {
    "colab": {
     "base_uri": "https://localhost:8080/"
    },
    "id": "-tFbBI8aU__2",
    "outputId": "0c4aa029-326f-42ad-cee3-1a0792d4460c",
    "scrolled": true
   },
   "outputs": [
    {
     "data": {
      "text/plain": [
       "{'uni': 'ང་ཚོའི་སྤུན་གྲོགས་གོ་ཏ་མ་སླེབས་སོང་།',\n",
       " 'sentence': \"nga tsho'i spun grogs go ta ma slebs song /\",\n",
       " 'label': 'STT_AB',\n",
       " 'speaker_id': 'eeced487-f03a-494e-8814-eeabeb81263f',\n",
       " 'duration': 1.707,\n",
       " 'tokens_len': 44,\n",
       " 'path': {'path': '/root/speech_t5_tts/data/audio/STT_AB00209_0153_576868_to_578575.wav',\n",
       "  'array': array([-0.00192261, -0.00457764, -0.00639343, ...,  0.01286316,\n",
       "          0.0098114 ,  0.00790405]),\n",
       "  'sampling_rate': 16000}}"
      ]
     },
     "execution_count": 54,
     "metadata": {},
     "output_type": "execute_result"
    }
   ],
   "source": [
    "dataset['train'][0]"
   ]
  },
  {
   "cell_type": "markdown",
   "metadata": {
    "id": "Mn2qaGfJVn8o"
   },
   "source": [
    "That should be sufficient for fine-tuning. We'll have a closer look at these examples soon."
   ]
  },
  {
   "cell_type": "code",
   "execution_count": 55,
   "metadata": {},
   "outputs": [],
   "source": [
    "def to_wylie(example):\n",
    "    example[\"sentence\"] = converter.toWylie(example[\"uni\"])\n",
    "    return example"
   ]
  },
  {
   "cell_type": "code",
   "execution_count": 56,
   "metadata": {},
   "outputs": [
    {
     "data": {
      "application/vnd.jupyter.widget-view+json": {
       "model_id": "fc6d6689087e4680ada9716655abaaf7",
       "version_major": 2,
       "version_minor": 0
      },
      "text/plain": [
       "Map (num_proc=54):   0%|          | 0/119949 [00:00<?, ? examples/s]"
      ]
     },
     "metadata": {},
     "output_type": "display_data"
    },
    {
     "data": {
      "application/vnd.jupyter.widget-view+json": {
       "model_id": "196b1f097e094787931ba73008f83300",
       "version_major": 2,
       "version_minor": 0
      },
      "text/plain": [
       "Map (num_proc=54):   0%|          | 0/29980 [00:00<?, ? examples/s]"
      ]
     },
     "metadata": {},
     "output_type": "display_data"
    }
   ],
   "source": [
    "dataset = dataset.map(to_wylie, num_proc=n_cpu)"
   ]
  },
  {
   "cell_type": "code",
   "execution_count": 57,
   "metadata": {},
   "outputs": [
    {
     "data": {
      "text/plain": [
       "{'uni': 'ང་ཚོའི་སྤུན་གྲོགས་གོ་ཏ་མ་སླེབས་སོང་།',\n",
       " 'sentence': \"nga tsho'i spun grogs go ta ma slebs song /\",\n",
       " 'label': 'STT_AB',\n",
       " 'speaker_id': 'eeced487-f03a-494e-8814-eeabeb81263f',\n",
       " 'duration': 1.707,\n",
       " 'tokens_len': 44,\n",
       " 'path': {'path': '/root/speech_t5_tts/data/audio/STT_AB00209_0153_576868_to_578575.wav',\n",
       "  'array': array([-0.00192261, -0.00457764, -0.00639343, ...,  0.01286316,\n",
       "          0.0098114 ,  0.00790405]),\n",
       "  'sampling_rate': 16000}}"
      ]
     },
     "execution_count": 57,
     "metadata": {},
     "output_type": "execute_result"
    }
   ],
   "source": [
    "dataset['train'][0]"
   ]
  },
  {
   "cell_type": "markdown",
   "metadata": {
    "id": "-5qFwV2ouqkU"
   },
   "source": [
    "## Clean up the text\n",
    "\n",
    "The dataset may contain characters that are not in the SpeechT5 tokenizer vocabulary. Those will be converted to `<unk>` tokens. However, in Dutch a character such as `à` is used to stress syllables and so we can simply replace it with `a` without changing its meaning. The tokenizer supports some characters with diacritical marks, such as `é`, but not all of them.\n",
    "\n",
    "Note that the VoxPopuli examples have both `raw_text` and `normalized_text`, which is all lowercase. The SpeechT5 tokenizer can handle uppercase just fine, however, it doesn't have any tokens for numbers. The `normalized_text` has the numbers written out as text, so we'll use that.\n"
   ]
  },
  {
   "cell_type": "markdown",
   "metadata": {
    "id": "B6BtRe6qXTYp"
   },
   "source": [
    "\n",
    "First we'll need to find out what the unsupported tokens are. The `SpeechT5Tokenizer` works with characters as tokens, so let's extract all distinct characters of the dataset. We write a mapping function `extract_all_chars` that concatenates the transcriptions from all examples into one long transcription and then transforms the string into a set of characters. It is important to pass the arguments `batched=True` and `batch_size=-1` to `dataset.map(...)` so that the mapping function has access to all transcriptions at once."
   ]
  },
  {
   "cell_type": "code",
   "execution_count": 58,
   "metadata": {
    "colab": {
     "base_uri": "https://localhost:8080/"
    },
    "id": "0KmO3JnXBs6Z",
    "outputId": "280aeae4-905d-467e-908a-646175320f35"
   },
   "outputs": [],
   "source": [
    "tokenizer = processor.tokenizer\n",
    "a = tokenizer.get_vocab().items()"
   ]
  },
  {
   "cell_type": "code",
   "execution_count": 59,
   "metadata": {
    "colab": {
     "base_uri": "https://localhost:8080/",
     "height": 77,
     "referenced_widgets": [
      "e4dd13632d1e4a30bea5fde685f2c7a5",
      "e18c6eab62b2421b9370b319cd9af9bc",
      "142707e828804c4f983750cf82d11b6a",
      "67a0c9cb83834a6786d35c9778563891",
      "64f6173917794707a6f954b7028593d0",
      "547ef7f99cc74ac983ce49aed6aca673",
      "629831e879a448909ab1d34e61481531",
      "817c2c6921fa4638b47ec2405579e101",
      "6bb9195833af4f2da71171c52df82a35",
      "c3cb617021ed4fe7954c7a76c7ea2d4d",
      "8521fd34f64341b0a2cf8fca161c26ad"
     ]
    },
    "id": "uwnvx2AFuh_e",
    "outputId": "4fb62224-4edb-4728-b8b1-ae46052e8ba0"
   },
   "outputs": [
    {
     "data": {
      "application/vnd.jupyter.widget-view+json": {
       "model_id": "843e6e44e81c45b49783091e1875c292",
       "version_major": 2,
       "version_minor": 0
      },
      "text/plain": [
       "Map:   0%|          | 0/119949 [00:00<?, ? examples/s]"
      ]
     },
     "metadata": {},
     "output_type": "display_data"
    },
    {
     "data": {
      "application/vnd.jupyter.widget-view+json": {
       "model_id": "11cc59932aa740ad89f64c45f1f79b30",
       "version_major": 2,
       "version_minor": 0
      },
      "text/plain": [
       "Map:   0%|          | 0/29980 [00:00<?, ? examples/s]"
      ]
     },
     "metadata": {},
     "output_type": "display_data"
    }
   ],
   "source": [
    "def extract_all_chars(batch):\n",
    "    all_text = \" \".join(batch[\"sentence\"])\n",
    "    vocab = list(set(all_text))\n",
    "    return {\"vocab\": [vocab], \"all_text\": [all_text]}\n",
    "\n",
    "vocabs = dataset['train'].map(\n",
    "    extract_all_chars,\n",
    "    batched=True,\n",
    "    batch_size=-1,\n",
    "    keep_in_memory=True,\n",
    "    remove_columns=dataset['train'].column_names,\n",
    ")\n",
    "vocabs = dataset['test'].map(\n",
    "    extract_all_chars,\n",
    "    batched=True,\n",
    "    batch_size=-1,\n",
    "    keep_in_memory=True,\n",
    "    remove_columns=dataset['test'].column_names,\n",
    ")\n",
    "\n",
    "dataset_vocab = set(vocabs[\"vocab\"][0])\n",
    "tokenizer_vocab = {k for k,_ in tokenizer.get_vocab().items()}"
   ]
  },
  {
   "cell_type": "markdown",
   "metadata": {
    "id": "C2u-lIk1Tvl8"
   },
   "source": [
    "Now we have two sets of characters, one with the vocabulary from the dataset and one with the vocabulary from the tokenizer. By taking the difference between these sets, we find the characters that are in the dataset but not in the tokenizer."
   ]
  },
  {
   "cell_type": "code",
   "execution_count": 60,
   "metadata": {
    "colab": {
     "base_uri": "https://localhost:8080/"
    },
    "id": "lNV2BPKOvVuQ",
    "outputId": "3cb2c246-a502-4e5a-dafd-31596236b347"
   },
   "outputs": [
    {
     "data": {
      "text/plain": [
       "{' ', '+', '0', '1', '2', '3', '4', '5', '6', '7', '8', '9', '\\\\', '_'}"
      ]
     },
     "execution_count": 60,
     "metadata": {},
     "output_type": "execute_result"
    }
   ],
   "source": [
    "dataset_vocab-tokenizer_vocab\n"
   ]
  },
  {
   "cell_type": "markdown",
   "metadata": {
    "id": "okCE9DjNvXM1"
   },
   "source": [
    "Next, we will define a function to map these characters to valid tokens and then run it on the dataset. No need to handle space, that's already replaced by `▁` in the tokenizer."
   ]
  },
  {
   "cell_type": "code",
   "execution_count": 61,
   "metadata": {
    "colab": {
     "base_uri": "https://localhost:8080/",
     "height": 77,
     "referenced_widgets": [
      "584b82b74f3e478fae033692e403c0be",
      "3c38b35c28d646c6b71fb8f48d549abd",
      "7dc214351a4243a2934af2ead533cc0e",
      "6f97301cb71a4b22801ae2da3bb1a459",
      "7625e09f50484f5998c7171513962eaf",
      "74f14d8ae33e499eaa4c1e1430cb0a66",
      "de9fe45872e647b483a4480d9e247a41",
      "94ec52b748074966a1fd8e7e71a9fb4a",
      "4c85d484e3df4ab6894b56cb244d8898",
      "5da72b86d0c44f4c8254acac12e770ab",
      "76057dbeac7b491384749430dee0389d"
     ]
    },
    "id": "ybqsbUGZvtCa",
    "outputId": "bbb7da9f-0c1f-431e-d006-e787fd42ea75"
   },
   "outputs": [
    {
     "data": {
      "application/vnd.jupyter.widget-view+json": {
       "model_id": "35ed796377374fd18caed2939b284a10",
       "version_major": 2,
       "version_minor": 0
      },
      "text/plain": [
       "Map (num_proc=54):   0%|          | 0/119949 [00:00<?, ? examples/s]"
      ]
     },
     "metadata": {},
     "output_type": "display_data"
    },
    {
     "data": {
      "application/vnd.jupyter.widget-view+json": {
       "model_id": "04a477b4b2de43a38e9e697db42505c4",
       "version_major": 2,
       "version_minor": 0
      },
      "text/plain": [
       "Map (num_proc=54):   0%|          | 0/29980 [00:00<?, ? examples/s]"
      ]
     },
     "metadata": {},
     "output_type": "display_data"
    }
   ],
   "source": [
    "replacements = [\n",
    "    ('_', '_'),\n",
    "    ('*', 'v'),\n",
    "    ('`', ';'),\n",
    "    ('~', ','),\n",
    "    ('+', ','),\n",
    "    ('\\\\', ';'),\n",
    "    ('|', ';'),\n",
    "    ('╚',''),\n",
    "    ('╗',''),\n",
    "    ('停', ''),\n",
    "    ('抢', ''),\n",
    "    ('•', ''), ('0', ''), ('1', ''), ('2', ''), ('3', ''), ('4', ''), ('5', ''), ('6', ''), ('7', ''), ('8', ''), ('9', '')  \n",
    "]\n",
    "\n",
    "def cleanup_text(inputs):\n",
    "    for src, dst in replacements:\n",
    "        inputs[\"sentence\"] = inputs[\"sentence\"].replace(src, dst)\n",
    "    return inputs\n",
    "\n",
    "dataset = dataset.map(cleanup_text, num_proc=n_cpu)"
   ]
  },
  {
   "cell_type": "markdown",
   "metadata": {
    "id": "-OL3s6YUv9ND"
   },
   "source": [
    "## Speaker embeddings"
   ]
  },
  {
   "cell_type": "markdown",
   "metadata": {
    "id": "QsmonrEW1IlH"
   },
   "source": [
    "To allow the TTS model to distinguish between multiple speakers, we'll need to create a speaker embedding for each example. The speaker embedding is simply an additional input into the model that captures a particular speaker's voice characteristics.\n",
    "\n",
    "To create the speaker embeddings, we use the [spkrec-xvect-voxceleb](https://huggingface.co/speechbrain/spkrec-xvect-voxceleb) model from SpeechBrain. The following defines a function `create_speaker_embedding()` that takes an input audio waveform and outputs a 512-element vector containing the corresponding speaker embedding."
   ]
  },
  {
   "cell_type": "code",
   "execution_count": 62,
   "metadata": {
    "colab": {
     "base_uri": "https://localhost:8080/",
     "height": 317,
     "referenced_widgets": [
      "49ed3dfdc837403b8741061d0659102c",
      "488330af09c84e7ab7a3f0d7fb133c5d",
      "45a532352b6243d989e10d9f920813ee",
      "6df9ec75e27f4efba503bbfdccabe6a6",
      "273addc7de164aef804ddd5c948cec16",
      "b2952eb34cc24218b3e6cd01b1c3f88a",
      "fff57be8afee4ea2a0482612b5f75ca1",
      "3d0e5e0e07044f25a4fe8f2a00062a26",
      "2fe1e02ded124a9c95038a7843fb14b1",
      "bbd339d05b6c4def867887305f61bc45",
      "6066f619259343058e6c3ce6587ad17d",
      "6f456608999d40fcbf34d3240b1b2a68",
      "36a4dee1c8f24a2dab5c0d70324fd687",
      "f4194511e24c41d9b5023501f519372b",
      "54c5972e82154abbbb6b0cbda3c2227b",
      "8444e8676b9e409ea8bb7cf3ab117264",
      "564e8f5a3ee64332a984c0cb3f921405",
      "4ec498ff8c22458b88fc923325b43832",
      "5b241fc6078542888490a9e842880838",
      "0f2574affca0495997fb4607526091b8",
      "1fd65f2cd29d4e2289f854b22ceaacf1",
      "65a42048862c4c9985d5117eb3a98bec",
      "2e1b35961de5420e896b4d1dfbc5bd04",
      "46f8093e3bfa457582d88dc672a58dba",
      "13d82440a198461e92a08937262eb83c",
      "139ee219cd7d4cba9e266f0e33373dc9",
      "747201aebf8542749a8137dc8feac726",
      "a09e44abddc74ed7845ffe1ff559b933",
      "d588c7dd53c145ac96d772a6af055101",
      "c3244a99df964d4bba0ddc5add4fb3cd",
      "ff8617315baa4acdae80dee2c5c797fe",
      "ccf863790fe146d6a8f34d9800864d23",
      "e4492949874449f395eadeb83b4798b3",
      "90b3db89b0124154a7d9b7afdc81ea10",
      "fa9224be44ad49b49be0ad7f6842f1e3",
      "873816aeb1104fcda8945635179849b7",
      "c7820300f5894c8cbaf9646f610dbdbc",
      "14e00267d11d4a83960403c34dd89e8e",
      "29a3ea8fa74444ca806d895c186a9a7a",
      "0fbc521d7acd4def8fc39178b84103d0",
      "6c47ec2bdbec41098c3692003b999510",
      "06042be7a12e43db8022ae981df62a41",
      "1ff85e5d7f394b34b1ae505720d95f0f",
      "10dea0f6209748d98732c7aafacd348f",
      "28adc8d59c3a4e6da6d56a24c6dc8857",
      "2e04a642eb0144f59cb6c4bf40d1b2ce",
      "89d46d64ef684b918e032471568ed5f6",
      "123f117cf39c405dbd6c0050f6267e3a",
      "41c9b7daf5e647279bf0e766a4cc0702",
      "861f92d116124738aca813cf775e052a",
      "5faab306bd0743039ce3a65ec1f5175d",
      "856f1749da6643cd9e8fa38f087d64d3",
      "976024579d4a4a82b66b77e8fd69b006",
      "c02fb768c1d541a2aa5269a97dec07ac",
      "70b9c74f2b464790b2dde20549af8c2d"
     ]
    },
    "id": "smJs3_VB1Da2",
    "outputId": "44c2f3e4-7cc4-4dce-a72e-9eecf529b488"
   },
   "outputs": [
    {
     "name": "stderr",
     "output_type": "stream",
     "text": [
      "/opt/conda/lib/python3.11/site-packages/speechbrain/utils/checkpoints.py:194: FutureWarning: You are using `torch.load` with `weights_only=False` (the current default value), which uses the default pickle module implicitly. It is possible to construct malicious pickle data which will execute arbitrary code during unpickling (See https://github.com/pytorch/pytorch/blob/main/SECURITY.md#untrusted-models for more details). In a future release, the default value for `weights_only` will be flipped to `True`. This limits the functions that could be executed during unpickling. Arbitrary objects will no longer be allowed to be loaded via this mode unless they are explicitly allowlisted by the user via `torch.serialization.add_safe_globals`. We recommend you start setting `weights_only=True` for any use case where you don't have full control of the loaded file. Please open an issue on GitHub for any issues related to this experimental feature.\n",
      "  state_dict = torch.load(path, map_location=device)\n",
      "/opt/conda/lib/python3.11/site-packages/speechbrain/processing/features.py:1311: FutureWarning: You are using `torch.load` with `weights_only=False` (the current default value), which uses the default pickle module implicitly. It is possible to construct malicious pickle data which will execute arbitrary code during unpickling (See https://github.com/pytorch/pytorch/blob/main/SECURITY.md#untrusted-models for more details). In a future release, the default value for `weights_only` will be flipped to `True`. This limits the functions that could be executed during unpickling. Arbitrary objects will no longer be allowed to be loaded via this mode unless they are explicitly allowlisted by the user via `torch.serialization.add_safe_globals`. We recommend you start setting `weights_only=True` for any use case where you don't have full control of the loaded file. Please open an issue on GitHub for any issues related to this experimental feature.\n",
      "  stats = torch.load(path, map_location=device)\n"
     ]
    }
   ],
   "source": [
    "import os\n",
    "import torch\n",
    "from speechbrain.pretrained import EncoderClassifier\n",
    "\n",
    "spk_model_name = \"speechbrain/spkrec-xvect-voxceleb\"\n",
    "\n",
    "device =\"cpu\"\n",
    "speaker_model = EncoderClassifier.from_hparams(\n",
    "    source=spk_model_name,\n",
    "    run_opts={\"device\": device},\n",
    "    savedir=os.path.join(\"/tmp\", spk_model_name)\n",
    ")\n",
    "\n",
    "def create_speaker_embedding(waveform):\n",
    "    with torch.no_grad():\n",
    "        speaker_embeddings = speaker_model.encode_batch(torch.tensor(waveform))\n",
    "        speaker_embeddings = torch.nn.functional.normalize(speaker_embeddings, dim=2)\n",
    "        speaker_embeddings = speaker_embeddings.squeeze().cpu().numpy()\n",
    "    return speaker_embeddings"
   ]
  },
  {
   "cell_type": "markdown",
   "metadata": {
    "id": "UczHmLsuFkC6"
   },
   "source": [
    "Note: the `speechbrain/spkrec-xvect-voxceleb` model was trained on English speech from the VoxCeleb dataset, while our training examples are in Dutch. We're assuming here that this model will still make reasonable speaker embeddings, but this may not be true. First training an X-vector model on the target speech, such as Dutch, might work better."
   ]
  },
  {
   "cell_type": "markdown",
   "metadata": {
    "id": "_a8ouSY-Fnxy"
   },
   "source": [
    "## Preparing the dataset"
   ]
  },
  {
   "cell_type": "markdown",
   "metadata": {
    "id": "dTI_2WkH-3_Z"
   },
   "source": [
    "The `prepare_dataset` function takes in a single example and uses the `SpeechT5Processor` object to tokenize the input text and load the target audio into a log-mel spectrogram. It also adds the speaker embeddings as an additional input."
   ]
  },
  {
   "cell_type": "code",
   "execution_count": 63,
   "metadata": {
    "id": "Mmu8f555v_Ea"
   },
   "outputs": [],
   "source": [
    "def prepare_dataset(batch):\n",
    "    # load the audio data; if necessary, this resamples the audio to 16kHz\n",
    "    audio_batch = batch[\"path\"]\n",
    "    sentence_batch = batch[\"sentence\"]\n",
    "    audio_array_batch = [audio[\"array\"] for audio in audio_batch]\n",
    "    sampling_rate = audio_batch[0][\"sampling_rate\"]\n",
    "\n",
    "    example = processor(\n",
    "        text=sentence_batch,\n",
    "        audio_target=audio_array_batch,\n",
    "        sampling_rate=sampling_rate,\n",
    "        return_attention_mask=False,\n",
    "    )\n",
    "\n",
    "    example[\"sentence\"] = sentence_batch\n",
    "    example[\"labels\"] = [label for label in example[\"labels\"]]\n",
    "    example[\"path\"] = audio_batch\n",
    "    example[\"speaker\"] = batch['speaker_id']\n",
    "    example[\"uni\"] = batch[\"uni\"]\n",
    "    example[\"speaker_embeddings\"] = [create_speaker_embedding(array) for array in audio_array_batch]\n",
    "\n",
    "    return example"
   ]
  },
  {
   "cell_type": "markdown",
   "metadata": {
    "id": "XYYxiCoC15WG"
   },
   "source": [
    "Let's verify the processing is correct by looking at a single example:"
   ]
  },
  {
   "cell_type": "code",
   "execution_count": 64,
   "metadata": {
    "id": "GYiXtnFczVIP"
   },
   "outputs": [
    {
     "data": {
      "text/plain": [
       "(512,)"
      ]
     },
     "execution_count": 64,
     "metadata": {},
     "output_type": "execute_result"
    }
   ],
   "source": [
    "processed_example = prepare_dataset(dataset['train'].select(range(5)))\n",
    "processed_example[\"speaker_embeddings\"][0].shape"
   ]
  },
  {
   "cell_type": "code",
   "execution_count": 65,
   "metadata": {},
   "outputs": [
    {
     "data": {
      "text/plain": [
       "(107, 80)"
      ]
     },
     "execution_count": 65,
     "metadata": {},
     "output_type": "execute_result"
    }
   ],
   "source": [
    "processed_example[\"labels\"][0].shape"
   ]
  },
  {
   "cell_type": "code",
   "execution_count": 66,
   "metadata": {},
   "outputs": [
    {
     "data": {
      "text/plain": [
       "['ང་ཚོའི་སྤུན་གྲོགས་གོ་ཏ་མ་སླེབས་སོང་།',\n",
       " 'གོང་ས་མཆོག་གི་འབད་བརྩོན་དང་།',\n",
       " 'རང་དོན་ལས་ལྷག་པའི་དོན་ལ་ཕྱག་བཞེས་གནང་མཁན་ཞིག་ཡིན་འདུག',\n",
       " 'ཁྱིམ་མཚེས་ཚང་མས་འཛུམ་མུལ་མུལ་གྱིས་འཚམས་འདྲི་ཞུ་ཞིང་།',\n",
       " 'མ་ཧཱ་མཱ་ཡ་གནང་བར་ཞུ་ཟེར་ནས་ནན་གྱིས་ཆོས་ཞུས་ཤིག་']"
      ]
     },
     "execution_count": 66,
     "metadata": {},
     "output_type": "execute_result"
    }
   ],
   "source": [
    "processed_example[\"uni\"]"
   ]
  },
  {
   "cell_type": "code",
   "execution_count": 67,
   "metadata": {},
   "outputs": [
    {
     "data": {
      "text/plain": [
       "[\"nga tsho'i spun grogs go ta ma slebs song /\",\n",
       " \"gong sa mchog gi 'bad brtson dang /\",\n",
       " \"rang don las lhag pa'i don la phyag bzhes gnang mkhan zhig yin 'dug\",\n",
       " \"khyim mtshes tshang mas 'dzum mul mul gyis 'tshams 'dri zhu zhing /\",\n",
       " 'ma hA mA ya gnang bar zhu zer nas nan gyis chos zhus shig ']"
      ]
     },
     "execution_count": 67,
     "metadata": {},
     "output_type": "execute_result"
    }
   ],
   "source": [
    "[converter.toWylie(text) for text in processed_example[\"uni\"]]"
   ]
  },
  {
   "cell_type": "markdown",
   "metadata": {
    "id": "dr_zXRhiGu-G"
   },
   "source": [
    "This should give us:\n",
    "\n",
    "- the tokens for the input text in `input_ids`\n",
    "- the speaker embedding in `speaker_embeddings`\n",
    "- the target spectrogram in `labels`"
   ]
  },
  {
   "cell_type": "code",
   "execution_count": 68,
   "metadata": {
    "colab": {
     "base_uri": "https://localhost:8080/"
    },
    "id": "Wkboc3EUzXtp",
    "outputId": "92144a55-e337-4277-c3e0-39bd94658fa9"
   },
   "outputs": [
    {
     "data": {
      "text/plain": [
       "['input_ids',\n",
       " 'labels',\n",
       " 'sentence',\n",
       " 'path',\n",
       " 'speaker',\n",
       " 'uni',\n",
       " 'speaker_embeddings']"
      ]
     },
     "execution_count": 68,
     "metadata": {},
     "output_type": "execute_result"
    }
   ],
   "source": [
    "list(processed_example.keys())"
   ]
  },
  {
   "cell_type": "markdown",
   "metadata": {
    "id": "nvNI_JrE2oA8"
   },
   "source": [
    "The tokens should decode into the original text, with `</s>` to mark the end of the sentence."
   ]
  },
  {
   "cell_type": "code",
   "execution_count": 69,
   "metadata": {
    "colab": {
     "base_uri": "https://localhost:8080/",
     "height": 53
    },
    "id": "uu8PgZqH07lW",
    "outputId": "000cd187-61e4-4558-9395-7f64e08bdfcb"
   },
   "outputs": [
    {
     "data": {
      "text/plain": [
       "[\"nga tsho'i spun grogs go ta ma slebs song /</s>\",\n",
       " \"gong sa mchog gi 'bad brtson dang /</s>\",\n",
       " \"rang don las lhag pa'i don la phyag bzhes gnang mkhan zhig yin 'dug</s>\",\n",
       " \"khyim mtshes tshang mas 'dzum mul mul gyis 'tshams 'dri zhu zhing /</s>\",\n",
       " 'ma hA mA ya gnang bar zhu zer nas nan gyis chos zhus shig</s>']"
      ]
     },
     "execution_count": 69,
     "metadata": {},
     "output_type": "execute_result"
    }
   ],
   "source": [
    "[tokenizer.decode(input_ids) for input_ids in processed_example[\"input_ids\"]]"
   ]
  },
  {
   "cell_type": "markdown",
   "metadata": {
    "id": "wOdMw-xa2u_8"
   },
   "source": [
    "Speaker embeddings should be a 512-element vector:"
   ]
  },
  {
   "cell_type": "code",
   "execution_count": 70,
   "metadata": {
    "colab": {
     "base_uri": "https://localhost:8080/"
    },
    "id": "uuybSBq32AuH",
    "outputId": "89ca3629-67d7-4e94-c6a3-24cf18d9e8e9"
   },
   "outputs": [
    {
     "data": {
      "text/plain": [
       "(512,)"
      ]
     },
     "execution_count": 70,
     "metadata": {},
     "output_type": "execute_result"
    }
   ],
   "source": [
    "processed_example[\"speaker_embeddings\"][0].shape"
   ]
  },
  {
   "cell_type": "markdown",
   "metadata": {
    "id": "YzyoPE2y2zHk"
   },
   "source": [
    "The labels should be a log-mel spectrogram with 80 mel bins."
   ]
  },
  {
   "cell_type": "code",
   "execution_count": 71,
   "metadata": {
    "colab": {
     "base_uri": "https://localhost:8080/",
     "height": 180
    },
    "id": "dKu2km552GL-",
    "outputId": "2e9c9939-b722-4a1e-cff9-382ed1c1bb15"
   },
   "outputs": [
    {
     "data": {
      "image/png": "[encoded data removed]",
      "text/plain": [
       "<Figure size 640x480 with 1 Axes>"
      ]
     },
     "metadata": {},
     "output_type": "display_data"
    }
   ],
   "source": [
    "import matplotlib.pyplot as plt\n",
    "plt.figure()\n",
    "plt.imshow(processed_example[\"labels\"][0].T)\n",
    "plt.show()"
   ]
  },
  {
   "cell_type": "markdown",
   "metadata": {
    "id": "bWMT9X6w237M"
   },
   "source": [
    "If we run a vocoder on the log-mel spectrogram, it should produce the original audio again. We'll load the HiFi-GAN vocoder from the original [SpeechT5 checkpoint](https://hf.co/microsoft/speecht5_hifigan)."
   ]
  },
  {
   "cell_type": "code",
   "execution_count": 72,
   "metadata": {
    "colab": {
     "base_uri": "https://localhost:8080/",
     "height": 137,
     "referenced_widgets": [
      "a5346308f86540f4b05ba542a1230b47",
      "47943abd7e914f829e11d3820cc8ca3e",
      "f6ead4230da64b918db9341095563a0e",
      "c3d3a3ef790e4cfaa5b59fda49a62689",
      "40eccaace52b4f0ca8a9b846060dcf15",
      "f2f958cdcf5a41e392e0cd92b8da52f1",
      "73d695248c6143c19f976569d587b1d6",
      "eb77ba5b2828444cb4a9a2beaa7ce08c",
      "26853f9e670244518ea1e2760bd1f53a",
      "d049dfd5931248159029e748acfa611c",
      "6255ea93e05140f09ca82b85ecb54fca",
      "08287a06765c462a9569b524d1999fd5",
      "82eb95ae3df24613bb133b6fdd2bbfd0",
      "4759130b70b340a6abd804bd5d5d731c",
      "96cafb1e7fd6415e9cedfe8cb9c07c30",
      "661b9da3c9cd4699b0fb5587c26fe15f",
      "0515268ed51240c19421e6d6c7703609",
      "2081028ed0cc4c51af6b15f538c43be4",
      "a8a6f45d78504d4ab75d3dbf47955ba8",
      "be9c32a86ea442298fad57c5e2589339",
      "aa935f4d46814226a663fd686f981bbf",
      "bb49135849574eeda10e2955631e5776"
     ]
    },
    "id": "2Yu-rqwa1zns",
    "outputId": "e2061b9c-6796-4310-b4d1-4265427cf614"
   },
   "outputs": [],
   "source": [
    "from transformers import SpeechT5HifiGan\n",
    "vocoder = SpeechT5HifiGan.from_pretrained(\"microsoft/speecht5_hifigan\")"
   ]
  },
  {
   "cell_type": "code",
   "execution_count": 73,
   "metadata": {
    "id": "byzHH-Jl2XeL"
   },
   "outputs": [
    {
     "name": "stdout",
     "output_type": "stream",
     "text": [
      "ཁྱིམ་མཚེས་ཚང་མས་འཛུམ་མུལ་མུལ་གྱིས་འཚམས་འདྲི་ཞུ་ཞིང་།\n"
     ]
    },
    {
     "data": {
      "text/html": [
       "\n",
       "                <audio  controls=\"controls\" >\n",
       "                    <source src=\"data:audio/wav;base64,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\" type=\"audio/wav\" />\n",
       "                    Your browser does not support the audio element.\n",
       "                </audio>\n",
       "              "
      ],
      "text/plain": [
       "<IPython.lib.display.Audio object>"
      ]
     },
     "execution_count": 73,
     "metadata": {},
     "output_type": "execute_result"
    }
   ],
   "source": [
    "i = 3\n",
    "text = converter.toUnicode(tokenizer.decode(processed_example[\"input_ids\"][i]).replace(\"</s>\", \"\").replace(\"<unk>\", \"\"))\n",
    "print(text)\n",
    "spectrogram = torch.tensor(processed_example[\"labels\"][i])\n",
    "with torch.no_grad():\n",
    "    speech = vocoder(spectrogram)\n",
    "display_audio(speech.cpu().numpy(), rate=16000)"
   ]
  },
  {
   "cell_type": "code",
   "execution_count": 74,
   "metadata": {},
   "outputs": [
    {
     "data": {
      "text/plain": [
       "'ང་ཚོའི་སྤུན་གྲོགས་གོ་ཏ་མ་སླེབས་སོང་།'"
      ]
     },
     "execution_count": 74,
     "metadata": {},
     "output_type": "execute_result"
    }
   ],
   "source": [
    "dataset[\"train\"][0][\"uni\"]"
   ]
  },
  {
   "cell_type": "markdown",
   "metadata": {
    "id": "RPLVad8w3CvV"
   },
   "source": [
    "That all looks and sounds good! We can now process the entire dataset. This will take between 5 and 10 minutes."
   ]
  },
  {
   "cell_type": "code",
   "execution_count": 75,
   "metadata": {
    "colab": {
     "base_uri": "https://localhost:8080/",
     "height": 115,
     "referenced_widgets": [
      "ddc2eeeaf96043deae9f8d5bb15fed3a",
      "e2d8329b40db47c2a15ecde79b04ad2a",
      "58a9bc95f3c24a4db8eae6c38ed4dba5",
      "cb6ab4db660f49ddb682740fcedcdc9b",
      "a37842ab181f403ca7e8175a987e6904",
      "84dea280cde54e90bdf16e938c169451",
      "d153f300f66d4f10a7eac735bb17e7f2",
      "3ee31d4a090f4428a28c63b940e9f4b2",
      "003952b6386749c794bcdc0194ab261d",
      "d289340c639e44e4b05d6d00a67e6e05",
      "fdcc1dc63c6f4116983af0089ebe4283"
     ]
    },
    "id": "ekis02SC2hBN",
    "outputId": "4134d631-a9a7-419c-cfd6-f19d25a97178"
   },
   "outputs": [
    {
     "data": {
      "application/vnd.jupyter.widget-view+json": {
       "model_id": "076ddd31a63e450986cf272c706af6c8",
       "version_major": 2,
       "version_minor": 0
      },
      "text/plain": [
       "Map:   0%|          | 0/119949 [00:00<?, ? examples/s]"
      ]
     },
     "metadata": {},
     "output_type": "display_data"
    },
    {
     "ename": "KeyboardInterrupt",
     "evalue": "",
     "output_type": "error",
     "traceback": [
      "\u001b[0;31m---------------------------------------------------------------------------\u001b[0m",
      "\u001b[0;31mKeyboardInterrupt\u001b[0m                         Traceback (most recent call last)",
      "Cell \u001b[0;32mIn[75], line 1\u001b[0m\n\u001b[0;32m----> 1\u001b[0m dataset[\u001b[38;5;124m'\u001b[39m\u001b[38;5;124mtrain\u001b[39m\u001b[38;5;124m'\u001b[39m] \u001b[38;5;241m=\u001b[39m dataset[\u001b[38;5;124m'\u001b[39m\u001b[38;5;124mtrain\u001b[39m\u001b[38;5;124m'\u001b[39m]\u001b[38;5;241m.\u001b[39mmap(\n\u001b[1;32m      2\u001b[0m     prepare_dataset, \n\u001b[1;32m      3\u001b[0m     remove_columns\u001b[38;5;241m=\u001b[39mdataset[\u001b[38;5;124m'\u001b[39m\u001b[38;5;124mtrain\u001b[39m\u001b[38;5;124m'\u001b[39m]\u001b[38;5;241m.\u001b[39mcolumn_names, \n\u001b[1;32m      4\u001b[0m     batched\u001b[38;5;241m=\u001b[39m\u001b[38;5;28;01mTrue\u001b[39;00m,\n\u001b[1;32m      5\u001b[0m     batch_size\u001b[38;5;241m=\u001b[39m\u001b[38;5;241m32\u001b[39m\n\u001b[1;32m      6\u001b[0m )\n\u001b[1;32m      8\u001b[0m dataset[\u001b[38;5;124m'\u001b[39m\u001b[38;5;124mtest\u001b[39m\u001b[38;5;124m'\u001b[39m] \u001b[38;5;241m=\u001b[39m dataset[\u001b[38;5;124m'\u001b[39m\u001b[38;5;124mtest\u001b[39m\u001b[38;5;124m'\u001b[39m]\u001b[38;5;241m.\u001b[39mmap(\n\u001b[1;32m      9\u001b[0m     prepare_dataset, \n\u001b[1;32m     10\u001b[0m     remove_columns\u001b[38;5;241m=\u001b[39mdataset[\u001b[38;5;124m'\u001b[39m\u001b[38;5;124mtest\u001b[39m\u001b[38;5;124m'\u001b[39m]\u001b[38;5;241m.\u001b[39mcolumn_names, \n\u001b[1;32m     11\u001b[0m     batched\u001b[38;5;241m=\u001b[39m\u001b[38;5;28;01mTrue\u001b[39;00m,\n\u001b[1;32m     12\u001b[0m     batch_size\u001b[38;5;241m=\u001b[39m\u001b[38;5;241m32\u001b[39m\n\u001b[1;32m     13\u001b[0m )\n",
      "File \u001b[0;32m/opt/conda/lib/python3.11/site-packages/datasets/arrow_dataset.py:560\u001b[0m, in \u001b[0;36mtransmit_format.<locals>.wrapper\u001b[0;34m(*args, **kwargs)\u001b[0m\n\u001b[1;32m    553\u001b[0m self_format \u001b[38;5;241m=\u001b[39m {\n\u001b[1;32m    554\u001b[0m     \u001b[38;5;124m\"\u001b[39m\u001b[38;5;124mtype\u001b[39m\u001b[38;5;124m\"\u001b[39m: \u001b[38;5;28mself\u001b[39m\u001b[38;5;241m.\u001b[39m_format_type,\n\u001b[1;32m    555\u001b[0m     \u001b[38;5;124m\"\u001b[39m\u001b[38;5;124mformat_kwargs\u001b[39m\u001b[38;5;124m\"\u001b[39m: \u001b[38;5;28mself\u001b[39m\u001b[38;5;241m.\u001b[39m_format_kwargs,\n\u001b[1;32m    556\u001b[0m     \u001b[38;5;124m\"\u001b[39m\u001b[38;5;124mcolumns\u001b[39m\u001b[38;5;124m\"\u001b[39m: \u001b[38;5;28mself\u001b[39m\u001b[38;5;241m.\u001b[39m_format_columns,\n\u001b[1;32m    557\u001b[0m     \u001b[38;5;124m\"\u001b[39m\u001b[38;5;124moutput_all_columns\u001b[39m\u001b[38;5;124m\"\u001b[39m: \u001b[38;5;28mself\u001b[39m\u001b[38;5;241m.\u001b[39m_output_all_columns,\n\u001b[1;32m    558\u001b[0m }\n\u001b[1;32m    559\u001b[0m \u001b[38;5;66;03m# apply actual function\u001b[39;00m\n\u001b[0;32m--> 560\u001b[0m out: Union[\u001b[38;5;124m\"\u001b[39m\u001b[38;5;124mDataset\u001b[39m\u001b[38;5;124m\"\u001b[39m, \u001b[38;5;124m\"\u001b[39m\u001b[38;5;124mDatasetDict\u001b[39m\u001b[38;5;124m\"\u001b[39m] \u001b[38;5;241m=\u001b[39m func(\u001b[38;5;28mself\u001b[39m, \u001b[38;5;241m*\u001b[39margs, \u001b[38;5;241m*\u001b[39m\u001b[38;5;241m*\u001b[39mkwargs)\n\u001b[1;32m    561\u001b[0m datasets: List[\u001b[38;5;124m\"\u001b[39m\u001b[38;5;124mDataset\u001b[39m\u001b[38;5;124m\"\u001b[39m] \u001b[38;5;241m=\u001b[39m \u001b[38;5;28mlist\u001b[39m(out\u001b[38;5;241m.\u001b[39mvalues()) \u001b[38;5;28;01mif\u001b[39;00m \u001b[38;5;28misinstance\u001b[39m(out, \u001b[38;5;28mdict\u001b[39m) \u001b[38;5;28;01melse\u001b[39;00m [out]\n\u001b[1;32m    562\u001b[0m \u001b[38;5;66;03m# re-apply format to the output\u001b[39;00m\n",
      "File \u001b[0;32m/opt/conda/lib/python3.11/site-packages/datasets/arrow_dataset.py:3055\u001b[0m, in \u001b[0;36mDataset.map\u001b[0;34m(self, function, with_indices, with_rank, input_columns, batched, batch_size, drop_last_batch, remove_columns, keep_in_memory, load_from_cache_file, cache_file_name, writer_batch_size, features, disable_nullable, fn_kwargs, num_proc, suffix_template, new_fingerprint, desc)\u001b[0m\n\u001b[1;32m   3049\u001b[0m \u001b[38;5;28;01mif\u001b[39;00m transformed_dataset \u001b[38;5;129;01mis\u001b[39;00m \u001b[38;5;28;01mNone\u001b[39;00m:\n\u001b[1;32m   3050\u001b[0m     \u001b[38;5;28;01mwith\u001b[39;00m hf_tqdm(\n\u001b[1;32m   3051\u001b[0m         unit\u001b[38;5;241m=\u001b[39m\u001b[38;5;124m\"\u001b[39m\u001b[38;5;124m examples\u001b[39m\u001b[38;5;124m\"\u001b[39m,\n\u001b[1;32m   3052\u001b[0m         total\u001b[38;5;241m=\u001b[39mpbar_total,\n\u001b[1;32m   3053\u001b[0m         desc\u001b[38;5;241m=\u001b[39mdesc \u001b[38;5;129;01mor\u001b[39;00m \u001b[38;5;124m\"\u001b[39m\u001b[38;5;124mMap\u001b[39m\u001b[38;5;124m\"\u001b[39m,\n\u001b[1;32m   3054\u001b[0m     ) \u001b[38;5;28;01mas\u001b[39;00m pbar:\n\u001b[0;32m-> 3055\u001b[0m         \u001b[38;5;28;01mfor\u001b[39;00m rank, done, content \u001b[38;5;129;01min\u001b[39;00m Dataset\u001b[38;5;241m.\u001b[39m_map_single(\u001b[38;5;241m*\u001b[39m\u001b[38;5;241m*\u001b[39mdataset_kwargs):\n\u001b[1;32m   3056\u001b[0m             \u001b[38;5;28;01mif\u001b[39;00m done:\n\u001b[1;32m   3057\u001b[0m                 shards_done \u001b[38;5;241m+\u001b[39m\u001b[38;5;241m=\u001b[39m \u001b[38;5;241m1\u001b[39m\n",
      "File \u001b[0;32m/opt/conda/lib/python3.11/site-packages/datasets/arrow_dataset.py:3481\u001b[0m, in \u001b[0;36mDataset._map_single\u001b[0;34m(shard, function, with_indices, with_rank, input_columns, batched, batch_size, drop_last_batch, remove_columns, keep_in_memory, cache_file_name, writer_batch_size, features, disable_nullable, fn_kwargs, new_fingerprint, rank, offset)\u001b[0m\n\u001b[1;32m   3479\u001b[0m         writer\u001b[38;5;241m.\u001b[39mwrite_table(batch\u001b[38;5;241m.\u001b[39mto_arrow())\n\u001b[1;32m   3480\u001b[0m     \u001b[38;5;28;01melse\u001b[39;00m:\n\u001b[0;32m-> 3481\u001b[0m         writer\u001b[38;5;241m.\u001b[39mwrite_batch(batch)\n\u001b[1;32m   3482\u001b[0m num_examples_progress_update \u001b[38;5;241m+\u001b[39m\u001b[38;5;241m=\u001b[39m num_examples_in_batch\n\u001b[1;32m   3483\u001b[0m \u001b[38;5;28;01mif\u001b[39;00m time\u001b[38;5;241m.\u001b[39mtime() \u001b[38;5;241m>\u001b[39m _time \u001b[38;5;241m+\u001b[39m config\u001b[38;5;241m.\u001b[39mPBAR_REFRESH_TIME_INTERVAL:\n",
      "File \u001b[0;32m/opt/conda/lib/python3.11/site-packages/datasets/arrow_writer.py:563\u001b[0m, in \u001b[0;36mArrowWriter.write_batch\u001b[0;34m(self, batch_examples, writer_batch_size)\u001b[0m\n\u001b[1;32m    561\u001b[0m         col_try_type \u001b[38;5;241m=\u001b[39m try_features[col] \u001b[38;5;28;01mif\u001b[39;00m try_features \u001b[38;5;129;01mis\u001b[39;00m \u001b[38;5;129;01mnot\u001b[39;00m \u001b[38;5;28;01mNone\u001b[39;00m \u001b[38;5;129;01mand\u001b[39;00m col \u001b[38;5;129;01min\u001b[39;00m try_features \u001b[38;5;28;01melse\u001b[39;00m \u001b[38;5;28;01mNone\u001b[39;00m\n\u001b[1;32m    562\u001b[0m         typed_sequence \u001b[38;5;241m=\u001b[39m OptimizedTypedSequence(col_values, \u001b[38;5;28mtype\u001b[39m\u001b[38;5;241m=\u001b[39mcol_type, try_type\u001b[38;5;241m=\u001b[39mcol_try_type, col\u001b[38;5;241m=\u001b[39mcol)\n\u001b[0;32m--> 563\u001b[0m         arrays\u001b[38;5;241m.\u001b[39mappend(pa\u001b[38;5;241m.\u001b[39marray(typed_sequence))\n\u001b[1;32m    564\u001b[0m         inferred_features[col] \u001b[38;5;241m=\u001b[39m typed_sequence\u001b[38;5;241m.\u001b[39mget_inferred_type()\n\u001b[1;32m    565\u001b[0m schema \u001b[38;5;241m=\u001b[39m inferred_features\u001b[38;5;241m.\u001b[39marrow_schema \u001b[38;5;28;01mif\u001b[39;00m \u001b[38;5;28mself\u001b[39m\u001b[38;5;241m.\u001b[39mpa_writer \u001b[38;5;129;01mis\u001b[39;00m \u001b[38;5;28;01mNone\u001b[39;00m \u001b[38;5;28;01melse\u001b[39;00m \u001b[38;5;28mself\u001b[39m\u001b[38;5;241m.\u001b[39mschema\n",
      "File \u001b[0;32m/opt/conda/lib/python3.11/site-packages/pyarrow/array.pxi:248\u001b[0m, in \u001b[0;36mpyarrow.lib.array\u001b[0;34m()\u001b[0m\n",
      "File \u001b[0;32m/opt/conda/lib/python3.11/site-packages/pyarrow/array.pxi:112\u001b[0m, in \u001b[0;36mpyarrow.lib._handle_arrow_array_protocol\u001b[0;34m()\u001b[0m\n",
      "File \u001b[0;32m/opt/conda/lib/python3.11/site-packages/datasets/arrow_writer.py:203\u001b[0m, in \u001b[0;36mTypedSequence.__arrow_array__\u001b[0;34m(self, type)\u001b[0m\n\u001b[1;32m    198\u001b[0m     \u001b[38;5;66;03m# otherwise we can finally use the user's type\u001b[39;00m\n\u001b[1;32m    199\u001b[0m     \u001b[38;5;28;01melif\u001b[39;00m \u001b[38;5;28mtype\u001b[39m \u001b[38;5;129;01mis\u001b[39;00m \u001b[38;5;129;01mnot\u001b[39;00m \u001b[38;5;28;01mNone\u001b[39;00m:\n\u001b[1;32m    200\u001b[0m         \u001b[38;5;66;03m# We use cast_array_to_feature to support casting to custom types like Audio and Image\u001b[39;00m\n\u001b[1;32m    201\u001b[0m         \u001b[38;5;66;03m# Also, when trying type \"string\", we don't want to convert integers or floats to \"string\".\u001b[39;00m\n\u001b[1;32m    202\u001b[0m         \u001b[38;5;66;03m# We only do it if trying_type is False - since this is what the user asks for.\u001b[39;00m\n\u001b[0;32m--> 203\u001b[0m         out \u001b[38;5;241m=\u001b[39m cast_array_to_feature(\n\u001b[1;32m    204\u001b[0m             out, \u001b[38;5;28mtype\u001b[39m, allow_primitive_to_str\u001b[38;5;241m=\u001b[39m\u001b[38;5;129;01mnot\u001b[39;00m \u001b[38;5;28mself\u001b[39m\u001b[38;5;241m.\u001b[39mtrying_type, allow_decimal_to_str\u001b[38;5;241m=\u001b[39m\u001b[38;5;129;01mnot\u001b[39;00m \u001b[38;5;28mself\u001b[39m\u001b[38;5;241m.\u001b[39mtrying_type\n\u001b[1;32m    205\u001b[0m         )\n\u001b[1;32m    206\u001b[0m     \u001b[38;5;28;01mreturn\u001b[39;00m out\n\u001b[1;32m    207\u001b[0m \u001b[38;5;28;01mexcept\u001b[39;00m (\n\u001b[1;32m    208\u001b[0m     \u001b[38;5;167;01mTypeError\u001b[39;00m,\n\u001b[1;32m    209\u001b[0m     pa\u001b[38;5;241m.\u001b[39mlib\u001b[38;5;241m.\u001b[39mArrowInvalid,\n\u001b[1;32m    210\u001b[0m     pa\u001b[38;5;241m.\u001b[39mlib\u001b[38;5;241m.\u001b[39mArrowNotImplementedError,\n\u001b[1;32m    211\u001b[0m ) \u001b[38;5;28;01mas\u001b[39;00m e:  \u001b[38;5;66;03m# handle type errors and overflows\u001b[39;00m\n\u001b[1;32m    212\u001b[0m     \u001b[38;5;66;03m# Ignore ArrowNotImplementedError caused by trying type, otherwise re-raise\u001b[39;00m\n",
      "File \u001b[0;32m/opt/conda/lib/python3.11/site-packages/datasets/table.py:1797\u001b[0m, in \u001b[0;36m_wrap_for_chunked_arrays.<locals>.wrapper\u001b[0;34m(array, *args, **kwargs)\u001b[0m\n\u001b[1;32m   1795\u001b[0m     \u001b[38;5;28;01mreturn\u001b[39;00m pa\u001b[38;5;241m.\u001b[39mchunked_array([func(chunk, \u001b[38;5;241m*\u001b[39margs, \u001b[38;5;241m*\u001b[39m\u001b[38;5;241m*\u001b[39mkwargs) \u001b[38;5;28;01mfor\u001b[39;00m chunk \u001b[38;5;129;01min\u001b[39;00m array\u001b[38;5;241m.\u001b[39mchunks])\n\u001b[1;32m   1796\u001b[0m \u001b[38;5;28;01melse\u001b[39;00m:\n\u001b[0;32m-> 1797\u001b[0m     \u001b[38;5;28;01mreturn\u001b[39;00m func(array, \u001b[38;5;241m*\u001b[39margs, \u001b[38;5;241m*\u001b[39m\u001b[38;5;241m*\u001b[39mkwargs)\n",
      "File \u001b[0;32m/opt/conda/lib/python3.11/site-packages/datasets/table.py:1995\u001b[0m, in \u001b[0;36mcast_array_to_feature\u001b[0;34m(array, feature, allow_primitive_to_str, allow_decimal_to_str)\u001b[0m\n\u001b[1;32m   1993\u001b[0m     array \u001b[38;5;241m=\u001b[39m array\u001b[38;5;241m.\u001b[39mstorage\n\u001b[1;32m   1994\u001b[0m \u001b[38;5;28;01mif\u001b[39;00m \u001b[38;5;28mhasattr\u001b[39m(feature, \u001b[38;5;124m\"\u001b[39m\u001b[38;5;124mcast_storage\u001b[39m\u001b[38;5;124m\"\u001b[39m):\n\u001b[0;32m-> 1995\u001b[0m     \u001b[38;5;28;01mreturn\u001b[39;00m feature\u001b[38;5;241m.\u001b[39mcast_storage(array)\n\u001b[1;32m   1997\u001b[0m \u001b[38;5;28;01melif\u001b[39;00m pa\u001b[38;5;241m.\u001b[39mtypes\u001b[38;5;241m.\u001b[39mis_struct(array\u001b[38;5;241m.\u001b[39mtype):\n\u001b[1;32m   1998\u001b[0m     \u001b[38;5;66;03m# feature must be a dict or Sequence(subfeatures_dict)\u001b[39;00m\n\u001b[1;32m   1999\u001b[0m     \u001b[38;5;28;01mif\u001b[39;00m \u001b[38;5;28misinstance\u001b[39m(feature, Sequence) \u001b[38;5;129;01mand\u001b[39;00m \u001b[38;5;28misinstance\u001b[39m(feature\u001b[38;5;241m.\u001b[39mfeature, \u001b[38;5;28mdict\u001b[39m):\n",
      "File \u001b[0;32m/opt/conda/lib/python3.11/site-packages/datasets/features/audio.py:234\u001b[0m, in \u001b[0;36mAudio.cast_storage\u001b[0;34m(self, storage)\u001b[0m\n\u001b[1;32m    232\u001b[0m     storage \u001b[38;5;241m=\u001b[39m pa\u001b[38;5;241m.\u001b[39mStructArray\u001b[38;5;241m.\u001b[39mfrom_arrays([storage, path_array], [\u001b[38;5;124m\"\u001b[39m\u001b[38;5;124mbytes\u001b[39m\u001b[38;5;124m\"\u001b[39m, \u001b[38;5;124m\"\u001b[39m\u001b[38;5;124mpath\u001b[39m\u001b[38;5;124m\"\u001b[39m], mask\u001b[38;5;241m=\u001b[39mstorage\u001b[38;5;241m.\u001b[39mis_null())\n\u001b[1;32m    233\u001b[0m \u001b[38;5;28;01melif\u001b[39;00m pa\u001b[38;5;241m.\u001b[39mtypes\u001b[38;5;241m.\u001b[39mis_struct(storage\u001b[38;5;241m.\u001b[39mtype) \u001b[38;5;129;01mand\u001b[39;00m storage\u001b[38;5;241m.\u001b[39mtype\u001b[38;5;241m.\u001b[39mget_all_field_indices(\u001b[38;5;124m\"\u001b[39m\u001b[38;5;124marray\u001b[39m\u001b[38;5;124m\"\u001b[39m):\n\u001b[0;32m--> 234\u001b[0m     storage \u001b[38;5;241m=\u001b[39m pa\u001b[38;5;241m.\u001b[39marray([Audio()\u001b[38;5;241m.\u001b[39mencode_example(x) \u001b[38;5;28;01mif\u001b[39;00m x \u001b[38;5;129;01mis\u001b[39;00m \u001b[38;5;129;01mnot\u001b[39;00m \u001b[38;5;28;01mNone\u001b[39;00m \u001b[38;5;28;01melse\u001b[39;00m \u001b[38;5;28;01mNone\u001b[39;00m \u001b[38;5;28;01mfor\u001b[39;00m x \u001b[38;5;129;01min\u001b[39;00m storage\u001b[38;5;241m.\u001b[39mto_pylist()])\n\u001b[1;32m    235\u001b[0m \u001b[38;5;28;01melif\u001b[39;00m pa\u001b[38;5;241m.\u001b[39mtypes\u001b[38;5;241m.\u001b[39mis_struct(storage\u001b[38;5;241m.\u001b[39mtype):\n\u001b[1;32m    236\u001b[0m     \u001b[38;5;28;01mif\u001b[39;00m storage\u001b[38;5;241m.\u001b[39mtype\u001b[38;5;241m.\u001b[39mget_field_index(\u001b[38;5;124m\"\u001b[39m\u001b[38;5;124mbytes\u001b[39m\u001b[38;5;124m\"\u001b[39m) \u001b[38;5;241m>\u001b[39m\u001b[38;5;241m=\u001b[39m \u001b[38;5;241m0\u001b[39m:\n",
      "File \u001b[0;32m/opt/conda/lib/python3.11/site-packages/pyarrow/array.pxi:1650\u001b[0m, in \u001b[0;36mpyarrow.lib.Array.to_pylist\u001b[0;34m()\u001b[0m\n",
      "File \u001b[0;32m/opt/conda/lib/python3.11/site-packages/pyarrow/scalar.pxi:793\u001b[0m, in \u001b[0;36mpyarrow.lib.StructScalar.as_py\u001b[0;34m()\u001b[0m\n",
      "File \u001b[0;32m<frozen _collections_abc>:786\u001b[0m, in \u001b[0;36mkeys\u001b[0;34m(self)\u001b[0m\n",
      "\u001b[0;31mKeyboardInterrupt\u001b[0m: "
     ]
    }
   ],
   "source": [
    "dataset['train'] = dataset['train'].map(\n",
    "    prepare_dataset, \n",
    "    remove_columns=dataset['train'].column_names, \n",
    "    batched=True,\n",
    "    batch_size=32\n",
    ")\n",
    "\n",
    "dataset['test'] = dataset['test'].map(\n",
    "    prepare_dataset, \n",
    "    remove_columns=dataset['test'].column_names, \n",
    "    batched=True,\n",
    "    batch_size=32\n",
    ")"
   ]
  },
  {
   "cell_type": "code",
   "execution_count": null,
   "metadata": {},
   "outputs": [],
   "source": [
    "import random\n",
    "i = random.choice(range(len(dataset[\"train\"])))\n",
    "text = converter.toUnicode(tokenizer.decode(dataset[\"train\"][i][\"input_ids\"]).replace(\"</s>\", \"\").replace(\"<unk>\", \"\"))\n",
    "print(text)\n",
    "spectrogram = torch.tensor(dataset[\"train\"][i][\"labels\"])\n",
    "with torch.no_grad():\n",
    "    speech = vocoder(spectrogram)\n",
    "display_audio(speech.cpu().numpy(), rate=16000)"
   ]
  },
  {
   "cell_type": "markdown",
   "metadata": {
    "id": "7z_QGJ1u3LTa"
   },
   "source": []
  },
  {
   "cell_type": "code",
   "execution_count": null,
   "metadata": {
    "colab": {
     "base_uri": "https://localhost:8080/",
     "height": 77,
     "referenced_widgets": [
      "9070707765054e919bd94d8662f67bea",
      "2a712ddf2ce145b5ab32df662c02a026",
      "967adcaac02b459294f17421a702f86f",
      "b5b570cabdc3487eb92e24b8a177bac5",
      "4082fff487314aad86385798615e2a4e",
      "7980c42c458e4c2aaf3482188987a174",
      "a807fbf9098d423495b19f8ab268e8e7",
      "3ab229dc47e64c98952fd72022219b05",
      "4df6e08ddc9a481da160fa9fa56ceac4",
      "92ba197de02e4ac5ac039dc2807cdd6a",
      "5aa4d37cc1b14006bee506ff3e959ba4"
     ]
    },
    "id": "Sy4kcOco3Ks3",
    "outputId": "0bebe162-b8af-49ca-8820-be80f42f0137",
    "scrolled": true
   },
   "outputs": [],
   "source": []
  },
  {
   "cell_type": "markdown",
   "metadata": {
    "id": "KRaX-WqeHiDy"
   },
   "source": [
    "How many examples are left?"
   ]
  },
  {
   "cell_type": "code",
   "execution_count": 163,
   "metadata": {
    "colab": {
     "base_uri": "https://localhost:8080/"
    },
    "id": "Xi6DLMeEHlZ6",
    "outputId": "329b8ea3-1b47-445f-8778-6545b014851c"
   },
   "outputs": [
    {
     "data": {
      "text/plain": [
       "95"
      ]
     },
     "execution_count": 163,
     "metadata": {},
     "output_type": "execute_result"
    }
   ],
   "source": [
    "len(dataset['train'])"
   ]
  },
  {
   "cell_type": "markdown",
   "metadata": {
    "id": "zLvJ4HRb3aCp"
   },
   "source": [
    "## Collator to make batches\n",
    "\n",
    "We need to define a custom collator to combine multiple examples into a batch. This will pad shorter sequences with padding tokens. For the spectrogram labels, the padded portions are replaced with the special value -100. This special value tells the model to ignore that part of the spectrogram when calculating the spectrogram loss.\n"
   ]
  },
  {
   "cell_type": "code",
   "execution_count": 164,
   "metadata": {
    "id": "rZOX8bTe3Kq5"
   },
   "outputs": [],
   "source": [
    "from dataclasses import dataclass\n",
    "from typing import Any, Dict, List, Union\n",
    "\n",
    "@dataclass\n",
    "class TTSDataCollatorWithPadding:\n",
    "    processor: Any\n",
    "\n",
    "    def __call__(self, features: List[Dict[str, Union[List[int], torch.Tensor]]]) -> Dict[str, torch.Tensor]:\n",
    "\n",
    "        input_ids = [{\"input_ids\": feature[\"input_ids\"]} for feature in features]\n",
    "        label_features = [{\"input_values\": feature[\"labels\"]} for feature in features]\n",
    "        speaker_features = [feature[\"speaker_embeddings\"] for feature in features]\n",
    "\n",
    "        # collate the inputs and targets into a batch\n",
    "        batch = processor.pad(\n",
    "            input_ids=input_ids,\n",
    "            labels=label_features,\n",
    "            return_tensors=\"pt\",\n",
    "        )\n",
    "\n",
    "        # replace padding with -100 to ignore loss correctly\n",
    "        batch[\"labels\"] = batch[\"labels\"].masked_fill(\n",
    "            batch.decoder_attention_mask.unsqueeze(-1).ne(1), -100\n",
    "        )\n",
    "\n",
    "        # not used during fine-tuning\n",
    "        del batch[\"decoder_attention_mask\"]\n",
    "\n",
    "        # round down target lengths to multiple of reduction factor\n",
    "        if model.config.reduction_factor > 1:\n",
    "            target_lengths = torch.tensor([\n",
    "                len(feature[\"input_values\"]) for feature in label_features\n",
    "            ])\n",
    "            target_lengths = target_lengths.new([\n",
    "                length - length % model.config.reduction_factor for length in target_lengths\n",
    "            ])\n",
    "            max_length = max(target_lengths)\n",
    "            batch[\"labels\"] = batch[\"labels\"][:, :max_length]\n",
    "\n",
    "        # also add in the speaker embeddings\n",
    "        batch[\"speaker_embeddings\"] = torch.tensor(speaker_features)\n",
    "\n",
    "        return batch"
   ]
  },
  {
   "cell_type": "markdown",
   "metadata": {
    "id": "ffNanldmrlbD"
   },
   "source": [
    "In SpeechT5, the input to the decoder part of the model is reduced by a factor 2. In other words, it throws away every other timestep from the target sequence. The decoder then predicts a sequence that is twice as long. Since the original target sequence length may be odd, the data collator makes sure to round the maximum length of the batch down to be a multiple of 2."
   ]
  },
  {
   "cell_type": "code",
   "execution_count": 165,
   "metadata": {},
   "outputs": [],
   "source": [
    "data_collator = TTSDataCollatorWithPadding(processor=processor)"
   ]
  },
  {
   "cell_type": "markdown",
   "metadata": {
    "id": "McZfpBzL4mRK"
   },
   "source": [
    "Let's test the data collator."
   ]
  },
  {
   "cell_type": "code",
   "execution_count": 166,
   "metadata": {
    "id": "78-XVnD04ouJ"
   },
   "outputs": [],
   "source": [
    "features = [\n",
    "    dataset[\"train\"][0],\n",
    "    dataset[\"train\"][1],\n",
    "    dataset[\"train\"][20],\n",
    "]\n",
    "\n",
    "batch = data_collator(features)"
   ]
  },
  {
   "cell_type": "code",
   "execution_count": 167,
   "metadata": {
    "colab": {
     "base_uri": "https://localhost:8080/"
    },
    "id": "vuWoBSpW4pY9",
    "outputId": "e62bc87a-ee6d-448a-8440-10c106df3457"
   },
   "outputs": [
    {
     "data": {
      "text/plain": [
       "{'input_ids': torch.Size([3, 241]),\n",
       " 'attention_mask': torch.Size([3, 241]),\n",
       " 'labels': torch.Size([3, 762, 80]),\n",
       " 'speaker_embeddings': torch.Size([3, 512])}"
      ]
     },
     "execution_count": 167,
     "metadata": {},
     "output_type": "execute_result"
    }
   ],
   "source": [
    "{k:v.shape for k,v in batch.items()}"
   ]
  },
  {
   "cell_type": "markdown",
   "metadata": {
    "id": "sVMpz-tpP-vw"
   },
   "source": [
    "Looks good!"
   ]
  },
  {
   "cell_type": "markdown",
   "metadata": {
    "id": "_iOqGsqq4uJv"
   },
   "source": [
    "## Training"
   ]
  },
  {
   "cell_type": "markdown",
   "metadata": {
    "id": "uQiZlXN9ICmc"
   },
   "source": [
    "It's always a good idea to upload model checkpoints directly to the [Hugging Face Hub](https://huggingface.co/) while training. To allow this, first log in to the Hub by entering your Hub authentication token:"
   ]
  },
  {
   "cell_type": "markdown",
   "metadata": {
    "id": "Et5pSY56QEFA"
   },
   "source": [
    "The `use_cache=True` option is incompatible with gradient checkpointing. Disable it for training, otherwise it keeps complaining about it."
   ]
  },
  {
   "cell_type": "code",
   "execution_count": 169,
   "metadata": {
    "id": "DmjX8QsH4vUW"
   },
   "outputs": [],
   "source": [
    "model.config.use_cache = False"
   ]
  },
  {
   "cell_type": "markdown",
   "metadata": {
    "id": "QRWLpbljIagm"
   },
   "source": [
    "Define the training arguments.\n",
    "\n",
    "We won't be computing any evaluation metrics during the training process. Instead, we'll only look at the loss. The lower the loss, the better the model.\n",
    "\n",
    "Note: If you do not want to upload the model checkpoints to the Hub, set `push_to_hub=False`."
   ]
  },
  {
   "cell_type": "code",
   "execution_count": 170,
   "metadata": {
    "id": "2fXg9cfJ7JQT"
   },
   "outputs": [
    {
     "name": "stderr",
     "output_type": "stream",
     "text": [
      "/opt/conda/lib/python3.11/site-packages/transformers/training_args.py:1559: FutureWarning: `evaluation_strategy` is deprecated and will be removed in version 4.46 of 🤗 Transformers. Use `eval_strategy` instead\n",
      "  warnings.warn(\n"
     ]
    }
   ],
   "source": [
    "from transformers import Seq2SeqTrainingArguments\n",
    "\n",
    "training_args = Seq2SeqTrainingArguments(\n",
    "    output_dir=\"./TTS_st5_test\",  # change to a repo name of your choice\n",
    "    per_device_train_batch_size=32,\n",
    "    gradient_accumulation_steps=1,\n",
    "    num_train_epochs=1,\n",
    "    learning_rate=1e-5,\n",
    "    warmup_steps=500,\n",
    "    gradient_checkpointing=True,\n",
    "    fp16=True,\n",
    "    evaluation_strategy=\"steps\",\n",
    "    per_device_eval_batch_size=8,\n",
    "    save_steps=1000,\n",
    "    eval_steps=1000,\n",
    "    logging_steps=50,\n",
    "    save_total_limit=20,\n",
    "    report_to=[\"wandb\"],\n",
    "    label_names=[\"labels\"],\n",
    ")"
   ]
  },
  {
   "cell_type": "markdown",
   "metadata": {
    "id": "ksyDvPosI1Vg"
   },
   "source": [
    "Create the trainer object using the model, dataset, and data collator."
   ]
  },
  {
   "cell_type": "code",
   "execution_count": 171,
   "metadata": {
    "id": "ekIPeQuD7RwA"
   },
   "outputs": [
    {
     "name": "stderr",
     "output_type": "stream",
     "text": [
      "/tmp/ipykernel_129902/54815936.py:3: FutureWarning: `tokenizer` is deprecated and will be removed in version 5.0.0 for `Seq2SeqTrainer.__init__`. Use `processing_class` instead.\n",
      "  trainer = Seq2SeqTrainer(\n"
     ]
    }
   ],
   "source": [
    "from transformers import Seq2SeqTrainer\n",
    "\n",
    "trainer = Seq2SeqTrainer(\n",
    "    args=training_args,\n",
    "    model=model,\n",
    "    train_dataset=dataset[\"train\"],\n",
    "    eval_dataset=dataset[\"test\"],\n",
    "    data_collator=data_collator,\n",
    "    tokenizer=processor.tokenizer,\n",
    ")\n",
    "torch.cuda.empty_cache()"
   ]
  },
  {
   "cell_type": "markdown",
   "metadata": {
    "id": "l9OkZG-ZJAh5"
   },
   "source": [
    "And with that, we're ready to start training!\n",
    "\n",
    "Training will take several hours depending on your GPU or the one allocated to the Google Colab. Depending on your GPU, it is possible that you will encounter a CUDA \"out-of-memory\" error when you start training. In this case, you can reduce the `per_device_train_batch_size` incrementally by factors of 2 and increase `gradient_accumulation_steps` by 2x to compensate."
   ]
  },
  {
   "cell_type": "code",
   "execution_count": 172,
   "metadata": {
    "colab": {
     "base_uri": "https://localhost:8080/",
     "height": 131
    },
    "id": "87U167Vf7V5Q",
    "outputId": "2ca7f744-64ca-46be-e5f3-d956ac34a0cc"
   },
   "outputs": [
    {
     "name": "stderr",
     "output_type": "stream",
     "text": [
      "\u001b[34m\u001b[1mwandb\u001b[0m: \u001b[33mWARNING\u001b[0m The `run_name` is currently set to the same value as `TrainingArguments.output_dir`. If this was not intended, please specify a different run name by setting the `TrainingArguments.run_name` parameter.\n",
      "Failed to detect the name of this notebook, you can set it manually with the WANDB_NOTEBOOK_NAME environment variable to enable code saving.\n",
      "\u001b[34m\u001b[1mwandb\u001b[0m: Using wandb-core as the SDK backend. Please refer to https://wandb.me/wandb-core for more information.\n",
      "\u001b[34m\u001b[1mwandb\u001b[0m: Currently logged in as: \u001b[33mtashitsering\u001b[0m (\u001b[33mTMLM\u001b[0m). Use \u001b[1m`wandb login --relogin`\u001b[0m to force relogin\n"
     ]
    },
    {
     "data": {
      "text/html": [
       "Tracking run with wandb version 0.18.5"
      ],
      "text/plain": [
       "<IPython.core.display.HTML object>"
      ]
     },
     "metadata": {},
     "output_type": "display_data"
    },
    {
     "data": {
      "text/html": [
       "Run data is saved locally in <code>/root/speech_t5_tts/wandb/run-20241026_070454-s6ef7g2l</code>"
      ],
      "text/plain": [
       "<IPython.core.display.HTML object>"
      ]
     },
     "metadata": {},
     "output_type": "display_data"
    },
    {
     "data": {
      "text/html": [
       "Syncing run <strong><a href='https://wandb.ai/TMLM/huggingface/runs/s6ef7g2l' target=\"_blank\">./TTS_st5_test</a></strong> to <a href='https://wandb.ai/TMLM/huggingface' target=\"_blank\">Weights & Biases</a> (<a href='https://wandb.me/run' target=\"_blank\">docs</a>)<br/>"
      ],
      "text/plain": [
       "<IPython.core.display.HTML object>"
      ]
     },
     "metadata": {},
     "output_type": "display_data"
    },
    {
     "data": {
      "text/html": [
       " View project at <a href='https://wandb.ai/TMLM/huggingface' target=\"_blank\">https://wandb.ai/TMLM/huggingface</a>"
      ],
      "text/plain": [
       "<IPython.core.display.HTML object>"
      ]
     },
     "metadata": {},
     "output_type": "display_data"
    },
    {
     "data": {
      "text/html": [
       " View run at <a href='https://wandb.ai/TMLM/huggingface/runs/s6ef7g2l' target=\"_blank\">https://wandb.ai/TMLM/huggingface/runs/s6ef7g2l</a>"
      ],
      "text/plain": [
       "<IPython.core.display.HTML object>"
      ]
     },
     "metadata": {},
     "output_type": "display_data"
    },
    {
     "name": "stderr",
     "output_type": "stream",
     "text": [
      "/opt/conda/lib/python3.11/site-packages/torch/utils/checkpoint.py:295: FutureWarning: `torch.cpu.amp.autocast(args...)` is deprecated. Please use `torch.amp.autocast('cpu', args...)` instead.\n",
      "  with torch.enable_grad(), device_autocast_ctx, torch.cpu.amp.autocast(**ctx.cpu_autocast_kwargs):  # type: ignore[attr-defined]\n"
     ]
    },
    {
     "data": {
      "text/html": [
       "\n",
       "    <div>\n",
       "      \n",
       "      <progress value='3' max='3' style='width:300px; height:20px; vertical-align: middle;'></progress>\n",
       "      [3/3 00:02, Epoch 1/1]\n",
       "    </div>\n",
       "    <table border=\"1\" class=\"dataframe\">\n",
       "  <thead>\n",
       " <tr style=\"text-align: left;\">\n",
       "      <th>Step</th>\n",
       "      <th>Training Loss</th>\n",
       "      <th>Validation Loss</th>\n",
       "    </tr>\n",
       "  </thead>\n",
       "  <tbody>\n",
       "  </tbody>\n",
       "</table><p>"
      ],
      "text/plain": [
       "<IPython.core.display.HTML object>"
      ]
     },
     "metadata": {},
     "output_type": "display_data"
    },
    {
     "name": "stderr",
     "output_type": "stream",
     "text": [
      "/opt/conda/lib/python3.11/site-packages/transformers/modeling_utils.py:2816: UserWarning: Moving the following attributes in the config to the generation config: {'max_length': 1876}. You are seeing this warning because you've set generation parameters in the model config, as opposed to in the generation config.\n",
      "  warnings.warn(\n"
     ]
    },
    {
     "data": {
      "text/plain": [
       "TrainOutput(global_step=3, training_loss=0.9319492975870768, metrics={'train_runtime': 6.0298, 'train_samples_per_second': 15.755, 'train_steps_per_second': 0.498, 'total_flos': 20688386804712.0, 'train_loss': 0.9319492975870768, 'epoch': 1.0})"
      ]
     },
     "execution_count": 172,
     "metadata": {},
     "output_type": "execute_result"
    }
   ],
   "source": [
    "trainer.train()"
   ]
  },
  {
   "cell_type": "markdown",
   "metadata": {
    "id": "4z3CzVGSs000"
   },
   "source": [
    "If we do one more `push_to_hub()` after training we can get a nice model card built for us. We simply have to set the appropriate keyword arguments (kwargs). You can change these values to match your dataset, language and model name accordingly:"
   ]
  },
  {
   "cell_type": "code",
   "execution_count": null,
   "metadata": {
    "id": "NpXOJAZIs2-n"
   },
   "outputs": [],
   "source": [
    "kwargs = {\n",
    "    \"dataset_tags\": \"facebook/voxpopuli\",\n",
    "    \"dataset\": \"VoxPopuli\",  # a 'pretty' name for the training dataset\n",
    "    \"dataset_args\": \"config: nl, split: train\",\n",
    "    \"language\": \"nl\",\n",
    "    \"model_name\": \"SpeechT5 TTS Dutch\",  # a 'pretty' name for your model\n",
    "    \"finetuned_from\": \"microsoft/speecht5_tts\",\n",
    "    \"tasks\": \"text-to-speech\",\n",
    "    \"tags\": \"\",\n",
    "}"
   ]
  },
  {
   "cell_type": "markdown",
   "metadata": {
    "id": "ooEluBcXs5hJ"
   },
   "source": [
    "The training results can now be uploaded to the Hub. To do so, execute the `push_to_hub` command:"
   ]
  },
  {
   "cell_type": "markdown",
   "metadata": {
    "id": "ojrUgMeEs_LP"
   },
   "source": [
    "You can now share this model with anyone using the link on the Hub."
   ]
  },
  {
   "cell_type": "markdown",
   "metadata": {
    "id": "5K1AQd8B7b-p"
   },
   "source": [
    "## Evaluate"
   ]
  },
  {
   "cell_type": "markdown",
   "metadata": {
    "id": "TrqUYy3-Qr1w"
   },
   "source": [
    "After training finishes, let's use the model to synthesize some speech!\n",
    "\n",
    "I'm loading the model from the Hugging Face Hub, as the Colab notebook was terminated before training finished (which is why it's a good idea to use `push_to_hub=True` when training)."
   ]
  },
  {
   "cell_type": "code",
   "execution_count": 48,
   "metadata": {
    "colab": {
     "base_uri": "https://localhost:8080/",
     "height": 81,
     "referenced_widgets": [
      "81fa22bbeaca4a24b76c628160fd9a8e",
      "9d69ce1ea1f045528519d1303ff8af77",
      "c5d1b33e111e42ed877b47b91c9831cc",
      "426640aec3574c95a652f945e16c45a4",
      "a160ef70490b46dc8fb653a938bee09e",
      "31f843802662472a94d3c682a2bd74a8",
      "969b776096564cceb400b2c90a3adb55",
      "5854ee4e1a224964b90364231547ecf8",
      "37e1802f96f1438e98130dd5878e1078",
      "8ebc38668f9c469bac7317b92c2407e6",
      "e98503c6db424b96bb996e4fbb7b8a2a",
      "c03e907d330d4ef3a67dc5a9c74efb8a",
      "7a2afb9beeae4f0cb8df3c9cd2508245",
      "9fab9106ee00497ba1ef4a67de4751cc",
      "f72ced9bcad74bcaaa7af943b31e87f6",
      "12dee1b077694478900d22bb6652d7b6",
      "54b66c1a49174d5382e0272483866176",
      "00c77e7eee56468daef0889d3d622b8e",
      "3fa69385ce1f40a58f6c4059474887b5",
      "e016e5b2b5bf4b7e8e6c7461f6757828",
      "63603aadc07649ba91e1abd21a655c29",
      "3fe0a7bc778641d9a3168e47b3a06092"
     ]
    },
    "id": "bos-fW6CHijQ",
    "outputId": "0a25e110-5872-45f1-fa8c-27461944205e"
   },
   "outputs": [],
   "source": [
    "model = SpeechT5ForTextToSpeech.from_pretrained(\"TTS_st5/checkpoint-60000\")"
   ]
  },
  {
   "cell_type": "markdown",
   "metadata": {
    "id": "AePsNMjKHhBH"
   },
   "source": [
    "First we need to obtain a speaker embedding. We can simply grab one from the test set."
   ]
  },
  {
   "cell_type": "code",
   "execution_count": 49,
   "metadata": {},
   "outputs": [
    {
     "data": {
      "application/vnd.jupyter.widget-view+json": {
       "model_id": "086f90ccc4b048189a4ab9a5d7b9540d",
       "version_major": 2,
       "version_minor": 0
      },
      "text/plain": [
       "pytorch_model.bin:   0%|          | 0.00/578M [00:00<?, ?B/s]"
      ]
     },
     "metadata": {},
     "output_type": "display_data"
    },
    {
     "data": {
      "text/plain": [
       "CommitInfo(commit_url='https://huggingface.co/spsitherMonlamAI/TTS_AB-all_run2/commit/ef311f60f14f98ce4fde289d924184107c21fc91', commit_message='Upload SpeechT5ForTextToSpeech', commit_description='', oid='ef311f60f14f98ce4fde289d924184107c21fc91', pr_url=None, pr_revision=None, pr_num=None)"
      ]
     },
     "execution_count": 49,
     "metadata": {},
     "output_type": "execute_result"
    }
   ],
   "source": [
    "model.push_to_hub('TTS_AB-all_run2')"
   ]
  },
  {
   "cell_type": "code",
   "execution_count": null,
   "metadata": {
    "colab": {
     "base_uri": "https://localhost:8080/"
    },
    "id": "08GkZiwq7dE7",
    "outputId": "13b442a3-520c-468f-cdf4-27e63c58f96d"
   },
   "outputs": [],
   "source": [
    "example = dataset[\"test\"][1008]#457 female\n",
    "speaker_embeddings = torch.tensor(create_speaker_embedding(example[\"path\"][\"array\"])).unsqueeze(0)\n",
    "speaker_embeddings.shape\n",
    "from IPython.display import Audio\n",
    "\n",
    "Audio(example[\"path\"][\"array\"], rate=16000)\n"
   ]
  },
  {
   "cell_type": "markdown",
   "metadata": {
    "id": "dUg-8t6xQ-k1"
   },
   "source": [
    "Define some input text and tokenize it."
   ]
  },
  {
   "cell_type": "code",
   "execution_count": 576,
   "metadata": {
    "id": "T6uROO_97nnJ"
   },
   "outputs": [
    {
     "name": "stdout",
     "output_type": "stream",
     "text": [
      "tshogs kyis ring por mi thogs par/\n"
     ]
    },
    {
     "data": {
      "text/html": [
       "\n",
       "                <audio  controls=\"controls\" >\n",
       "                    <source src=\"data:audio/wav;base64,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\" type=\"audio/wav\" />\n",
       "                    Your browser does not support the audio element.\n",
       "                </audio>\n",
       "              "
      ],
      "text/plain": [
       "<IPython.lib.display.Audio object>"
      ]
     },
     "execution_count": 576,
     "metadata": {},
     "output_type": "execute_result"
    }
   ],
   "source": [
    "example = dataset[\"test\"][28]\n",
    "text = example['sentence']\n",
    "from IPython.display import Audio\n",
    "\n",
    "\n",
    "print(text)\n",
    "Audio(example[\"path\"][\"array\"], rate=16000)"
   ]
  },
  {
   "cell_type": "code",
   "execution_count": 562,
   "metadata": {
    "id": "LpuE7d9WOoE0"
   },
   "outputs": [],
   "source": [
    "#tokenizer.decode(tokenizer(text)[\"input_ids\"])"
   ]
  },
  {
   "cell_type": "code",
   "execution_count": 577,
   "metadata": {
    "id": "JCY1Hr987oox"
   },
   "outputs": [],
   "source": [
    "inputs = processor(text=text, return_tensors=\"pt\")"
   ]
  },
  {
   "cell_type": "markdown",
   "metadata": {
    "id": "M5ShECAkRCUv"
   },
   "source": [
    "Tell the model to generate a spectrogram from the input text."
   ]
  },
  {
   "cell_type": "code",
   "execution_count": 578,
   "metadata": {
    "id": "ZvA6z5w47q7L"
   },
   "outputs": [],
   "source": [
    "spectrogram = model.generate_speech(inputs[\"input_ids\"], speaker_embeddings)"
   ]
  },
  {
   "cell_type": "code",
   "execution_count": 579,
   "metadata": {
    "colab": {
     "base_uri": "https://localhost:8080/",
     "height": 186
    },
    "id": "IVN17Mt67sTe",
    "outputId": "43b6a1cc-fba7-4706-d9ca-d70c1801c307"
   },
   "outputs": [
    {
     "data": {
      "image/png": "[encoded data removed]",
      "text/plain": [
       "<Figure size 640x480 with 1 Axes>"
      ]
     },
     "metadata": {},
     "output_type": "display_data"
    }
   ],
   "source": [
    "plt.figure()\n",
    "plt.imshow(spectrogram.T)\n",
    "plt.show()"
   ]
  },
  {
   "cell_type": "markdown",
   "metadata": {
    "id": "McG3EnpYRJVj"
   },
   "source": [
    "Finally, use the vocoder to turn the spectrogram into sound."
   ]
  },
  {
   "cell_type": "code",
   "execution_count": 580,
   "metadata": {
    "id": "MpogdOe_7uoe"
   },
   "outputs": [],
   "source": [
    "with torch.no_grad():\n",
    "    speech = vocoder(spectrogram)"
   ]
  },
  {
   "cell_type": "code",
   "execution_count": 581,
   "metadata": {
    "colab": {
     "base_uri": "https://localhost:8080/",
     "height": 75
    },
    "id": "5H_FaVuW7wXt",
    "outputId": "f03892ad-4db1-4ad8-cc62-6e3e8e2324f1"
   },
   "outputs": [
    {
     "data": {
      "text/html": [
       "\n",
       "                <audio  controls=\"controls\" >\n",
       "                    <source src=\"data:audio/wav;base64,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\" type=\"audio/wav\" />\n",
       "                    Your browser does not support the audio element.\n",
       "                </audio>\n",
       "              "
      ],
      "text/plain": [
       "<IPython.lib.display.Audio object>"
      ]
     },
     "execution_count": 581,
     "metadata": {},
     "output_type": "execute_result"
    }
   ],
   "source": [
    "from IPython.display import Audio\n",
    "Audio(speech.numpy(), rate=16000)"
   ]
  },
  {
   "cell_type": "code",
   "execution_count": 448,
   "metadata": {
    "id": "PV0nUOmO7xvv"
   },
   "outputs": [],
   "source": [
    "import soundfile as sf\n",
    "sf.write(\"../output.wav\", speech.numpy(), samplerate=16000)"
   ]
  },
  {
   "cell_type": "markdown",
   "metadata": {
    "id": "wm7B3zxrumfF"
   },
   "source": [
    "## Building a demo\n",
    "\n",
    "To showcase your newly fine-tuned model, make a demo on Hugging Face Spaces! We've created a [template Gradio demo](https://huggingface.co/spaces/Matthijs/speecht5-tts-demo) that you can easily copy and make your own.\n",
    "\n",
    "Click the link to duplicate the template demo to your account: https://huggingface.co/spaces/Matthijs/speecht5-tts-demo?duplicate=true (or from the three-dot button at the top choose **Duplicate this Space**).\n",
    "\n",
    "We recommend giving your space a similar name to your fine-tuned model (e.g. `speecht5_tts_voxpopuli_nl`) and setting the visibility to \"Public\".\n",
    "\n",
    "Once you've duplicated the Space to your account, click **Files and versions > app.py > edit**. Change the model identifier to your fine-tuned model (line 9). Scroll to the bottom of the page and click **Commit changes to main**. The demo will reboot, this time using your fine-tuned model.\n",
    "\n",
    "You can share this demo with your friends and family so that they can use the model that you've trained!"
   ]
  },
  {
   "cell_type": "markdown",
   "metadata": {
    "id": "W5_p2oWERU3C"
   },
   "source": [
    "## Conclusion\n",
    "\n",
    "That's it, you've fine-tuned SpeechT5 for TTS on a custom dataset!\n",
    "\n",
    "In our experience, it can be difficult to get good results out of this model. The results can be rather noisy and sometimes what the model outputs doesn't even sound like speech at all. A lot of this appears to be related to the speaker embeddings. Since SpeechT5 was pre-trained with English x-vectors, it gives the best results using those English speaker embeddings. So if the generated speech sounds bad, try using a different speaker embedding and it might improve.\n",
    "\n",
    "Of course, the demo above was only trained for 3000 iterations. Training for longer should improve the results. Even so, the speech clearly is Dutch instead of English, and it does capture the voice characteristics of the speaker (compare to the original audio in the example).\n",
    "\n",
    "Another thing to experiment with is the model's configuration. For example, try using `config.reduction_factor = 1` to see if this improves the results."
   ]
  },
  {
   "cell_type": "markdown",
   "metadata": {
    "id": "58ISNvOwuGiY"
   },
   "source": [
    "A final note on ethical concerns: While TTS technology has many beneficial uses, it can also be used for nefarious purposes such as imitating someone's voice without their permission. Please use TTS wisely and responsibly!"
   ]
  },
  {
   "cell_type": "code",
   "execution_count": null,
   "metadata": {
    "id": "L-1ph4naugf6"
   },
   "outputs": [],
   "source": []
  }
 ],
 "metadata": {
  "accelerator": "GPU",
  "colab": {
   "provenance": []
  },
  "gpuClass": "standard",
  "kernelspec": {
   "display_name": "Python 3 (ipykernel)",
   "language": "python",
   "name": "python3"
  },
  "language_info": {
   "codemirror_mode": {
    "name": "ipython",
    "version": 3
   },
   "file_extension": ".py",
   "mimetype": "text/x-python",
   "name": "python",
   "nbconvert_exporter": "python",
   "pygments_lexer": "ipython3",
   "version": "3.11.9"
  },
  "widgets": {
   "application/vnd.jupyter.widget-state+json": {
    "003952b6386749c794bcdc0194ab261d": {
     "model_module": "@jupyter-widgets/controls",
     "model_module_version": "1.5.0",
     "model_name": "ProgressStyleModel",
     "state": {
      "_model_module": "@jupyter-widgets/controls",
      "_model_module_version": "1.5.0",
      "_model_name": "ProgressStyleModel",
      "_view_count": null,
      "_view_module": "@jupyter-widgets/base",
      "_view_module_version": "1.2.0",
      "_view_name": "StyleView",
      "bar_color": null,
      "description_width": ""
     }
    },
    "00c77e7eee56468daef0889d3d622b8e": {
     "model_module": "@jupyter-widgets/controls",
     "model_module_version": "1.5.0",
     "model_name": "DescriptionStyleModel",
     "state": {
      "_model_module": "@jupyter-widgets/controls",
      "_model_module_version": "1.5.0",
      "_model_name": "DescriptionStyleModel",
      "_view_count": null,
      "_view_module": "@jupyter-widgets/base",
      "_view_module_version": "1.2.0",
      "_view_name": "StyleView",
      "description_width": ""
     }
    },
    "0515268ed51240c19421e6d6c7703609": {
     "model_module": "@jupyter-widgets/base",
     "model_module_version": "1.2.0",
     "model_name": "LayoutModel",
     "state": {
      "_model_module": "@jupyter-widgets/base",
      "_model_module_version": "1.2.0",
      "_model_name": "LayoutModel",
      "_view_count": null,
      "_view_module": "@jupyter-widgets/base",
      "_view_module_version": "1.2.0",
      "_view_name": "LayoutView",
      "align_content": null,
      "align_items": null,
      "align_self": null,
      "border": null,
      "bottom": null,
      "display": null,
      "flex": null,
      "flex_flow": null,
      "grid_area": null,
      "grid_auto_columns": null,
      "grid_auto_flow": null,
      "grid_auto_rows": null,
      "grid_column": null,
      "grid_gap": null,
      "grid_row": null,
      "grid_template_areas": null,
      "grid_template_columns": null,
      "grid_template_rows": null,
      "height": null,
      "justify_content": null,
      "justify_items": null,
      "left": null,
      "margin": null,
      "max_height": null,
      "max_width": null,
      "min_height": null,
      "min_width": null,
      "object_fit": null,
      "object_position": null,
      "order": null,
      "overflow": null,
      "overflow_x": null,
      "overflow_y": null,
      "padding": null,
      "right": null,
      "top": null,
      "visibility": null,
      "width": null
     }
    },
    "06042be7a12e43db8022ae981df62a41": {
     "model_module": "@jupyter-widgets/controls",
     "model_module_version": "1.5.0",
     "model_name": "ProgressStyleModel",
     "state": {
      "_model_module": "@jupyter-widgets/controls",
      "_model_module_version": "1.5.0",
      "_model_name": "ProgressStyleModel",
      "_view_count": null,
      "_view_module": "@jupyter-widgets/base",
      "_view_module_version": "1.2.0",
      "_view_name": "StyleView",
      "bar_color": null,
      "description_width": ""
     }
    },
    "0637806dd4e4445faec16f65c639f586": {
     "model_module": "@jupyter-widgets/base",
     "model_module_version": "1.2.0",
     "model_name": "LayoutModel",
     "state": {
      "_model_module": "@jupyter-widgets/base",
      "_model_module_version": "1.2.0",
      "_model_name": "LayoutModel",
      "_view_count": null,
      "_view_module": "@jupyter-widgets/base",
      "_view_module_version": "1.2.0",
      "_view_name": "LayoutView",
      "align_content": null,
      "align_items": null,
      "align_self": null,
      "border": null,
      "bottom": null,
      "display": null,
      "flex": null,
      "flex_flow": null,
      "grid_area": null,
      "grid_auto_columns": null,
      "grid_auto_flow": null,
      "grid_auto_rows": null,
      "grid_column": null,
      "grid_gap": null,
      "grid_row": null,
      "grid_template_areas": null,
      "grid_template_columns": null,
      "grid_template_rows": null,
      "height": null,
      "justify_content": null,
      "justify_items": null,
      "left": null,
      "margin": null,
      "max_height": null,
      "max_width": null,
      "min_height": null,
      "min_width": null,
      "object_fit": null,
      "object_position": null,
      "order": null,
      "overflow": null,
      "overflow_x": null,
      "overflow_y": null,
      "padding": null,
      "right": null,
      "top": null,
      "visibility": null,
      "width": null
     }
    },
    "08287a06765c462a9569b524d1999fd5": {
     "model_module": "@jupyter-widgets/controls",
     "model_module_version": "1.5.0",
     "model_name": "HBoxModel",
     "state": {
      "_dom_classes": [],
      "_model_module": "@jupyter-widgets/controls",
      "_model_module_version": "1.5.0",
      "_model_name": "HBoxModel",
      "_view_count": null,
      "_view_module": "@jupyter-widgets/controls",
      "_view_module_version": "1.5.0",
      "_view_name": "HBoxView",
      "box_style": "",
      "children": [
       "IPY_MODEL_82eb95ae3df24613bb133b6fdd2bbfd0",
       "IPY_MODEL_4759130b70b340a6abd804bd5d5d731c",
       "IPY_MODEL_96cafb1e7fd6415e9cedfe8cb9c07c30"
      ],
      "layout": "IPY_MODEL_661b9da3c9cd4699b0fb5587c26fe15f"
     }
    },
    "0caece5412734537bbebdb24f5f0a178": {
     "model_module": "@jupyter-widgets/controls",
     "model_module_version": "1.5.0",
     "model_name": "DescriptionStyleModel",
     "state": {
      "_model_module": "@jupyter-widgets/controls",
      "_model_module_version": "1.5.0",
      "_model_name": "DescriptionStyleModel",
      "_view_count": null,
      "_view_module": "@jupyter-widgets/base",
      "_view_module_version": "1.2.0",
      "_view_name": "StyleView",
      "description_width": ""
     }
    },
    "0f2574affca0495997fb4607526091b8": {
     "model_module": "@jupyter-widgets/controls",
     "model_module_version": "1.5.0",
     "model_name": "ProgressStyleModel",
     "state": {
      "_model_module": "@jupyter-widgets/controls",
      "_model_module_version": "1.5.0",
      "_model_name": "ProgressStyleModel",
      "_view_count": null,
      "_view_module": "@jupyter-widgets/base",
      "_view_module_version": "1.2.0",
      "_view_name": "StyleView",
      "bar_color": null,
      "description_width": ""
     }
    },
    "0fbc521d7acd4def8fc39178b84103d0": {
     "model_module": "@jupyter-widgets/controls",
     "model_module_version": "1.5.0",
     "model_name": "DescriptionStyleModel",
     "state": {
      "_model_module": "@jupyter-widgets/controls",
      "_model_module_version": "1.5.0",
      "_model_name": "DescriptionStyleModel",
      "_view_count": null,
      "_view_module": "@jupyter-widgets/base",
      "_view_module_version": "1.2.0",
      "_view_name": "StyleView",
      "description_width": ""
     }
    },
    "10dea0f6209748d98732c7aafacd348f": {
     "model_module": "@jupyter-widgets/controls",
     "model_module_version": "1.5.0",
     "model_name": "DescriptionStyleModel",
     "state": {
      "_model_module": "@jupyter-widgets/controls",
      "_model_module_version": "1.5.0",
      "_model_name": "DescriptionStyleModel",
      "_view_count": null,
      "_view_module": "@jupyter-widgets/base",
      "_view_module_version": "1.2.0",
      "_view_name": "StyleView",
      "description_width": ""
     }
    },
    "123f117cf39c405dbd6c0050f6267e3a": {
     "model_module": "@jupyter-widgets/controls",
     "model_module_version": "1.5.0",
     "model_name": "HTMLModel",
     "state": {
      "_dom_classes": [],
      "_model_module": "@jupyter-widgets/controls",
      "_model_module_version": "1.5.0",
      "_model_name": "HTMLModel",
      "_view_count": null,
      "_view_module": "@jupyter-widgets/controls",
      "_view_module_version": "1.5.0",
      "_view_name": "HTMLView",
      "description": "",
      "description_tooltip": null,
      "layout": "IPY_MODEL_c02fb768c1d541a2aa5269a97dec07ac",
      "placeholder": "​",
      "style": "IPY_MODEL_70b9c74f2b464790b2dde20549af8c2d",
      "value": " 129k/129k [00:00&lt;00:00, 2.41MB/s]"
     }
    },
    "12dee1b077694478900d22bb6652d7b6": {
     "model_module": "@jupyter-widgets/base",
     "model_module_version": "1.2.0",
     "model_name": "LayoutModel",
     "state": {
      "_model_module": "@jupyter-widgets/base",
      "_model_module_version": "1.2.0",
      "_model_name": "LayoutModel",
      "_view_count": null,
      "_view_module": "@jupyter-widgets/base",
      "_view_module_version": "1.2.0",
      "_view_name": "LayoutView",
      "align_content": null,
      "align_items": null,
      "align_self": null,
      "border": null,
      "bottom": null,
      "display": null,
      "flex": null,
      "flex_flow": null,
      "grid_area": null,
      "grid_auto_columns": null,
      "grid_auto_flow": null,
      "grid_auto_rows": null,
      "grid_column": null,
      "grid_gap": null,
      "grid_row": null,
      "grid_template_areas": null,
      "grid_template_columns": null,
      "grid_template_rows": null,
      "height": null,
      "justify_content": null,
      "justify_items": null,
      "left": null,
      "margin": null,
      "max_height": null,
      "max_width": null,
      "min_height": null,
      "min_width": null,
      "object_fit": null,
      "object_position": null,
      "order": null,
      "overflow": null,
      "overflow_x": null,
      "overflow_y": null,
      "padding": null,
      "right": null,
      "top": null,
      "visibility": null,
      "width": null
     }
    },
    "139ee219cd7d4cba9e266f0e33373dc9": {
     "model_module": "@jupyter-widgets/controls",
     "model_module_version": "1.5.0",
     "model_name": "HTMLModel",
     "state": {
      "_dom_classes": [],
      "_model_module": "@jupyter-widgets/controls",
      "_model_module_version": "1.5.0",
      "_model_name": "HTMLModel",
      "_view_count": null,
      "_view_module": "@jupyter-widgets/controls",
      "_view_module_version": "1.5.0",
      "_view_name": "HTMLView",
      "description": "",
      "description_tooltip": null,
      "layout": "IPY_MODEL_ccf863790fe146d6a8f34d9800864d23",
      "placeholder": "​",
      "style": "IPY_MODEL_e4492949874449f395eadeb83b4798b3",
      "value": " 3.20k/3.20k [00:00&lt;00:00, 42.4kB/s]"
     }
    },
    "13d82440a198461e92a08937262eb83c": {
     "model_module": "@jupyter-widgets/controls",
     "model_module_version": "1.5.0",
     "model_name": "FloatProgressModel",
     "state": {
      "_dom_classes": [],
      "_model_module": "@jupyter-widgets/controls",
      "_model_module_version": "1.5.0",
      "_model_name": "FloatProgressModel",
      "_view_count": null,
      "_view_module": "@jupyter-widgets/controls",
      "_view_module_version": "1.5.0",
      "_view_name": "ProgressView",
      "bar_style": "success",
      "description": "",
      "description_tooltip": null,
      "layout": "IPY_MODEL_c3244a99df964d4bba0ddc5add4fb3cd",
      "max": 3201,
      "min": 0,
      "orientation": "horizontal",
      "style": "IPY_MODEL_ff8617315baa4acdae80dee2c5c797fe",
      "value": 3201
     }
    },
    "142707e828804c4f983750cf82d11b6a": {
     "model_module": "@jupyter-widgets/controls",
     "model_module_version": "1.5.0",
     "model_name": "FloatProgressModel",
     "state": {
      "_dom_classes": [],
      "_model_module": "@jupyter-widgets/controls",
      "_model_module_version": "1.5.0",
      "_model_name": "FloatProgressModel",
      "_view_count": null,
      "_view_module": "@jupyter-widgets/controls",
      "_view_module_version": "1.5.0",
      "_view_name": "ProgressView",
      "bar_style": "success",
      "description": "",
      "description_tooltip": null,
      "layout": "IPY_MODEL_817c2c6921fa4638b47ec2405579e101",
      "max": 170625,
      "min": 0,
      "orientation": "horizontal",
      "style": "IPY_MODEL_6bb9195833af4f2da71171c52df82a35",
      "value": 170625
     }
    },
    "14e00267d11d4a83960403c34dd89e8e": {
     "model_module": "@jupyter-widgets/base",
     "model_module_version": "1.2.0",
     "model_name": "LayoutModel",
     "state": {
      "_model_module": "@jupyter-widgets/base",
      "_model_module_version": "1.2.0",
      "_model_name": "LayoutModel",
      "_view_count": null,
      "_view_module": "@jupyter-widgets/base",
      "_view_module_version": "1.2.0",
      "_view_name": "LayoutView",
      "align_content": null,
      "align_items": null,
      "align_self": null,
      "border": null,
      "bottom": null,
      "display": null,
      "flex": null,
      "flex_flow": null,
      "grid_area": null,
      "grid_auto_columns": null,
      "grid_auto_flow": null,
      "grid_auto_rows": null,
      "grid_column": null,
      "grid_gap": null,
      "grid_row": null,
      "grid_template_areas": null,
      "grid_template_columns": null,
      "grid_template_rows": null,
      "height": null,
      "justify_content": null,
      "justify_items": null,
      "left": null,
      "margin": null,
      "max_height": null,
      "max_width": null,
      "min_height": null,
      "min_width": null,
      "object_fit": null,
      "object_position": null,
      "order": null,
      "overflow": null,
      "overflow_x": null,
      "overflow_y": null,
      "padding": null,
      "right": null,
      "top": null,
      "visibility": null,
      "width": null
     }
    },
    "1f77c18af66c4b7c8655c5224efbbdde": {
     "model_module": "@jupyter-widgets/controls",
     "model_module_version": "1.5.0",
     "model_name": "DescriptionStyleModel",
     "state": {
      "_model_module": "@jupyter-widgets/controls",
      "_model_module_version": "1.5.0",
      "_model_name": "DescriptionStyleModel",
      "_view_count": null,
      "_view_module": "@jupyter-widgets/base",
      "_view_module_version": "1.2.0",
      "_view_name": "StyleView",
      "description_width": ""
     }
    },
    "1fd65f2cd29d4e2289f854b22ceaacf1": {
     "model_module": "@jupyter-widgets/base",
     "model_module_version": "1.2.0",
     "model_name": "LayoutModel",
     "state": {
      "_model_module": "@jupyter-widgets/base",
      "_model_module_version": "1.2.0",
      "_model_name": "LayoutModel",
      "_view_count": null,
      "_view_module": "@jupyter-widgets/base",
      "_view_module_version": "1.2.0",
      "_view_name": "LayoutView",
      "align_content": null,
      "align_items": null,
      "align_self": null,
      "border": null,
      "bottom": null,
      "display": null,
      "flex": null,
      "flex_flow": null,
      "grid_area": null,
      "grid_auto_columns": null,
      "grid_auto_flow": null,
      "grid_auto_rows": null,
      "grid_column": null,
      "grid_gap": null,
      "grid_row": null,
      "grid_template_areas": null,
      "grid_template_columns": null,
      "grid_template_rows": null,
      "height": null,
      "justify_content": null,
      "justify_items": null,
      "left": null,
      "margin": null,
      "max_height": null,
      "max_width": null,
      "min_height": null,
      "min_width": null,
      "object_fit": null,
      "object_position": null,
      "order": null,
      "overflow": null,
      "overflow_x": null,
      "overflow_y": null,
      "padding": null,
      "right": null,
      "top": null,
      "visibility": null,
      "width": null
     }
    },
    "1ff85e5d7f394b34b1ae505720d95f0f": {
     "model_module": "@jupyter-widgets/base",
     "model_module_version": "1.2.0",
     "model_name": "LayoutModel",
     "state": {
      "_model_module": "@jupyter-widgets/base",
      "_model_module_version": "1.2.0",
      "_model_name": "LayoutModel",
      "_view_count": null,
      "_view_module": "@jupyter-widgets/base",
      "_view_module_version": "1.2.0",
      "_view_name": "LayoutView",
      "align_content": null,
      "align_items": null,
      "align_self": null,
      "border": null,
      "bottom": null,
      "display": null,
      "flex": null,
      "flex_flow": null,
      "grid_area": null,
      "grid_auto_columns": null,
      "grid_auto_flow": null,
      "grid_auto_rows": null,
      "grid_column": null,
      "grid_gap": null,
      "grid_row": null,
      "grid_template_areas": null,
      "grid_template_columns": null,
      "grid_template_rows": null,
      "height": null,
      "justify_content": null,
      "justify_items": null,
      "left": null,
      "margin": null,
      "max_height": null,
      "max_width": null,
      "min_height": null,
      "min_width": null,
      "object_fit": null,
      "object_position": null,
      "order": null,
      "overflow": null,
      "overflow_x": null,
      "overflow_y": null,
      "padding": null,
      "right": null,
      "top": null,
      "visibility": null,
      "width": null
     }
    },
    "2081028ed0cc4c51af6b15f538c43be4": {
     "model_module": "@jupyter-widgets/controls",
     "model_module_version": "1.5.0",
     "model_name": "DescriptionStyleModel",
     "state": {
      "_model_module": "@jupyter-widgets/controls",
      "_model_module_version": "1.5.0",
      "_model_name": "DescriptionStyleModel",
      "_view_count": null,
      "_view_module": "@jupyter-widgets/base",
      "_view_module_version": "1.2.0",
      "_view_name": "StyleView",
      "description_width": ""
     }
    },
    "21a9eda81a084decbc0258536dddc4d1": {
     "model_module": "@jupyter-widgets/base",
     "model_module_version": "1.2.0",
     "model_name": "LayoutModel",
     "state": {
      "_model_module": "@jupyter-widgets/base",
      "_model_module_version": "1.2.0",
      "_model_name": "LayoutModel",
      "_view_count": null,
      "_view_module": "@jupyter-widgets/base",
      "_view_module_version": "1.2.0",
      "_view_name": "LayoutView",
      "align_content": null,
      "align_items": null,
      "align_self": null,
      "border": null,
      "bottom": null,
      "display": null,
      "flex": null,
      "flex_flow": null,
      "grid_area": null,
      "grid_auto_columns": null,
      "grid_auto_flow": null,
      "grid_auto_rows": null,
      "grid_column": null,
      "grid_gap": null,
      "grid_row": null,
      "grid_template_areas": null,
      "grid_template_columns": null,
      "grid_template_rows": null,
      "height": null,
      "justify_content": null,
      "justify_items": null,
      "left": null,
      "margin": null,
      "max_height": null,
      "max_width": null,
      "min_height": null,
      "min_width": null,
      "object_fit": null,
      "object_position": null,
      "order": null,
      "overflow": null,
      "overflow_x": null,
      "overflow_y": null,
      "padding": null,
      "right": null,
      "top": null,
      "visibility": null,
      "width": null
     }
    },
    "26853f9e670244518ea1e2760bd1f53a": {
     "model_module": "@jupyter-widgets/controls",
     "model_module_version": "1.5.0",
     "model_name": "ProgressStyleModel",
     "state": {
      "_model_module": "@jupyter-widgets/controls",
      "_model_module_version": "1.5.0",
      "_model_name": "ProgressStyleModel",
      "_view_count": null,
      "_view_module": "@jupyter-widgets/base",
      "_view_module_version": "1.2.0",
      "_view_name": "StyleView",
      "bar_color": null,
      "description_width": ""
     }
    },
    "273addc7de164aef804ddd5c948cec16": {
     "model_module": "@jupyter-widgets/base",
     "model_module_version": "1.2.0",
     "model_name": "LayoutModel",
     "state": {
      "_model_module": "@jupyter-widgets/base",
      "_model_module_version": "1.2.0",
      "_model_name": "LayoutModel",
      "_view_count": null,
      "_view_module": "@jupyter-widgets/base",
      "_view_module_version": "1.2.0",
      "_view_name": "LayoutView",
      "align_content": null,
      "align_items": null,
      "align_self": null,
      "border": null,
      "bottom": null,
      "display": null,
      "flex": null,
      "flex_flow": null,
      "grid_area": null,
      "grid_auto_columns": null,
      "grid_auto_flow": null,
      "grid_auto_rows": null,
      "grid_column": null,
      "grid_gap": null,
      "grid_row": null,
      "grid_template_areas": null,
      "grid_template_columns": null,
      "grid_template_rows": null,
      "height": null,
      "justify_content": null,
      "justify_items": null,
      "left": null,
      "margin": null,
      "max_height": null,
      "max_width": null,
      "min_height": null,
      "min_width": null,
      "object_fit": null,
      "object_position": null,
      "order": null,
      "overflow": null,
      "overflow_x": null,
      "overflow_y": null,
      "padding": null,
      "right": null,
      "top": null,
      "visibility": null,
      "width": null
     }
    },
    "2898522060ea4302a17a214740bf406c": {
     "model_module": "@jupyter-widgets/controls",
     "model_module_version": "1.5.0",
     "model_name": "VBoxModel",
     "state": {
      "_dom_classes": [],
      "_model_module": "@jupyter-widgets/controls",
      "_model_module_version": "1.5.0",
      "_model_name": "VBoxModel",
      "_view_count": null,
      "_view_module": "@jupyter-widgets/controls",
      "_view_module_version": "1.5.0",
      "_view_name": "VBoxView",
      "box_style": "",
      "children": [
       "IPY_MODEL_98211a51ddf94b25a44e3177e3cdc3e7",
       "IPY_MODEL_f2525510dc984f5886bfdf3bf77432a1",
       "IPY_MODEL_6709d2a2129a49c58fd163b68c965eed",
       "IPY_MODEL_92c5dd23e34645ab8bce0c5e7b94b346",
       "IPY_MODEL_83c29aa38d644e0987853e8746f8209d"
      ],
      "layout": "IPY_MODEL_da7579dd7d8b4ad2a3ac54669e2f2e41"
     }
    },
    "28adc8d59c3a4e6da6d56a24c6dc8857": {
     "model_module": "@jupyter-widgets/controls",
     "model_module_version": "1.5.0",
     "model_name": "HBoxModel",
     "state": {
      "_dom_classes": [],
      "_model_module": "@jupyter-widgets/controls",
      "_model_module_version": "1.5.0",
      "_model_name": "HBoxModel",
      "_view_count": null,
      "_view_module": "@jupyter-widgets/controls",
      "_view_module_version": "1.5.0",
      "_view_name": "HBoxView",
      "box_style": "",
      "children": [
       "IPY_MODEL_2e04a642eb0144f59cb6c4bf40d1b2ce",
       "IPY_MODEL_89d46d64ef684b918e032471568ed5f6",
       "IPY_MODEL_123f117cf39c405dbd6c0050f6267e3a"
      ],
      "layout": "IPY_MODEL_41c9b7daf5e647279bf0e766a4cc0702"
     }
    },
    "29a3ea8fa74444ca806d895c186a9a7a": {
     "model_module": "@jupyter-widgets/base",
     "model_module_version": "1.2.0",
     "model_name": "LayoutModel",
     "state": {
      "_model_module": "@jupyter-widgets/base",
      "_model_module_version": "1.2.0",
      "_model_name": "LayoutModel",
      "_view_count": null,
      "_view_module": "@jupyter-widgets/base",
      "_view_module_version": "1.2.0",
      "_view_name": "LayoutView",
      "align_content": null,
      "align_items": null,
      "align_self": null,
      "border": null,
      "bottom": null,
      "display": null,
      "flex": null,
      "flex_flow": null,
      "grid_area": null,
      "grid_auto_columns": null,
      "grid_auto_flow": null,
      "grid_auto_rows": null,
      "grid_column": null,
      "grid_gap": null,
      "grid_row": null,
      "grid_template_areas": null,
      "grid_template_columns": null,
      "grid_template_rows": null,
      "height": null,
      "justify_content": null,
      "justify_items": null,
      "left": null,
      "margin": null,
      "max_height": null,
      "max_width": null,
      "min_height": null,
      "min_width": null,
      "object_fit": null,
      "object_position": null,
      "order": null,
      "overflow": null,
      "overflow_x": null,
      "overflow_y": null,
      "padding": null,
      "right": null,
      "top": null,
      "visibility": null,
      "width": null
     }
    },
    "2a712ddf2ce145b5ab32df662c02a026": {
     "model_module": "@jupyter-widgets/controls",
     "model_module_version": "1.5.0",
     "model_name": "HTMLModel",
     "state": {
      "_dom_classes": [],
      "_model_module": "@jupyter-widgets/controls",
      "_model_module_version": "1.5.0",
      "_model_name": "HTMLModel",
      "_view_count": null,
      "_view_module": "@jupyter-widgets/controls",
      "_view_module_version": "1.5.0",
      "_view_name": "HTMLView",
      "description": "",
      "description_tooltip": null,
      "layout": "IPY_MODEL_7980c42c458e4c2aaf3482188987a174",
      "placeholder": "​",
      "style": "IPY_MODEL_a807fbf9098d423495b19f8ab268e8e7",
      "value": "Filter: 100%"
     }
    },
    "2e04a642eb0144f59cb6c4bf40d1b2ce": {
     "model_module": "@jupyter-widgets/controls",
     "model_module_version": "1.5.0",
     "model_name": "HTMLModel",
     "state": {
      "_dom_classes": [],
      "_model_module": "@jupyter-widgets/controls",
      "_model_module_version": "1.5.0",
      "_model_name": "HTMLModel",
      "_view_count": null,
      "_view_module": "@jupyter-widgets/controls",
      "_view_module_version": "1.5.0",
      "_view_name": "HTMLView",
      "description": "",
      "description_tooltip": null,
      "layout": "IPY_MODEL_861f92d116124738aca813cf775e052a",
      "placeholder": "​",
      "style": "IPY_MODEL_5faab306bd0743039ce3a65ec1f5175d",
      "value": "Downloading (…)in/label_encoder.txt: 100%"
     }
    },
    "2e1b35961de5420e896b4d1dfbc5bd04": {
     "model_module": "@jupyter-widgets/controls",
     "model_module_version": "1.5.0",
     "model_name": "HBoxModel",
     "state": {
      "_dom_classes": [],
      "_model_module": "@jupyter-widgets/controls",
      "_model_module_version": "1.5.0",
      "_model_name": "HBoxModel",
      "_view_count": null,
      "_view_module": "@jupyter-widgets/controls",
      "_view_module_version": "1.5.0",
      "_view_name": "HBoxView",
      "box_style": "",
      "children": [
       "IPY_MODEL_46f8093e3bfa457582d88dc672a58dba",
       "IPY_MODEL_13d82440a198461e92a08937262eb83c",
       "IPY_MODEL_139ee219cd7d4cba9e266f0e33373dc9"
      ],
      "layout": "IPY_MODEL_747201aebf8542749a8137dc8feac726"
     }
    },
    "2fe1e02ded124a9c95038a7843fb14b1": {
     "model_module": "@jupyter-widgets/controls",
     "model_module_version": "1.5.0",
     "model_name": "ProgressStyleModel",
     "state": {
      "_model_module": "@jupyter-widgets/controls",
      "_model_module_version": "1.5.0",
      "_model_name": "ProgressStyleModel",
      "_view_count": null,
      "_view_module": "@jupyter-widgets/base",
      "_view_module_version": "1.2.0",
      "_view_name": "StyleView",
      "bar_color": null,
      "description_width": ""
     }
    },
    "315a9f82155946d09cfc0c58e290cb95": {
     "model_module": "@jupyter-widgets/controls",
     "model_module_version": "1.5.0",
     "model_name": "DescriptionStyleModel",
     "state": {
      "_model_module": "@jupyter-widgets/controls",
      "_model_module_version": "1.5.0",
      "_model_name": "DescriptionStyleModel",
      "_view_count": null,
      "_view_module": "@jupyter-widgets/base",
      "_view_module_version": "1.2.0",
      "_view_name": "StyleView",
      "description_width": ""
     }
    },
    "31f843802662472a94d3c682a2bd74a8": {
     "model_module": "@jupyter-widgets/base",
     "model_module_version": "1.2.0",
     "model_name": "LayoutModel",
     "state": {
      "_model_module": "@jupyter-widgets/base",
      "_model_module_version": "1.2.0",
      "_model_name": "LayoutModel",
      "_view_count": null,
      "_view_module": "@jupyter-widgets/base",
      "_view_module_version": "1.2.0",
      "_view_name": "LayoutView",
      "align_content": null,
      "align_items": null,
      "align_self": null,
      "border": null,
      "bottom": null,
      "display": null,
      "flex": null,
      "flex_flow": null,
      "grid_area": null,
      "grid_auto_columns": null,
      "grid_auto_flow": null,
      "grid_auto_rows": null,
      "grid_column": null,
      "grid_gap": null,
      "grid_row": null,
      "grid_template_areas": null,
      "grid_template_columns": null,
      "grid_template_rows": null,
      "height": null,
      "justify_content": null,
      "justify_items": null,
      "left": null,
      "margin": null,
      "max_height": null,
      "max_width": null,
      "min_height": null,
      "min_width": null,
      "object_fit": null,
      "object_position": null,
      "order": null,
      "overflow": null,
      "overflow_x": null,
      "overflow_y": null,
      "padding": null,
      "right": null,
      "top": null,
      "visibility": null,
      "width": null
     }
    },
    "32bdf88db54741a6b0b237b8f1451197": {
     "model_module": "@jupyter-widgets/controls",
     "model_module_version": "1.5.0",
     "model_name": "HBoxModel",
     "state": {
      "_dom_classes": [],
      "_model_module": "@jupyter-widgets/controls",
      "_model_module_version": "1.5.0",
      "_model_name": "HBoxModel",
      "_view_count": null,
      "_view_module": "@jupyter-widgets/controls",
      "_view_module_version": "1.5.0",
      "_view_name": "HBoxView",
      "box_style": "",
      "children": [
       "IPY_MODEL_de8c5d1729b94579b4b79acfdb071a97",
       "IPY_MODEL_efbc205388f34c6f87750948e1380436",
       "IPY_MODEL_b98dc41fbd1f4a40bec527dfacbc737a"
      ],
      "layout": "IPY_MODEL_a705250a4195470c988f19f6514849bd"
     }
    },
    "36a4dee1c8f24a2dab5c0d70324fd687": {
     "model_module": "@jupyter-widgets/controls",
     "model_module_version": "1.5.0",
     "model_name": "HTMLModel",
     "state": {
      "_dom_classes": [],
      "_model_module": "@jupyter-widgets/controls",
      "_model_module_version": "1.5.0",
      "_model_name": "HTMLModel",
      "_view_count": null,
      "_view_module": "@jupyter-widgets/controls",
      "_view_module_version": "1.5.0",
      "_view_name": "HTMLView",
      "description": "",
      "description_tooltip": null,
      "layout": "IPY_MODEL_564e8f5a3ee64332a984c0cb3f921405",
      "placeholder": "​",
      "style": "IPY_MODEL_4ec498ff8c22458b88fc923325b43832",
      "value": "Downloading embedding_model.ckpt: 100%"
     }
    },
    "37e1802f96f1438e98130dd5878e1078": {
     "model_module": "@jupyter-widgets/controls",
     "model_module_version": "1.5.0",
     "model_name": "ProgressStyleModel",
     "state": {
      "_model_module": "@jupyter-widgets/controls",
      "_model_module_version": "1.5.0",
      "_model_name": "ProgressStyleModel",
      "_view_count": null,
      "_view_module": "@jupyter-widgets/base",
      "_view_module_version": "1.2.0",
      "_view_name": "StyleView",
      "bar_color": null,
      "description_width": ""
     }
    },
    "3ab229dc47e64c98952fd72022219b05": {
     "model_module": "@jupyter-widgets/base",
     "model_module_version": "1.2.0",
     "model_name": "LayoutModel",
     "state": {
      "_model_module": "@jupyter-widgets/base",
      "_model_module_version": "1.2.0",
      "_model_name": "LayoutModel",
      "_view_count": null,
      "_view_module": "@jupyter-widgets/base",
      "_view_module_version": "1.2.0",
      "_view_name": "LayoutView",
      "align_content": null,
      "align_items": null,
      "align_self": null,
      "border": null,
      "bottom": null,
      "display": null,
      "flex": null,
      "flex_flow": null,
      "grid_area": null,
      "grid_auto_columns": null,
      "grid_auto_flow": null,
      "grid_auto_rows": null,
      "grid_column": null,
      "grid_gap": null,
      "grid_row": null,
      "grid_template_areas": null,
      "grid_template_columns": null,
      "grid_template_rows": null,
      "height": null,
      "justify_content": null,
      "justify_items": null,
      "left": null,
      "margin": null,
      "max_height": null,
      "max_width": null,
      "min_height": null,
      "min_width": null,
      "object_fit": null,
      "object_position": null,
      "order": null,
      "overflow": null,
      "overflow_x": null,
      "overflow_y": null,
      "padding": null,
      "right": null,
      "top": null,
      "visibility": null,
      "width": null
     }
    },
    "3c38b35c28d646c6b71fb8f48d549abd": {
     "model_module": "@jupyter-widgets/controls",
     "model_module_version": "1.5.0",
     "model_name": "HTMLModel",
     "state": {
      "_dom_classes": [],
      "_model_module": "@jupyter-widgets/controls",
      "_model_module_version": "1.5.0",
      "_model_name": "HTMLModel",
      "_view_count": null,
      "_view_module": "@jupyter-widgets/controls",
      "_view_module_version": "1.5.0",
      "_view_name": "HTMLView",
      "description": "",
      "description_tooltip": null,
      "layout": "IPY_MODEL_74f14d8ae33e499eaa4c1e1430cb0a66",
      "placeholder": "​",
      "style": "IPY_MODEL_de9fe45872e647b483a4480d9e247a41",
      "value": "Map: 100%"
     }
    },
    "3d0e5e0e07044f25a4fe8f2a00062a26": {
     "model_module": "@jupyter-widgets/base",
     "model_module_version": "1.2.0",
     "model_name": "LayoutModel",
     "state": {
      "_model_module": "@jupyter-widgets/base",
      "_model_module_version": "1.2.0",
      "_model_name": "LayoutModel",
      "_view_count": null,
      "_view_module": "@jupyter-widgets/base",
      "_view_module_version": "1.2.0",
      "_view_name": "LayoutView",
      "align_content": null,
      "align_items": null,
      "align_self": null,
      "border": null,
      "bottom": null,
      "display": null,
      "flex": null,
      "flex_flow": null,
      "grid_area": null,
      "grid_auto_columns": null,
      "grid_auto_flow": null,
      "grid_auto_rows": null,
      "grid_column": null,
      "grid_gap": null,
      "grid_row": null,
      "grid_template_areas": null,
      "grid_template_columns": null,
      "grid_template_rows": null,
      "height": null,
      "justify_content": null,
      "justify_items": null,
      "left": null,
      "margin": null,
      "max_height": null,
      "max_width": null,
      "min_height": null,
      "min_width": null,
      "object_fit": null,
      "object_position": null,
      "order": null,
      "overflow": null,
      "overflow_x": null,
      "overflow_y": null,
      "padding": null,
      "right": null,
      "top": null,
      "visibility": null,
      "width": null
     }
    },
    "3ee31d4a090f4428a28c63b940e9f4b2": {
     "model_module": "@jupyter-widgets/base",
     "model_module_version": "1.2.0",
     "model_name": "LayoutModel",
     "state": {
      "_model_module": "@jupyter-widgets/base",
      "_model_module_version": "1.2.0",
      "_model_name": "LayoutModel",
      "_view_count": null,
      "_view_module": "@jupyter-widgets/base",
      "_view_module_version": "1.2.0",
      "_view_name": "LayoutView",
      "align_content": null,
      "align_items": null,
      "align_self": null,
      "border": null,
      "bottom": null,
      "display": null,
      "flex": null,
      "flex_flow": null,
      "grid_area": null,
      "grid_auto_columns": null,
      "grid_auto_flow": null,
      "grid_auto_rows": null,
      "grid_column": null,
      "grid_gap": null,
      "grid_row": null,
      "grid_template_areas": null,
      "grid_template_columns": null,
      "grid_template_rows": null,
      "height": null,
      "justify_content": null,
      "justify_items": null,
      "left": null,
      "margin": null,
      "max_height": null,
      "max_width": null,
      "min_height": null,
      "min_width": null,
      "object_fit": null,
      "object_position": null,
      "order": null,
      "overflow": null,
      "overflow_x": null,
      "overflow_y": null,
      "padding": null,
      "right": null,
      "top": null,
      "visibility": null,
      "width": null
     }
    },
    "3fa69385ce1f40a58f6c4059474887b5": {
     "model_module": "@jupyter-widgets/base",
     "model_module_version": "1.2.0",
     "model_name": "LayoutModel",
     "state": {
      "_model_module": "@jupyter-widgets/base",
      "_model_module_version": "1.2.0",
      "_model_name": "LayoutModel",
      "_view_count": null,
      "_view_module": "@jupyter-widgets/base",
      "_view_module_version": "1.2.0",
      "_view_name": "LayoutView",
      "align_content": null,
      "align_items": null,
      "align_self": null,
      "border": null,
      "bottom": null,
      "display": null,
      "flex": null,
      "flex_flow": null,
      "grid_area": null,
      "grid_auto_columns": null,
      "grid_auto_flow": null,
      "grid_auto_rows": null,
      "grid_column": null,
      "grid_gap": null,
      "grid_row": null,
      "grid_template_areas": null,
      "grid_template_columns": null,
      "grid_template_rows": null,
      "height": null,
      "justify_content": null,
      "justify_items": null,
      "left": null,
      "margin": null,
      "max_height": null,
      "max_width": null,
      "min_height": null,
      "min_width": null,
      "object_fit": null,
      "object_position": null,
      "order": null,
      "overflow": null,
      "overflow_x": null,
      "overflow_y": null,
      "padding": null,
      "right": null,
      "top": null,
      "visibility": null,
      "width": null
     }
    },
    "3fe0a7bc778641d9a3168e47b3a06092": {
     "model_module": "@jupyter-widgets/controls",
     "model_module_version": "1.5.0",
     "model_name": "DescriptionStyleModel",
     "state": {
      "_model_module": "@jupyter-widgets/controls",
      "_model_module_version": "1.5.0",
      "_model_name": "DescriptionStyleModel",
      "_view_count": null,
      "_view_module": "@jupyter-widgets/base",
      "_view_module_version": "1.2.0",
      "_view_name": "StyleView",
      "description_width": ""
     }
    },
    "4082fff487314aad86385798615e2a4e": {
     "model_module": "@jupyter-widgets/base",
     "model_module_version": "1.2.0",
     "model_name": "LayoutModel",
     "state": {
      "_model_module": "@jupyter-widgets/base",
      "_model_module_version": "1.2.0",
      "_model_name": "LayoutModel",
      "_view_count": null,
      "_view_module": "@jupyter-widgets/base",
      "_view_module_version": "1.2.0",
      "_view_name": "LayoutView",
      "align_content": null,
      "align_items": null,
      "align_self": null,
      "border": null,
      "bottom": null,
      "display": null,
      "flex": null,
      "flex_flow": null,
      "grid_area": null,
      "grid_auto_columns": null,
      "grid_auto_flow": null,
      "grid_auto_rows": null,
      "grid_column": null,
      "grid_gap": null,
      "grid_row": null,
      "grid_template_areas": null,
      "grid_template_columns": null,
      "grid_template_rows": null,
      "height": null,
      "justify_content": null,
      "justify_items": null,
      "left": null,
      "margin": null,
      "max_height": null,
      "max_width": null,
      "min_height": null,
      "min_width": null,
      "object_fit": null,
      "object_position": null,
      "order": null,
      "overflow": null,
      "overflow_x": null,
      "overflow_y": null,
      "padding": null,
      "right": null,
      "top": null,
      "visibility": null,
      "width": null
     }
    },
    "40eccaace52b4f0ca8a9b846060dcf15": {
     "model_module": "@jupyter-widgets/base",
     "model_module_version": "1.2.0",
     "model_name": "LayoutModel",
     "state": {
      "_model_module": "@jupyter-widgets/base",
      "_model_module_version": "1.2.0",
      "_model_name": "LayoutModel",
      "_view_count": null,
      "_view_module": "@jupyter-widgets/base",
      "_view_module_version": "1.2.0",
      "_view_name": "LayoutView",
      "align_content": null,
      "align_items": null,
      "align_self": null,
      "border": null,
      "bottom": null,
      "display": null,
      "flex": null,
      "flex_flow": null,
      "grid_area": null,
      "grid_auto_columns": null,
      "grid_auto_flow": null,
      "grid_auto_rows": null,
      "grid_column": null,
      "grid_gap": null,
      "grid_row": null,
      "grid_template_areas": null,
      "grid_template_columns": null,
      "grid_template_rows": null,
      "height": null,
      "justify_content": null,
      "justify_items": null,
      "left": null,
      "margin": null,
      "max_height": null,
      "max_width": null,
      "min_height": null,
      "min_width": null,
      "object_fit": null,
      "object_position": null,
      "order": null,
      "overflow": null,
      "overflow_x": null,
      "overflow_y": null,
      "padding": null,
      "right": null,
      "top": null,
      "visibility": null,
      "width": null
     }
    },
    "41c9b7daf5e647279bf0e766a4cc0702": {
     "model_module": "@jupyter-widgets/base",
     "model_module_version": "1.2.0",
     "model_name": "LayoutModel",
     "state": {
      "_model_module": "@jupyter-widgets/base",
      "_model_module_version": "1.2.0",
      "_model_name": "LayoutModel",
      "_view_count": null,
      "_view_module": "@jupyter-widgets/base",
      "_view_module_version": "1.2.0",
      "_view_name": "LayoutView",
      "align_content": null,
      "align_items": null,
      "align_self": null,
      "border": null,
      "bottom": null,
      "display": null,
      "flex": null,
      "flex_flow": null,
      "grid_area": null,
      "grid_auto_columns": null,
      "grid_auto_flow": null,
      "grid_auto_rows": null,
      "grid_column": null,
      "grid_gap": null,
      "grid_row": null,
      "grid_template_areas": null,
      "grid_template_columns": null,
      "grid_template_rows": null,
      "height": null,
      "justify_content": null,
      "justify_items": null,
      "left": null,
      "margin": null,
      "max_height": null,
      "max_width": null,
      "min_height": null,
      "min_width": null,
      "object_fit": null,
      "object_position": null,
      "order": null,
      "overflow": null,
      "overflow_x": null,
      "overflow_y": null,
      "padding": null,
      "right": null,
      "top": null,
      "visibility": null,
      "width": null
     }
    },
    "426640aec3574c95a652f945e16c45a4": {
     "model_module": "@jupyter-widgets/controls",
     "model_module_version": "1.5.0",
     "model_name": "HTMLModel",
     "state": {
      "_dom_classes": [],
      "_model_module": "@jupyter-widgets/controls",
      "_model_module_version": "1.5.0",
      "_model_name": "HTMLModel",
      "_view_count": null,
      "_view_module": "@jupyter-widgets/controls",
      "_view_module_version": "1.5.0",
      "_view_name": "HTMLView",
      "description": "",
      "description_tooltip": null,
      "layout": "IPY_MODEL_8ebc38668f9c469bac7317b92c2407e6",
      "placeholder": "​",
      "style": "IPY_MODEL_e98503c6db424b96bb996e4fbb7b8a2a",
      "value": " 2.11k/2.11k [00:00&lt;00:00, 36.8kB/s]"
     }
    },
    "45a532352b6243d989e10d9f920813ee": {
     "model_module": "@jupyter-widgets/controls",
     "model_module_version": "1.5.0",
     "model_name": "FloatProgressModel",
     "state": {
      "_dom_classes": [],
      "_model_module": "@jupyter-widgets/controls",
      "_model_module_version": "1.5.0",
      "_model_name": "FloatProgressModel",
      "_view_count": null,
      "_view_module": "@jupyter-widgets/controls",
      "_view_module_version": "1.5.0",
      "_view_name": "ProgressView",
      "bar_style": "success",
      "description": "",
      "description_tooltip": null,
      "layout": "IPY_MODEL_3d0e5e0e07044f25a4fe8f2a00062a26",
      "max": 2041,
      "min": 0,
      "orientation": "horizontal",
      "style": "IPY_MODEL_2fe1e02ded124a9c95038a7843fb14b1",
      "value": 2041
     }
    },
    "46f8093e3bfa457582d88dc672a58dba": {
     "model_module": "@jupyter-widgets/controls",
     "model_module_version": "1.5.0",
     "model_name": "HTMLModel",
     "state": {
      "_dom_classes": [],
      "_model_module": "@jupyter-widgets/controls",
      "_model_module_version": "1.5.0",
      "_model_name": "HTMLModel",
      "_view_count": null,
      "_view_module": "@jupyter-widgets/controls",
      "_view_module_version": "1.5.0",
      "_view_name": "HTMLView",
      "description": "",
      "description_tooltip": null,
      "layout": "IPY_MODEL_a09e44abddc74ed7845ffe1ff559b933",
      "placeholder": "​",
      "style": "IPY_MODEL_d588c7dd53c145ac96d772a6af055101",
      "value": "Downloading mean_var_norm_emb.ckpt: 100%"
     }
    },
    "4759130b70b340a6abd804bd5d5d731c": {
     "model_module": "@jupyter-widgets/controls",
     "model_module_version": "1.5.0",
     "model_name": "FloatProgressModel",
     "state": {
      "_dom_classes": [],
      "_model_module": "@jupyter-widgets/controls",
      "_model_module_version": "1.5.0",
      "_model_name": "FloatProgressModel",
      "_view_count": null,
      "_view_module": "@jupyter-widgets/controls",
      "_view_module_version": "1.5.0",
      "_view_name": "ProgressView",
      "bar_style": "success",
      "description": "",
      "description_tooltip": null,
      "layout": "IPY_MODEL_a8a6f45d78504d4ab75d3dbf47955ba8",
      "max": 50672453,
      "min": 0,
      "orientation": "horizontal",
      "style": "IPY_MODEL_be9c32a86ea442298fad57c5e2589339",
      "value": 50672453
     }
    },
    "47943abd7e914f829e11d3820cc8ca3e": {
     "model_module": "@jupyter-widgets/controls",
     "model_module_version": "1.5.0",
     "model_name": "HTMLModel",
     "state": {
      "_dom_classes": [],
      "_model_module": "@jupyter-widgets/controls",
      "_model_module_version": "1.5.0",
      "_model_name": "HTMLModel",
      "_view_count": null,
      "_view_module": "@jupyter-widgets/controls",
      "_view_module_version": "1.5.0",
      "_view_name": "HTMLView",
      "description": "",
      "description_tooltip": null,
      "layout": "IPY_MODEL_f2f958cdcf5a41e392e0cd92b8da52f1",
      "placeholder": "​",
      "style": "IPY_MODEL_73d695248c6143c19f976569d587b1d6",
      "value": "Downloading (…)lve/main/config.json: 100%"
     }
    },
    "488330af09c84e7ab7a3f0d7fb133c5d": {
     "model_module": "@jupyter-widgets/controls",
     "model_module_version": "1.5.0",
     "model_name": "HTMLModel",
     "state": {
      "_dom_classes": [],
      "_model_module": "@jupyter-widgets/controls",
      "_model_module_version": "1.5.0",
      "_model_name": "HTMLModel",
      "_view_count": null,
      "_view_module": "@jupyter-widgets/controls",
      "_view_module_version": "1.5.0",
      "_view_name": "HTMLView",
      "description": "",
      "description_tooltip": null,
      "layout": "IPY_MODEL_b2952eb34cc24218b3e6cd01b1c3f88a",
      "placeholder": "​",
      "style": "IPY_MODEL_fff57be8afee4ea2a0482612b5f75ca1",
      "value": "Downloading (…)ain/hyperparams.yaml: 100%"
     }
    },
    "49ed3dfdc837403b8741061d0659102c": {
     "model_module": "@jupyter-widgets/controls",
     "model_module_version": "1.5.0",
     "model_name": "HBoxModel",
     "state": {
      "_dom_classes": [],
      "_model_module": "@jupyter-widgets/controls",
      "_model_module_version": "1.5.0",
      "_model_name": "HBoxModel",
      "_view_count": null,
      "_view_module": "@jupyter-widgets/controls",
      "_view_module_version": "1.5.0",
      "_view_name": "HBoxView",
      "box_style": "",
      "children": [
       "IPY_MODEL_488330af09c84e7ab7a3f0d7fb133c5d",
       "IPY_MODEL_45a532352b6243d989e10d9f920813ee",
       "IPY_MODEL_6df9ec75e27f4efba503bbfdccabe6a6"
      ],
      "layout": "IPY_MODEL_273addc7de164aef804ddd5c948cec16"
     }
    },
    "4c85d484e3df4ab6894b56cb244d8898": {
     "model_module": "@jupyter-widgets/controls",
     "model_module_version": "1.5.0",
     "model_name": "ProgressStyleModel",
     "state": {
      "_model_module": "@jupyter-widgets/controls",
      "_model_module_version": "1.5.0",
      "_model_name": "ProgressStyleModel",
      "_view_count": null,
      "_view_module": "@jupyter-widgets/base",
      "_view_module_version": "1.2.0",
      "_view_name": "StyleView",
      "bar_color": null,
      "description_width": ""
     }
    },
    "4df6e08ddc9a481da160fa9fa56ceac4": {
     "model_module": "@jupyter-widgets/controls",
     "model_module_version": "1.5.0",
     "model_name": "ProgressStyleModel",
     "state": {
      "_model_module": "@jupyter-widgets/controls",
      "_model_module_version": "1.5.0",
      "_model_name": "ProgressStyleModel",
      "_view_count": null,
      "_view_module": "@jupyter-widgets/base",
      "_view_module_version": "1.2.0",
      "_view_name": "StyleView",
      "bar_color": null,
      "description_width": ""
     }
    },
    "4ec498ff8c22458b88fc923325b43832": {
     "model_module": "@jupyter-widgets/controls",
     "model_module_version": "1.5.0",
     "model_name": "DescriptionStyleModel",
     "state": {
      "_model_module": "@jupyter-widgets/controls",
      "_model_module_version": "1.5.0",
      "_model_name": "DescriptionStyleModel",
      "_view_count": null,
      "_view_module": "@jupyter-widgets/base",
      "_view_module_version": "1.2.0",
      "_view_name": "StyleView",
      "description_width": ""
     }
    },
    "515dc8f010da4162accf8cc3890358cf": {
     "model_module": "@jupyter-widgets/base",
     "model_module_version": "1.2.0",
     "model_name": "LayoutModel",
     "state": {
      "_model_module": "@jupyter-widgets/base",
      "_model_module_version": "1.2.0",
      "_model_name": "LayoutModel",
      "_view_count": null,
      "_view_module": "@jupyter-widgets/base",
      "_view_module_version": "1.2.0",
      "_view_name": "LayoutView",
      "align_content": null,
      "align_items": null,
      "align_self": null,
      "border": null,
      "bottom": null,
      "display": null,
      "flex": null,
      "flex_flow": null,
      "grid_area": null,
      "grid_auto_columns": null,
      "grid_auto_flow": null,
      "grid_auto_rows": null,
      "grid_column": null,
      "grid_gap": null,
      "grid_row": null,
      "grid_template_areas": null,
      "grid_template_columns": null,
      "grid_template_rows": null,
      "height": null,
      "justify_content": null,
      "justify_items": null,
      "left": null,
      "margin": null,
      "max_height": null,
      "max_width": null,
      "min_height": null,
      "min_width": null,
      "object_fit": null,
      "object_position": null,
      "order": null,
      "overflow": null,
      "overflow_x": null,
      "overflow_y": null,
      "padding": null,
      "right": null,
      "top": null,
      "visibility": null,
      "width": null
     }
    },
    "53c078a47fae41418cc21a80793c0fef": {
     "model_module": "@jupyter-widgets/controls",
     "model_module_version": "1.5.0",
     "model_name": "ProgressStyleModel",
     "state": {
      "_model_module": "@jupyter-widgets/controls",
      "_model_module_version": "1.5.0",
      "_model_name": "ProgressStyleModel",
      "_view_count": null,
      "_view_module": "@jupyter-widgets/base",
      "_view_module_version": "1.2.0",
      "_view_name": "StyleView",
      "bar_color": null,
      "description_width": ""
     }
    },
    "547ef7f99cc74ac983ce49aed6aca673": {
     "model_module": "@jupyter-widgets/base",
     "model_module_version": "1.2.0",
     "model_name": "LayoutModel",
     "state": {
      "_model_module": "@jupyter-widgets/base",
      "_model_module_version": "1.2.0",
      "_model_name": "LayoutModel",
      "_view_count": null,
      "_view_module": "@jupyter-widgets/base",
      "_view_module_version": "1.2.0",
      "_view_name": "LayoutView",
      "align_content": null,
      "align_items": null,
      "align_self": null,
      "border": null,
      "bottom": null,
      "display": null,
      "flex": null,
      "flex_flow": null,
      "grid_area": null,
      "grid_auto_columns": null,
      "grid_auto_flow": null,
      "grid_auto_rows": null,
      "grid_column": null,
      "grid_gap": null,
      "grid_row": null,
      "grid_template_areas": null,
      "grid_template_columns": null,
      "grid_template_rows": null,
      "height": null,
      "justify_content": null,
      "justify_items": null,
      "left": null,
      "margin": null,
      "max_height": null,
      "max_width": null,
      "min_height": null,
      "min_width": null,
      "object_fit": null,
      "object_position": null,
      "order": null,
      "overflow": null,
      "overflow_x": null,
      "overflow_y": null,
      "padding": null,
      "right": null,
      "top": null,
      "visibility": null,
      "width": null
     }
    },
    "54b66c1a49174d5382e0272483866176": {
     "model_module": "@jupyter-widgets/base",
     "model_module_version": "1.2.0",
     "model_name": "LayoutModel",
     "state": {
      "_model_module": "@jupyter-widgets/base",
      "_model_module_version": "1.2.0",
      "_model_name": "LayoutModel",
      "_view_count": null,
      "_view_module": "@jupyter-widgets/base",
      "_view_module_version": "1.2.0",
      "_view_name": "LayoutView",
      "align_content": null,
      "align_items": null,
      "align_self": null,
      "border": null,
      "bottom": null,
      "display": null,
      "flex": null,
      "flex_flow": null,
      "grid_area": null,
      "grid_auto_columns": null,
      "grid_auto_flow": null,
      "grid_auto_rows": null,
      "grid_column": null,
      "grid_gap": null,
      "grid_row": null,
      "grid_template_areas": null,
      "grid_template_columns": null,
      "grid_template_rows": null,
      "height": null,
      "justify_content": null,
      "justify_items": null,
      "left": null,
      "margin": null,
      "max_height": null,
      "max_width": null,
      "min_height": null,
      "min_width": null,
      "object_fit": null,
      "object_position": null,
      "order": null,
      "overflow": null,
      "overflow_x": null,
      "overflow_y": null,
      "padding": null,
      "right": null,
      "top": null,
      "visibility": null,
      "width": null
     }
    },
    "54c5972e82154abbbb6b0cbda3c2227b": {
     "model_module": "@jupyter-widgets/controls",
     "model_module_version": "1.5.0",
     "model_name": "HTMLModel",
     "state": {
      "_dom_classes": [],
      "_model_module": "@jupyter-widgets/controls",
      "_model_module_version": "1.5.0",
      "_model_name": "HTMLModel",
      "_view_count": null,
      "_view_module": "@jupyter-widgets/controls",
      "_view_module_version": "1.5.0",
      "_view_name": "HTMLView",
      "description": "",
      "description_tooltip": null,
      "layout": "IPY_MODEL_1fd65f2cd29d4e2289f854b22ceaacf1",
      "placeholder": "​",
      "style": "IPY_MODEL_65a42048862c4c9985d5117eb3a98bec",
      "value": " 16.9M/16.9M [00:00&lt;00:00, 69.1MB/s]"
     }
    },
    "564e8f5a3ee64332a984c0cb3f921405": {
     "model_module": "@jupyter-widgets/base",
     "model_module_version": "1.2.0",
     "model_name": "LayoutModel",
     "state": {
      "_model_module": "@jupyter-widgets/base",
      "_model_module_version": "1.2.0",
      "_model_name": "LayoutModel",
      "_view_count": null,
      "_view_module": "@jupyter-widgets/base",
      "_view_module_version": "1.2.0",
      "_view_name": "LayoutView",
      "align_content": null,
      "align_items": null,
      "align_self": null,
      "border": null,
      "bottom": null,
      "display": null,
      "flex": null,
      "flex_flow": null,
      "grid_area": null,
      "grid_auto_columns": null,
      "grid_auto_flow": null,
      "grid_auto_rows": null,
      "grid_column": null,
      "grid_gap": null,
      "grid_row": null,
      "grid_template_areas": null,
      "grid_template_columns": null,
      "grid_template_rows": null,
      "height": null,
      "justify_content": null,
      "justify_items": null,
      "left": null,
      "margin": null,
      "max_height": null,
      "max_width": null,
      "min_height": null,
      "min_width": null,
      "object_fit": null,
      "object_position": null,
      "order": null,
      "overflow": null,
      "overflow_x": null,
      "overflow_y": null,
      "padding": null,
      "right": null,
      "top": null,
      "visibility": null,
      "width": null
     }
    },
    "584b82b74f3e478fae033692e403c0be": {
     "model_module": "@jupyter-widgets/controls",
     "model_module_version": "1.5.0",
     "model_name": "HBoxModel",
     "state": {
      "_dom_classes": [],
      "_model_module": "@jupyter-widgets/controls",
      "_model_module_version": "1.5.0",
      "_model_name": "HBoxModel",
      "_view_count": null,
      "_view_module": "@jupyter-widgets/controls",
      "_view_module_version": "1.5.0",
      "_view_name": "HBoxView",
      "box_style": "",
      "children": [
       "IPY_MODEL_3c38b35c28d646c6b71fb8f48d549abd",
       "IPY_MODEL_7dc214351a4243a2934af2ead533cc0e",
       "IPY_MODEL_6f97301cb71a4b22801ae2da3bb1a459"
      ],
      "layout": "IPY_MODEL_7625e09f50484f5998c7171513962eaf"
     }
    },
    "5854ee4e1a224964b90364231547ecf8": {
     "model_module": "@jupyter-widgets/base",
     "model_module_version": "1.2.0",
     "model_name": "LayoutModel",
     "state": {
      "_model_module": "@jupyter-widgets/base",
      "_model_module_version": "1.2.0",
      "_model_name": "LayoutModel",
      "_view_count": null,
      "_view_module": "@jupyter-widgets/base",
      "_view_module_version": "1.2.0",
      "_view_name": "LayoutView",
      "align_content": null,
      "align_items": null,
      "align_self": null,
      "border": null,
      "bottom": null,
      "display": null,
      "flex": null,
      "flex_flow": null,
      "grid_area": null,
      "grid_auto_columns": null,
      "grid_auto_flow": null,
      "grid_auto_rows": null,
      "grid_column": null,
      "grid_gap": null,
      "grid_row": null,
      "grid_template_areas": null,
      "grid_template_columns": null,
      "grid_template_rows": null,
      "height": null,
      "justify_content": null,
      "justify_items": null,
      "left": null,
      "margin": null,
      "max_height": null,
      "max_width": null,
      "min_height": null,
      "min_width": null,
      "object_fit": null,
      "object_position": null,
      "order": null,
      "overflow": null,
      "overflow_x": null,
      "overflow_y": null,
      "padding": null,
      "right": null,
      "top": null,
      "visibility": null,
      "width": null
     }
    },
    "58a9bc95f3c24a4db8eae6c38ed4dba5": {
     "model_module": "@jupyter-widgets/controls",
     "model_module_version": "1.5.0",
     "model_name": "FloatProgressModel",
     "state": {
      "_dom_classes": [],
      "_model_module": "@jupyter-widgets/controls",
      "_model_module_version": "1.5.0",
      "_model_name": "FloatProgressModel",
      "_view_count": null,
      "_view_module": "@jupyter-widgets/controls",
      "_view_module_version": "1.5.0",
      "_view_name": "ProgressView",
      "bar_style": "success",
      "description": "",
      "description_tooltip": null,
      "layout": "IPY_MODEL_3ee31d4a090f4428a28c63b940e9f4b2",
      "max": 9973,
      "min": 0,
      "orientation": "horizontal",
      "style": "IPY_MODEL_003952b6386749c794bcdc0194ab261d",
      "value": 9973
     }
    },
    "5aa4d37cc1b14006bee506ff3e959ba4": {
     "model_module": "@jupyter-widgets/controls",
     "model_module_version": "1.5.0",
     "model_name": "DescriptionStyleModel",
     "state": {
      "_model_module": "@jupyter-widgets/controls",
      "_model_module_version": "1.5.0",
      "_model_name": "DescriptionStyleModel",
      "_view_count": null,
      "_view_module": "@jupyter-widgets/base",
      "_view_module_version": "1.2.0",
      "_view_name": "StyleView",
      "description_width": ""
     }
    },
    "5b241fc6078542888490a9e842880838": {
     "model_module": "@jupyter-widgets/base",
     "model_module_version": "1.2.0",
     "model_name": "LayoutModel",
     "state": {
      "_model_module": "@jupyter-widgets/base",
      "_model_module_version": "1.2.0",
      "_model_name": "LayoutModel",
      "_view_count": null,
      "_view_module": "@jupyter-widgets/base",
      "_view_module_version": "1.2.0",
      "_view_name": "LayoutView",
      "align_content": null,
      "align_items": null,
      "align_self": null,
      "border": null,
      "bottom": null,
      "display": null,
      "flex": null,
      "flex_flow": null,
      "grid_area": null,
      "grid_auto_columns": null,
      "grid_auto_flow": null,
      "grid_auto_rows": null,
      "grid_column": null,
      "grid_gap": null,
      "grid_row": null,
      "grid_template_areas": null,
      "grid_template_columns": null,
      "grid_template_rows": null,
      "height": null,
      "justify_content": null,
      "justify_items": null,
      "left": null,
      "margin": null,
      "max_height": null,
      "max_width": null,
      "min_height": null,
      "min_width": null,
      "object_fit": null,
      "object_position": null,
      "order": null,
      "overflow": null,
      "overflow_x": null,
      "overflow_y": null,
      "padding": null,
      "right": null,
      "top": null,
      "visibility": null,
      "width": null
     }
    },
    "5da72b86d0c44f4c8254acac12e770ab": {
     "model_module": "@jupyter-widgets/base",
     "model_module_version": "1.2.0",
     "model_name": "LayoutModel",
     "state": {
      "_model_module": "@jupyter-widgets/base",
      "_model_module_version": "1.2.0",
      "_model_name": "LayoutModel",
      "_view_count": null,
      "_view_module": "@jupyter-widgets/base",
      "_view_module_version": "1.2.0",
      "_view_name": "LayoutView",
      "align_content": null,
      "align_items": null,
      "align_self": null,
      "border": null,
      "bottom": null,
      "display": null,
      "flex": null,
      "flex_flow": null,
      "grid_area": null,
      "grid_auto_columns": null,
      "grid_auto_flow": null,
      "grid_auto_rows": null,
      "grid_column": null,
      "grid_gap": null,
      "grid_row": null,
      "grid_template_areas": null,
      "grid_template_columns": null,
      "grid_template_rows": null,
      "height": null,
      "justify_content": null,
      "justify_items": null,
      "left": null,
      "margin": null,
      "max_height": null,
      "max_width": null,
      "min_height": null,
      "min_width": null,
      "object_fit": null,
      "object_position": null,
      "order": null,
      "overflow": null,
      "overflow_x": null,
      "overflow_y": null,
      "padding": null,
      "right": null,
      "top": null,
      "visibility": null,
      "width": null
     }
    },
    "5fa7227a37644ad298bcccc000da3317": {
     "model_module": "@jupyter-widgets/controls",
     "model_module_version": "1.5.0",
     "model_name": "DescriptionStyleModel",
     "state": {
      "_model_module": "@jupyter-widgets/controls",
      "_model_module_version": "1.5.0",
      "_model_name": "DescriptionStyleModel",
      "_view_count": null,
      "_view_module": "@jupyter-widgets/base",
      "_view_module_version": "1.2.0",
      "_view_name": "StyleView",
      "description_width": ""
     }
    },
    "5faab306bd0743039ce3a65ec1f5175d": {
     "model_module": "@jupyter-widgets/controls",
     "model_module_version": "1.5.0",
     "model_name": "DescriptionStyleModel",
     "state": {
      "_model_module": "@jupyter-widgets/controls",
      "_model_module_version": "1.5.0",
      "_model_name": "DescriptionStyleModel",
      "_view_count": null,
      "_view_module": "@jupyter-widgets/base",
      "_view_module_version": "1.2.0",
      "_view_name": "StyleView",
      "description_width": ""
     }
    },
    "6066f619259343058e6c3ce6587ad17d": {
     "model_module": "@jupyter-widgets/controls",
     "model_module_version": "1.5.0",
     "model_name": "DescriptionStyleModel",
     "state": {
      "_model_module": "@jupyter-widgets/controls",
      "_model_module_version": "1.5.0",
      "_model_name": "DescriptionStyleModel",
      "_view_count": null,
      "_view_module": "@jupyter-widgets/base",
      "_view_module_version": "1.2.0",
      "_view_name": "StyleView",
      "description_width": ""
     }
    },
    "6255ea93e05140f09ca82b85ecb54fca": {
     "model_module": "@jupyter-widgets/controls",
     "model_module_version": "1.5.0",
     "model_name": "DescriptionStyleModel",
     "state": {
      "_model_module": "@jupyter-widgets/controls",
      "_model_module_version": "1.5.0",
      "_model_name": "DescriptionStyleModel",
      "_view_count": null,
      "_view_module": "@jupyter-widgets/base",
      "_view_module_version": "1.2.0",
      "_view_name": "StyleView",
      "description_width": ""
     }
    },
    "629831e879a448909ab1d34e61481531": {
     "model_module": "@jupyter-widgets/controls",
     "model_module_version": "1.5.0",
     "model_name": "DescriptionStyleModel",
     "state": {
      "_model_module": "@jupyter-widgets/controls",
      "_model_module_version": "1.5.0",
      "_model_name": "DescriptionStyleModel",
      "_view_count": null,
      "_view_module": "@jupyter-widgets/base",
      "_view_module_version": "1.2.0",
      "_view_name": "StyleView",
      "description_width": ""
     }
    },
    "63603aadc07649ba91e1abd21a655c29": {
     "model_module": "@jupyter-widgets/base",
     "model_module_version": "1.2.0",
     "model_name": "LayoutModel",
     "state": {
      "_model_module": "@jupyter-widgets/base",
      "_model_module_version": "1.2.0",
      "_model_name": "LayoutModel",
      "_view_count": null,
      "_view_module": "@jupyter-widgets/base",
      "_view_module_version": "1.2.0",
      "_view_name": "LayoutView",
      "align_content": null,
      "align_items": null,
      "align_self": null,
      "border": null,
      "bottom": null,
      "display": null,
      "flex": null,
      "flex_flow": null,
      "grid_area": null,
      "grid_auto_columns": null,
      "grid_auto_flow": null,
      "grid_auto_rows": null,
      "grid_column": null,
      "grid_gap": null,
      "grid_row": null,
      "grid_template_areas": null,
      "grid_template_columns": null,
      "grid_template_rows": null,
      "height": null,
      "justify_content": null,
      "justify_items": null,
      "left": null,
      "margin": null,
      "max_height": null,
      "max_width": null,
      "min_height": null,
      "min_width": null,
      "object_fit": null,
      "object_position": null,
      "order": null,
      "overflow": null,
      "overflow_x": null,
      "overflow_y": null,
      "padding": null,
      "right": null,
      "top": null,
      "visibility": null,
      "width": null
     }
    },
    "64f6173917794707a6f954b7028593d0": {
     "model_module": "@jupyter-widgets/base",
     "model_module_version": "1.2.0",
     "model_name": "LayoutModel",
     "state": {
      "_model_module": "@jupyter-widgets/base",
      "_model_module_version": "1.2.0",
      "_model_name": "LayoutModel",
      "_view_count": null,
      "_view_module": "@jupyter-widgets/base",
      "_view_module_version": "1.2.0",
      "_view_name": "LayoutView",
      "align_content": null,
      "align_items": null,
      "align_self": null,
      "border": null,
      "bottom": null,
      "display": null,
      "flex": null,
      "flex_flow": null,
      "grid_area": null,
      "grid_auto_columns": null,
      "grid_auto_flow": null,
      "grid_auto_rows": null,
      "grid_column": null,
      "grid_gap": null,
      "grid_row": null,
      "grid_template_areas": null,
      "grid_template_columns": null,
      "grid_template_rows": null,
      "height": null,
      "justify_content": null,
      "justify_items": null,
      "left": null,
      "margin": null,
      "max_height": null,
      "max_width": null,
      "min_height": null,
      "min_width": null,
      "object_fit": null,
      "object_position": null,
      "order": null,
      "overflow": null,
      "overflow_x": null,
      "overflow_y": null,
      "padding": null,
      "right": null,
      "top": null,
      "visibility": null,
      "width": null
     }
    },
    "65a42048862c4c9985d5117eb3a98bec": {
     "model_module": "@jupyter-widgets/controls",
     "model_module_version": "1.5.0",
     "model_name": "DescriptionStyleModel",
     "state": {
      "_model_module": "@jupyter-widgets/controls",
      "_model_module_version": "1.5.0",
      "_model_name": "DescriptionStyleModel",
      "_view_count": null,
      "_view_module": "@jupyter-widgets/base",
      "_view_module_version": "1.2.0",
      "_view_name": "StyleView",
      "description_width": ""
     }
    },
    "661b9da3c9cd4699b0fb5587c26fe15f": {
     "model_module": "@jupyter-widgets/base",
     "model_module_version": "1.2.0",
     "model_name": "LayoutModel",
     "state": {
      "_model_module": "@jupyter-widgets/base",
      "_model_module_version": "1.2.0",
      "_model_name": "LayoutModel",
      "_view_count": null,
      "_view_module": "@jupyter-widgets/base",
      "_view_module_version": "1.2.0",
      "_view_name": "LayoutView",
      "align_content": null,
      "align_items": null,
      "align_self": null,
      "border": null,
      "bottom": null,
      "display": null,
      "flex": null,
      "flex_flow": null,
      "grid_area": null,
      "grid_auto_columns": null,
      "grid_auto_flow": null,
      "grid_auto_rows": null,
      "grid_column": null,
      "grid_gap": null,
      "grid_row": null,
      "grid_template_areas": null,
      "grid_template_columns": null,
      "grid_template_rows": null,
      "height": null,
      "justify_content": null,
      "justify_items": null,
      "left": null,
      "margin": null,
      "max_height": null,
      "max_width": null,
      "min_height": null,
      "min_width": null,
      "object_fit": null,
      "object_position": null,
      "order": null,
      "overflow": null,
      "overflow_x": null,
      "overflow_y": null,
      "padding": null,
      "right": null,
      "top": null,
      "visibility": null,
      "width": null
     }
    },
    "6709d2a2129a49c58fd163b68c965eed": {
     "model_module": "@jupyter-widgets/controls",
     "model_module_version": "1.5.0",
     "model_name": "CheckboxModel",
     "state": {
      "_dom_classes": [],
      "_model_module": "@jupyter-widgets/controls",
      "_model_module_version": "1.5.0",
      "_model_name": "CheckboxModel",
      "_view_count": null,
      "_view_module": "@jupyter-widgets/controls",
      "_view_module_version": "1.5.0",
      "_view_name": "CheckboxView",
      "description": "Add token as git credential?",
      "description_tooltip": null,
      "disabled": false,
      "indent": true,
      "layout": "IPY_MODEL_0637806dd4e4445faec16f65c639f586",
      "style": "IPY_MODEL_1f77c18af66c4b7c8655c5224efbbdde",
      "value": true
     }
    },
    "67a0c9cb83834a6786d35c9778563891": {
     "model_module": "@jupyter-widgets/controls",
     "model_module_version": "1.5.0",
     "model_name": "HTMLModel",
     "state": {
      "_dom_classes": [],
      "_model_module": "@jupyter-widgets/controls",
      "_model_module_version": "1.5.0",
      "_model_name": "HTMLModel",
      "_view_count": null,
      "_view_module": "@jupyter-widgets/controls",
      "_view_module_version": "1.5.0",
      "_view_name": "HTMLView",
      "description": "",
      "description_tooltip": null,
      "layout": "IPY_MODEL_c3cb617021ed4fe7954c7a76c7ea2d4d",
      "placeholder": "​",
      "style": "IPY_MODEL_8521fd34f64341b0a2cf8fca161c26ad",
      "value": " 170625/170625 [00:00&lt;00:00, 509953.27 examples/s]"
     }
    },
    "6bb9195833af4f2da71171c52df82a35": {
     "model_module": "@jupyter-widgets/controls",
     "model_module_version": "1.5.0",
     "model_name": "ProgressStyleModel",
     "state": {
      "_model_module": "@jupyter-widgets/controls",
      "_model_module_version": "1.5.0",
      "_model_name": "ProgressStyleModel",
      "_view_count": null,
      "_view_module": "@jupyter-widgets/base",
      "_view_module_version": "1.2.0",
      "_view_name": "StyleView",
      "bar_color": null,
      "description_width": ""
     }
    },
    "6c47ec2bdbec41098c3692003b999510": {
     "model_module": "@jupyter-widgets/base",
     "model_module_version": "1.2.0",
     "model_name": "LayoutModel",
     "state": {
      "_model_module": "@jupyter-widgets/base",
      "_model_module_version": "1.2.0",
      "_model_name": "LayoutModel",
      "_view_count": null,
      "_view_module": "@jupyter-widgets/base",
      "_view_module_version": "1.2.0",
      "_view_name": "LayoutView",
      "align_content": null,
      "align_items": null,
      "align_self": null,
      "border": null,
      "bottom": null,
      "display": null,
      "flex": null,
      "flex_flow": null,
      "grid_area": null,
      "grid_auto_columns": null,
      "grid_auto_flow": null,
      "grid_auto_rows": null,
      "grid_column": null,
      "grid_gap": null,
      "grid_row": null,
      "grid_template_areas": null,
      "grid_template_columns": null,
      "grid_template_rows": null,
      "height": null,
      "justify_content": null,
      "justify_items": null,
      "left": null,
      "margin": null,
      "max_height": null,
      "max_width": null,
      "min_height": null,
      "min_width": null,
      "object_fit": null,
      "object_position": null,
      "order": null,
      "overflow": null,
      "overflow_x": null,
      "overflow_y": null,
      "padding": null,
      "right": null,
      "top": null,
      "visibility": null,
      "width": null
     }
    },
    "6df9ec75e27f4efba503bbfdccabe6a6": {
     "model_module": "@jupyter-widgets/controls",
     "model_module_version": "1.5.0",
     "model_name": "HTMLModel",
     "state": {
      "_dom_classes": [],
      "_model_module": "@jupyter-widgets/controls",
      "_model_module_version": "1.5.0",
      "_model_name": "HTMLModel",
      "_view_count": null,
      "_view_module": "@jupyter-widgets/controls",
      "_view_module_version": "1.5.0",
      "_view_name": "HTMLView",
      "description": "",
      "description_tooltip": null,
      "layout": "IPY_MODEL_bbd339d05b6c4def867887305f61bc45",
      "placeholder": "​",
      "style": "IPY_MODEL_6066f619259343058e6c3ce6587ad17d",
      "value": " 2.04k/2.04k [00:00&lt;00:00, 50.2kB/s]"
     }
    },
    "6f456608999d40fcbf34d3240b1b2a68": {
     "model_module": "@jupyter-widgets/controls",
     "model_module_version": "1.5.0",
     "model_name": "HBoxModel",
     "state": {
      "_dom_classes": [],
      "_model_module": "@jupyter-widgets/controls",
      "_model_module_version": "1.5.0",
      "_model_name": "HBoxModel",
      "_view_count": null,
      "_view_module": "@jupyter-widgets/controls",
      "_view_module_version": "1.5.0",
      "_view_name": "HBoxView",
      "box_style": "",
      "children": [
       "IPY_MODEL_36a4dee1c8f24a2dab5c0d70324fd687",
       "IPY_MODEL_f4194511e24c41d9b5023501f519372b",
       "IPY_MODEL_54c5972e82154abbbb6b0cbda3c2227b"
      ],
      "layout": "IPY_MODEL_8444e8676b9e409ea8bb7cf3ab117264"
     }
    },
    "6f97301cb71a4b22801ae2da3bb1a459": {
     "model_module": "@jupyter-widgets/controls",
     "model_module_version": "1.5.0",
     "model_name": "HTMLModel",
     "state": {
      "_dom_classes": [],
      "_model_module": "@jupyter-widgets/controls",
      "_model_module_version": "1.5.0",
      "_model_name": "HTMLModel",
      "_view_count": null,
      "_view_module": "@jupyter-widgets/controls",
      "_view_module_version": "1.5.0",
      "_view_name": "HTMLView",
      "description": "",
      "description_tooltip": null,
      "layout": "IPY_MODEL_5da72b86d0c44f4c8254acac12e770ab",
      "placeholder": "​",
      "style": "IPY_MODEL_76057dbeac7b491384749430dee0389d",
      "value": " 20968/20968 [00:02&lt;00:00, 8375.34 examples/s]"
     }
    },
    "70b9c74f2b464790b2dde20549af8c2d": {
     "model_module": "@jupyter-widgets/controls",
     "model_module_version": "1.5.0",
     "model_name": "DescriptionStyleModel",
     "state": {
      "_model_module": "@jupyter-widgets/controls",
      "_model_module_version": "1.5.0",
      "_model_name": "DescriptionStyleModel",
      "_view_count": null,
      "_view_module": "@jupyter-widgets/base",
      "_view_module_version": "1.2.0",
      "_view_name": "StyleView",
      "description_width": ""
     }
    },
    "7394fe15f9b549a191ac1923b72069ea": {
     "model_module": "@jupyter-widgets/controls",
     "model_module_version": "1.5.0",
     "model_name": "DescriptionStyleModel",
     "state": {
      "_model_module": "@jupyter-widgets/controls",
      "_model_module_version": "1.5.0",
      "_model_name": "DescriptionStyleModel",
      "_view_count": null,
      "_view_module": "@jupyter-widgets/base",
      "_view_module_version": "1.2.0",
      "_view_name": "StyleView",
      "description_width": ""
     }
    },
    "73d695248c6143c19f976569d587b1d6": {
     "model_module": "@jupyter-widgets/controls",
     "model_module_version": "1.5.0",
     "model_name": "DescriptionStyleModel",
     "state": {
      "_model_module": "@jupyter-widgets/controls",
      "_model_module_version": "1.5.0",
      "_model_name": "DescriptionStyleModel",
      "_view_count": null,
      "_view_module": "@jupyter-widgets/base",
      "_view_module_version": "1.2.0",
      "_view_name": "StyleView",
      "description_width": ""
     }
    },
    "747201aebf8542749a8137dc8feac726": {
     "model_module": "@jupyter-widgets/base",
     "model_module_version": "1.2.0",
     "model_name": "LayoutModel",
     "state": {
      "_model_module": "@jupyter-widgets/base",
      "_model_module_version": "1.2.0",
      "_model_name": "LayoutModel",
      "_view_count": null,
      "_view_module": "@jupyter-widgets/base",
      "_view_module_version": "1.2.0",
      "_view_name": "LayoutView",
      "align_content": null,
      "align_items": null,
      "align_self": null,
      "border": null,
      "bottom": null,
      "display": null,
      "flex": null,
      "flex_flow": null,
      "grid_area": null,
      "grid_auto_columns": null,
      "grid_auto_flow": null,
      "grid_auto_rows": null,
      "grid_column": null,
      "grid_gap": null,
      "grid_row": null,
      "grid_template_areas": null,
      "grid_template_columns": null,
      "grid_template_rows": null,
      "height": null,
      "justify_content": null,
      "justify_items": null,
      "left": null,
      "margin": null,
      "max_height": null,
      "max_width": null,
      "min_height": null,
      "min_width": null,
      "object_fit": null,
      "object_position": null,
      "order": null,
      "overflow": null,
      "overflow_x": null,
      "overflow_y": null,
      "padding": null,
      "right": null,
      "top": null,
      "visibility": null,
      "width": null
     }
    },
    "74f14d8ae33e499eaa4c1e1430cb0a66": {
     "model_module": "@jupyter-widgets/base",
     "model_module_version": "1.2.0",
     "model_name": "LayoutModel",
     "state": {
      "_model_module": "@jupyter-widgets/base",
      "_model_module_version": "1.2.0",
      "_model_name": "LayoutModel",
      "_view_count": null,
      "_view_module": "@jupyter-widgets/base",
      "_view_module_version": "1.2.0",
      "_view_name": "LayoutView",
      "align_content": null,
      "align_items": null,
      "align_self": null,
      "border": null,
      "bottom": null,
      "display": null,
      "flex": null,
      "flex_flow": null,
      "grid_area": null,
      "grid_auto_columns": null,
      "grid_auto_flow": null,
      "grid_auto_rows": null,
      "grid_column": null,
      "grid_gap": null,
      "grid_row": null,
      "grid_template_areas": null,
      "grid_template_columns": null,
      "grid_template_rows": null,
      "height": null,
      "justify_content": null,
      "justify_items": null,
      "left": null,
      "margin": null,
      "max_height": null,
      "max_width": null,
      "min_height": null,
      "min_width": null,
      "object_fit": null,
      "object_position": null,
      "order": null,
      "overflow": null,
      "overflow_x": null,
      "overflow_y": null,
      "padding": null,
      "right": null,
      "top": null,
      "visibility": null,
      "width": null
     }
    },
    "76057dbeac7b491384749430dee0389d": {
     "model_module": "@jupyter-widgets/controls",
     "model_module_version": "1.5.0",
     "model_name": "DescriptionStyleModel",
     "state": {
      "_model_module": "@jupyter-widgets/controls",
      "_model_module_version": "1.5.0",
      "_model_name": "DescriptionStyleModel",
      "_view_count": null,
      "_view_module": "@jupyter-widgets/base",
      "_view_module_version": "1.2.0",
      "_view_name": "StyleView",
      "description_width": ""
     }
    },
    "7625e09f50484f5998c7171513962eaf": {
     "model_module": "@jupyter-widgets/base",
     "model_module_version": "1.2.0",
     "model_name": "LayoutModel",
     "state": {
      "_model_module": "@jupyter-widgets/base",
      "_model_module_version": "1.2.0",
      "_model_name": "LayoutModel",
      "_view_count": null,
      "_view_module": "@jupyter-widgets/base",
      "_view_module_version": "1.2.0",
      "_view_name": "LayoutView",
      "align_content": null,
      "align_items": null,
      "align_self": null,
      "border": null,
      "bottom": null,
      "display": null,
      "flex": null,
      "flex_flow": null,
      "grid_area": null,
      "grid_auto_columns": null,
      "grid_auto_flow": null,
      "grid_auto_rows": null,
      "grid_column": null,
      "grid_gap": null,
      "grid_row": null,
      "grid_template_areas": null,
      "grid_template_columns": null,
      "grid_template_rows": null,
      "height": null,
      "justify_content": null,
      "justify_items": null,
      "left": null,
      "margin": null,
      "max_height": null,
      "max_width": null,
      "min_height": null,
      "min_width": null,
      "object_fit": null,
      "object_position": null,
      "order": null,
      "overflow": null,
      "overflow_x": null,
      "overflow_y": null,
      "padding": null,
      "right": null,
      "top": null,
      "visibility": null,
      "width": null
     }
    },
    "7980c42c458e4c2aaf3482188987a174": {
     "model_module": "@jupyter-widgets/base",
     "model_module_version": "1.2.0",
     "model_name": "LayoutModel",
     "state": {
      "_model_module": "@jupyter-widgets/base",
      "_model_module_version": "1.2.0",
      "_model_name": "LayoutModel",
      "_view_count": null,
      "_view_module": "@jupyter-widgets/base",
      "_view_module_version": "1.2.0",
      "_view_name": "LayoutView",
      "align_content": null,
      "align_items": null,
      "align_self": null,
      "border": null,
      "bottom": null,
      "display": null,
      "flex": null,
      "flex_flow": null,
      "grid_area": null,
      "grid_auto_columns": null,
      "grid_auto_flow": null,
      "grid_auto_rows": null,
      "grid_column": null,
      "grid_gap": null,
      "grid_row": null,
      "grid_template_areas": null,
      "grid_template_columns": null,
      "grid_template_rows": null,
      "height": null,
      "justify_content": null,
      "justify_items": null,
      "left": null,
      "margin": null,
      "max_height": null,
      "max_width": null,
      "min_height": null,
      "min_width": null,
      "object_fit": null,
      "object_position": null,
      "order": null,
      "overflow": null,
      "overflow_x": null,
      "overflow_y": null,
      "padding": null,
      "right": null,
      "top": null,
      "visibility": null,
      "width": null
     }
    },
    "7a2afb9beeae4f0cb8df3c9cd2508245": {
     "model_module": "@jupyter-widgets/controls",
     "model_module_version": "1.5.0",
     "model_name": "HTMLModel",
     "state": {
      "_dom_classes": [],
      "_model_module": "@jupyter-widgets/controls",
      "_model_module_version": "1.5.0",
      "_model_name": "HTMLModel",
      "_view_count": null,
      "_view_module": "@jupyter-widgets/controls",
      "_view_module_version": "1.5.0",
      "_view_name": "HTMLView",
      "description": "",
      "description_tooltip": null,
      "layout": "IPY_MODEL_54b66c1a49174d5382e0272483866176",
      "placeholder": "​",
      "style": "IPY_MODEL_00c77e7eee56468daef0889d3d622b8e",
      "value": "Downloading pytorch_model.bin: 100%"
     }
    },
    "7dc214351a4243a2934af2ead533cc0e": {
     "model_module": "@jupyter-widgets/controls",
     "model_module_version": "1.5.0",
     "model_name": "FloatProgressModel",
     "state": {
      "_dom_classes": [],
      "_model_module": "@jupyter-widgets/controls",
      "_model_module_version": "1.5.0",
      "_model_name": "FloatProgressModel",
      "_view_count": null,
      "_view_module": "@jupyter-widgets/controls",
      "_view_module_version": "1.5.0",
      "_view_name": "ProgressView",
      "bar_style": "success",
      "description": "",
      "description_tooltip": null,
      "layout": "IPY_MODEL_94ec52b748074966a1fd8e7e71a9fb4a",
      "max": 20968,
      "min": 0,
      "orientation": "horizontal",
      "style": "IPY_MODEL_4c85d484e3df4ab6894b56cb244d8898",
      "value": 20968
     }
    },
    "817c2c6921fa4638b47ec2405579e101": {
     "model_module": "@jupyter-widgets/base",
     "model_module_version": "1.2.0",
     "model_name": "LayoutModel",
     "state": {
      "_model_module": "@jupyter-widgets/base",
      "_model_module_version": "1.2.0",
      "_model_name": "LayoutModel",
      "_view_count": null,
      "_view_module": "@jupyter-widgets/base",
      "_view_module_version": "1.2.0",
      "_view_name": "LayoutView",
      "align_content": null,
      "align_items": null,
      "align_self": null,
      "border": null,
      "bottom": null,
      "display": null,
      "flex": null,
      "flex_flow": null,
      "grid_area": null,
      "grid_auto_columns": null,
      "grid_auto_flow": null,
      "grid_auto_rows": null,
      "grid_column": null,
      "grid_gap": null,
      "grid_row": null,
      "grid_template_areas": null,
      "grid_template_columns": null,
      "grid_template_rows": null,
      "height": null,
      "justify_content": null,
      "justify_items": null,
      "left": null,
      "margin": null,
      "max_height": null,
      "max_width": null,
      "min_height": null,
      "min_width": null,
      "object_fit": null,
      "object_position": null,
      "order": null,
      "overflow": null,
      "overflow_x": null,
      "overflow_y": null,
      "padding": null,
      "right": null,
      "top": null,
      "visibility": null,
      "width": null
     }
    },
    "81fa22bbeaca4a24b76c628160fd9a8e": {
     "model_module": "@jupyter-widgets/controls",
     "model_module_version": "1.5.0",
     "model_name": "HBoxModel",
     "state": {
      "_dom_classes": [],
      "_model_module": "@jupyter-widgets/controls",
      "_model_module_version": "1.5.0",
      "_model_name": "HBoxModel",
      "_view_count": null,
      "_view_module": "@jupyter-widgets/controls",
      "_view_module_version": "1.5.0",
      "_view_name": "HBoxView",
      "box_style": "",
      "children": [
       "IPY_MODEL_9d69ce1ea1f045528519d1303ff8af77",
       "IPY_MODEL_c5d1b33e111e42ed877b47b91c9831cc",
       "IPY_MODEL_426640aec3574c95a652f945e16c45a4"
      ],
      "layout": "IPY_MODEL_a160ef70490b46dc8fb653a938bee09e"
     }
    },
    "82eb95ae3df24613bb133b6fdd2bbfd0": {
     "model_module": "@jupyter-widgets/controls",
     "model_module_version": "1.5.0",
     "model_name": "HTMLModel",
     "state": {
      "_dom_classes": [],
      "_model_module": "@jupyter-widgets/controls",
      "_model_module_version": "1.5.0",
      "_model_name": "HTMLModel",
      "_view_count": null,
      "_view_module": "@jupyter-widgets/controls",
      "_view_module_version": "1.5.0",
      "_view_name": "HTMLView",
      "description": "",
      "description_tooltip": null,
      "layout": "IPY_MODEL_0515268ed51240c19421e6d6c7703609",
      "placeholder": "​",
      "style": "IPY_MODEL_2081028ed0cc4c51af6b15f538c43be4",
      "value": "Downloading pytorch_model.bin: 100%"
     }
    },
    "83c29aa38d644e0987853e8746f8209d": {
     "model_module": "@jupyter-widgets/controls",
     "model_module_version": "1.5.0",
     "model_name": "HTMLModel",
     "state": {
      "_dom_classes": [],
      "_model_module": "@jupyter-widgets/controls",
      "_model_module_version": "1.5.0",
      "_model_name": "HTMLModel",
      "_view_count": null,
      "_view_module": "@jupyter-widgets/controls",
      "_view_module_version": "1.5.0",
      "_view_name": "HTMLView",
      "description": "",
      "description_tooltip": null,
      "layout": "IPY_MODEL_a3aaf2d687e843c2933d4ebcdc0ce740",
      "placeholder": "​",
      "style": "IPY_MODEL_7394fe15f9b549a191ac1923b72069ea",
      "value": "\n<b>Pro Tip:</b> If you don't already have one, you can create a dedicated\n'notebooks' token with 'write' access, that you can then easily reuse for all\nnotebooks. </center>"
     }
    },
    "8444e8676b9e409ea8bb7cf3ab117264": {
     "model_module": "@jupyter-widgets/base",
     "model_module_version": "1.2.0",
     "model_name": "LayoutModel",
     "state": {
      "_model_module": "@jupyter-widgets/base",
      "_model_module_version": "1.2.0",
      "_model_name": "LayoutModel",
      "_view_count": null,
      "_view_module": "@jupyter-widgets/base",
      "_view_module_version": "1.2.0",
      "_view_name": "LayoutView",
      "align_content": null,
      "align_items": null,
      "align_self": null,
      "border": null,
      "bottom": null,
      "display": null,
      "flex": null,
      "flex_flow": null,
      "grid_area": null,
      "grid_auto_columns": null,
      "grid_auto_flow": null,
      "grid_auto_rows": null,
      "grid_column": null,
      "grid_gap": null,
      "grid_row": null,
      "grid_template_areas": null,
      "grid_template_columns": null,
      "grid_template_rows": null,
      "height": null,
      "justify_content": null,
      "justify_items": null,
      "left": null,
      "margin": null,
      "max_height": null,
      "max_width": null,
      "min_height": null,
      "min_width": null,
      "object_fit": null,
      "object_position": null,
      "order": null,
      "overflow": null,
      "overflow_x": null,
      "overflow_y": null,
      "padding": null,
      "right": null,
      "top": null,
      "visibility": null,
      "width": null
     }
    },
    "84dea280cde54e90bdf16e938c169451": {
     "model_module": "@jupyter-widgets/base",
     "model_module_version": "1.2.0",
     "model_name": "LayoutModel",
     "state": {
      "_model_module": "@jupyter-widgets/base",
      "_model_module_version": "1.2.0",
      "_model_name": "LayoutModel",
      "_view_count": null,
      "_view_module": "@jupyter-widgets/base",
      "_view_module_version": "1.2.0",
      "_view_name": "LayoutView",
      "align_content": null,
      "align_items": null,
      "align_self": null,
      "border": null,
      "bottom": null,
      "display": null,
      "flex": null,
      "flex_flow": null,
      "grid_area": null,
      "grid_auto_columns": null,
      "grid_auto_flow": null,
      "grid_auto_rows": null,
      "grid_column": null,
      "grid_gap": null,
      "grid_row": null,
      "grid_template_areas": null,
      "grid_template_columns": null,
      "grid_template_rows": null,
      "height": null,
      "justify_content": null,
      "justify_items": null,
      "left": null,
      "margin": null,
      "max_height": null,
      "max_width": null,
      "min_height": null,
      "min_width": null,
      "object_fit": null,
      "object_position": null,
      "order": null,
      "overflow": null,
      "overflow_x": null,
      "overflow_y": null,
      "padding": null,
      "right": null,
      "top": null,
      "visibility": null,
      "width": null
     }
    },
    "8521fd34f64341b0a2cf8fca161c26ad": {
     "model_module": "@jupyter-widgets/controls",
     "model_module_version": "1.5.0",
     "model_name": "DescriptionStyleModel",
     "state": {
      "_model_module": "@jupyter-widgets/controls",
      "_model_module_version": "1.5.0",
      "_model_name": "DescriptionStyleModel",
      "_view_count": null,
      "_view_module": "@jupyter-widgets/base",
      "_view_module_version": "1.2.0",
      "_view_name": "StyleView",
      "description_width": ""
     }
    },
    "856f1749da6643cd9e8fa38f087d64d3": {
     "model_module": "@jupyter-widgets/base",
     "model_module_version": "1.2.0",
     "model_name": "LayoutModel",
     "state": {
      "_model_module": "@jupyter-widgets/base",
      "_model_module_version": "1.2.0",
      "_model_name": "LayoutModel",
      "_view_count": null,
      "_view_module": "@jupyter-widgets/base",
      "_view_module_version": "1.2.0",
      "_view_name": "LayoutView",
      "align_content": null,
      "align_items": null,
      "align_self": null,
      "border": null,
      "bottom": null,
      "display": null,
      "flex": null,
      "flex_flow": null,
      "grid_area": null,
      "grid_auto_columns": null,
      "grid_auto_flow": null,
      "grid_auto_rows": null,
      "grid_column": null,
      "grid_gap": null,
      "grid_row": null,
      "grid_template_areas": null,
      "grid_template_columns": null,
      "grid_template_rows": null,
      "height": null,
      "justify_content": null,
      "justify_items": null,
      "left": null,
      "margin": null,
      "max_height": null,
      "max_width": null,
      "min_height": null,
      "min_width": null,
      "object_fit": null,
      "object_position": null,
      "order": null,
      "overflow": null,
      "overflow_x": null,
      "overflow_y": null,
      "padding": null,
      "right": null,
      "top": null,
      "visibility": null,
      "width": null
     }
    },
    "861f92d116124738aca813cf775e052a": {
     "model_module": "@jupyter-widgets/base",
     "model_module_version": "1.2.0",
     "model_name": "LayoutModel",
     "state": {
      "_model_module": "@jupyter-widgets/base",
      "_model_module_version": "1.2.0",
      "_model_name": "LayoutModel",
      "_view_count": null,
      "_view_module": "@jupyter-widgets/base",
      "_view_module_version": "1.2.0",
      "_view_name": "LayoutView",
      "align_content": null,
      "align_items": null,
      "align_self": null,
      "border": null,
      "bottom": null,
      "display": null,
      "flex": null,
      "flex_flow": null,
      "grid_area": null,
      "grid_auto_columns": null,
      "grid_auto_flow": null,
      "grid_auto_rows": null,
      "grid_column": null,
      "grid_gap": null,
      "grid_row": null,
      "grid_template_areas": null,
      "grid_template_columns": null,
      "grid_template_rows": null,
      "height": null,
      "justify_content": null,
      "justify_items": null,
      "left": null,
      "margin": null,
      "max_height": null,
      "max_width": null,
      "min_height": null,
      "min_width": null,
      "object_fit": null,
      "object_position": null,
      "order": null,
      "overflow": null,
      "overflow_x": null,
      "overflow_y": null,
      "padding": null,
      "right": null,
      "top": null,
      "visibility": null,
      "width": null
     }
    },
    "873816aeb1104fcda8945635179849b7": {
     "model_module": "@jupyter-widgets/controls",
     "model_module_version": "1.5.0",
     "model_name": "FloatProgressModel",
     "state": {
      "_dom_classes": [],
      "_model_module": "@jupyter-widgets/controls",
      "_model_module_version": "1.5.0",
      "_model_name": "FloatProgressModel",
      "_view_count": null,
      "_view_module": "@jupyter-widgets/controls",
      "_view_module_version": "1.5.0",
      "_view_name": "ProgressView",
      "bar_style": "success",
      "description": "",
      "description_tooltip": null,
      "layout": "IPY_MODEL_6c47ec2bdbec41098c3692003b999510",
      "max": 15856877,
      "min": 0,
      "orientation": "horizontal",
      "style": "IPY_MODEL_06042be7a12e43db8022ae981df62a41",
      "value": 15856877
     }
    },
    "89d46d64ef684b918e032471568ed5f6": {
     "model_module": "@jupyter-widgets/controls",
     "model_module_version": "1.5.0",
     "model_name": "FloatProgressModel",
     "state": {
      "_dom_classes": [],
      "_model_module": "@jupyter-widgets/controls",
      "_model_module_version": "1.5.0",
      "_model_name": "FloatProgressModel",
      "_view_count": null,
      "_view_module": "@jupyter-widgets/controls",
      "_view_module_version": "1.5.0",
      "_view_name": "ProgressView",
      "bar_style": "success",
      "description": "",
      "description_tooltip": null,
      "layout": "IPY_MODEL_856f1749da6643cd9e8fa38f087d64d3",
      "max": 128619,
      "min": 0,
      "orientation": "horizontal",
      "style": "IPY_MODEL_976024579d4a4a82b66b77e8fd69b006",
      "value": 128619
     }
    },
    "8ebc38668f9c469bac7317b92c2407e6": {
     "model_module": "@jupyter-widgets/base",
     "model_module_version": "1.2.0",
     "model_name": "LayoutModel",
     "state": {
      "_model_module": "@jupyter-widgets/base",
      "_model_module_version": "1.2.0",
      "_model_name": "LayoutModel",
      "_view_count": null,
      "_view_module": "@jupyter-widgets/base",
      "_view_module_version": "1.2.0",
      "_view_name": "LayoutView",
      "align_content": null,
      "align_items": null,
      "align_self": null,
      "border": null,
      "bottom": null,
      "display": null,
      "flex": null,
      "flex_flow": null,
      "grid_area": null,
      "grid_auto_columns": null,
      "grid_auto_flow": null,
      "grid_auto_rows": null,
      "grid_column": null,
      "grid_gap": null,
      "grid_row": null,
      "grid_template_areas": null,
      "grid_template_columns": null,
      "grid_template_rows": null,
      "height": null,
      "justify_content": null,
      "justify_items": null,
      "left": null,
      "margin": null,
      "max_height": null,
      "max_width": null,
      "min_height": null,
      "min_width": null,
      "object_fit": null,
      "object_position": null,
      "order": null,
      "overflow": null,
      "overflow_x": null,
      "overflow_y": null,
      "padding": null,
      "right": null,
      "top": null,
      "visibility": null,
      "width": null
     }
    },
    "9070707765054e919bd94d8662f67bea": {
     "model_module": "@jupyter-widgets/controls",
     "model_module_version": "1.5.0",
     "model_name": "HBoxModel",
     "state": {
      "_dom_classes": [],
      "_model_module": "@jupyter-widgets/controls",
      "_model_module_version": "1.5.0",
      "_model_name": "HBoxModel",
      "_view_count": null,
      "_view_module": "@jupyter-widgets/controls",
      "_view_module_version": "1.5.0",
      "_view_name": "HBoxView",
      "box_style": "",
      "children": [
       "IPY_MODEL_2a712ddf2ce145b5ab32df662c02a026",
       "IPY_MODEL_967adcaac02b459294f17421a702f86f",
       "IPY_MODEL_b5b570cabdc3487eb92e24b8a177bac5"
      ],
      "layout": "IPY_MODEL_4082fff487314aad86385798615e2a4e"
     }
    },
    "90b3db89b0124154a7d9b7afdc81ea10": {
     "model_module": "@jupyter-widgets/controls",
     "model_module_version": "1.5.0",
     "model_name": "HBoxModel",
     "state": {
      "_dom_classes": [],
      "_model_module": "@jupyter-widgets/controls",
      "_model_module_version": "1.5.0",
      "_model_name": "HBoxModel",
      "_view_count": null,
      "_view_module": "@jupyter-widgets/controls",
      "_view_module_version": "1.5.0",
      "_view_name": "HBoxView",
      "box_style": "",
      "children": [
       "IPY_MODEL_fa9224be44ad49b49be0ad7f6842f1e3",
       "IPY_MODEL_873816aeb1104fcda8945635179849b7",
       "IPY_MODEL_c7820300f5894c8cbaf9646f610dbdbc"
      ],
      "layout": "IPY_MODEL_14e00267d11d4a83960403c34dd89e8e"
     }
    },
    "92ba197de02e4ac5ac039dc2807cdd6a": {
     "model_module": "@jupyter-widgets/base",
     "model_module_version": "1.2.0",
     "model_name": "LayoutModel",
     "state": {
      "_model_module": "@jupyter-widgets/base",
      "_model_module_version": "1.2.0",
      "_model_name": "LayoutModel",
      "_view_count": null,
      "_view_module": "@jupyter-widgets/base",
      "_view_module_version": "1.2.0",
      "_view_name": "LayoutView",
      "align_content": null,
      "align_items": null,
      "align_self": null,
      "border": null,
      "bottom": null,
      "display": null,
      "flex": null,
      "flex_flow": null,
      "grid_area": null,
      "grid_auto_columns": null,
      "grid_auto_flow": null,
      "grid_auto_rows": null,
      "grid_column": null,
      "grid_gap": null,
      "grid_row": null,
      "grid_template_areas": null,
      "grid_template_columns": null,
      "grid_template_rows": null,
      "height": null,
      "justify_content": null,
      "justify_items": null,
      "left": null,
      "margin": null,
      "max_height": null,
      "max_width": null,
      "min_height": null,
      "min_width": null,
      "object_fit": null,
      "object_position": null,
      "order": null,
      "overflow": null,
      "overflow_x": null,
      "overflow_y": null,
      "padding": null,
      "right": null,
      "top": null,
      "visibility": null,
      "width": null
     }
    },
    "92c5dd23e34645ab8bce0c5e7b94b346": {
     "model_module": "@jupyter-widgets/controls",
     "model_module_version": "1.5.0",
     "model_name": "ButtonModel",
     "state": {
      "_dom_classes": [],
      "_model_module": "@jupyter-widgets/controls",
      "_model_module_version": "1.5.0",
      "_model_name": "ButtonModel",
      "_view_count": null,
      "_view_module": "@jupyter-widgets/controls",
      "_view_module_version": "1.5.0",
      "_view_name": "ButtonView",
      "button_style": "",
      "description": "Login",
      "disabled": false,
      "icon": "",
      "layout": "IPY_MODEL_f72c4aebb8db40a0ade6ab43c8e464a8",
      "style": "IPY_MODEL_b44f03cb9d2742939ee74388bb4a2c61",
      "tooltip": ""
     }
    },
    "94ec52b748074966a1fd8e7e71a9fb4a": {
     "model_module": "@jupyter-widgets/base",
     "model_module_version": "1.2.0",
     "model_name": "LayoutModel",
     "state": {
      "_model_module": "@jupyter-widgets/base",
      "_model_module_version": "1.2.0",
      "_model_name": "LayoutModel",
      "_view_count": null,
      "_view_module": "@jupyter-widgets/base",
      "_view_module_version": "1.2.0",
      "_view_name": "LayoutView",
      "align_content": null,
      "align_items": null,
      "align_self": null,
      "border": null,
      "bottom": null,
      "display": null,
      "flex": null,
      "flex_flow": null,
      "grid_area": null,
      "grid_auto_columns": null,
      "grid_auto_flow": null,
      "grid_auto_rows": null,
      "grid_column": null,
      "grid_gap": null,
      "grid_row": null,
      "grid_template_areas": null,
      "grid_template_columns": null,
      "grid_template_rows": null,
      "height": null,
      "justify_content": null,
      "justify_items": null,
      "left": null,
      "margin": null,
      "max_height": null,
      "max_width": null,
      "min_height": null,
      "min_width": null,
      "object_fit": null,
      "object_position": null,
      "order": null,
      "overflow": null,
      "overflow_x": null,
      "overflow_y": null,
      "padding": null,
      "right": null,
      "top": null,
      "visibility": null,
      "width": null
     }
    },
    "967adcaac02b459294f17421a702f86f": {
     "model_module": "@jupyter-widgets/controls",
     "model_module_version": "1.5.0",
     "model_name": "FloatProgressModel",
     "state": {
      "_dom_classes": [],
      "_model_module": "@jupyter-widgets/controls",
      "_model_module_version": "1.5.0",
      "_model_name": "FloatProgressModel",
      "_view_count": null,
      "_view_module": "@jupyter-widgets/controls",
      "_view_module_version": "1.5.0",
      "_view_name": "ProgressView",
      "bar_style": "success",
      "description": "",
      "description_tooltip": null,
      "layout": "IPY_MODEL_3ab229dc47e64c98952fd72022219b05",
      "max": 9973,
      "min": 0,
      "orientation": "horizontal",
      "style": "IPY_MODEL_4df6e08ddc9a481da160fa9fa56ceac4",
      "value": 9973
     }
    },
    "969b776096564cceb400b2c90a3adb55": {
     "model_module": "@jupyter-widgets/controls",
     "model_module_version": "1.5.0",
     "model_name": "DescriptionStyleModel",
     "state": {
      "_model_module": "@jupyter-widgets/controls",
      "_model_module_version": "1.5.0",
      "_model_name": "DescriptionStyleModel",
      "_view_count": null,
      "_view_module": "@jupyter-widgets/base",
      "_view_module_version": "1.2.0",
      "_view_name": "StyleView",
      "description_width": ""
     }
    },
    "96cafb1e7fd6415e9cedfe8cb9c07c30": {
     "model_module": "@jupyter-widgets/controls",
     "model_module_version": "1.5.0",
     "model_name": "HTMLModel",
     "state": {
      "_dom_classes": [],
      "_model_module": "@jupyter-widgets/controls",
      "_model_module_version": "1.5.0",
      "_model_name": "HTMLModel",
      "_view_count": null,
      "_view_module": "@jupyter-widgets/controls",
      "_view_module_version": "1.5.0",
      "_view_name": "HTMLView",
      "description": "",
      "description_tooltip": null,
      "layout": "IPY_MODEL_aa935f4d46814226a663fd686f981bbf",
      "placeholder": "​",
      "style": "IPY_MODEL_bb49135849574eeda10e2955631e5776",
      "value": " 50.7M/50.7M [00:00&lt;00:00, 254MB/s]"
     }
    },
    "976024579d4a4a82b66b77e8fd69b006": {
     "model_module": "@jupyter-widgets/controls",
     "model_module_version": "1.5.0",
     "model_name": "ProgressStyleModel",
     "state": {
      "_model_module": "@jupyter-widgets/controls",
      "_model_module_version": "1.5.0",
      "_model_name": "ProgressStyleModel",
      "_view_count": null,
      "_view_module": "@jupyter-widgets/base",
      "_view_module_version": "1.2.0",
      "_view_name": "StyleView",
      "bar_color": null,
      "description_width": ""
     }
    },
    "97835cec29144f639a5f61cd3a2b18c2": {
     "model_module": "@jupyter-widgets/base",
     "model_module_version": "1.2.0",
     "model_name": "LayoutModel",
     "state": {
      "_model_module": "@jupyter-widgets/base",
      "_model_module_version": "1.2.0",
      "_model_name": "LayoutModel",
      "_view_count": null,
      "_view_module": "@jupyter-widgets/base",
      "_view_module_version": "1.2.0",
      "_view_name": "LayoutView",
      "align_content": null,
      "align_items": null,
      "align_self": null,
      "border": null,
      "bottom": null,
      "display": null,
      "flex": null,
      "flex_flow": null,
      "grid_area": null,
      "grid_auto_columns": null,
      "grid_auto_flow": null,
      "grid_auto_rows": null,
      "grid_column": null,
      "grid_gap": null,
      "grid_row": null,
      "grid_template_areas": null,
      "grid_template_columns": null,
      "grid_template_rows": null,
      "height": null,
      "justify_content": null,
      "justify_items": null,
      "left": null,
      "margin": null,
      "max_height": null,
      "max_width": null,
      "min_height": null,
      "min_width": null,
      "object_fit": null,
      "object_position": null,
      "order": null,
      "overflow": null,
      "overflow_x": null,
      "overflow_y": null,
      "padding": null,
      "right": null,
      "top": null,
      "visibility": null,
      "width": null
     }
    },
    "98211a51ddf94b25a44e3177e3cdc3e7": {
     "model_module": "@jupyter-widgets/controls",
     "model_module_version": "1.5.0",
     "model_name": "HTMLModel",
     "state": {
      "_dom_classes": [],
      "_model_module": "@jupyter-widgets/controls",
      "_model_module_version": "1.5.0",
      "_model_name": "HTMLModel",
      "_view_count": null,
      "_view_module": "@jupyter-widgets/controls",
      "_view_module_version": "1.5.0",
      "_view_name": "HTMLView",
      "description": "",
      "description_tooltip": null,
      "layout": "IPY_MODEL_515dc8f010da4162accf8cc3890358cf",
      "placeholder": "​",
      "style": "IPY_MODEL_5fa7227a37644ad298bcccc000da3317",
      "value": "<center> <img\nsrc=https://huggingface.co/front/assets/huggingface_logo-noborder.svg\nalt='Hugging Face'> <br> Copy a token from <a\nhref=\"https://huggingface.co/settings/tokens\" target=\"_blank\">your Hugging Face\ntokens page</a> and paste it below. <br> Immediately click login after copying\nyour token or it might be stored in plain text in this notebook file. </center>"
     }
    },
    "9d69ce1ea1f045528519d1303ff8af77": {
     "model_module": "@jupyter-widgets/controls",
     "model_module_version": "1.5.0",
     "model_name": "HTMLModel",
     "state": {
      "_dom_classes": [],
      "_model_module": "@jupyter-widgets/controls",
      "_model_module_version": "1.5.0",
      "_model_name": "HTMLModel",
      "_view_count": null,
      "_view_module": "@jupyter-widgets/controls",
      "_view_module_version": "1.5.0",
      "_view_name": "HTMLView",
      "description": "",
      "description_tooltip": null,
      "layout": "IPY_MODEL_31f843802662472a94d3c682a2bd74a8",
      "placeholder": "​",
      "style": "IPY_MODEL_969b776096564cceb400b2c90a3adb55",
      "value": "Downloading (…)lve/main/config.json: 100%"
     }
    },
    "9fab9106ee00497ba1ef4a67de4751cc": {
     "model_module": "@jupyter-widgets/controls",
     "model_module_version": "1.5.0",
     "model_name": "FloatProgressModel",
     "state": {
      "_dom_classes": [],
      "_model_module": "@jupyter-widgets/controls",
      "_model_module_version": "1.5.0",
      "_model_name": "FloatProgressModel",
      "_view_count": null,
      "_view_module": "@jupyter-widgets/controls",
      "_view_module_version": "1.5.0",
      "_view_name": "ProgressView",
      "bar_style": "success",
      "description": "",
      "description_tooltip": null,
      "layout": "IPY_MODEL_3fa69385ce1f40a58f6c4059474887b5",
      "max": 585485317,
      "min": 0,
      "orientation": "horizontal",
      "style": "IPY_MODEL_e016e5b2b5bf4b7e8e6c7461f6757828",
      "value": 585485317
     }
    },
    "a09e44abddc74ed7845ffe1ff559b933": {
     "model_module": "@jupyter-widgets/base",
     "model_module_version": "1.2.0",
     "model_name": "LayoutModel",
     "state": {
      "_model_module": "@jupyter-widgets/base",
      "_model_module_version": "1.2.0",
      "_model_name": "LayoutModel",
      "_view_count": null,
      "_view_module": "@jupyter-widgets/base",
      "_view_module_version": "1.2.0",
      "_view_name": "LayoutView",
      "align_content": null,
      "align_items": null,
      "align_self": null,
      "border": null,
      "bottom": null,
      "display": null,
      "flex": null,
      "flex_flow": null,
      "grid_area": null,
      "grid_auto_columns": null,
      "grid_auto_flow": null,
      "grid_auto_rows": null,
      "grid_column": null,
      "grid_gap": null,
      "grid_row": null,
      "grid_template_areas": null,
      "grid_template_columns": null,
      "grid_template_rows": null,
      "height": null,
      "justify_content": null,
      "justify_items": null,
      "left": null,
      "margin": null,
      "max_height": null,
      "max_width": null,
      "min_height": null,
      "min_width": null,
      "object_fit": null,
      "object_position": null,
      "order": null,
      "overflow": null,
      "overflow_x": null,
      "overflow_y": null,
      "padding": null,
      "right": null,
      "top": null,
      "visibility": null,
      "width": null
     }
    },
    "a160ef70490b46dc8fb653a938bee09e": {
     "model_module": "@jupyter-widgets/base",
     "model_module_version": "1.2.0",
     "model_name": "LayoutModel",
     "state": {
      "_model_module": "@jupyter-widgets/base",
      "_model_module_version": "1.2.0",
      "_model_name": "LayoutModel",
      "_view_count": null,
      "_view_module": "@jupyter-widgets/base",
      "_view_module_version": "1.2.0",
      "_view_name": "LayoutView",
      "align_content": null,
      "align_items": null,
      "align_self": null,
      "border": null,
      "bottom": null,
      "display": null,
      "flex": null,
      "flex_flow": null,
      "grid_area": null,
      "grid_auto_columns": null,
      "grid_auto_flow": null,
      "grid_auto_rows": null,
      "grid_column": null,
      "grid_gap": null,
      "grid_row": null,
      "grid_template_areas": null,
      "grid_template_columns": null,
      "grid_template_rows": null,
      "height": null,
      "justify_content": null,
      "justify_items": null,
      "left": null,
      "margin": null,
      "max_height": null,
      "max_width": null,
      "min_height": null,
      "min_width": null,
      "object_fit": null,
      "object_position": null,
      "order": null,
      "overflow": null,
      "overflow_x": null,
      "overflow_y": null,
      "padding": null,
      "right": null,
      "top": null,
      "visibility": null,
      "width": null
     }
    },
    "a37842ab181f403ca7e8175a987e6904": {
     "model_module": "@jupyter-widgets/base",
     "model_module_version": "1.2.0",
     "model_name": "LayoutModel",
     "state": {
      "_model_module": "@jupyter-widgets/base",
      "_model_module_version": "1.2.0",
      "_model_name": "LayoutModel",
      "_view_count": null,
      "_view_module": "@jupyter-widgets/base",
      "_view_module_version": "1.2.0",
      "_view_name": "LayoutView",
      "align_content": null,
      "align_items": null,
      "align_self": null,
      "border": null,
      "bottom": null,
      "display": null,
      "flex": null,
      "flex_flow": null,
      "grid_area": null,
      "grid_auto_columns": null,
      "grid_auto_flow": null,
      "grid_auto_rows": null,
      "grid_column": null,
      "grid_gap": null,
      "grid_row": null,
      "grid_template_areas": null,
      "grid_template_columns": null,
      "grid_template_rows": null,
      "height": null,
      "justify_content": null,
      "justify_items": null,
      "left": null,
      "margin": null,
      "max_height": null,
      "max_width": null,
      "min_height": null,
      "min_width": null,
      "object_fit": null,
      "object_position": null,
      "order": null,
      "overflow": null,
      "overflow_x": null,
      "overflow_y": null,
      "padding": null,
      "right": null,
      "top": null,
      "visibility": null,
      "width": null
     }
    },
    "a3aaf2d687e843c2933d4ebcdc0ce740": {
     "model_module": "@jupyter-widgets/base",
     "model_module_version": "1.2.0",
     "model_name": "LayoutModel",
     "state": {
      "_model_module": "@jupyter-widgets/base",
      "_model_module_version": "1.2.0",
      "_model_name": "LayoutModel",
      "_view_count": null,
      "_view_module": "@jupyter-widgets/base",
      "_view_module_version": "1.2.0",
      "_view_name": "LayoutView",
      "align_content": null,
      "align_items": null,
      "align_self": null,
      "border": null,
      "bottom": null,
      "display": null,
      "flex": null,
      "flex_flow": null,
      "grid_area": null,
      "grid_auto_columns": null,
      "grid_auto_flow": null,
      "grid_auto_rows": null,
      "grid_column": null,
      "grid_gap": null,
      "grid_row": null,
      "grid_template_areas": null,
      "grid_template_columns": null,
      "grid_template_rows": null,
      "height": null,
      "justify_content": null,
      "justify_items": null,
      "left": null,
      "margin": null,
      "max_height": null,
      "max_width": null,
      "min_height": null,
      "min_width": null,
      "object_fit": null,
      "object_position": null,
      "order": null,
      "overflow": null,
      "overflow_x": null,
      "overflow_y": null,
      "padding": null,
      "right": null,
      "top": null,
      "visibility": null,
      "width": null
     }
    },
    "a5346308f86540f4b05ba542a1230b47": {
     "model_module": "@jupyter-widgets/controls",
     "model_module_version": "1.5.0",
     "model_name": "HBoxModel",
     "state": {
      "_dom_classes": [],
      "_model_module": "@jupyter-widgets/controls",
      "_model_module_version": "1.5.0",
      "_model_name": "HBoxModel",
      "_view_count": null,
      "_view_module": "@jupyter-widgets/controls",
      "_view_module_version": "1.5.0",
      "_view_name": "HBoxView",
      "box_style": "",
      "children": [
       "IPY_MODEL_47943abd7e914f829e11d3820cc8ca3e",
       "IPY_MODEL_f6ead4230da64b918db9341095563a0e",
       "IPY_MODEL_c3d3a3ef790e4cfaa5b59fda49a62689"
      ],
      "layout": "IPY_MODEL_40eccaace52b4f0ca8a9b846060dcf15"
     }
    },
    "a705250a4195470c988f19f6514849bd": {
     "model_module": "@jupyter-widgets/base",
     "model_module_version": "1.2.0",
     "model_name": "LayoutModel",
     "state": {
      "_model_module": "@jupyter-widgets/base",
      "_model_module_version": "1.2.0",
      "_model_name": "LayoutModel",
      "_view_count": null,
      "_view_module": "@jupyter-widgets/base",
      "_view_module_version": "1.2.0",
      "_view_name": "LayoutView",
      "align_content": null,
      "align_items": null,
      "align_self": null,
      "border": null,
      "bottom": null,
      "display": null,
      "flex": null,
      "flex_flow": null,
      "grid_area": null,
      "grid_auto_columns": null,
      "grid_auto_flow": null,
      "grid_auto_rows": null,
      "grid_column": null,
      "grid_gap": null,
      "grid_row": null,
      "grid_template_areas": null,
      "grid_template_columns": null,
      "grid_template_rows": null,
      "height": null,
      "justify_content": null,
      "justify_items": null,
      "left": null,
      "margin": null,
      "max_height": null,
      "max_width": null,
      "min_height": null,
      "min_width": null,
      "object_fit": null,
      "object_position": null,
      "order": null,
      "overflow": null,
      "overflow_x": null,
      "overflow_y": null,
      "padding": null,
      "right": null,
      "top": null,
      "visibility": null,
      "width": null
     }
    },
    "a807fbf9098d423495b19f8ab268e8e7": {
     "model_module": "@jupyter-widgets/controls",
     "model_module_version": "1.5.0",
     "model_name": "DescriptionStyleModel",
     "state": {
      "_model_module": "@jupyter-widgets/controls",
      "_model_module_version": "1.5.0",
      "_model_name": "DescriptionStyleModel",
      "_view_count": null,
      "_view_module": "@jupyter-widgets/base",
      "_view_module_version": "1.2.0",
      "_view_name": "StyleView",
      "description_width": ""
     }
    },
    "a8a6f45d78504d4ab75d3dbf47955ba8": {
     "model_module": "@jupyter-widgets/base",
     "model_module_version": "1.2.0",
     "model_name": "LayoutModel",
     "state": {
      "_model_module": "@jupyter-widgets/base",
      "_model_module_version": "1.2.0",
      "_model_name": "LayoutModel",
      "_view_count": null,
      "_view_module": "@jupyter-widgets/base",
      "_view_module_version": "1.2.0",
      "_view_name": "LayoutView",
      "align_content": null,
      "align_items": null,
      "align_self": null,
      "border": null,
      "bottom": null,
      "display": null,
      "flex": null,
      "flex_flow": null,
      "grid_area": null,
      "grid_auto_columns": null,
      "grid_auto_flow": null,
      "grid_auto_rows": null,
      "grid_column": null,
      "grid_gap": null,
      "grid_row": null,
      "grid_template_areas": null,
      "grid_template_columns": null,
      "grid_template_rows": null,
      "height": null,
      "justify_content": null,
      "justify_items": null,
      "left": null,
      "margin": null,
      "max_height": null,
      "max_width": null,
      "min_height": null,
      "min_width": null,
      "object_fit": null,
      "object_position": null,
      "order": null,
      "overflow": null,
      "overflow_x": null,
      "overflow_y": null,
      "padding": null,
      "right": null,
      "top": null,
      "visibility": null,
      "width": null
     }
    },
    "aa935f4d46814226a663fd686f981bbf": {
     "model_module": "@jupyter-widgets/base",
     "model_module_version": "1.2.0",
     "model_name": "LayoutModel",
     "state": {
      "_model_module": "@jupyter-widgets/base",
      "_model_module_version": "1.2.0",
      "_model_name": "LayoutModel",
      "_view_count": null,
      "_view_module": "@jupyter-widgets/base",
      "_view_module_version": "1.2.0",
      "_view_name": "LayoutView",
      "align_content": null,
      "align_items": null,
      "align_self": null,
      "border": null,
      "bottom": null,
      "display": null,
      "flex": null,
      "flex_flow": null,
      "grid_area": null,
      "grid_auto_columns": null,
      "grid_auto_flow": null,
      "grid_auto_rows": null,
      "grid_column": null,
      "grid_gap": null,
      "grid_row": null,
      "grid_template_areas": null,
      "grid_template_columns": null,
      "grid_template_rows": null,
      "height": null,
      "justify_content": null,
      "justify_items": null,
      "left": null,
      "margin": null,
      "max_height": null,
      "max_width": null,
      "min_height": null,
      "min_width": null,
      "object_fit": null,
      "object_position": null,
      "order": null,
      "overflow": null,
      "overflow_x": null,
      "overflow_y": null,
      "padding": null,
      "right": null,
      "top": null,
      "visibility": null,
      "width": null
     }
    },
    "ad2c7c362e9b45529a2108e4252e5204": {
     "model_module": "@jupyter-widgets/base",
     "model_module_version": "1.2.0",
     "model_name": "LayoutModel",
     "state": {
      "_model_module": "@jupyter-widgets/base",
      "_model_module_version": "1.2.0",
      "_model_name": "LayoutModel",
      "_view_count": null,
      "_view_module": "@jupyter-widgets/base",
      "_view_module_version": "1.2.0",
      "_view_name": "LayoutView",
      "align_content": null,
      "align_items": null,
      "align_self": null,
      "border": null,
      "bottom": null,
      "display": null,
      "flex": null,
      "flex_flow": null,
      "grid_area": null,
      "grid_auto_columns": null,
      "grid_auto_flow": null,
      "grid_auto_rows": null,
      "grid_column": null,
      "grid_gap": null,
      "grid_row": null,
      "grid_template_areas": null,
      "grid_template_columns": null,
      "grid_template_rows": null,
      "height": null,
      "justify_content": null,
      "justify_items": null,
      "left": null,
      "margin": null,
      "max_height": null,
      "max_width": null,
      "min_height": null,
      "min_width": null,
      "object_fit": null,
      "object_position": null,
      "order": null,
      "overflow": null,
      "overflow_x": null,
      "overflow_y": null,
      "padding": null,
      "right": null,
      "top": null,
      "visibility": null,
      "width": null
     }
    },
    "b2952eb34cc24218b3e6cd01b1c3f88a": {
     "model_module": "@jupyter-widgets/base",
     "model_module_version": "1.2.0",
     "model_name": "LayoutModel",
     "state": {
      "_model_module": "@jupyter-widgets/base",
      "_model_module_version": "1.2.0",
      "_model_name": "LayoutModel",
      "_view_count": null,
      "_view_module": "@jupyter-widgets/base",
      "_view_module_version": "1.2.0",
      "_view_name": "LayoutView",
      "align_content": null,
      "align_items": null,
      "align_self": null,
      "border": null,
      "bottom": null,
      "display": null,
      "flex": null,
      "flex_flow": null,
      "grid_area": null,
      "grid_auto_columns": null,
      "grid_auto_flow": null,
      "grid_auto_rows": null,
      "grid_column": null,
      "grid_gap": null,
      "grid_row": null,
      "grid_template_areas": null,
      "grid_template_columns": null,
      "grid_template_rows": null,
      "height": null,
      "justify_content": null,
      "justify_items": null,
      "left": null,
      "margin": null,
      "max_height": null,
      "max_width": null,
      "min_height": null,
      "min_width": null,
      "object_fit": null,
      "object_position": null,
      "order": null,
      "overflow": null,
      "overflow_x": null,
      "overflow_y": null,
      "padding": null,
      "right": null,
      "top": null,
      "visibility": null,
      "width": null
     }
    },
    "b44f03cb9d2742939ee74388bb4a2c61": {
     "model_module": "@jupyter-widgets/controls",
     "model_module_version": "1.5.0",
     "model_name": "ButtonStyleModel",
     "state": {
      "_model_module": "@jupyter-widgets/controls",
      "_model_module_version": "1.5.0",
      "_model_name": "ButtonStyleModel",
      "_view_count": null,
      "_view_module": "@jupyter-widgets/base",
      "_view_module_version": "1.2.0",
      "_view_name": "StyleView",
      "button_color": null,
      "font_weight": ""
     }
    },
    "b5b570cabdc3487eb92e24b8a177bac5": {
     "model_module": "@jupyter-widgets/controls",
     "model_module_version": "1.5.0",
     "model_name": "HTMLModel",
     "state": {
      "_dom_classes": [],
      "_model_module": "@jupyter-widgets/controls",
      "_model_module_version": "1.5.0",
      "_model_name": "HTMLModel",
      "_view_count": null,
      "_view_module": "@jupyter-widgets/controls",
      "_view_module_version": "1.5.0",
      "_view_name": "HTMLView",
      "description": "",
      "description_tooltip": null,
      "layout": "IPY_MODEL_92ba197de02e4ac5ac039dc2807cdd6a",
      "placeholder": "​",
      "style": "IPY_MODEL_5aa4d37cc1b14006bee506ff3e959ba4",
      "value": " 9973/9973 [00:00&lt;00:00, 16819.77 examples/s]"
     }
    },
    "b98dc41fbd1f4a40bec527dfacbc737a": {
     "model_module": "@jupyter-widgets/controls",
     "model_module_version": "1.5.0",
     "model_name": "HTMLModel",
     "state": {
      "_dom_classes": [],
      "_model_module": "@jupyter-widgets/controls",
      "_model_module_version": "1.5.0",
      "_model_name": "HTMLModel",
      "_view_count": null,
      "_view_module": "@jupyter-widgets/controls",
      "_view_module_version": "1.5.0",
      "_view_name": "HTMLView",
      "description": "",
      "description_tooltip": null,
      "layout": "IPY_MODEL_cdd4816516784d44bb56b2a47c051ba8",
      "placeholder": "​",
      "style": "IPY_MODEL_be580e387f8247cd89fa4a157a105d58",
      "value": " 20968/20968 [00:00&lt;00:00, 243569.61 examples/s]"
     }
    },
    "bb49135849574eeda10e2955631e5776": {
     "model_module": "@jupyter-widgets/controls",
     "model_module_version": "1.5.0",
     "model_name": "DescriptionStyleModel",
     "state": {
      "_model_module": "@jupyter-widgets/controls",
      "_model_module_version": "1.5.0",
      "_model_name": "DescriptionStyleModel",
      "_view_count": null,
      "_view_module": "@jupyter-widgets/base",
      "_view_module_version": "1.2.0",
      "_view_name": "StyleView",
      "description_width": ""
     }
    },
    "bbd339d05b6c4def867887305f61bc45": {
     "model_module": "@jupyter-widgets/base",
     "model_module_version": "1.2.0",
     "model_name": "LayoutModel",
     "state": {
      "_model_module": "@jupyter-widgets/base",
      "_model_module_version": "1.2.0",
      "_model_name": "LayoutModel",
      "_view_count": null,
      "_view_module": "@jupyter-widgets/base",
      "_view_module_version": "1.2.0",
      "_view_name": "LayoutView",
      "align_content": null,
      "align_items": null,
      "align_self": null,
      "border": null,
      "bottom": null,
      "display": null,
      "flex": null,
      "flex_flow": null,
      "grid_area": null,
      "grid_auto_columns": null,
      "grid_auto_flow": null,
      "grid_auto_rows": null,
      "grid_column": null,
      "grid_gap": null,
      "grid_row": null,
      "grid_template_areas": null,
      "grid_template_columns": null,
      "grid_template_rows": null,
      "height": null,
      "justify_content": null,
      "justify_items": null,
      "left": null,
      "margin": null,
      "max_height": null,
      "max_width": null,
      "min_height": null,
      "min_width": null,
      "object_fit": null,
      "object_position": null,
      "order": null,
      "overflow": null,
      "overflow_x": null,
      "overflow_y": null,
      "padding": null,
      "right": null,
      "top": null,
      "visibility": null,
      "width": null
     }
    },
    "be580e387f8247cd89fa4a157a105d58": {
     "model_module": "@jupyter-widgets/controls",
     "model_module_version": "1.5.0",
     "model_name": "DescriptionStyleModel",
     "state": {
      "_model_module": "@jupyter-widgets/controls",
      "_model_module_version": "1.5.0",
      "_model_name": "DescriptionStyleModel",
      "_view_count": null,
      "_view_module": "@jupyter-widgets/base",
      "_view_module_version": "1.2.0",
      "_view_name": "StyleView",
      "description_width": ""
     }
    },
    "be9c32a86ea442298fad57c5e2589339": {
     "model_module": "@jupyter-widgets/controls",
     "model_module_version": "1.5.0",
     "model_name": "ProgressStyleModel",
     "state": {
      "_model_module": "@jupyter-widgets/controls",
      "_model_module_version": "1.5.0",
      "_model_name": "ProgressStyleModel",
      "_view_count": null,
      "_view_module": "@jupyter-widgets/base",
      "_view_module_version": "1.2.0",
      "_view_name": "StyleView",
      "bar_color": null,
      "description_width": ""
     }
    },
    "c02fb768c1d541a2aa5269a97dec07ac": {
     "model_module": "@jupyter-widgets/base",
     "model_module_version": "1.2.0",
     "model_name": "LayoutModel",
     "state": {
      "_model_module": "@jupyter-widgets/base",
      "_model_module_version": "1.2.0",
      "_model_name": "LayoutModel",
      "_view_count": null,
      "_view_module": "@jupyter-widgets/base",
      "_view_module_version": "1.2.0",
      "_view_name": "LayoutView",
      "align_content": null,
      "align_items": null,
      "align_self": null,
      "border": null,
      "bottom": null,
      "display": null,
      "flex": null,
      "flex_flow": null,
      "grid_area": null,
      "grid_auto_columns": null,
      "grid_auto_flow": null,
      "grid_auto_rows": null,
      "grid_column": null,
      "grid_gap": null,
      "grid_row": null,
      "grid_template_areas": null,
      "grid_template_columns": null,
      "grid_template_rows": null,
      "height": null,
      "justify_content": null,
      "justify_items": null,
      "left": null,
      "margin": null,
      "max_height": null,
      "max_width": null,
      "min_height": null,
      "min_width": null,
      "object_fit": null,
      "object_position": null,
      "order": null,
      "overflow": null,
      "overflow_x": null,
      "overflow_y": null,
      "padding": null,
      "right": null,
      "top": null,
      "visibility": null,
      "width": null
     }
    },
    "c03e907d330d4ef3a67dc5a9c74efb8a": {
     "model_module": "@jupyter-widgets/controls",
     "model_module_version": "1.5.0",
     "model_name": "HBoxModel",
     "state": {
      "_dom_classes": [],
      "_model_module": "@jupyter-widgets/controls",
      "_model_module_version": "1.5.0",
      "_model_name": "HBoxModel",
      "_view_count": null,
      "_view_module": "@jupyter-widgets/controls",
      "_view_module_version": "1.5.0",
      "_view_name": "HBoxView",
      "box_style": "",
      "children": [
       "IPY_MODEL_7a2afb9beeae4f0cb8df3c9cd2508245",
       "IPY_MODEL_9fab9106ee00497ba1ef4a67de4751cc",
       "IPY_MODEL_f72ced9bcad74bcaaa7af943b31e87f6"
      ],
      "layout": "IPY_MODEL_12dee1b077694478900d22bb6652d7b6"
     }
    },
    "c3244a99df964d4bba0ddc5add4fb3cd": {
     "model_module": "@jupyter-widgets/base",
     "model_module_version": "1.2.0",
     "model_name": "LayoutModel",
     "state": {
      "_model_module": "@jupyter-widgets/base",
      "_model_module_version": "1.2.0",
      "_model_name": "LayoutModel",
      "_view_count": null,
      "_view_module": "@jupyter-widgets/base",
      "_view_module_version": "1.2.0",
      "_view_name": "LayoutView",
      "align_content": null,
      "align_items": null,
      "align_self": null,
      "border": null,
      "bottom": null,
      "display": null,
      "flex": null,
      "flex_flow": null,
      "grid_area": null,
      "grid_auto_columns": null,
      "grid_auto_flow": null,
      "grid_auto_rows": null,
      "grid_column": null,
      "grid_gap": null,
      "grid_row": null,
      "grid_template_areas": null,
      "grid_template_columns": null,
      "grid_template_rows": null,
      "height": null,
      "justify_content": null,
      "justify_items": null,
      "left": null,
      "margin": null,
      "max_height": null,
      "max_width": null,
      "min_height": null,
      "min_width": null,
      "object_fit": null,
      "object_position": null,
      "order": null,
      "overflow": null,
      "overflow_x": null,
      "overflow_y": null,
      "padding": null,
      "right": null,
      "top": null,
      "visibility": null,
      "width": null
     }
    },
    "c3cb617021ed4fe7954c7a76c7ea2d4d": {
     "model_module": "@jupyter-widgets/base",
     "model_module_version": "1.2.0",
     "model_name": "LayoutModel",
     "state": {
      "_model_module": "@jupyter-widgets/base",
      "_model_module_version": "1.2.0",
      "_model_name": "LayoutModel",
      "_view_count": null,
      "_view_module": "@jupyter-widgets/base",
      "_view_module_version": "1.2.0",
      "_view_name": "LayoutView",
      "align_content": null,
      "align_items": null,
      "align_self": null,
      "border": null,
      "bottom": null,
      "display": null,
      "flex": null,
      "flex_flow": null,
      "grid_area": null,
      "grid_auto_columns": null,
      "grid_auto_flow": null,
      "grid_auto_rows": null,
      "grid_column": null,
      "grid_gap": null,
      "grid_row": null,
      "grid_template_areas": null,
      "grid_template_columns": null,
      "grid_template_rows": null,
      "height": null,
      "justify_content": null,
      "justify_items": null,
      "left": null,
      "margin": null,
      "max_height": null,
      "max_width": null,
      "min_height": null,
      "min_width": null,
      "object_fit": null,
      "object_position": null,
      "order": null,
      "overflow": null,
      "overflow_x": null,
      "overflow_y": null,
      "padding": null,
      "right": null,
      "top": null,
      "visibility": null,
      "width": null
     }
    },
    "c3d3a3ef790e4cfaa5b59fda49a62689": {
     "model_module": "@jupyter-widgets/controls",
     "model_module_version": "1.5.0",
     "model_name": "HTMLModel",
     "state": {
      "_dom_classes": [],
      "_model_module": "@jupyter-widgets/controls",
      "_model_module_version": "1.5.0",
      "_model_name": "HTMLModel",
      "_view_count": null,
      "_view_module": "@jupyter-widgets/controls",
      "_view_module_version": "1.5.0",
      "_view_name": "HTMLView",
      "description": "",
      "description_tooltip": null,
      "layout": "IPY_MODEL_d049dfd5931248159029e748acfa611c",
      "placeholder": "​",
      "style": "IPY_MODEL_6255ea93e05140f09ca82b85ecb54fca",
      "value": " 636/636 [00:00&lt;00:00, 38.2kB/s]"
     }
    },
    "c5d1b33e111e42ed877b47b91c9831cc": {
     "model_module": "@jupyter-widgets/controls",
     "model_module_version": "1.5.0",
     "model_name": "FloatProgressModel",
     "state": {
      "_dom_classes": [],
      "_model_module": "@jupyter-widgets/controls",
      "_model_module_version": "1.5.0",
      "_model_name": "FloatProgressModel",
      "_view_count": null,
      "_view_module": "@jupyter-widgets/controls",
      "_view_module_version": "1.5.0",
      "_view_name": "ProgressView",
      "bar_style": "success",
      "description": "",
      "description_tooltip": null,
      "layout": "IPY_MODEL_5854ee4e1a224964b90364231547ecf8",
      "max": 2108,
      "min": 0,
      "orientation": "horizontal",
      "style": "IPY_MODEL_37e1802f96f1438e98130dd5878e1078",
      "value": 2108
     }
    },
    "c7820300f5894c8cbaf9646f610dbdbc": {
     "model_module": "@jupyter-widgets/controls",
     "model_module_version": "1.5.0",
     "model_name": "HTMLModel",
     "state": {
      "_dom_classes": [],
      "_model_module": "@jupyter-widgets/controls",
      "_model_module_version": "1.5.0",
      "_model_name": "HTMLModel",
      "_view_count": null,
      "_view_module": "@jupyter-widgets/controls",
      "_view_module_version": "1.5.0",
      "_view_name": "HTMLView",
      "description": "",
      "description_tooltip": null,
      "layout": "IPY_MODEL_1ff85e5d7f394b34b1ae505720d95f0f",
      "placeholder": "​",
      "style": "IPY_MODEL_10dea0f6209748d98732c7aafacd348f",
      "value": " 15.9M/15.9M [00:00&lt;00:00, 87.4MB/s]"
     }
    },
    "cb6ab4db660f49ddb682740fcedcdc9b": {
     "model_module": "@jupyter-widgets/controls",
     "model_module_version": "1.5.0",
     "model_name": "HTMLModel",
     "state": {
      "_dom_classes": [],
      "_model_module": "@jupyter-widgets/controls",
      "_model_module_version": "1.5.0",
      "_model_name": "HTMLModel",
      "_view_count": null,
      "_view_module": "@jupyter-widgets/controls",
      "_view_module_version": "1.5.0",
      "_view_name": "HTMLView",
      "description": "",
      "description_tooltip": null,
      "layout": "IPY_MODEL_d289340c639e44e4b05d6d00a67e6e05",
      "placeholder": "​",
      "style": "IPY_MODEL_fdcc1dc63c6f4116983af0089ebe4283",
      "value": " 9973/9973 [07:40&lt;00:00, 27.63 examples/s]"
     }
    },
    "ccf863790fe146d6a8f34d9800864d23": {
     "model_module": "@jupyter-widgets/base",
     "model_module_version": "1.2.0",
     "model_name": "LayoutModel",
     "state": {
      "_model_module": "@jupyter-widgets/base",
      "_model_module_version": "1.2.0",
      "_model_name": "LayoutModel",
      "_view_count": null,
      "_view_module": "@jupyter-widgets/base",
      "_view_module_version": "1.2.0",
      "_view_name": "LayoutView",
      "align_content": null,
      "align_items": null,
      "align_self": null,
      "border": null,
      "bottom": null,
      "display": null,
      "flex": null,
      "flex_flow": null,
      "grid_area": null,
      "grid_auto_columns": null,
      "grid_auto_flow": null,
      "grid_auto_rows": null,
      "grid_column": null,
      "grid_gap": null,
      "grid_row": null,
      "grid_template_areas": null,
      "grid_template_columns": null,
      "grid_template_rows": null,
      "height": null,
      "justify_content": null,
      "justify_items": null,
      "left": null,
      "margin": null,
      "max_height": null,
      "max_width": null,
      "min_height": null,
      "min_width": null,
      "object_fit": null,
      "object_position": null,
      "order": null,
      "overflow": null,
      "overflow_x": null,
      "overflow_y": null,
      "padding": null,
      "right": null,
      "top": null,
      "visibility": null,
      "width": null
     }
    },
    "cdd4816516784d44bb56b2a47c051ba8": {
     "model_module": "@jupyter-widgets/base",
     "model_module_version": "1.2.0",
     "model_name": "LayoutModel",
     "state": {
      "_model_module": "@jupyter-widgets/base",
      "_model_module_version": "1.2.0",
      "_model_name": "LayoutModel",
      "_view_count": null,
      "_view_module": "@jupyter-widgets/base",
      "_view_module_version": "1.2.0",
      "_view_name": "LayoutView",
      "align_content": null,
      "align_items": null,
      "align_self": null,
      "border": null,
      "bottom": null,
      "display": null,
      "flex": null,
      "flex_flow": null,
      "grid_area": null,
      "grid_auto_columns": null,
      "grid_auto_flow": null,
      "grid_auto_rows": null,
      "grid_column": null,
      "grid_gap": null,
      "grid_row": null,
      "grid_template_areas": null,
      "grid_template_columns": null,
      "grid_template_rows": null,
      "height": null,
      "justify_content": null,
      "justify_items": null,
      "left": null,
      "margin": null,
      "max_height": null,
      "max_width": null,
      "min_height": null,
      "min_width": null,
      "object_fit": null,
      "object_position": null,
      "order": null,
      "overflow": null,
      "overflow_x": null,
      "overflow_y": null,
      "padding": null,
      "right": null,
      "top": null,
      "visibility": null,
      "width": null
     }
    },
    "d049dfd5931248159029e748acfa611c": {
     "model_module": "@jupyter-widgets/base",
     "model_module_version": "1.2.0",
     "model_name": "LayoutModel",
     "state": {
      "_model_module": "@jupyter-widgets/base",
      "_model_module_version": "1.2.0",
      "_model_name": "LayoutModel",
      "_view_count": null,
      "_view_module": "@jupyter-widgets/base",
      "_view_module_version": "1.2.0",
      "_view_name": "LayoutView",
      "align_content": null,
      "align_items": null,
      "align_self": null,
      "border": null,
      "bottom": null,
      "display": null,
      "flex": null,
      "flex_flow": null,
      "grid_area": null,
      "grid_auto_columns": null,
      "grid_auto_flow": null,
      "grid_auto_rows": null,
      "grid_column": null,
      "grid_gap": null,
      "grid_row": null,
      "grid_template_areas": null,
      "grid_template_columns": null,
      "grid_template_rows": null,
      "height": null,
      "justify_content": null,
      "justify_items": null,
      "left": null,
      "margin": null,
      "max_height": null,
      "max_width": null,
      "min_height": null,
      "min_width": null,
      "object_fit": null,
      "object_position": null,
      "order": null,
      "overflow": null,
      "overflow_x": null,
      "overflow_y": null,
      "padding": null,
      "right": null,
      "top": null,
      "visibility": null,
      "width": null
     }
    },
    "d153f300f66d4f10a7eac735bb17e7f2": {
     "model_module": "@jupyter-widgets/controls",
     "model_module_version": "1.5.0",
     "model_name": "DescriptionStyleModel",
     "state": {
      "_model_module": "@jupyter-widgets/controls",
      "_model_module_version": "1.5.0",
      "_model_name": "DescriptionStyleModel",
      "_view_count": null,
      "_view_module": "@jupyter-widgets/base",
      "_view_module_version": "1.2.0",
      "_view_name": "StyleView",
      "description_width": ""
     }
    },
    "d289340c639e44e4b05d6d00a67e6e05": {
     "model_module": "@jupyter-widgets/base",
     "model_module_version": "1.2.0",
     "model_name": "LayoutModel",
     "state": {
      "_model_module": "@jupyter-widgets/base",
      "_model_module_version": "1.2.0",
      "_model_name": "LayoutModel",
      "_view_count": null,
      "_view_module": "@jupyter-widgets/base",
      "_view_module_version": "1.2.0",
      "_view_name": "LayoutView",
      "align_content": null,
      "align_items": null,
      "align_self": null,
      "border": null,
      "bottom": null,
      "display": null,
      "flex": null,
      "flex_flow": null,
      "grid_area": null,
      "grid_auto_columns": null,
      "grid_auto_flow": null,
      "grid_auto_rows": null,
      "grid_column": null,
      "grid_gap": null,
      "grid_row": null,
      "grid_template_areas": null,
      "grid_template_columns": null,
      "grid_template_rows": null,
      "height": null,
      "justify_content": null,
      "justify_items": null,
      "left": null,
      "margin": null,
      "max_height": null,
      "max_width": null,
      "min_height": null,
      "min_width": null,
      "object_fit": null,
      "object_position": null,
      "order": null,
      "overflow": null,
      "overflow_x": null,
      "overflow_y": null,
      "padding": null,
      "right": null,
      "top": null,
      "visibility": null,
      "width": null
     }
    },
    "d588c7dd53c145ac96d772a6af055101": {
     "model_module": "@jupyter-widgets/controls",
     "model_module_version": "1.5.0",
     "model_name": "DescriptionStyleModel",
     "state": {
      "_model_module": "@jupyter-widgets/controls",
      "_model_module_version": "1.5.0",
      "_model_name": "DescriptionStyleModel",
      "_view_count": null,
      "_view_module": "@jupyter-widgets/base",
      "_view_module_version": "1.2.0",
      "_view_name": "StyleView",
      "description_width": ""
     }
    },
    "da7579dd7d8b4ad2a3ac54669e2f2e41": {
     "model_module": "@jupyter-widgets/base",
     "model_module_version": "1.2.0",
     "model_name": "LayoutModel",
     "state": {
      "_model_module": "@jupyter-widgets/base",
      "_model_module_version": "1.2.0",
      "_model_name": "LayoutModel",
      "_view_count": null,
      "_view_module": "@jupyter-widgets/base",
      "_view_module_version": "1.2.0",
      "_view_name": "LayoutView",
      "align_content": null,
      "align_items": "center",
      "align_self": null,
      "border": null,
      "bottom": null,
      "display": "flex",
      "flex": null,
      "flex_flow": "column",
      "grid_area": null,
      "grid_auto_columns": null,
      "grid_auto_flow": null,
      "grid_auto_rows": null,
      "grid_column": null,
      "grid_gap": null,
      "grid_row": null,
      "grid_template_areas": null,
      "grid_template_columns": null,
      "grid_template_rows": null,
      "height": null,
      "justify_content": null,
      "justify_items": null,
      "left": null,
      "margin": null,
      "max_height": null,
      "max_width": null,
      "min_height": null,
      "min_width": null,
      "object_fit": null,
      "object_position": null,
      "order": null,
      "overflow": null,
      "overflow_x": null,
      "overflow_y": null,
      "padding": null,
      "right": null,
      "top": null,
      "visibility": null,
      "width": "50%"
     }
    },
    "ddc2eeeaf96043deae9f8d5bb15fed3a": {
     "model_module": "@jupyter-widgets/controls",
     "model_module_version": "1.5.0",
     "model_name": "HBoxModel",
     "state": {
      "_dom_classes": [],
      "_model_module": "@jupyter-widgets/controls",
      "_model_module_version": "1.5.0",
      "_model_name": "HBoxModel",
      "_view_count": null,
      "_view_module": "@jupyter-widgets/controls",
      "_view_module_version": "1.5.0",
      "_view_name": "HBoxView",
      "box_style": "",
      "children": [
       "IPY_MODEL_e2d8329b40db47c2a15ecde79b04ad2a",
       "IPY_MODEL_58a9bc95f3c24a4db8eae6c38ed4dba5",
       "IPY_MODEL_cb6ab4db660f49ddb682740fcedcdc9b"
      ],
      "layout": "IPY_MODEL_a37842ab181f403ca7e8175a987e6904"
     }
    },
    "de8c5d1729b94579b4b79acfdb071a97": {
     "model_module": "@jupyter-widgets/controls",
     "model_module_version": "1.5.0",
     "model_name": "HTMLModel",
     "state": {
      "_dom_classes": [],
      "_model_module": "@jupyter-widgets/controls",
      "_model_module_version": "1.5.0",
      "_model_name": "HTMLModel",
      "_view_count": null,
      "_view_module": "@jupyter-widgets/controls",
      "_view_module_version": "1.5.0",
      "_view_name": "HTMLView",
      "description": "",
      "description_tooltip": null,
      "layout": "IPY_MODEL_97835cec29144f639a5f61cd3a2b18c2",
      "placeholder": "​",
      "style": "IPY_MODEL_0caece5412734537bbebdb24f5f0a178",
      "value": "Filter: 100%"
     }
    },
    "de9fe45872e647b483a4480d9e247a41": {
     "model_module": "@jupyter-widgets/controls",
     "model_module_version": "1.5.0",
     "model_name": "DescriptionStyleModel",
     "state": {
      "_model_module": "@jupyter-widgets/controls",
      "_model_module_version": "1.5.0",
      "_model_name": "DescriptionStyleModel",
      "_view_count": null,
      "_view_module": "@jupyter-widgets/base",
      "_view_module_version": "1.2.0",
      "_view_name": "StyleView",
      "description_width": ""
     }
    },
    "e016e5b2b5bf4b7e8e6c7461f6757828": {
     "model_module": "@jupyter-widgets/controls",
     "model_module_version": "1.5.0",
     "model_name": "ProgressStyleModel",
     "state": {
      "_model_module": "@jupyter-widgets/controls",
      "_model_module_version": "1.5.0",
      "_model_name": "ProgressStyleModel",
      "_view_count": null,
      "_view_module": "@jupyter-widgets/base",
      "_view_module_version": "1.2.0",
      "_view_name": "StyleView",
      "bar_color": null,
      "description_width": ""
     }
    },
    "e18c6eab62b2421b9370b319cd9af9bc": {
     "model_module": "@jupyter-widgets/controls",
     "model_module_version": "1.5.0",
     "model_name": "HTMLModel",
     "state": {
      "_dom_classes": [],
      "_model_module": "@jupyter-widgets/controls",
      "_model_module_version": "1.5.0",
      "_model_name": "HTMLModel",
      "_view_count": null,
      "_view_module": "@jupyter-widgets/controls",
      "_view_module_version": "1.5.0",
      "_view_name": "HTMLView",
      "description": "",
      "description_tooltip": null,
      "layout": "IPY_MODEL_547ef7f99cc74ac983ce49aed6aca673",
      "placeholder": "​",
      "style": "IPY_MODEL_629831e879a448909ab1d34e61481531",
      "value": "Map: 100%"
     }
    },
    "e2d8329b40db47c2a15ecde79b04ad2a": {
     "model_module": "@jupyter-widgets/controls",
     "model_module_version": "1.5.0",
     "model_name": "HTMLModel",
     "state": {
      "_dom_classes": [],
      "_model_module": "@jupyter-widgets/controls",
      "_model_module_version": "1.5.0",
      "_model_name": "HTMLModel",
      "_view_count": null,
      "_view_module": "@jupyter-widgets/controls",
      "_view_module_version": "1.5.0",
      "_view_name": "HTMLView",
      "description": "",
      "description_tooltip": null,
      "layout": "IPY_MODEL_84dea280cde54e90bdf16e938c169451",
      "placeholder": "​",
      "style": "IPY_MODEL_d153f300f66d4f10a7eac735bb17e7f2",
      "value": "Map: 100%"
     }
    },
    "e4492949874449f395eadeb83b4798b3": {
     "model_module": "@jupyter-widgets/controls",
     "model_module_version": "1.5.0",
     "model_name": "DescriptionStyleModel",
     "state": {
      "_model_module": "@jupyter-widgets/controls",
      "_model_module_version": "1.5.0",
      "_model_name": "DescriptionStyleModel",
      "_view_count": null,
      "_view_module": "@jupyter-widgets/base",
      "_view_module_version": "1.2.0",
      "_view_name": "StyleView",
      "description_width": ""
     }
    },
    "e4dd13632d1e4a30bea5fde685f2c7a5": {
     "model_module": "@jupyter-widgets/controls",
     "model_module_version": "1.5.0",
     "model_name": "HBoxModel",
     "state": {
      "_dom_classes": [],
      "_model_module": "@jupyter-widgets/controls",
      "_model_module_version": "1.5.0",
      "_model_name": "HBoxModel",
      "_view_count": null,
      "_view_module": "@jupyter-widgets/controls",
      "_view_module_version": "1.5.0",
      "_view_name": "HBoxView",
      "box_style": "",
      "children": [
       "IPY_MODEL_e18c6eab62b2421b9370b319cd9af9bc",
       "IPY_MODEL_142707e828804c4f983750cf82d11b6a",
       "IPY_MODEL_67a0c9cb83834a6786d35c9778563891"
      ],
      "layout": "IPY_MODEL_64f6173917794707a6f954b7028593d0"
     }
    },
    "e98503c6db424b96bb996e4fbb7b8a2a": {
     "model_module": "@jupyter-widgets/controls",
     "model_module_version": "1.5.0",
     "model_name": "DescriptionStyleModel",
     "state": {
      "_model_module": "@jupyter-widgets/controls",
      "_model_module_version": "1.5.0",
      "_model_name": "DescriptionStyleModel",
      "_view_count": null,
      "_view_module": "@jupyter-widgets/base",
      "_view_module_version": "1.2.0",
      "_view_name": "StyleView",
      "description_width": ""
     }
    },
    "eb77ba5b2828444cb4a9a2beaa7ce08c": {
     "model_module": "@jupyter-widgets/base",
     "model_module_version": "1.2.0",
     "model_name": "LayoutModel",
     "state": {
      "_model_module": "@jupyter-widgets/base",
      "_model_module_version": "1.2.0",
      "_model_name": "LayoutModel",
      "_view_count": null,
      "_view_module": "@jupyter-widgets/base",
      "_view_module_version": "1.2.0",
      "_view_name": "LayoutView",
      "align_content": null,
      "align_items": null,
      "align_self": null,
      "border": null,
      "bottom": null,
      "display": null,
      "flex": null,
      "flex_flow": null,
      "grid_area": null,
      "grid_auto_columns": null,
      "grid_auto_flow": null,
      "grid_auto_rows": null,
      "grid_column": null,
      "grid_gap": null,
      "grid_row": null,
      "grid_template_areas": null,
      "grid_template_columns": null,
      "grid_template_rows": null,
      "height": null,
      "justify_content": null,
      "justify_items": null,
      "left": null,
      "margin": null,
      "max_height": null,
      "max_width": null,
      "min_height": null,
      "min_width": null,
      "object_fit": null,
      "object_position": null,
      "order": null,
      "overflow": null,
      "overflow_x": null,
      "overflow_y": null,
      "padding": null,
      "right": null,
      "top": null,
      "visibility": null,
      "width": null
     }
    },
    "efbc205388f34c6f87750948e1380436": {
     "model_module": "@jupyter-widgets/controls",
     "model_module_version": "1.5.0",
     "model_name": "FloatProgressModel",
     "state": {
      "_dom_classes": [],
      "_model_module": "@jupyter-widgets/controls",
      "_model_module_version": "1.5.0",
      "_model_name": "FloatProgressModel",
      "_view_count": null,
      "_view_module": "@jupyter-widgets/controls",
      "_view_module_version": "1.5.0",
      "_view_name": "ProgressView",
      "bar_style": "success",
      "description": "",
      "description_tooltip": null,
      "layout": "IPY_MODEL_ad2c7c362e9b45529a2108e4252e5204",
      "max": 20968,
      "min": 0,
      "orientation": "horizontal",
      "style": "IPY_MODEL_53c078a47fae41418cc21a80793c0fef",
      "value": 20968
     }
    },
    "f2525510dc984f5886bfdf3bf77432a1": {
     "model_module": "@jupyter-widgets/controls",
     "model_module_version": "1.5.0",
     "model_name": "PasswordModel",
     "state": {
      "_dom_classes": [],
      "_model_module": "@jupyter-widgets/controls",
      "_model_module_version": "1.5.0",
      "_model_name": "PasswordModel",
      "_view_count": null,
      "_view_module": "@jupyter-widgets/controls",
      "_view_module_version": "1.5.0",
      "_view_name": "PasswordView",
      "continuous_update": true,
      "description": "Token:",
      "description_tooltip": null,
      "disabled": false,
      "layout": "IPY_MODEL_21a9eda81a084decbc0258536dddc4d1",
      "placeholder": "​",
      "style": "IPY_MODEL_315a9f82155946d09cfc0c58e290cb95",
      "value": ""
     }
    },
    "f2f958cdcf5a41e392e0cd92b8da52f1": {
     "model_module": "@jupyter-widgets/base",
     "model_module_version": "1.2.0",
     "model_name": "LayoutModel",
     "state": {
      "_model_module": "@jupyter-widgets/base",
      "_model_module_version": "1.2.0",
      "_model_name": "LayoutModel",
      "_view_count": null,
      "_view_module": "@jupyter-widgets/base",
      "_view_module_version": "1.2.0",
      "_view_name": "LayoutView",
      "align_content": null,
      "align_items": null,
      "align_self": null,
      "border": null,
      "bottom": null,
      "display": null,
      "flex": null,
      "flex_flow": null,
      "grid_area": null,
      "grid_auto_columns": null,
      "grid_auto_flow": null,
      "grid_auto_rows": null,
      "grid_column": null,
      "grid_gap": null,
      "grid_row": null,
      "grid_template_areas": null,
      "grid_template_columns": null,
      "grid_template_rows": null,
      "height": null,
      "justify_content": null,
      "justify_items": null,
      "left": null,
      "margin": null,
      "max_height": null,
      "max_width": null,
      "min_height": null,
      "min_width": null,
      "object_fit": null,
      "object_position": null,
      "order": null,
      "overflow": null,
      "overflow_x": null,
      "overflow_y": null,
      "padding": null,
      "right": null,
      "top": null,
      "visibility": null,
      "width": null
     }
    },
    "f4194511e24c41d9b5023501f519372b": {
     "model_module": "@jupyter-widgets/controls",
     "model_module_version": "1.5.0",
     "model_name": "FloatProgressModel",
     "state": {
      "_dom_classes": [],
      "_model_module": "@jupyter-widgets/controls",
      "_model_module_version": "1.5.0",
      "_model_name": "FloatProgressModel",
      "_view_count": null,
      "_view_module": "@jupyter-widgets/controls",
      "_view_module_version": "1.5.0",
      "_view_name": "ProgressView",
      "bar_style": "success",
      "description": "",
      "description_tooltip": null,
      "layout": "IPY_MODEL_5b241fc6078542888490a9e842880838",
      "max": 16887676,
      "min": 0,
      "orientation": "horizontal",
      "style": "IPY_MODEL_0f2574affca0495997fb4607526091b8",
      "value": 16887676
     }
    },
    "f6ead4230da64b918db9341095563a0e": {
     "model_module": "@jupyter-widgets/controls",
     "model_module_version": "1.5.0",
     "model_name": "FloatProgressModel",
     "state": {
      "_dom_classes": [],
      "_model_module": "@jupyter-widgets/controls",
      "_model_module_version": "1.5.0",
      "_model_name": "FloatProgressModel",
      "_view_count": null,
      "_view_module": "@jupyter-widgets/controls",
      "_view_module_version": "1.5.0",
      "_view_name": "ProgressView",
      "bar_style": "success",
      "description": "",
      "description_tooltip": null,
      "layout": "IPY_MODEL_eb77ba5b2828444cb4a9a2beaa7ce08c",
      "max": 636,
      "min": 0,
      "orientation": "horizontal",
      "style": "IPY_MODEL_26853f9e670244518ea1e2760bd1f53a",
      "value": 636
     }
    },
    "f72c4aebb8db40a0ade6ab43c8e464a8": {
     "model_module": "@jupyter-widgets/base",
     "model_module_version": "1.2.0",
     "model_name": "LayoutModel",
     "state": {
      "_model_module": "@jupyter-widgets/base",
      "_model_module_version": "1.2.0",
      "_model_name": "LayoutModel",
      "_view_count": null,
      "_view_module": "@jupyter-widgets/base",
      "_view_module_version": "1.2.0",
      "_view_name": "LayoutView",
      "align_content": null,
      "align_items": null,
      "align_self": null,
      "border": null,
      "bottom": null,
      "display": null,
      "flex": null,
      "flex_flow": null,
      "grid_area": null,
      "grid_auto_columns": null,
      "grid_auto_flow": null,
      "grid_auto_rows": null,
      "grid_column": null,
      "grid_gap": null,
      "grid_row": null,
      "grid_template_areas": null,
      "grid_template_columns": null,
      "grid_template_rows": null,
      "height": null,
      "justify_content": null,
      "justify_items": null,
      "left": null,
      "margin": null,
      "max_height": null,
      "max_width": null,
      "min_height": null,
      "min_width": null,
      "object_fit": null,
      "object_position": null,
      "order": null,
      "overflow": null,
      "overflow_x": null,
      "overflow_y": null,
      "padding": null,
      "right": null,
      "top": null,
      "visibility": null,
      "width": null
     }
    },
    "f72ced9bcad74bcaaa7af943b31e87f6": {
     "model_module": "@jupyter-widgets/controls",
     "model_module_version": "1.5.0",
     "model_name": "HTMLModel",
     "state": {
      "_dom_classes": [],
      "_model_module": "@jupyter-widgets/controls",
      "_model_module_version": "1.5.0",
      "_model_name": "HTMLModel",
      "_view_count": null,
      "_view_module": "@jupyter-widgets/controls",
      "_view_module_version": "1.5.0",
      "_view_name": "HTMLView",
      "description": "",
      "description_tooltip": null,
      "layout": "IPY_MODEL_63603aadc07649ba91e1abd21a655c29",
      "placeholder": "​",
      "style": "IPY_MODEL_3fe0a7bc778641d9a3168e47b3a06092",
      "value": " 585M/585M [00:09&lt;00:00, 67.3MB/s]"
     }
    },
    "fa9224be44ad49b49be0ad7f6842f1e3": {
     "model_module": "@jupyter-widgets/controls",
     "model_module_version": "1.5.0",
     "model_name": "HTMLModel",
     "state": {
      "_dom_classes": [],
      "_model_module": "@jupyter-widgets/controls",
      "_model_module_version": "1.5.0",
      "_model_name": "HTMLModel",
      "_view_count": null,
      "_view_module": "@jupyter-widgets/controls",
      "_view_module_version": "1.5.0",
      "_view_name": "HTMLView",
      "description": "",
      "description_tooltip": null,
      "layout": "IPY_MODEL_29a3ea8fa74444ca806d895c186a9a7a",
      "placeholder": "​",
      "style": "IPY_MODEL_0fbc521d7acd4def8fc39178b84103d0",
      "value": "Downloading classifier.ckpt: 100%"
     }
    },
    "fdcc1dc63c6f4116983af0089ebe4283": {
     "model_module": "@jupyter-widgets/controls",
     "model_module_version": "1.5.0",
     "model_name": "DescriptionStyleModel",
     "state": {
      "_model_module": "@jupyter-widgets/controls",
      "_model_module_version": "1.5.0",
      "_model_name": "DescriptionStyleModel",
      "_view_count": null,
      "_view_module": "@jupyter-widgets/base",
      "_view_module_version": "1.2.0",
      "_view_name": "StyleView",
      "description_width": ""
     }
    },
    "ff8617315baa4acdae80dee2c5c797fe": {
     "model_module": "@jupyter-widgets/controls",
     "model_module_version": "1.5.0",
     "model_name": "ProgressStyleModel",
     "state": {
      "_model_module": "@jupyter-widgets/controls",
      "_model_module_version": "1.5.0",
      "_model_name": "ProgressStyleModel",
      "_view_count": null,
      "_view_module": "@jupyter-widgets/base",
      "_view_module_version": "1.2.0",
      "_view_name": "StyleView",
      "bar_color": null,
      "description_width": ""
     }
    },
    "fff57be8afee4ea2a0482612b5f75ca1": {
     "model_module": "@jupyter-widgets/controls",
     "model_module_version": "1.5.0",
     "model_name": "DescriptionStyleModel",
     "state": {
      "_model_module": "@jupyter-widgets/controls",
      "_model_module_version": "1.5.0",
      "_model_name": "DescriptionStyleModel",
      "_view_count": null,
      "_view_module": "@jupyter-widgets/base",
      "_view_module_version": "1.2.0",
      "_view_name": "StyleView",
      "description_width": ""
     }
    }
   }
  }
 },
 "nbformat": 4,
 "nbformat_minor": 4
}
