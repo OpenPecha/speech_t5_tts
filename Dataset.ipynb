{
 "cells": [
  {
   "cell_type": "code",
   "execution_count": 24,
   "id": "d73cb4b9-950f-45a6-b76a-181148c9e211",
   "metadata": {},
   "outputs": [
    {
     "name": "stdout",
     "output_type": "stream",
     "text": [
      "\u001b[33mWARNING: Running pip as the 'root' user can result in broken permissions and conflicting behaviour with the system package manager. It is recommended to use a virtual environment instead: https://pip.pypa.io/warnings/venv\u001b[0m\u001b[33m\n",
      "\u001b[0m\u001b[33mWARNING: Running pip as the 'root' user can result in broken permissions and conflicting behaviour with the system package manager. It is recommended to use a virtual environment instead: https://pip.pypa.io/warnings/venv\u001b[0m\u001b[33m\n",
      "\u001b[0m\u001b[33mWARNING: Running pip as the 'root' user can result in broken permissions and conflicting behaviour with the system package manager. It is recommended to use a virtual environment instead: https://pip.pypa.io/warnings/venv\u001b[0m\u001b[33m\n",
      "\u001b[0m"
     ]
    }
   ],
   "source": [
    "!pip install -q datasets soundfile speechbrain requests\n",
    "!pip install -q transformers\n",
    "!pip install -q --upgrade accelerate"
   ]
  },
  {
   "cell_type": "code",
   "execution_count": 1,
   "id": "3de389ad-f3e9-495f-88f6-44fc2c9324e3",
   "metadata": {},
   "outputs": [],
   "source": [
    "from pathlib import Path\n",
    "import multiprocessing\n",
    "import requests\n",
    "\n",
    "from datasets import load_dataset, Audio, Dataset, DatasetDict\n",
    "\n",
    "import multiprocessing\n",
    "from pathlib import Path\n",
    "from collections import Counter\n",
    "\n",
    "import pyewts\n",
    "from transformers import SpeechT5Processor, SpeechT5ForTextToSpeech\n",
    "from datasets import DatasetDict, Audio, concatenate_datasets\n",
    "import matplotlib.pyplot as plt\n",
    "import numpy as np\n",
    "from IPython.display import Audio as display_audio"
   ]
  },
  {
   "cell_type": "code",
   "execution_count": 8,
   "id": "4cad5dc5-85b4-4eed-91e6-9b64701c903e",
   "metadata": {},
   "outputs": [],
   "source": [
    "n_cpu = multiprocessing.cpu_count()-10; n_cpu\n",
    "data_path = Path.cwd() / \"data\"\n",
    "audio_path = data_path / \"audio\"\n",
    "audio_path.mkdir(parents=True, exist_ok=True)"
   ]
  },
  {
   "cell_type": "code",
   "execution_count": 9,
   "id": "cdaec3db-b330-4acb-af2f-4c6d46544b9a",
   "metadata": {},
   "outputs": [],
   "source": [
    "processor = SpeechT5Processor.from_pretrained(\"microsoft/speecht5_tts\")"
   ]
  },
  {
   "cell_type": "markdown",
   "id": "583eb933-fc0c-491e-bdc2-45fea537ffaf",
   "metadata": {},
   "source": [
    "## Load the dataset"
   ]
  },
  {
   "cell_type": "code",
   "execution_count": 5,
   "id": "bc0379be-bb6c-404d-889e-8f1b2bfc7577",
   "metadata": {},
   "outputs": [
    {
     "data": {
      "text/plain": [
       "DatasetDict({\n",
       "    train: Dataset({\n",
       "        features: ['file_name', 'uni', 'url', 'sentence', 'label', 'speaker_id', 'duration'],\n",
       "        num_rows: 534753\n",
       "    })\n",
       "    test: Dataset({\n",
       "        features: ['file_name', 'uni', 'url', 'sentence', 'label', 'speaker_id', 'duration'],\n",
       "        num_rows: 133689\n",
       "    })\n",
       "})"
      ]
     },
     "execution_count": 5,
     "metadata": {},
     "output_type": "execute_result"
    }
   ],
   "source": [
    "dataset_name = \"openpecha/tts-training-filtered\"\n",
    "dataset = load_dataset(dataset_name)\n",
    "dataset"
   ]
  },
  {
   "cell_type": "markdown",
   "id": "b92bfa82-e013-4c08-be4a-891dfcd8513b",
   "metadata": {},
   "source": [
    "## Filter Dataset\n",
    "\n",
    "### Ignore Long Audio\n",
    "Some of the examples in the dataset are apparently longer than the maximum input length the model can handle (600 tokens), so we should remove those from the dataset. In fact, to allow for larger batch sizes we'll remove anything over 200 tokens."
   ]
  },
  {
   "cell_type": "code",
   "execution_count": 6,
   "id": "319d5ccf-0990-4e79-8878-ff44d369d453",
   "metadata": {},
   "outputs": [],
   "source": [
    "dataset = concatenate_datasets([dataset[\"train\"], dataset[\"test\"]])"
   ]
  },
  {
   "cell_type": "code",
   "execution_count": 10,
   "id": "2410aa70-0170-4105-89f8-0298529174cc",
   "metadata": {},
   "outputs": [
    {
     "data": {
      "application/vnd.jupyter.widget-view+json": {
       "model_id": "f2c36fa3c8c449c5b1618f72b45cbc36",
       "version_major": 2,
       "version_minor": 0
      },
      "text/plain": [
       "Map (num_proc=54):   0%|          | 0/668442 [00:00<?, ? examples/s]"
      ]
     },
     "metadata": {},
     "output_type": "display_data"
    }
   ],
   "source": [
    "def compute_tokens_len(item):\n",
    "    tokens = processor.tokenizer.tokenize(item[\"sentence\"])\n",
    "    item[\"tokens_len\"] = len(tokens)\n",
    "    return item\n",
    "\n",
    "dataset = dataset.map(compute_tokens_len, num_proc=n_cpu)"
   ]
  },
  {
   "cell_type": "code",
   "execution_count": 11,
   "id": "301d0d4e-0d22-48ce-a80a-ffc29fe34648",
   "metadata": {},
   "outputs": [
    {
     "data": {
      "text/plain": [
       "9"
      ]
     },
     "execution_count": 11,
     "metadata": {},
     "output_type": "execute_result"
    }
   ],
   "source": [
    "dataset[0][\"tokens_len\"]"
   ]
  },
  {
   "cell_type": "code",
   "execution_count": 13,
   "id": "189b9e96-2757-420b-8c4e-c2448a904cce",
   "metadata": {},
   "outputs": [],
   "source": [
    "def plot_token_len_histogram(token_lengths):\n",
    "    # Plotting the histogram\n",
    "    plt.figure(figsize=(10, 6))  # Set the figure size\n",
    "    plt.hist(token_lengths, bins=20, edgecolor='black')  # Create a histogram with 10 bins\n",
    "    \n",
    "    # Adding titles and labels\n",
    "    plt.title('Histogram of Token Lengths')\n",
    "    plt.xlabel('Token Length')\n",
    "    plt.ylabel('Frequency')\n",
    "    \n",
    "    # Show the chart\n",
    "    plt.show()"
   ]
  },
  {
   "cell_type": "code",
   "execution_count": 14,
   "id": "338a0617-a456-4a26-8337-f70719d9c068",
   "metadata": {},
   "outputs": [
    {
     "data": {
      "image/png": "[encoded data removed]",
      "text/plain": [
       "<Figure size 1000x600 with 1 Axes>"
      ]
     },
     "metadata": {},
     "output_type": "display_data"
    }
   ],
   "source": [
    "plot_token_len_histogram(dataset[\"tokens_len\"])"
   ]
  },
  {
   "cell_type": "code",
   "execution_count": 15,
   "id": "5fb53e4b-b876-4320-916c-a5697c9a5e65",
   "metadata": {},
   "outputs": [
    {
     "data": {
      "application/vnd.jupyter.widget-view+json": {
       "model_id": "231ad61e25344777a203da741bdbf2a2",
       "version_major": 2,
       "version_minor": 0
      },
      "text/plain": [
       "Filter (num_proc=54):   0%|          | 0/621899 [00:00<?, ? examples/s]"
      ]
     },
     "metadata": {},
     "output_type": "display_data"
    },
    {
     "data": {
      "text/plain": [
       "621899"
      ]
     },
     "execution_count": 15,
     "metadata": {},
     "output_type": "execute_result"
    }
   ],
   "source": [
    "dataset = dataset.filter(lambda x: x[\"tokens_len\"]<200, num_proc=n_cpu)\n",
    "len(dataset)"
   ]
  },
  {
   "cell_type": "code",
   "execution_count": 16,
   "id": "da69aa0e-c019-416b-8c46-b9ebfc9dc131",
   "metadata": {},
   "outputs": [
    {
     "data": {
      "image/png": "[encoded data removed]",
      "text/plain": [
       "<Figure size 1000x600 with 1 Axes>"
      ]
     },
     "metadata": {},
     "output_type": "display_data"
    }
   ],
   "source": [
    "plot_token_len_histogram(dataset[\"tokens_len\"])"
   ]
  },
  {
   "cell_type": "markdown",
   "id": "81ecf6a1-f108-47a5-b8c1-0f2652ab5f6f",
   "metadata": {},
   "source": [
    "### Balance out Departments"
   ]
  },
  {
   "cell_type": "code",
   "execution_count": 19,
   "id": "7b639794-18cf-498f-b375-a63c853cf286",
   "metadata": {},
   "outputs": [],
   "source": [
    "def plot_department_dist(dataset):\n",
    "    c = Counter(dataset[\"label\"])\n",
    "    print(c)\n",
    "    labels = list(c.keys())\n",
    "    sizes =  list(c.values()) # Percentages or absolute values\n",
    "    colors = ['#ff9999','#66b3ff','#99ff99','#ffcc99', \"#ffff99\"]  # Optional colors\n",
    "    \n",
    "    # Create the pie chart\n",
    "    plt.figure(figsize=(4, 4))  # Set the figure size\n",
    "    plt.pie(\n",
    "        sizes, \n",
    "        labels=labels, \n",
    "        colors=colors, \n",
    "        autopct='%1.1f%%',  # Show percentages with 1 decimal\n",
    "        shadow=True,        # Add shadow effect\n",
    "        startangle=140      # Rotate the start angle\n",
    "    )\n",
    "    \n",
    "    # Equal aspect ratio ensures that pie is drawn as a circle.\n",
    "    plt.axis('equal')\n",
    "    \n",
    "    # Show the chart\n",
    "    plt.title('Department')\n",
    "    plt.show()"
   ]
  },
  {
   "cell_type": "code",
   "execution_count": 20,
   "id": "1f55be53-ac12-4961-8421-06fc6f6149bb",
   "metadata": {},
   "outputs": [
    {
     "name": "stdout",
     "output_type": "stream",
     "text": [
      "Counter({'STT_NS': 214021, 'STT_AB': 166009, 'STT_NW': 87645, 'STT_HS': 83814, 'STT_PC': 70410})\n"
     ]
    },
    {
     "data": {
      "image/png": "[encoded data removed]",
      "text/plain": [
       "<Figure size 400x400 with 1 Axes>"
      ]
     },
     "metadata": {},
     "output_type": "display_data"
    }
   ],
   "source": [
    "plot_department_dist(dataset)"
   ]
  },
  {
   "cell_type": "code",
   "execution_count": 30,
   "id": "2dcbe92b-de33-47e7-9f1d-7b4fb5e45a3b",
   "metadata": {},
   "outputs": [],
   "source": [
    "def get_balance_dataset(dataset, total, seed=42):\n",
    "    ab_dataset = dataset.filter(lambda x: x[\"label\"] == \"STT_AB\", num_proc=n_cpu).shuffle(seed=seed)\n",
    "    nw_dataset = dataset.filter(lambda x: x[\"label\"] == \"STT_NW\", num_proc=n_cpu).shuffle(seed=seed)\n",
    "    hs_dataset = dataset.filter(lambda x: x[\"label\"] == \"STT_HS\", num_proc=n_cpu).shuffle(seed=seed)\n",
    "    pc_dataset = dataset.filter(lambda x: x[\"label\"] == \"STT_PC\", num_proc=n_cpu).shuffle(seed=seed)\n",
    "    ns_dataset = dataset.filter(lambda x: x[\"label\"] == \"STT_NS\", num_proc=n_cpu).shuffle(seed=seed)\n",
    "\n",
    "    ab_dataset = ab_dataset.select(range(total//5))\n",
    "    nw_dataset = nw_dataset.select(range(total//5))\n",
    "    hs_dataset = hs_dataset.select(range(total//5))\n",
    "    pc_dataset = pc_dataset.select(range(total//5))\n",
    "    ns_dataset = ns_dataset.select(range(total//5))\n",
    "    print(len(ns_dataset))\n",
    "\n",
    "    ab_dataset = ab_dataset.train_test_split(test_size=0.2, seed=42)\n",
    "    nw_dataset = nw_dataset.train_test_split(test_size=0.2, seed=42)\n",
    "    hs_dataset = hs_dataset.train_test_split(test_size=0.2, seed=42)\n",
    "    pc_dataset = pc_dataset.train_test_split(test_size=0.2, seed=42)\n",
    "    ns_dataset = ns_dataset.train_test_split(test_size=0.2, seed=42)\n",
    "\n",
    "\n",
    "    dataset = DatasetDict({\n",
    "        \"train\": concatenate_datasets([ab_dataset[\"train\"], nw_dataset[\"train\"], hs_dataset[\"train\"], pc_dataset[\"train\"], ns_dataset[\"train\"]]),\n",
    "        \"test\": concatenate_datasets([ab_dataset[\"test\"], nw_dataset[\"test\"], hs_dataset[\"test\"], pc_dataset[\"test\"], ns_dataset[\"test\"]])\n",
    "    })\n",
    "\n",
    "    return dataset"
   ]
  },
  {
   "cell_type": "code",
   "execution_count": 31,
   "id": "bc7556b5-6355-465f-8a1f-efd57992d8f8",
   "metadata": {},
   "outputs": [
    {
     "name": "stdout",
     "output_type": "stream",
     "text": [
      "30000\n"
     ]
    },
    {
     "data": {
      "text/plain": [
       "2"
      ]
     },
     "execution_count": 31,
     "metadata": {},
     "output_type": "execute_result"
    }
   ],
   "source": [
    "balanced_dataset = get_balance_dataset(dataset, total=150000)\n",
    "len(balanced_dataset)"
   ]
  },
  {
   "cell_type": "code",
   "execution_count": 32,
   "id": "92a85a0a-7f50-4b7c-bd11-66546059c2ba",
   "metadata": {},
   "outputs": [
    {
     "name": "stdout",
     "output_type": "stream",
     "text": [
      "Counter({'STT_AB': 30000, 'STT_NW': 30000, 'STT_HS': 30000, 'STT_PC': 30000, 'STT_NS': 30000})\n"
     ]
    },
    {
     "data": {
      "image/png": "[encoded data removed]",
      "text/plain": [
       "<Figure size 400x400 with 1 Axes>"
      ]
     },
     "metadata": {},
     "output_type": "display_data"
    }
   ],
   "source": [
    "plot_department_dist(concatenate_datasets([balanced_dataset[\"train\"], balanced_dataset[\"test\"]]))"
   ]
  },
  {
   "cell_type": "code",
   "execution_count": 23,
   "id": "7631eba2-e55c-4970-8a8d-59df91c3d508",
   "metadata": {},
   "outputs": [],
   "source": [
    "def download_image(url, save_path):\n",
    "    try:\n",
    "        response = requests.get(url, stream=True)\n",
    "        response.raise_for_status()  # Check for any HTTP errors\n",
    "        with open(save_path, 'wb') as file:\n",
    "            for chunk in response.iter_content(chunk_size=8192):\n",
    "                file.write(chunk)\n",
    "    except requests.exceptions.RequestException as e:\n",
    "        raise e\n",
    "\n",
    "def prepare_audio_file(item):\n",
    "    file_name = f\"{item['file_name']}.wav\"\n",
    "    local_path = audio_path / file_name\n",
    "    if not local_path.is_file():\n",
    "        if item[\"file_name\"].startswith(\"STT_AB\"):\n",
    "            url = f\"https://d38pmlk0v88drf.cloudfront.net/AB_wav16k_cleaned/{file_name}\"\n",
    "        else:\n",
    "            url = item[\"url\"]\n",
    "        try:\n",
    "            download_image(url, local_path)\n",
    "        except:\n",
    "            local_path = None\n",
    "\n",
    "    item[\"path\"] = str(local_path) if local_path else local_path\n",
    "    del item[\"file_name\"]\n",
    "    del item[\"url\"]\n",
    "\n",
    "    return item"
   ]
  },
  {
   "cell_type": "code",
   "execution_count": 5,
   "id": "f1f5dfa6-452f-4398-852e-e5a7737cbbdb",
   "metadata": {},
   "outputs": [],
   "source": [
    "# sample_ds = DatasetDict()\n",
    "\n",
    "# sample_ds[\"train\"] = ds[\"train\"].select(range(8)).map(prepare_audio_file, num_proc=n_cpu-1)\n",
    "# sample_ds[\"test\"] = ds[\"test\"].select(range(2)).map(prepare_audio_file, num_proc=n_cpu)\n",
    "# print(len(sample_ds[\"train\"]), len(sample_ds[\"test\"]))\n",
    "# sample_ds = sample_ds.filter(lambda x: x[\"path\"], num_proc=n_cpu)\n",
    "# print(len(sample_ds[\"train\"]), len(sample_ds[\"test\"]))\n",
    "\n",
    "# dataset_path = data_path / \"tts-training-processed-sample\"\n",
    "# sample_ds.save_to_disk(dataset_path)"
   ]
  },
  {
   "cell_type": "markdown",
   "id": "86996c87-5cf3-4786-be5f-cea7abc46009",
   "metadata": {},
   "source": [
    "<!-- loaded_ds = DatasetDict.load_from_disk(dataset_path)\n",
    "loaded_ds -->"
   ]
  },
  {
   "cell_type": "code",
   "execution_count": 6,
   "id": "5aad5f92-58cc-4a65-b47b-74f9fc4819e7",
   "metadata": {},
   "outputs": [],
   "source": [
    "# xs = ds[\"test\"].filter(lambda x: x[\"file_name\"].startswith(\"STT_AB\"), num_proc=n_cpu)"
   ]
  },
  {
   "cell_type": "code",
   "execution_count": 7,
   "id": "7b6cf447-b4d7-4b74-a289-4d7974dc30b3",
   "metadata": {},
   "outputs": [],
   "source": [
    "# xs[100]"
   ]
  },
  {
   "cell_type": "markdown",
   "id": "f695dd4f-b1e8-40ad-8b39-ee9db86b8d45",
   "metadata": {},
   "source": [
    "## Download All Audio files"
   ]
  },
  {
   "cell_type": "code",
   "execution_count": 33,
   "id": "e9ac06a6-8f64-4524-b6b4-fd33109715d0",
   "metadata": {},
   "outputs": [],
   "source": [
    "ds = balanced_dataset"
   ]
  },
  {
   "cell_type": "code",
   "execution_count": 34,
   "id": "b71fdd52-7c7f-437e-aed4-12ecc3bbf918",
   "metadata": {},
   "outputs": [
    {
     "data": {
      "application/vnd.jupyter.widget-view+json": {
       "model_id": "f0e694387bc245ddb2281f0a00890d9c",
       "version_major": 2,
       "version_minor": 0
      },
      "text/plain": [
       "Map (num_proc=54):   0%|          | 0/120000 [00:00<?, ? examples/s]"
      ]
     },
     "metadata": {},
     "output_type": "display_data"
    },
    {
     "name": "stderr",
     "output_type": "stream",
     "text": [
      "Process ForkPoolWorker-481:\n",
      "Process ForkPoolWorker-457:\n",
      "Process ForkPoolWorker-465:\n",
      "Process ForkPoolWorker-458:\n",
      "Process ForkPoolWorker-452:\n",
      "Process ForkPoolWorker-471:\n",
      "Process ForkPoolWorker-461:\n",
      "Process ForkPoolWorker-464:\n",
      "Process ForkPoolWorker-469:\n",
      "Process ForkPoolWorker-483:\n",
      "Process ForkPoolWorker-479:\n",
      "Process ForkPoolWorker-455:\n",
      "Process ForkPoolWorker-478:\n",
      "Process ForkPoolWorker-453:\n",
      "Process ForkPoolWorker-472:\n",
      "Process ForkPoolWorker-476:\n",
      "Process ForkPoolWorker-475:\n",
      "Process ForkPoolWorker-456:\n",
      "Process ForkPoolWorker-460:\n",
      "Process ForkPoolWorker-477:\n",
      "Process ForkPoolWorker-470:\n",
      "Process ForkPoolWorker-459:\n",
      "Process ForkPoolWorker-473:\n",
      "Process ForkPoolWorker-474:\n",
      "Process ForkPoolWorker-462:\n",
      "Process ForkPoolWorker-463:\n",
      "Process ForkPoolWorker-454:\n",
      "Traceback (most recent call last):\n",
      "Traceback (most recent call last):\n",
      "Process ForkPoolWorker-466:\n",
      "Traceback (most recent call last):\n",
      "Traceback (most recent call last):\n",
      "Traceback (most recent call last):\n",
      "Traceback (most recent call last):\n",
      "Traceback (most recent call last):\n",
      "Traceback (most recent call last):\n",
      "Traceback (most recent call last):\n",
      "Traceback (most recent call last):\n",
      "Traceback (most recent call last):\n",
      "Traceback (most recent call last):\n",
      "Traceback (most recent call last):\n",
      "Traceback (most recent call last):\n",
      "Traceback (most recent call last):\n",
      "Traceback (most recent call last):\n",
      "Traceback (most recent call last):\n",
      "Traceback (most recent call last):\n",
      "Traceback (most recent call last):\n",
      "  File \"/opt/conda/lib/python3.11/site-packages/multiprocess/process.py\", line 314, in _bootstrap\n",
      "    self.run()\n",
      "Traceback (most recent call last):\n",
      "  File \"/opt/conda/lib/python3.11/site-packages/multiprocess/process.py\", line 314, in _bootstrap\n",
      "    self.run()\n",
      "Traceback (most recent call last):\n",
      "Traceback (most recent call last):\n",
      "  File \"/opt/conda/lib/python3.11/site-packages/multiprocess/process.py\", line 314, in _bootstrap\n",
      "    self.run()\n",
      "Traceback (most recent call last):\n",
      "Traceback (most recent call last):\n",
      "  File \"/opt/conda/lib/python3.11/site-packages/multiprocess/process.py\", line 314, in _bootstrap\n",
      "    self.run()\n",
      "Traceback (most recent call last):\n",
      "  File \"/opt/conda/lib/python3.11/site-packages/multiprocess/process.py\", line 314, in _bootstrap\n",
      "    self.run()\n",
      "Traceback (most recent call last):\n",
      "Traceback (most recent call last):\n",
      "  File \"/opt/conda/lib/python3.11/site-packages/multiprocess/process.py\", line 314, in _bootstrap\n",
      "    self.run()\n",
      "  File \"/opt/conda/lib/python3.11/site-packages/multiprocess/process.py\", line 314, in _bootstrap\n",
      "    self.run()\n",
      "  File \"/opt/conda/lib/python3.11/site-packages/multiprocess/process.py\", line 314, in _bootstrap\n",
      "    self.run()\n",
      "  File \"/opt/conda/lib/python3.11/site-packages/multiprocess/process.py\", line 314, in _bootstrap\n",
      "    self.run()\n",
      "Traceback (most recent call last):\n",
      "  File \"/opt/conda/lib/python3.11/site-packages/multiprocess/process.py\", line 314, in _bootstrap\n",
      "    self.run()\n",
      "  File \"/opt/conda/lib/python3.11/site-packages/multiprocess/process.py\", line 314, in _bootstrap\n",
      "    self.run()\n",
      "  File \"/opt/conda/lib/python3.11/site-packages/multiprocess/process.py\", line 314, in _bootstrap\n",
      "    self.run()\n",
      "  File \"/opt/conda/lib/python3.11/site-packages/multiprocess/process.py\", line 314, in _bootstrap\n",
      "    self.run()\n",
      "  File \"/opt/conda/lib/python3.11/site-packages/multiprocess/process.py\", line 314, in _bootstrap\n",
      "    self.run()\n",
      "  File \"/opt/conda/lib/python3.11/site-packages/multiprocess/process.py\", line 314, in _bootstrap\n",
      "    self.run()\n",
      "  File \"/opt/conda/lib/python3.11/site-packages/multiprocess/process.py\", line 314, in _bootstrap\n",
      "    self.run()\n",
      "  File \"/opt/conda/lib/python3.11/site-packages/multiprocess/process.py\", line 314, in _bootstrap\n",
      "    self.run()\n",
      "  File \"/opt/conda/lib/python3.11/site-packages/multiprocess/process.py\", line 108, in run\n",
      "    self._target(*self._args, **self._kwargs)\n",
      "  File \"/opt/conda/lib/python3.11/site-packages/multiprocess/process.py\", line 314, in _bootstrap\n",
      "    self.run()\n",
      "  File \"/opt/conda/lib/python3.11/site-packages/multiprocess/process.py\", line 314, in _bootstrap\n",
      "    self.run()\n",
      "Process ForkPoolWorker-480:\n",
      "  File \"/opt/conda/lib/python3.11/site-packages/multiprocess/process.py\", line 108, in run\n",
      "    self._target(*self._args, **self._kwargs)\n",
      "  File \"/opt/conda/lib/python3.11/site-packages/multiprocess/pool.py\", line 114, in worker\n",
      "    task = get()\n",
      "           ^^^^^\n",
      "  File \"/opt/conda/lib/python3.11/site-packages/multiprocess/process.py\", line 314, in _bootstrap\n",
      "    self.run()\n",
      "  File \"/opt/conda/lib/python3.11/site-packages/multiprocess/process.py\", line 314, in _bootstrap\n",
      "    self.run()\n",
      "  File \"/opt/conda/lib/python3.11/site-packages/multiprocess/process.py\", line 108, in run\n",
      "    self._target(*self._args, **self._kwargs)\n",
      "  File \"/opt/conda/lib/python3.11/site-packages/multiprocess/process.py\", line 314, in _bootstrap\n",
      "    self.run()\n",
      "  File \"/opt/conda/lib/python3.11/site-packages/multiprocess/process.py\", line 314, in _bootstrap\n",
      "    self.run()\n",
      "  File \"/opt/conda/lib/python3.11/site-packages/multiprocess/process.py\", line 314, in _bootstrap\n",
      "    self.run()\n",
      "  File \"/opt/conda/lib/python3.11/site-packages/multiprocess/process.py\", line 314, in _bootstrap\n",
      "    self.run()\n",
      "  File \"/opt/conda/lib/python3.11/site-packages/multiprocess/process.py\", line 108, in run\n",
      "    self._target(*self._args, **self._kwargs)\n",
      "  File \"/opt/conda/lib/python3.11/site-packages/multiprocess/process.py\", line 108, in run\n",
      "    self._target(*self._args, **self._kwargs)\n",
      "  File \"/opt/conda/lib/python3.11/site-packages/multiprocess/process.py\", line 314, in _bootstrap\n",
      "    self.run()\n",
      "  File \"/opt/conda/lib/python3.11/site-packages/multiprocess/process.py\", line 314, in _bootstrap\n",
      "    self.run()\n",
      "  File \"/opt/conda/lib/python3.11/site-packages/multiprocess/process.py\", line 108, in run\n",
      "    self._target(*self._args, **self._kwargs)\n",
      "  File \"/opt/conda/lib/python3.11/site-packages/multiprocess/process.py\", line 108, in run\n",
      "    self._target(*self._args, **self._kwargs)\n",
      "  File \"/opt/conda/lib/python3.11/site-packages/multiprocess/process.py\", line 108, in run\n",
      "    self._target(*self._args, **self._kwargs)\n",
      "  File \"/opt/conda/lib/python3.11/site-packages/multiprocess/process.py\", line 108, in run\n",
      "    self._target(*self._args, **self._kwargs)\n",
      "Process ForkPoolWorker-482:\n",
      "  File \"/opt/conda/lib/python3.11/site-packages/multiprocess/process.py\", line 108, in run\n",
      "    self._target(*self._args, **self._kwargs)\n",
      "  File \"/opt/conda/lib/python3.11/site-packages/multiprocess/process.py\", line 108, in run\n",
      "    self._target(*self._args, **self._kwargs)\n",
      "  File \"/opt/conda/lib/python3.11/site-packages/multiprocess/process.py\", line 108, in run\n",
      "    self._target(*self._args, **self._kwargs)\n",
      "  File \"/opt/conda/lib/python3.11/site-packages/multiprocess/process.py\", line 108, in run\n",
      "    self._target(*self._args, **self._kwargs)\n",
      "  File \"/opt/conda/lib/python3.11/site-packages/multiprocess/process.py\", line 314, in _bootstrap\n",
      "    self.run()\n",
      "  File \"/opt/conda/lib/python3.11/site-packages/multiprocess/pool.py\", line 114, in worker\n",
      "    task = get()\n",
      "           ^^^^^\n",
      "  File \"/opt/conda/lib/python3.11/site-packages/multiprocess/process.py\", line 108, in run\n",
      "    self._target(*self._args, **self._kwargs)\n",
      "  File \"/opt/conda/lib/python3.11/site-packages/multiprocess/process.py\", line 108, in run\n",
      "    self._target(*self._args, **self._kwargs)\n",
      "  File \"/opt/conda/lib/python3.11/site-packages/multiprocess/process.py\", line 108, in run\n",
      "    self._target(*self._args, **self._kwargs)\n",
      "  File \"/opt/conda/lib/python3.11/site-packages/multiprocess/process.py\", line 108, in run\n",
      "    self._target(*self._args, **self._kwargs)\n",
      "  File \"/opt/conda/lib/python3.11/site-packages/multiprocess/process.py\", line 108, in run\n",
      "    self._target(*self._args, **self._kwargs)\n",
      "  File \"/opt/conda/lib/python3.11/site-packages/multiprocess/process.py\", line 108, in run\n",
      "    self._target(*self._args, **self._kwargs)\n",
      "  File \"/opt/conda/lib/python3.11/site-packages/multiprocess/process.py\", line 108, in run\n",
      "    self._target(*self._args, **self._kwargs)\n",
      "  File \"/opt/conda/lib/python3.11/site-packages/multiprocess/process.py\", line 108, in run\n",
      "    self._target(*self._args, **self._kwargs)\n",
      "  File \"/opt/conda/lib/python3.11/site-packages/multiprocess/process.py\", line 108, in run\n",
      "    self._target(*self._args, **self._kwargs)\n",
      "  File \"/opt/conda/lib/python3.11/site-packages/multiprocess/pool.py\", line 114, in worker\n",
      "    task = get()\n",
      "           ^^^^^\n",
      "Process ForkPoolWorker-467:\n",
      "  File \"/opt/conda/lib/python3.11/site-packages/multiprocess/process.py\", line 108, in run\n",
      "    self._target(*self._args, **self._kwargs)\n",
      "  File \"/opt/conda/lib/python3.11/site-packages/multiprocess/pool.py\", line 114, in worker\n",
      "    task = get()\n",
      "           ^^^^^\n",
      "  File \"/opt/conda/lib/python3.11/site-packages/multiprocess/process.py\", line 108, in run\n",
      "    self._target(*self._args, **self._kwargs)\n",
      "  File \"/opt/conda/lib/python3.11/site-packages/multiprocess/pool.py\", line 114, in worker\n",
      "    task = get()\n",
      "           ^^^^^\n",
      "  File \"/opt/conda/lib/python3.11/site-packages/multiprocess/process.py\", line 108, in run\n",
      "    self._target(*self._args, **self._kwargs)\n",
      "  File \"/opt/conda/lib/python3.11/site-packages/multiprocess/process.py\", line 108, in run\n",
      "    self._target(*self._args, **self._kwargs)\n",
      "  File \"/opt/conda/lib/python3.11/site-packages/multiprocess/pool.py\", line 114, in worker\n",
      "    task = get()\n",
      "           ^^^^^\n",
      "  File \"/opt/conda/lib/python3.11/site-packages/multiprocess/pool.py\", line 114, in worker\n",
      "    task = get()\n",
      "           ^^^^^\n",
      "  File \"/opt/conda/lib/python3.11/site-packages/multiprocess/pool.py\", line 114, in worker\n",
      "    task = get()\n",
      "           ^^^^^\n",
      "  File \"/opt/conda/lib/python3.11/site-packages/multiprocess/pool.py\", line 114, in worker\n",
      "    task = get()\n",
      "           ^^^^^\n",
      "Traceback (most recent call last):\n",
      "Process ForkPoolWorker-468:\n",
      "  File \"/opt/conda/lib/python3.11/site-packages/multiprocess/pool.py\", line 114, in worker\n",
      "    task = get()\n",
      "           ^^^^^\n",
      "  File \"/opt/conda/lib/python3.11/site-packages/multiprocess/pool.py\", line 114, in worker\n",
      "    task = get()\n",
      "           ^^^^^\n",
      "  File \"/opt/conda/lib/python3.11/site-packages/multiprocess/pool.py\", line 114, in worker\n",
      "    task = get()\n",
      "           ^^^^^\n",
      "  File \"/opt/conda/lib/python3.11/site-packages/multiprocess/pool.py\", line 114, in worker\n",
      "    task = get()\n",
      "           ^^^^^\n",
      "  File \"/opt/conda/lib/python3.11/site-packages/multiprocess/process.py\", line 108, in run\n",
      "    self._target(*self._args, **self._kwargs)\n",
      "  File \"/opt/conda/lib/python3.11/site-packages/multiprocess/queues.py\", line 367, in get\n",
      "    with self._rlock:\n",
      "  File \"/opt/conda/lib/python3.11/site-packages/multiprocess/process.py\", line 108, in run\n",
      "    self._target(*self._args, **self._kwargs)\n",
      "  File \"/opt/conda/lib/python3.11/site-packages/multiprocess/pool.py\", line 114, in worker\n",
      "    task = get()\n",
      "           ^^^^^\n",
      "  File \"/opt/conda/lib/python3.11/site-packages/multiprocess/queues.py\", line 367, in get\n",
      "    with self._rlock:\n",
      "  File \"/opt/conda/lib/python3.11/site-packages/multiprocess/pool.py\", line 114, in worker\n",
      "    task = get()\n",
      "           ^^^^^\n",
      "  File \"/opt/conda/lib/python3.11/site-packages/multiprocess/pool.py\", line 114, in worker\n",
      "    task = get()\n",
      "           ^^^^^\n",
      "  File \"/opt/conda/lib/python3.11/site-packages/multiprocess/pool.py\", line 114, in worker\n",
      "    task = get()\n",
      "           ^^^^^\n",
      "  File \"/opt/conda/lib/python3.11/site-packages/multiprocess/pool.py\", line 114, in worker\n",
      "    task = get()\n",
      "           ^^^^^\n",
      "  File \"/opt/conda/lib/python3.11/site-packages/multiprocess/pool.py\", line 114, in worker\n",
      "    task = get()\n",
      "           ^^^^^\n",
      "  File \"/opt/conda/lib/python3.11/site-packages/multiprocess/pool.py\", line 114, in worker\n",
      "    task = get()\n",
      "           ^^^^^\n",
      "  File \"/opt/conda/lib/python3.11/site-packages/multiprocess/pool.py\", line 114, in worker\n",
      "    task = get()\n",
      "           ^^^^^\n",
      "  File \"/opt/conda/lib/python3.11/site-packages/multiprocess/queues.py\", line 367, in get\n",
      "    with self._rlock:\n",
      "  File \"/opt/conda/lib/python3.11/site-packages/multiprocess/pool.py\", line 114, in worker\n",
      "    task = get()\n",
      "           ^^^^^\n",
      "Traceback (most recent call last):\n",
      "  File \"/opt/conda/lib/python3.11/site-packages/multiprocess/pool.py\", line 114, in worker\n",
      "    task = get()\n",
      "           ^^^^^\n",
      "  File \"/opt/conda/lib/python3.11/site-packages/multiprocess/queues.py\", line 367, in get\n",
      "    with self._rlock:\n",
      "  File \"/opt/conda/lib/python3.11/site-packages/multiprocess/queues.py\", line 367, in get\n",
      "    with self._rlock:\n",
      "  File \"/opt/conda/lib/python3.11/site-packages/multiprocess/pool.py\", line 114, in worker\n",
      "    task = get()\n",
      "           ^^^^^\n",
      "  File \"/opt/conda/lib/python3.11/site-packages/multiprocess/pool.py\", line 114, in worker\n",
      "    task = get()\n",
      "           ^^^^^\n",
      "  File \"/opt/conda/lib/python3.11/site-packages/multiprocess/pool.py\", line 114, in worker\n",
      "    task = get()\n",
      "           ^^^^^\n",
      "  File \"/opt/conda/lib/python3.11/site-packages/multiprocess/queues.py\", line 367, in get\n",
      "    with self._rlock:\n",
      "  File \"/opt/conda/lib/python3.11/site-packages/multiprocess/queues.py\", line 367, in get\n",
      "    with self._rlock:\n",
      "Traceback (most recent call last):\n",
      "  File \"/opt/conda/lib/python3.11/site-packages/multiprocess/queues.py\", line 367, in get\n",
      "    with self._rlock:\n",
      "  File \"/opt/conda/lib/python3.11/site-packages/multiprocess/queues.py\", line 367, in get\n",
      "    with self._rlock:\n",
      "  File \"/opt/conda/lib/python3.11/site-packages/multiprocess/queues.py\", line 367, in get\n",
      "    with self._rlock:\n",
      "  File \"/opt/conda/lib/python3.11/site-packages/multiprocess/queues.py\", line 367, in get\n",
      "    with self._rlock:\n",
      "  File \"/opt/conda/lib/python3.11/site-packages/multiprocess/process.py\", line 314, in _bootstrap\n",
      "    self.run()\n",
      "  File \"/opt/conda/lib/python3.11/site-packages/multiprocess/queues.py\", line 367, in get\n",
      "    with self._rlock:\n",
      "  File \"/opt/conda/lib/python3.11/site-packages/multiprocess/queues.py\", line 368, in get\n",
      "    res = self._reader.recv_bytes()\n",
      "          ^^^^^^^^^^^^^^^^^^^^^^^^^\n",
      "  File \"/opt/conda/lib/python3.11/site-packages/multiprocess/synchronize.py\", line 101, in __enter__\n",
      "    return self._semlock.__enter__()\n",
      "           ^^^^^^^^^^^^^^^^^^^^^^^^^\n",
      "  File \"/opt/conda/lib/python3.11/site-packages/multiprocess/pool.py\", line 114, in worker\n",
      "    task = get()\n",
      "           ^^^^^\n",
      "  File \"/opt/conda/lib/python3.11/site-packages/multiprocess/queues.py\", line 367, in get\n",
      "    with self._rlock:\n",
      "  File \"/opt/conda/lib/python3.11/site-packages/multiprocess/synchronize.py\", line 101, in __enter__\n",
      "    return self._semlock.__enter__()\n",
      "           ^^^^^^^^^^^^^^^^^^^^^^^^^\n",
      "  File \"/opt/conda/lib/python3.11/site-packages/multiprocess/pool.py\", line 114, in worker\n",
      "    task = get()\n",
      "           ^^^^^\n",
      "Traceback (most recent call last):\n",
      "  File \"/opt/conda/lib/python3.11/site-packages/multiprocess/queues.py\", line 367, in get\n",
      "    with self._rlock:\n",
      "  File \"/opt/conda/lib/python3.11/site-packages/multiprocess/queues.py\", line 367, in get\n",
      "    with self._rlock:\n",
      "  File \"/opt/conda/lib/python3.11/site-packages/multiprocess/queues.py\", line 367, in get\n",
      "    with self._rlock:\n",
      "  File \"/opt/conda/lib/python3.11/site-packages/multiprocess/queues.py\", line 367, in get\n",
      "    with self._rlock:\n",
      "  File \"/opt/conda/lib/python3.11/site-packages/multiprocess/queues.py\", line 367, in get\n",
      "    with self._rlock:\n",
      "  File \"/opt/conda/lib/python3.11/site-packages/multiprocess/queues.py\", line 367, in get\n",
      "    with self._rlock:\n",
      "  File \"/opt/conda/lib/python3.11/site-packages/multiprocess/synchronize.py\", line 101, in __enter__\n",
      "    return self._semlock.__enter__()\n",
      "           ^^^^^^^^^^^^^^^^^^^^^^^^^\n",
      "  File \"/opt/conda/lib/python3.11/site-packages/multiprocess/queues.py\", line 367, in get\n",
      "    with self._rlock:\n",
      "  File \"/opt/conda/lib/python3.11/site-packages/multiprocess/queues.py\", line 367, in get\n",
      "    with self._rlock:\n",
      "  File \"/opt/conda/lib/python3.11/site-packages/multiprocess/process.py\", line 314, in _bootstrap\n",
      "    self.run()\n",
      "  File \"/opt/conda/lib/python3.11/site-packages/multiprocess/synchronize.py\", line 101, in __enter__\n",
      "    return self._semlock.__enter__()\n",
      "           ^^^^^^^^^^^^^^^^^^^^^^^^^\n",
      "  File \"/opt/conda/lib/python3.11/site-packages/multiprocess/synchronize.py\", line 101, in __enter__\n",
      "    return self._semlock.__enter__()\n",
      "           ^^^^^^^^^^^^^^^^^^^^^^^^^\n",
      "  File \"/opt/conda/lib/python3.11/site-packages/multiprocess/queues.py\", line 367, in get\n",
      "    with self._rlock:\n",
      "  File \"/opt/conda/lib/python3.11/site-packages/multiprocess/queues.py\", line 367, in get\n",
      "    with self._rlock:\n",
      "  File \"/opt/conda/lib/python3.11/site-packages/multiprocess/queues.py\", line 367, in get\n",
      "    with self._rlock:\n",
      "  File \"/opt/conda/lib/python3.11/site-packages/multiprocess/queues.py\", line 367, in get\n",
      "    with self._rlock:\n",
      "  File \"/opt/conda/lib/python3.11/site-packages/multiprocess/synchronize.py\", line 101, in __enter__\n",
      "    return self._semlock.__enter__()\n",
      "           ^^^^^^^^^^^^^^^^^^^^^^^^^\n",
      "  File \"/opt/conda/lib/python3.11/site-packages/multiprocess/synchronize.py\", line 101, in __enter__\n",
      "    return self._semlock.__enter__()\n",
      "           ^^^^^^^^^^^^^^^^^^^^^^^^^\n",
      "  File \"/opt/conda/lib/python3.11/site-packages/multiprocess/synchronize.py\", line 101, in __enter__\n",
      "    return self._semlock.__enter__()\n",
      "           ^^^^^^^^^^^^^^^^^^^^^^^^^\n",
      "  File \"/opt/conda/lib/python3.11/site-packages/multiprocess/synchronize.py\", line 101, in __enter__\n",
      "    return self._semlock.__enter__()\n",
      "           ^^^^^^^^^^^^^^^^^^^^^^^^^\n",
      "  File \"/opt/conda/lib/python3.11/site-packages/multiprocess/process.py\", line 314, in _bootstrap\n",
      "    self.run()\n",
      "  File \"/opt/conda/lib/python3.11/site-packages/multiprocess/synchronize.py\", line 101, in __enter__\n",
      "    return self._semlock.__enter__()\n",
      "           ^^^^^^^^^^^^^^^^^^^^^^^^^\n",
      "  File \"/opt/conda/lib/python3.11/site-packages/multiprocess/process.py\", line 108, in run\n",
      "    self._target(*self._args, **self._kwargs)\n",
      "  File \"/opt/conda/lib/python3.11/site-packages/multiprocess/synchronize.py\", line 101, in __enter__\n",
      "    return self._semlock.__enter__()\n",
      "           ^^^^^^^^^^^^^^^^^^^^^^^^^\n",
      "  File \"/opt/conda/lib/python3.11/site-packages/multiprocess/synchronize.py\", line 101, in __enter__\n",
      "    return self._semlock.__enter__()\n",
      "           ^^^^^^^^^^^^^^^^^^^^^^^^^\n",
      "  File \"/opt/conda/lib/python3.11/site-packages/multiprocess/connection.py\", line 219, in recv_bytes\n",
      "    buf = self._recv_bytes(maxlength)\n",
      "          ^^^^^^^^^^^^^^^^^^^^^^^^^^^\n",
      "KeyboardInterrupt\n",
      "  File \"/opt/conda/lib/python3.11/site-packages/multiprocess/queues.py\", line 367, in get\n",
      "    with self._rlock:\n",
      "  File \"/opt/conda/lib/python3.11/site-packages/multiprocess/synchronize.py\", line 101, in __enter__\n",
      "    return self._semlock.__enter__()\n",
      "           ^^^^^^^^^^^^^^^^^^^^^^^^^\n",
      "KeyboardInterrupt\n",
      "  File \"/opt/conda/lib/python3.11/site-packages/multiprocess/queues.py\", line 367, in get\n",
      "    with self._rlock:\n",
      "  File \"/opt/conda/lib/python3.11/site-packages/multiprocess/synchronize.py\", line 101, in __enter__\n",
      "    return self._semlock.__enter__()\n",
      "           ^^^^^^^^^^^^^^^^^^^^^^^^^\n",
      "  File \"/opt/conda/lib/python3.11/site-packages/multiprocess/process.py\", line 314, in _bootstrap\n",
      "    self.run()\n",
      "  File \"/opt/conda/lib/python3.11/site-packages/multiprocess/synchronize.py\", line 101, in __enter__\n",
      "    return self._semlock.__enter__()\n",
      "           ^^^^^^^^^^^^^^^^^^^^^^^^^\n",
      "  File \"/opt/conda/lib/python3.11/site-packages/multiprocess/synchronize.py\", line 101, in __enter__\n",
      "    return self._semlock.__enter__()\n",
      "           ^^^^^^^^^^^^^^^^^^^^^^^^^\n",
      "  File \"/opt/conda/lib/python3.11/site-packages/multiprocess/synchronize.py\", line 101, in __enter__\n",
      "    return self._semlock.__enter__()\n",
      "           ^^^^^^^^^^^^^^^^^^^^^^^^^\n",
      "  File \"/opt/conda/lib/python3.11/site-packages/multiprocess/synchronize.py\", line 101, in __enter__\n",
      "    return self._semlock.__enter__()\n",
      "           ^^^^^^^^^^^^^^^^^^^^^^^^^\n",
      "KeyboardInterrupt\n",
      "  File \"/opt/conda/lib/python3.11/site-packages/multiprocess/synchronize.py\", line 101, in __enter__\n",
      "    return self._semlock.__enter__()\n",
      "           ^^^^^^^^^^^^^^^^^^^^^^^^^\n",
      "  File \"/opt/conda/lib/python3.11/site-packages/multiprocess/synchronize.py\", line 101, in __enter__\n",
      "    return self._semlock.__enter__()\n",
      "           ^^^^^^^^^^^^^^^^^^^^^^^^^\n",
      "  File \"/opt/conda/lib/python3.11/site-packages/multiprocess/process.py\", line 108, in run\n",
      "    self._target(*self._args, **self._kwargs)\n",
      "KeyboardInterrupt\n",
      "  File \"/opt/conda/lib/python3.11/site-packages/multiprocess/synchronize.py\", line 101, in __enter__\n",
      "    return self._semlock.__enter__()\n",
      "           ^^^^^^^^^^^^^^^^^^^^^^^^^\n",
      "KeyboardInterrupt\n",
      "  File \"/opt/conda/lib/python3.11/site-packages/multiprocess/synchronize.py\", line 101, in __enter__\n",
      "    return self._semlock.__enter__()\n",
      "           ^^^^^^^^^^^^^^^^^^^^^^^^^\n",
      "  File \"/opt/conda/lib/python3.11/site-packages/multiprocess/synchronize.py\", line 101, in __enter__\n",
      "    return self._semlock.__enter__()\n",
      "           ^^^^^^^^^^^^^^^^^^^^^^^^^\n",
      "KeyboardInterrupt\n",
      "  File \"/opt/conda/lib/python3.11/site-packages/multiprocess/synchronize.py\", line 101, in __enter__\n",
      "    return self._semlock.__enter__()\n",
      "           ^^^^^^^^^^^^^^^^^^^^^^^^^\n",
      "KeyboardInterrupt\n",
      "KeyboardInterrupt\n",
      "  File \"/opt/conda/lib/python3.11/site-packages/multiprocess/process.py\", line 108, in run\n",
      "    self._target(*self._args, **self._kwargs)\n",
      "KeyboardInterrupt\n",
      "KeyboardInterrupt\n",
      "  File \"/opt/conda/lib/python3.11/site-packages/multiprocess/synchronize.py\", line 101, in __enter__\n",
      "    return self._semlock.__enter__()\n",
      "           ^^^^^^^^^^^^^^^^^^^^^^^^^\n",
      "  File \"/opt/conda/lib/python3.11/site-packages/multiprocess/pool.py\", line 114, in worker\n",
      "    task = get()\n",
      "           ^^^^^\n",
      "  File \"/opt/conda/lib/python3.11/site-packages/multiprocess/connection.py\", line 433, in _recv_bytes\n",
      "    buf = self._recv(4)\n",
      "          ^^^^^^^^^^^^^\n",
      "KeyboardInterrupt\n",
      "KeyboardInterrupt\n",
      "  File \"/opt/conda/lib/python3.11/site-packages/multiprocess/synchronize.py\", line 101, in __enter__\n",
      "    return self._semlock.__enter__()\n",
      "           ^^^^^^^^^^^^^^^^^^^^^^^^^\n",
      "KeyboardInterrupt\n",
      "  File \"/opt/conda/lib/python3.11/site-packages/multiprocess/synchronize.py\", line 101, in __enter__\n",
      "    return self._semlock.__enter__()\n",
      "           ^^^^^^^^^^^^^^^^^^^^^^^^^\n",
      "KeyboardInterrupt\n",
      "  File \"/opt/conda/lib/python3.11/site-packages/multiprocess/process.py\", line 108, in run\n",
      "    self._target(*self._args, **self._kwargs)\n",
      "KeyboardInterrupt\n",
      "KeyboardInterrupt\n",
      "KeyboardInterrupt\n",
      "KeyboardInterrupt\n",
      "KeyboardInterrupt\n",
      "KeyboardInterrupt\n",
      "  File \"/opt/conda/lib/python3.11/site-packages/multiprocess/pool.py\", line 114, in worker\n",
      "    task = get()\n",
      "           ^^^^^\n",
      "KeyboardInterrupt\n",
      "KeyboardInterrupt\n",
      "KeyboardInterrupt\n",
      "KeyboardInterrupt\n",
      "KeyboardInterrupt\n",
      "  File \"/opt/conda/lib/python3.11/site-packages/multiprocess/connection.py\", line 398, in _recv\n",
      "    chunk = read(handle, remaining)\n",
      "            ^^^^^^^^^^^^^^^^^^^^^^^\n",
      "  File \"/opt/conda/lib/python3.11/site-packages/multiprocess/queues.py\", line 367, in get\n",
      "    with self._rlock:\n",
      "  File \"/opt/conda/lib/python3.11/site-packages/multiprocess/pool.py\", line 114, in worker\n",
      "    task = get()\n",
      "           ^^^^^\n",
      "KeyboardInterrupt\n",
      "KeyboardInterrupt\n",
      "  File \"/opt/conda/lib/python3.11/site-packages/multiprocess/pool.py\", line 114, in worker\n",
      "    task = get()\n",
      "           ^^^^^\n",
      "  File \"/opt/conda/lib/python3.11/site-packages/multiprocess/queues.py\", line 367, in get\n",
      "    with self._rlock:\n",
      "KeyboardInterrupt\n",
      "  File \"/opt/conda/lib/python3.11/site-packages/multiprocess/queues.py\", line 367, in get\n",
      "    with self._rlock:\n",
      "  File \"/opt/conda/lib/python3.11/site-packages/multiprocess/synchronize.py\", line 101, in __enter__\n",
      "    return self._semlock.__enter__()\n",
      "           ^^^^^^^^^^^^^^^^^^^^^^^^^\n",
      "  File \"/opt/conda/lib/python3.11/site-packages/multiprocess/synchronize.py\", line 101, in __enter__\n",
      "    return self._semlock.__enter__()\n",
      "           ^^^^^^^^^^^^^^^^^^^^^^^^^\n",
      "  File \"/opt/conda/lib/python3.11/site-packages/multiprocess/synchronize.py\", line 101, in __enter__\n",
      "    return self._semlock.__enter__()\n",
      "           ^^^^^^^^^^^^^^^^^^^^^^^^^\n",
      "KeyboardInterrupt\n",
      "  File \"/opt/conda/lib/python3.11/site-packages/multiprocess/queues.py\", line 367, in get\n",
      "    with self._rlock:\n",
      "KeyboardInterrupt\n",
      "KeyboardInterrupt\n",
      "  File \"/opt/conda/lib/python3.11/site-packages/multiprocess/synchronize.py\", line 101, in __enter__\n",
      "    return self._semlock.__enter__()\n",
      "           ^^^^^^^^^^^^^^^^^^^^^^^^^\n",
      "KeyboardInterrupt\n",
      "Process ForkPoolWorker-488:\n",
      "Process ForkPoolWorker-491:\n",
      "Process ForkPoolWorker-486:\n",
      "Process ForkPoolWorker-489:\n",
      "Process ForkPoolWorker-493:\n",
      "Process ForkPoolWorker-494:\n",
      "Process ForkPoolWorker-490:\n",
      "Process ForkPoolWorker-485:\n",
      "Process ForkPoolWorker-492:\n",
      "Process ForkPoolWorker-484:\n",
      "Process ForkPoolWorker-451:\n",
      "Process ForkPoolWorker-487:\n",
      "Traceback (most recent call last):\n",
      "Traceback (most recent call last):\n",
      "Traceback (most recent call last):\n",
      "Traceback (most recent call last):\n",
      "Traceback (most recent call last):\n",
      "  File \"/opt/conda/lib/python3.11/site-packages/multiprocess/process.py\", line 314, in _bootstrap\n",
      "    self.run()\n",
      "Traceback (most recent call last):\n",
      "Traceback (most recent call last):\n",
      "Traceback (most recent call last):\n",
      "\n",
      "KeyboardInterrupt\n",
      "\n",
      "Traceback (most recent call last):\n",
      "Traceback (most recent call last):\n",
      "Traceback (most recent call last):\n",
      "  File \"/opt/conda/lib/python3.11/site-packages/multiprocess/process.py\", line 314, in _bootstrap\n",
      "    self.run()\n",
      "  File \"/opt/conda/lib/python3.11/site-packages/multiprocess/process.py\", line 314, in _bootstrap\n",
      "    self.run()\n",
      "Traceback (most recent call last):\n",
      "  File \"/opt/conda/lib/python3.11/site-packages/multiprocess/process.py\", line 314, in _bootstrap\n",
      "    self.run()\n",
      "  File \"/opt/conda/lib/python3.11/site-packages/multiprocess/process.py\", line 108, in run\n",
      "    self._target(*self._args, **self._kwargs)\n",
      "  File \"/opt/conda/lib/python3.11/site-packages/multiprocess/process.py\", line 314, in _bootstrap\n",
      "    self.run()\n",
      "  File \"/opt/conda/lib/python3.11/site-packages/multiprocess/process.py\", line 314, in _bootstrap\n",
      "    self.run()\n",
      "  File \"/opt/conda/lib/python3.11/site-packages/multiprocess/process.py\", line 314, in _bootstrap\n",
      "    self.run()\n",
      "  File \"/opt/conda/lib/python3.11/site-packages/multiprocess/process.py\", line 314, in _bootstrap\n",
      "    self.run()\n",
      "  File \"/opt/conda/lib/python3.11/site-packages/multiprocess/process.py\", line 314, in _bootstrap\n",
      "    self.run()\n",
      "  File \"/opt/conda/lib/python3.11/site-packages/multiprocess/process.py\", line 314, in _bootstrap\n",
      "    self.run()\n",
      "  File \"/opt/conda/lib/python3.11/site-packages/multiprocess/process.py\", line 314, in _bootstrap\n",
      "    self.run()\n",
      "  File \"/opt/conda/lib/python3.11/site-packages/multiprocess/process.py\", line 108, in run\n",
      "    self._target(*self._args, **self._kwargs)\n",
      "  File \"/opt/conda/lib/python3.11/site-packages/multiprocess/process.py\", line 108, in run\n",
      "    self._target(*self._args, **self._kwargs)\n",
      "  File \"/opt/conda/lib/python3.11/site-packages/multiprocess/process.py\", line 108, in run\n",
      "    self._target(*self._args, **self._kwargs)\n",
      "  File \"/opt/conda/lib/python3.11/site-packages/multiprocess/process.py\", line 108, in run\n",
      "    self._target(*self._args, **self._kwargs)\n",
      "  File \"/opt/conda/lib/python3.11/site-packages/multiprocess/pool.py\", line 114, in worker\n",
      "    task = get()\n",
      "           ^^^^^\n",
      "  File \"/opt/conda/lib/python3.11/site-packages/multiprocess/process.py\", line 314, in _bootstrap\n",
      "    self.run()\n",
      "  File \"/opt/conda/lib/python3.11/site-packages/multiprocess/process.py\", line 108, in run\n",
      "    self._target(*self._args, **self._kwargs)\n",
      "  File \"/opt/conda/lib/python3.11/site-packages/multiprocess/process.py\", line 108, in run\n",
      "    self._target(*self._args, **self._kwargs)\n",
      "  File \"/opt/conda/lib/python3.11/site-packages/multiprocess/process.py\", line 108, in run\n",
      "    self._target(*self._args, **self._kwargs)\n",
      "Process ForkPoolWorker-443:\n",
      "  File \"/opt/conda/lib/python3.11/site-packages/multiprocess/process.py\", line 108, in run\n",
      "    self._target(*self._args, **self._kwargs)\n"
     ]
    }
   ],
   "source": [
    "all_ds = DatasetDict()\n",
    "\n",
    "all_ds[\"train\"] = ds[\"train\"].map(prepare_audio_file, num_proc=n_cpu)\n",
    "all_ds[\"test\"] = ds[\"test\"].map(prepare_audio_file, num_proc=n_cpu)\n",
    "print(len(all_ds[\"train\"]), len(all_ds[\"test\"]))\n",
    "all_ds = all_ds.filter(lambda x: x[\"path\"] != 'None', num_proc=n_cpu)\n",
    "print(len(all_ds[\"train\"]), len(all_ds[\"test\"]))\n",
    "\n",
    "dataset_path = data_path / \"tts-training-processed\"\n",
    "all_ds.save_to_disk(dataset_path)"
   ]
  },
  {
   "cell_type": "code",
   "execution_count": null,
   "id": "0ad55e4e-c344-47be-b64d-e3f65da09fca",
   "metadata": {},
   "outputs": [],
   "source": []
  }
 ],
 "metadata": {
  "kernelspec": {
   "display_name": "Python 3 (ipykernel)",
   "language": "python",
   "name": "python3"
  },
  "language_info": {
   "codemirror_mode": {
    "name": "ipython",
    "version": 3
   },
   "file_extension": ".py",
   "mimetype": "text/x-python",
   "name": "python",
   "nbconvert_exporter": "python",
   "pygments_lexer": "ipython3",
   "version": "3.11.9"
  }
 },
 "nbformat": 4,
 "nbformat_minor": 5
}
