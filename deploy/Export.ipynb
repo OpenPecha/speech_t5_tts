{
 "cells": [
  {
   "cell_type": "code",
   "execution_count": 9,
   "metadata": {},
   "outputs": [],
   "source": [
    "from transformers import AutoConfig\n",
    "from optimum.exporters.onnx.model_configs import SpeechT5OnnxConfig\n",
    "from optimum.exporters.onnx.base import ConfigBehavior"
   ]
  },
  {
   "cell_type": "code",
   "execution_count": 19,
   "metadata": {},
   "outputs": [],
   "source": [
    "config = AutoConfig.from_pretrained(\"openpecha/TTS_st5_phono_20k\")\n",
    "onnx_config_encoder = SpeechT5OnnxConfig(config, behavior=ConfigBehavior.ENCODER)\n",
    "onnx_config_decoder = SpeechT5OnnxConfig(config, behavior=ConfigBehavior.DECODER)"
   ]
  },
  {
   "cell_type": "code",
   "execution_count": 13,
   "metadata": {},
   "outputs": [
    {
     "name": "stdout",
     "output_type": "stream",
     "text": [
      "11\n",
      "11\n"
     ]
    }
   ],
   "source": [
    "print(onnx_config_encoder.DEFAULT_ONNX_OPSET)\n",
    "print(onnx_config_decoder.DEFAULT_ONNX_OPSET)"
   ]
  },
  {
   "cell_type": "code",
   "execution_count": 16,
   "metadata": {},
   "outputs": [
    {
     "name": "stdout",
     "output_type": "stream",
     "text": [
      "{'input_ids': {1: 'encoder_sequence_length'}}\n"
     ]
    }
   ],
   "source": [
    "print(onnx_config_encoder.inputs)"
   ]
  },
  {
   "cell_type": "code",
   "execution_count": 17,
   "metadata": {},
   "outputs": [
    {
     "name": "stdout",
     "output_type": "stream",
     "text": [
      "{'encoder_outputs': {1: 'encoder_sequence_length'}, 'encoder_attention_mask': {1: 'encoder_sequence_length'}}\n"
     ]
    }
   ],
   "source": [
    "print(onnx_config_encoder.outputs)"
   ]
  },
  {
   "cell_type": "code",
   "execution_count": 20,
   "metadata": {},
   "outputs": [
    {
     "name": "stdout",
     "output_type": "stream",
     "text": [
      "{'output_sequence': {1: 'decoder_sequence_length'}, 'speaker_embeddings': {}, 'encoder_outputs': {1: 'encoder_sequence_length'}, 'encoder_attention_mask': {1: 'encoder_sequence_length'}}\n"
     ]
    }
   ],
   "source": [
    "print(onnx_config_decoder.inputs)"
   ]
  },
  {
   "cell_type": "code",
   "execution_count": 21,
   "metadata": {},
   "outputs": [
    {
     "name": "stdout",
     "output_type": "stream",
     "text": [
      "{'output_sequence_out': {1: 'decoder_sequence_length + 1'}, 'spectrum': {}, 'prob': {}}\n"
     ]
    }
   ],
   "source": [
    "print(onnx_config_decoder.outputs)"
   ]
  },
  {
   "cell_type": "code",
   "execution_count": 22,
   "metadata": {},
   "outputs": [],
   "source": [
    "from optimum.exporters.tasks import TasksManager"
   ]
  },
  {
   "cell_type": "code",
   "execution_count": 23,
   "metadata": {},
   "outputs": [
    {
     "name": "stderr",
     "output_type": "stream",
     "text": [
      "Not passing the argument `library_name` to `get_supported_tasks_for_model_type` is deprecated and the support will be removed in a future version of Optimum. Please specify a `library_name`. Defaulting to `\"transformers`.\n"
     ]
    },
    {
     "data": {
      "text/plain": [
       "['text-to-audio']"
      ]
     },
     "execution_count": 23,
     "metadata": {},
     "output_type": "execute_result"
    }
   ],
   "source": [
    "list(TasksManager.get_supported_tasks_for_model_type(\"speecht5\", \"onnx\").keys())"
   ]
  },
  {
   "cell_type": "code",
   "execution_count": null,
   "metadata": {},
   "outputs": [],
   "source": []
  }
 ],
 "metadata": {
  "kernelspec": {
   "display_name": ".venv",
   "language": "python",
   "name": "python3"
  },
  "language_info": {
   "codemirror_mode": {
    "name": "ipython",
    "version": 3
   },
   "file_extension": ".py",
   "mimetype": "text/x-python",
   "name": "python",
   "nbconvert_exporter": "python",
   "pygments_lexer": "ipython3",
   "version": "3.11.9"
  }
 },
 "nbformat": 4,
 "nbformat_minor": 2
}
